{
 "cells": [
  {
   "cell_type": "markdown",
   "id": "7529f232",
   "metadata": {},
   "source": [
    "# Préparation du modèle et des données pour le Flask et le Streamlit"
   ]
  },
  {
   "cell_type": "code",
   "execution_count": null,
   "id": "c994146c",
   "metadata": {},
   "outputs": [],
   "source": [
    "# Petit DataFrame pour convertir le modèle en fichier pickle et récupérer des data pour faire fonctionner l'API"
   ]
  },
  {
   "cell_type": "code",
   "execution_count": 1,
   "id": "284abe10",
   "metadata": {},
   "outputs": [],
   "source": [
    "import numpy as np\n",
    "import pandas as pd\n",
    "\n",
    "import matplotlib.pyplot as plt\n",
    "import seaborn as sns\n",
    "\n",
    "import imblearn"
   ]
  },
  {
   "cell_type": "code",
   "execution_count": 2,
   "id": "b1a104bd",
   "metadata": {},
   "outputs": [],
   "source": [
    "# On récupère les data filtré avec les données utilisés pour le streamlit et le flack"
   ]
  },
  {
   "cell_type": "code",
   "execution_count": 3,
   "id": "36f29279",
   "metadata": {},
   "outputs": [
    {
     "data": {
      "text/plain": [
       "['c', 'a', 'b']"
      ]
     },
     "execution_count": 3,
     "metadata": {},
     "output_type": "execute_result"
    }
   ],
   "source": [
    "['c']+['a','b']"
   ]
  },
  {
   "cell_type": "code",
   "execution_count": 12,
   "id": "3c11ed20",
   "metadata": {},
   "outputs": [],
   "source": [
    "df = pd.read_csv('donnée/data_rdy.csv')\n",
    "\n",
    "train_df = df[df['TARGET'].notnull()]\n",
    "\n",
    "# Destiné à Kaggle\n",
    "test_df = df[df['TARGET'].isnull()]\n",
    "\n",
    "# On retire les informations qui ne sont pas des features\n",
    "\n",
    "feats = [f for f in train_df.columns if f not in ['TARGET','SK_ID_CURR','SK_ID_BUREAU','SK_ID_PREV','index']]\n",
    "\n",
    "correlation = train_df[feats].corrwith(train_df['TARGET'])\n",
    "\n",
    "feature = list(correlation.abs().sort_values(ascending=False)[:20].index)\n",
    "\n",
    "train_rdy = train_df.dropna(subset = feature)\n",
    "\n",
    "X = train_rdy[['SK_ID_CURR','TARGET']+feature]\n",
    "\n",
    "y = train_rdy[['TARGET']]\n",
    "\n",
    "X.to_csv('dashboard/example_data.csv',index=False)"
   ]
  },
  {
   "cell_type": "code",
   "execution_count": 5,
   "id": "6290fb1c",
   "metadata": {},
   "outputs": [],
   "source": [
    "from sklearn.model_selection import train_test_split\n",
    "\n",
    "# On prend un X_train et y_train\n",
    "\n",
    "X = train_rdy[feature]\n",
    "\n",
    "y = train_rdy[['TARGET']]\n",
    "\n",
    "X_train, X_test, y_train, y_test = train_test_split(X,y,test_size=0.2,random_state = 0)"
   ]
  },
  {
   "cell_type": "code",
   "execution_count": 6,
   "id": "3303893d",
   "metadata": {},
   "outputs": [],
   "source": [
    "# On récupère notre modèle pour l'enregistrer au format pickle"
   ]
  },
  {
   "cell_type": "code",
   "execution_count": 7,
   "id": "52948f82",
   "metadata": {},
   "outputs": [],
   "source": [
    "import joblib\n",
    "import pickle\n",
    "\n",
    "pipe_roc_tuned = joblib.load('Pipeline\\search_logi_roc_tuned.joblib')\n",
    "\n",
    "# Export Pipeline as pickle file\n",
    "with open(\"dashboard/pipeline_roc.pkl\", \"wb\") as file:\n",
    "    pickle.dump(pipe_roc_tuned, file)"
   ]
  },
  {
   "cell_type": "code",
   "execution_count": 8,
   "id": "1a0da133",
   "metadata": {},
   "outputs": [],
   "source": [
    "my_pipeline = pickle.load(open(\"dashboard/pipeline_roc.pkl\",\"rb\"))"
   ]
  },
  {
   "cell_type": "code",
   "execution_count": 11,
   "id": "4a842ee2",
   "metadata": {},
   "outputs": [
    {
     "data": {
      "text/plain": [
       "['EXT_SOURCE_3',\n",
       " 'EXT_SOURCE_2',\n",
       " 'EXT_SOURCE_1',\n",
       " 'CC_CNT_DRAWINGS_ATM_CURRENT_MEAN',\n",
       " 'CC_CNT_DRAWINGS_CURRENT_MAX',\n",
       " 'BURO_DAYS_CREDIT_MEAN',\n",
       " 'CC_AMT_BALANCE_MEAN',\n",
       " 'CC_AMT_TOTAL_RECEIVABLE_MEAN',\n",
       " 'CC_AMT_RECIVABLE_MEAN',\n",
       " 'CC_AMT_RECEIVABLE_PRINCIPAL_MEAN',\n",
       " 'CC_CNT_DRAWINGS_CURRENT_MEAN',\n",
       " 'BURO_MONTHS_BALANCE_SIZE_MEAN',\n",
       " 'BURO_CREDIT_ACTIVE_Closed_MEAN',\n",
       " 'DAYS_BIRTH',\n",
       " 'PREV_NAME_CONTRACT_STATUS_Refused_MEAN',\n",
       " 'BURO_CREDIT_ACTIVE_Active_MEAN',\n",
       " 'BURO_DAYS_CREDIT_MIN',\n",
       " 'DAYS_EMPLOYED',\n",
       " 'PREV_CODE_REJECT_REASON_XAP_MEAN',\n",
       " 'CC_AMT_INST_MIN_REGULARITY_MEAN']"
      ]
     },
     "execution_count": 11,
     "metadata": {},
     "output_type": "execute_result"
    }
   ],
   "source": [
    "list(X_train.columns.values)"
   ]
  },
  {
   "cell_type": "code",
   "execution_count": null,
   "id": "006e445c",
   "metadata": {},
   "outputs": [],
   "source": []
  }
 ],
 "metadata": {
  "kernelspec": {
   "display_name": "Python 3 (ipykernel)",
   "language": "python",
   "name": "python3"
  },
  "language_info": {
   "codemirror_mode": {
    "name": "ipython",
    "version": 3
   },
   "file_extension": ".py",
   "mimetype": "text/x-python",
   "name": "python",
   "nbconvert_exporter": "python",
   "pygments_lexer": "ipython3",
   "version": "3.9.7"
  }
 },
 "nbformat": 4,
 "nbformat_minor": 5
}
