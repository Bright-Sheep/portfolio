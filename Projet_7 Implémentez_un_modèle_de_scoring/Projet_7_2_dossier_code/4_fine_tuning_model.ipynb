{
 "cells": [
  {
   "cell_type": "markdown",
   "id": "ad403974",
   "metadata": {},
   "source": [
    "# Import des librairies"
   ]
  },
  {
   "cell_type": "code",
   "execution_count": 1,
   "id": "10e3ac8c",
   "metadata": {},
   "outputs": [],
   "source": [
    "import numpy as np\n",
    "import pandas as pd\n",
    "\n",
    "import matplotlib.pyplot as plt\n",
    "import seaborn as sns\n",
    "\n",
    "import imblearn"
   ]
  },
  {
   "cell_type": "markdown",
   "id": "ff788350",
   "metadata": {},
   "source": [
    "# Import des données"
   ]
  },
  {
   "cell_type": "code",
   "execution_count": 2,
   "id": "f8a2a68e",
   "metadata": {},
   "outputs": [],
   "source": [
    "df = pd.read_csv('donnée/data_rdy.csv')"
   ]
  },
  {
   "cell_type": "markdown",
   "id": "892b61f4",
   "metadata": {},
   "source": [
    "# Préparation des données"
   ]
  },
  {
   "cell_type": "code",
   "execution_count": 3,
   "id": "1f054687",
   "metadata": {},
   "outputs": [],
   "source": [
    "train_df = df[df['TARGET'].notnull()]\n",
    "\n",
    "# Destiné à Kaggle\n",
    "test_df = df[df['TARGET'].isnull()]"
   ]
  },
  {
   "cell_type": "code",
   "execution_count": 4,
   "id": "8c9ccd07",
   "metadata": {
    "scrolled": false
   },
   "outputs": [
    {
     "data": {
      "text/html": [
       "<div>\n",
       "<style scoped>\n",
       "    .dataframe tbody tr th:only-of-type {\n",
       "        vertical-align: middle;\n",
       "    }\n",
       "\n",
       "    .dataframe tbody tr th {\n",
       "        vertical-align: top;\n",
       "    }\n",
       "\n",
       "    .dataframe thead th {\n",
       "        text-align: right;\n",
       "    }\n",
       "</style>\n",
       "<table border=\"1\" class=\"dataframe\">\n",
       "  <thead>\n",
       "    <tr style=\"text-align: right;\">\n",
       "      <th></th>\n",
       "      <th>index</th>\n",
       "      <th>SK_ID_CURR</th>\n",
       "      <th>TARGET</th>\n",
       "      <th>CODE_GENDER</th>\n",
       "      <th>FLAG_OWN_CAR</th>\n",
       "      <th>FLAG_OWN_REALTY</th>\n",
       "      <th>CNT_CHILDREN</th>\n",
       "      <th>AMT_INCOME_TOTAL</th>\n",
       "      <th>AMT_CREDIT</th>\n",
       "      <th>AMT_ANNUITY</th>\n",
       "      <th>...</th>\n",
       "      <th>CC_NAME_CONTRACT_STATUS_Signed_MAX</th>\n",
       "      <th>CC_NAME_CONTRACT_STATUS_Signed_MEAN</th>\n",
       "      <th>CC_NAME_CONTRACT_STATUS_Signed_SUM</th>\n",
       "      <th>CC_NAME_CONTRACT_STATUS_Signed_VAR</th>\n",
       "      <th>CC_NAME_CONTRACT_STATUS_nan_MIN</th>\n",
       "      <th>CC_NAME_CONTRACT_STATUS_nan_MAX</th>\n",
       "      <th>CC_NAME_CONTRACT_STATUS_nan_MEAN</th>\n",
       "      <th>CC_NAME_CONTRACT_STATUS_nan_SUM</th>\n",
       "      <th>CC_NAME_CONTRACT_STATUS_nan_VAR</th>\n",
       "      <th>CC_COUNT</th>\n",
       "    </tr>\n",
       "  </thead>\n",
       "  <tbody>\n",
       "    <tr>\n",
       "      <th>36</th>\n",
       "      <td>36</td>\n",
       "      <td>100043</td>\n",
       "      <td>0.0</td>\n",
       "      <td>1</td>\n",
       "      <td>0</td>\n",
       "      <td>0</td>\n",
       "      <td>2</td>\n",
       "      <td>198000.0</td>\n",
       "      <td>641173.5</td>\n",
       "      <td>23157.0</td>\n",
       "      <td>...</td>\n",
       "      <td>0.0</td>\n",
       "      <td>0.000000</td>\n",
       "      <td>0.0</td>\n",
       "      <td>0.000000</td>\n",
       "      <td>0.0</td>\n",
       "      <td>0.0</td>\n",
       "      <td>0.0</td>\n",
       "      <td>0.0</td>\n",
       "      <td>0.0</td>\n",
       "      <td>33.0</td>\n",
       "    </tr>\n",
       "    <tr>\n",
       "      <th>85</th>\n",
       "      <td>85</td>\n",
       "      <td>100100</td>\n",
       "      <td>0.0</td>\n",
       "      <td>0</td>\n",
       "      <td>1</td>\n",
       "      <td>0</td>\n",
       "      <td>2</td>\n",
       "      <td>202500.0</td>\n",
       "      <td>796396.5</td>\n",
       "      <td>38443.5</td>\n",
       "      <td>...</td>\n",
       "      <td>1.0</td>\n",
       "      <td>0.031915</td>\n",
       "      <td>3.0</td>\n",
       "      <td>0.031229</td>\n",
       "      <td>0.0</td>\n",
       "      <td>0.0</td>\n",
       "      <td>0.0</td>\n",
       "      <td>0.0</td>\n",
       "      <td>0.0</td>\n",
       "      <td>94.0</td>\n",
       "    </tr>\n",
       "    <tr>\n",
       "      <th>111</th>\n",
       "      <td>111</td>\n",
       "      <td>100131</td>\n",
       "      <td>0.0</td>\n",
       "      <td>1</td>\n",
       "      <td>0</td>\n",
       "      <td>0</td>\n",
       "      <td>0</td>\n",
       "      <td>270000.0</td>\n",
       "      <td>891072.0</td>\n",
       "      <td>45625.5</td>\n",
       "      <td>...</td>\n",
       "      <td>0.0</td>\n",
       "      <td>0.000000</td>\n",
       "      <td>0.0</td>\n",
       "      <td>0.000000</td>\n",
       "      <td>0.0</td>\n",
       "      <td>0.0</td>\n",
       "      <td>0.0</td>\n",
       "      <td>0.0</td>\n",
       "      <td>0.0</td>\n",
       "      <td>24.0</td>\n",
       "    </tr>\n",
       "    <tr>\n",
       "      <th>119</th>\n",
       "      <td>119</td>\n",
       "      <td>100139</td>\n",
       "      <td>0.0</td>\n",
       "      <td>1</td>\n",
       "      <td>0</td>\n",
       "      <td>1</td>\n",
       "      <td>1</td>\n",
       "      <td>157500.0</td>\n",
       "      <td>302341.5</td>\n",
       "      <td>24016.5</td>\n",
       "      <td>...</td>\n",
       "      <td>0.0</td>\n",
       "      <td>0.000000</td>\n",
       "      <td>0.0</td>\n",
       "      <td>0.000000</td>\n",
       "      <td>0.0</td>\n",
       "      <td>0.0</td>\n",
       "      <td>0.0</td>\n",
       "      <td>0.0</td>\n",
       "      <td>0.0</td>\n",
       "      <td>75.0</td>\n",
       "    </tr>\n",
       "    <tr>\n",
       "      <th>124</th>\n",
       "      <td>124</td>\n",
       "      <td>100145</td>\n",
       "      <td>0.0</td>\n",
       "      <td>1</td>\n",
       "      <td>1</td>\n",
       "      <td>0</td>\n",
       "      <td>1</td>\n",
       "      <td>202500.0</td>\n",
       "      <td>260725.5</td>\n",
       "      <td>16789.5</td>\n",
       "      <td>...</td>\n",
       "      <td>0.0</td>\n",
       "      <td>0.000000</td>\n",
       "      <td>0.0</td>\n",
       "      <td>0.000000</td>\n",
       "      <td>0.0</td>\n",
       "      <td>0.0</td>\n",
       "      <td>0.0</td>\n",
       "      <td>0.0</td>\n",
       "      <td>0.0</td>\n",
       "      <td>96.0</td>\n",
       "    </tr>\n",
       "    <tr>\n",
       "      <th>...</th>\n",
       "      <td>...</td>\n",
       "      <td>...</td>\n",
       "      <td>...</td>\n",
       "      <td>...</td>\n",
       "      <td>...</td>\n",
       "      <td>...</td>\n",
       "      <td>...</td>\n",
       "      <td>...</td>\n",
       "      <td>...</td>\n",
       "      <td>...</td>\n",
       "      <td>...</td>\n",
       "      <td>...</td>\n",
       "      <td>...</td>\n",
       "      <td>...</td>\n",
       "      <td>...</td>\n",
       "      <td>...</td>\n",
       "      <td>...</td>\n",
       "      <td>...</td>\n",
       "      <td>...</td>\n",
       "      <td>...</td>\n",
       "      <td>...</td>\n",
       "    </tr>\n",
       "    <tr>\n",
       "      <th>307469</th>\n",
       "      <td>307473</td>\n",
       "      <td>456213</td>\n",
       "      <td>0.0</td>\n",
       "      <td>1</td>\n",
       "      <td>1</td>\n",
       "      <td>0</td>\n",
       "      <td>1</td>\n",
       "      <td>90000.0</td>\n",
       "      <td>258709.5</td>\n",
       "      <td>20439.0</td>\n",
       "      <td>...</td>\n",
       "      <td>0.0</td>\n",
       "      <td>0.000000</td>\n",
       "      <td>0.0</td>\n",
       "      <td>0.000000</td>\n",
       "      <td>0.0</td>\n",
       "      <td>0.0</td>\n",
       "      <td>0.0</td>\n",
       "      <td>0.0</td>\n",
       "      <td>0.0</td>\n",
       "      <td>34.0</td>\n",
       "    </tr>\n",
       "    <tr>\n",
       "      <th>307471</th>\n",
       "      <td>307475</td>\n",
       "      <td>456215</td>\n",
       "      <td>1.0</td>\n",
       "      <td>1</td>\n",
       "      <td>0</td>\n",
       "      <td>1</td>\n",
       "      <td>1</td>\n",
       "      <td>144000.0</td>\n",
       "      <td>1303200.0</td>\n",
       "      <td>46809.0</td>\n",
       "      <td>...</td>\n",
       "      <td>0.0</td>\n",
       "      <td>0.000000</td>\n",
       "      <td>0.0</td>\n",
       "      <td>0.000000</td>\n",
       "      <td>0.0</td>\n",
       "      <td>0.0</td>\n",
       "      <td>0.0</td>\n",
       "      <td>0.0</td>\n",
       "      <td>0.0</td>\n",
       "      <td>94.0</td>\n",
       "    </tr>\n",
       "    <tr>\n",
       "      <th>307475</th>\n",
       "      <td>307479</td>\n",
       "      <td>456219</td>\n",
       "      <td>0.0</td>\n",
       "      <td>1</td>\n",
       "      <td>0</td>\n",
       "      <td>0</td>\n",
       "      <td>1</td>\n",
       "      <td>112500.0</td>\n",
       "      <td>521280.0</td>\n",
       "      <td>31630.5</td>\n",
       "      <td>...</td>\n",
       "      <td>0.0</td>\n",
       "      <td>0.000000</td>\n",
       "      <td>0.0</td>\n",
       "      <td>0.000000</td>\n",
       "      <td>0.0</td>\n",
       "      <td>0.0</td>\n",
       "      <td>0.0</td>\n",
       "      <td>0.0</td>\n",
       "      <td>0.0</td>\n",
       "      <td>10.0</td>\n",
       "    </tr>\n",
       "    <tr>\n",
       "      <th>307496</th>\n",
       "      <td>307500</td>\n",
       "      <td>456244</td>\n",
       "      <td>0.0</td>\n",
       "      <td>1</td>\n",
       "      <td>0</td>\n",
       "      <td>0</td>\n",
       "      <td>0</td>\n",
       "      <td>261000.0</td>\n",
       "      <td>1303812.0</td>\n",
       "      <td>35982.0</td>\n",
       "      <td>...</td>\n",
       "      <td>0.0</td>\n",
       "      <td>0.000000</td>\n",
       "      <td>0.0</td>\n",
       "      <td>0.000000</td>\n",
       "      <td>0.0</td>\n",
       "      <td>0.0</td>\n",
       "      <td>0.0</td>\n",
       "      <td>0.0</td>\n",
       "      <td>0.0</td>\n",
       "      <td>41.0</td>\n",
       "    </tr>\n",
       "    <tr>\n",
       "      <th>307499</th>\n",
       "      <td>307503</td>\n",
       "      <td>456247</td>\n",
       "      <td>0.0</td>\n",
       "      <td>1</td>\n",
       "      <td>0</td>\n",
       "      <td>0</td>\n",
       "      <td>0</td>\n",
       "      <td>112500.0</td>\n",
       "      <td>345510.0</td>\n",
       "      <td>17770.5</td>\n",
       "      <td>...</td>\n",
       "      <td>0.0</td>\n",
       "      <td>0.000000</td>\n",
       "      <td>0.0</td>\n",
       "      <td>0.000000</td>\n",
       "      <td>0.0</td>\n",
       "      <td>0.0</td>\n",
       "      <td>0.0</td>\n",
       "      <td>0.0</td>\n",
       "      <td>0.0</td>\n",
       "      <td>95.0</td>\n",
       "    </tr>\n",
       "  </tbody>\n",
       "</table>\n",
       "<p>9433 rows × 798 columns</p>\n",
       "</div>"
      ],
      "text/plain": [
       "         index  SK_ID_CURR  TARGET  CODE_GENDER  FLAG_OWN_CAR  \\\n",
       "36          36      100043     0.0            1             0   \n",
       "85          85      100100     0.0            0             1   \n",
       "111        111      100131     0.0            1             0   \n",
       "119        119      100139     0.0            1             0   \n",
       "124        124      100145     0.0            1             1   \n",
       "...        ...         ...     ...          ...           ...   \n",
       "307469  307473      456213     0.0            1             1   \n",
       "307471  307475      456215     1.0            1             0   \n",
       "307475  307479      456219     0.0            1             0   \n",
       "307496  307500      456244     0.0            1             0   \n",
       "307499  307503      456247     0.0            1             0   \n",
       "\n",
       "        FLAG_OWN_REALTY  CNT_CHILDREN  AMT_INCOME_TOTAL  AMT_CREDIT  \\\n",
       "36                    0             2          198000.0    641173.5   \n",
       "85                    0             2          202500.0    796396.5   \n",
       "111                   0             0          270000.0    891072.0   \n",
       "119                   1             1          157500.0    302341.5   \n",
       "124                   0             1          202500.0    260725.5   \n",
       "...                 ...           ...               ...         ...   \n",
       "307469                0             1           90000.0    258709.5   \n",
       "307471                1             1          144000.0   1303200.0   \n",
       "307475                0             1          112500.0    521280.0   \n",
       "307496                0             0          261000.0   1303812.0   \n",
       "307499                0             0          112500.0    345510.0   \n",
       "\n",
       "        AMT_ANNUITY  ...  CC_NAME_CONTRACT_STATUS_Signed_MAX  \\\n",
       "36          23157.0  ...                                 0.0   \n",
       "85          38443.5  ...                                 1.0   \n",
       "111         45625.5  ...                                 0.0   \n",
       "119         24016.5  ...                                 0.0   \n",
       "124         16789.5  ...                                 0.0   \n",
       "...             ...  ...                                 ...   \n",
       "307469      20439.0  ...                                 0.0   \n",
       "307471      46809.0  ...                                 0.0   \n",
       "307475      31630.5  ...                                 0.0   \n",
       "307496      35982.0  ...                                 0.0   \n",
       "307499      17770.5  ...                                 0.0   \n",
       "\n",
       "        CC_NAME_CONTRACT_STATUS_Signed_MEAN  \\\n",
       "36                                 0.000000   \n",
       "85                                 0.031915   \n",
       "111                                0.000000   \n",
       "119                                0.000000   \n",
       "124                                0.000000   \n",
       "...                                     ...   \n",
       "307469                             0.000000   \n",
       "307471                             0.000000   \n",
       "307475                             0.000000   \n",
       "307496                             0.000000   \n",
       "307499                             0.000000   \n",
       "\n",
       "        CC_NAME_CONTRACT_STATUS_Signed_SUM  \\\n",
       "36                                     0.0   \n",
       "85                                     3.0   \n",
       "111                                    0.0   \n",
       "119                                    0.0   \n",
       "124                                    0.0   \n",
       "...                                    ...   \n",
       "307469                                 0.0   \n",
       "307471                                 0.0   \n",
       "307475                                 0.0   \n",
       "307496                                 0.0   \n",
       "307499                                 0.0   \n",
       "\n",
       "        CC_NAME_CONTRACT_STATUS_Signed_VAR  CC_NAME_CONTRACT_STATUS_nan_MIN  \\\n",
       "36                                0.000000                              0.0   \n",
       "85                                0.031229                              0.0   \n",
       "111                               0.000000                              0.0   \n",
       "119                               0.000000                              0.0   \n",
       "124                               0.000000                              0.0   \n",
       "...                                    ...                              ...   \n",
       "307469                            0.000000                              0.0   \n",
       "307471                            0.000000                              0.0   \n",
       "307475                            0.000000                              0.0   \n",
       "307496                            0.000000                              0.0   \n",
       "307499                            0.000000                              0.0   \n",
       "\n",
       "        CC_NAME_CONTRACT_STATUS_nan_MAX  CC_NAME_CONTRACT_STATUS_nan_MEAN  \\\n",
       "36                                  0.0                               0.0   \n",
       "85                                  0.0                               0.0   \n",
       "111                                 0.0                               0.0   \n",
       "119                                 0.0                               0.0   \n",
       "124                                 0.0                               0.0   \n",
       "...                                 ...                               ...   \n",
       "307469                              0.0                               0.0   \n",
       "307471                              0.0                               0.0   \n",
       "307475                              0.0                               0.0   \n",
       "307496                              0.0                               0.0   \n",
       "307499                              0.0                               0.0   \n",
       "\n",
       "        CC_NAME_CONTRACT_STATUS_nan_SUM  CC_NAME_CONTRACT_STATUS_nan_VAR  \\\n",
       "36                                  0.0                              0.0   \n",
       "85                                  0.0                              0.0   \n",
       "111                                 0.0                              0.0   \n",
       "119                                 0.0                              0.0   \n",
       "124                                 0.0                              0.0   \n",
       "...                                 ...                              ...   \n",
       "307469                              0.0                              0.0   \n",
       "307471                              0.0                              0.0   \n",
       "307475                              0.0                              0.0   \n",
       "307496                              0.0                              0.0   \n",
       "307499                              0.0                              0.0   \n",
       "\n",
       "        CC_COUNT  \n",
       "36          33.0  \n",
       "85          94.0  \n",
       "111         24.0  \n",
       "119         75.0  \n",
       "124         96.0  \n",
       "...          ...  \n",
       "307469      34.0  \n",
       "307471      94.0  \n",
       "307475      10.0  \n",
       "307496      41.0  \n",
       "307499      95.0  \n",
       "\n",
       "[9433 rows x 798 columns]"
      ]
     },
     "execution_count": 4,
     "metadata": {},
     "output_type": "execute_result"
    }
   ],
   "source": [
    "# On retire les informations qui ne sont pas des features\n",
    "\n",
    "feats = [f for f in train_df.columns if f not in ['TARGET','SK_ID_CURR','SK_ID_BUREAU','SK_ID_PREV','index']]\n",
    "\n",
    "correlation = train_df[feats].corrwith(train_df['TARGET'])\n",
    "\n",
    "feature = list(correlation.abs().sort_values(ascending=False)[:20].index)\n",
    "\n",
    "train_rdy = train_df.dropna(subset = feature)\n",
    "train_rdy"
   ]
  },
  {
   "cell_type": "code",
   "execution_count": 6,
   "id": "e1ae8fb4",
   "metadata": {},
   "outputs": [],
   "source": [
    "# On prend un sample des données pour gagner du temps\n",
    "\n",
    "#train_rdy_sample = train_rdy.sample(frac=0.3,random_state=0)"
   ]
  },
  {
   "cell_type": "code",
   "execution_count": 7,
   "id": "002b4915",
   "metadata": {},
   "outputs": [],
   "source": [
    "# On vérifie que l'imbalance est bien conservé\n",
    "\n",
    "#dict(train_rdy_sample['TARGET'].value_counts()/len(train_rdy_sample['TARGET'])*100)"
   ]
  },
  {
   "cell_type": "code",
   "execution_count": 8,
   "id": "fabb1507",
   "metadata": {},
   "outputs": [],
   "source": [
    "# On récupère notre x et notre y\n",
    "\n",
    "X = train_rdy[feature]\n",
    "y = train_rdy[['TARGET']]"
   ]
  },
  {
   "cell_type": "code",
   "execution_count": 22,
   "id": "9eff16f2",
   "metadata": {},
   "outputs": [],
   "source": [
    "from sklearn.model_selection import train_test_split\n",
    "\n",
    "# On prend un X_train et y_train\n",
    "\n",
    "X_train, X_test, y_train, y_test = train_test_split(X,y,test_size=0.2,random_state = 0)"
   ]
  },
  {
   "cell_type": "code",
   "execution_count": 27,
   "id": "a6f649be",
   "metadata": {},
   "outputs": [],
   "source": [
    "# On prend un sample des données pour gagner du temps\n",
    "\n",
    "X_train_sample, X_test_sample, y_train_sample, y_test_sample = train_test_split(X_train,y_train,train_size=0.4,random_state = 0)"
   ]
  },
  {
   "cell_type": "code",
   "execution_count": 28,
   "id": "c1d3baab",
   "metadata": {},
   "outputs": [
    {
     "data": {
      "text/plain": [
       "(3018, 20)"
      ]
     },
     "execution_count": 28,
     "metadata": {},
     "output_type": "execute_result"
    }
   ],
   "source": [
    "X_train_sample.shape"
   ]
  },
  {
   "cell_type": "code",
   "execution_count": 29,
   "id": "8178a2cc",
   "metadata": {},
   "outputs": [
    {
     "data": {
      "text/plain": [
       "{0.0: 90.15904572564612, 1.0: 9.840954274353876}"
      ]
     },
     "execution_count": 29,
     "metadata": {},
     "output_type": "execute_result"
    }
   ],
   "source": [
    "# On vérifie que l'imbalance est bien conservé\n",
    "\n",
    "dict(y_train_sample['TARGET'].value_counts()/len(y_train_sample['TARGET'])*100)"
   ]
  },
  {
   "cell_type": "markdown",
   "id": "d425607d",
   "metadata": {},
   "source": [
    "# Fine tuning"
   ]
  },
  {
   "cell_type": "code",
   "execution_count": 30,
   "id": "3a5e9407",
   "metadata": {},
   "outputs": [],
   "source": [
    "# Score\n",
    "from sklearn.metrics import fbeta_score, make_scorer, roc_auc_score\n",
    "\n",
    "#Pipeline\n",
    "from imblearn.pipeline import Pipeline\n",
    "\n",
    "# Gridsearch\n",
    "\n",
    "from sklearn.model_selection import GridSearchCV\n",
    "from sklearn.model_selection import RandomizedSearchCV\n",
    "\n",
    "# Logistic regression\n",
    "\n",
    "from sklearn.linear_model import LogisticRegression\n",
    "\n",
    "# SMOTE pour le sampling\n",
    "\n",
    "from imblearn.over_sampling import SMOTE\n",
    "\n",
    "# On prépare le fbetascore pour le gridsearch\n",
    "\n",
    "# Le fbeta_score permet de maximiser la pénalité sur les faux négatifs. Il servira à évaluer la performance final de nos modèles\n",
    "ftwo_scorer = make_scorer(fbeta_score, beta=10)\n",
    "\n",
    "# On prépare le roc_auc_score pour le gridsearch\n",
    "\n",
    "roc_auc = make_scorer(roc_auc_score)"
   ]
  },
  {
   "cell_type": "code",
   "execution_count": null,
   "id": "1214451d",
   "metadata": {},
   "outputs": [],
   "source": []
  },
  {
   "cell_type": "code",
   "execution_count": 31,
   "id": "c94bba38",
   "metadata": {},
   "outputs": [],
   "source": [
    "# Commençons par faire fonctionner notre modèle avec les paramètres d'origine\n",
    "\n",
    "model_logistic = Pipeline([\n",
    "        ('sampling', SMOTE()),\n",
    "        ('classification', LogisticRegression())\n",
    "        ])\n",
    "    \n",
    "param_orig = {'classification__tol': [0.0009326033468832199],\n",
    "                'classification__solver': ['liblinear'],\n",
    "                'classification__penalty': ['l1'],\n",
    "                'classification__max_iter': [1000],\n",
    "                'classification__C': [18589.56679635688]}\n",
    "    \n",
    "search_logi_ftwo_o = RandomizedSearchCV(estimator = model_logistic,scoring = ftwo_scorer,\\\n",
    "                               param_distributions =param_orig, n_iter = 20, cv = 5,\\\n",
    "                               verbose=2, random_state=0, n_jobs = -1)"
   ]
  },
  {
   "cell_type": "code",
   "execution_count": 32,
   "id": "4696987a",
   "metadata": {},
   "outputs": [
    {
     "name": "stderr",
     "output_type": "stream",
     "text": [
      "C:\\Users\\Louis\\AppData\\Roaming\\Python\\Python39\\site-packages\\sklearn\\model_selection\\_search.py:306: UserWarning: The total space of parameters 1 is smaller than n_iter=20. Running 1 iterations. For exhaustive searches, use GridSearchCV.\n",
      "  warnings.warn(\n"
     ]
    },
    {
     "name": "stdout",
     "output_type": "stream",
     "text": [
      "Fitting 5 folds for each of 1 candidates, totalling 5 fits\n"
     ]
    },
    {
     "name": "stderr",
     "output_type": "stream",
     "text": [
      "C:\\Users\\Louis\\AppData\\Roaming\\Python\\Python39\\site-packages\\sklearn\\utils\\validation.py:1141: DataConversionWarning: A column-vector y was passed when a 1d array was expected. Please change the shape of y to (n_samples, ), for example using ravel().\n",
      "  y = column_or_1d(y, warn=True)\n"
     ]
    },
    {
     "data": {
      "text/html": [
       "<style>#sk-container-id-2 {color: black;background-color: white;}#sk-container-id-2 pre{padding: 0;}#sk-container-id-2 div.sk-toggleable {background-color: white;}#sk-container-id-2 label.sk-toggleable__label {cursor: pointer;display: block;width: 100%;margin-bottom: 0;padding: 0.3em;box-sizing: border-box;text-align: center;}#sk-container-id-2 label.sk-toggleable__label-arrow:before {content: \"▸\";float: left;margin-right: 0.25em;color: #696969;}#sk-container-id-2 label.sk-toggleable__label-arrow:hover:before {color: black;}#sk-container-id-2 div.sk-estimator:hover label.sk-toggleable__label-arrow:before {color: black;}#sk-container-id-2 div.sk-toggleable__content {max-height: 0;max-width: 0;overflow: hidden;text-align: left;background-color: #f0f8ff;}#sk-container-id-2 div.sk-toggleable__content pre {margin: 0.2em;color: black;border-radius: 0.25em;background-color: #f0f8ff;}#sk-container-id-2 input.sk-toggleable__control:checked~div.sk-toggleable__content {max-height: 200px;max-width: 100%;overflow: auto;}#sk-container-id-2 input.sk-toggleable__control:checked~label.sk-toggleable__label-arrow:before {content: \"▾\";}#sk-container-id-2 div.sk-estimator input.sk-toggleable__control:checked~label.sk-toggleable__label {background-color: #d4ebff;}#sk-container-id-2 div.sk-label input.sk-toggleable__control:checked~label.sk-toggleable__label {background-color: #d4ebff;}#sk-container-id-2 input.sk-hidden--visually {border: 0;clip: rect(1px 1px 1px 1px);clip: rect(1px, 1px, 1px, 1px);height: 1px;margin: -1px;overflow: hidden;padding: 0;position: absolute;width: 1px;}#sk-container-id-2 div.sk-estimator {font-family: monospace;background-color: #f0f8ff;border: 1px dotted black;border-radius: 0.25em;box-sizing: border-box;margin-bottom: 0.5em;}#sk-container-id-2 div.sk-estimator:hover {background-color: #d4ebff;}#sk-container-id-2 div.sk-parallel-item::after {content: \"\";width: 100%;border-bottom: 1px solid gray;flex-grow: 1;}#sk-container-id-2 div.sk-label:hover label.sk-toggleable__label {background-color: #d4ebff;}#sk-container-id-2 div.sk-serial::before {content: \"\";position: absolute;border-left: 1px solid gray;box-sizing: border-box;top: 0;bottom: 0;left: 50%;z-index: 0;}#sk-container-id-2 div.sk-serial {display: flex;flex-direction: column;align-items: center;background-color: white;padding-right: 0.2em;padding-left: 0.2em;position: relative;}#sk-container-id-2 div.sk-item {position: relative;z-index: 1;}#sk-container-id-2 div.sk-parallel {display: flex;align-items: stretch;justify-content: center;background-color: white;position: relative;}#sk-container-id-2 div.sk-item::before, #sk-container-id-2 div.sk-parallel-item::before {content: \"\";position: absolute;border-left: 1px solid gray;box-sizing: border-box;top: 0;bottom: 0;left: 50%;z-index: -1;}#sk-container-id-2 div.sk-parallel-item {display: flex;flex-direction: column;z-index: 1;position: relative;background-color: white;}#sk-container-id-2 div.sk-parallel-item:first-child::after {align-self: flex-end;width: 50%;}#sk-container-id-2 div.sk-parallel-item:last-child::after {align-self: flex-start;width: 50%;}#sk-container-id-2 div.sk-parallel-item:only-child::after {width: 0;}#sk-container-id-2 div.sk-dashed-wrapped {border: 1px dashed gray;margin: 0 0.4em 0.5em 0.4em;box-sizing: border-box;padding-bottom: 0.4em;background-color: white;}#sk-container-id-2 div.sk-label label {font-family: monospace;font-weight: bold;display: inline-block;line-height: 1.2em;}#sk-container-id-2 div.sk-label-container {text-align: center;}#sk-container-id-2 div.sk-container {/* jupyter's `normalize.less` sets `[hidden] { display: none; }` but bootstrap.min.css set `[hidden] { display: none !important; }` so we also need the `!important` here to be able to override the default hidden behavior on the sphinx rendered scikit-learn.org. See: https://github.com/scikit-learn/scikit-learn/issues/21755 */display: inline-block !important;position: relative;}#sk-container-id-2 div.sk-text-repr-fallback {display: none;}</style><div id=\"sk-container-id-2\" class=\"sk-top-container\"><div class=\"sk-text-repr-fallback\"><pre>RandomizedSearchCV(cv=5,\n",
       "                   estimator=Pipeline(steps=[(&#x27;sampling&#x27;, SMOTE()),\n",
       "                                             (&#x27;classification&#x27;,\n",
       "                                              LogisticRegression())]),\n",
       "                   n_iter=20, n_jobs=-1,\n",
       "                   param_distributions={&#x27;classification__C&#x27;: [18589.56679635688],\n",
       "                                        &#x27;classification__max_iter&#x27;: [1000],\n",
       "                                        &#x27;classification__penalty&#x27;: [&#x27;l1&#x27;],\n",
       "                                        &#x27;classification__solver&#x27;: [&#x27;liblinear&#x27;],\n",
       "                                        &#x27;classification__tol&#x27;: [0.0009326033468832199]},\n",
       "                   random_state=0, scoring=make_scorer(fbeta_score, beta=10),\n",
       "                   verbose=2)</pre><b>In a Jupyter environment, please rerun this cell to show the HTML representation or trust the notebook. <br />On GitHub, the HTML representation is unable to render, please try loading this page with nbviewer.org.</b></div><div class=\"sk-container\" hidden><div class=\"sk-item sk-dashed-wrapped\"><div class=\"sk-label-container\"><div class=\"sk-label sk-toggleable\"><input class=\"sk-toggleable__control sk-hidden--visually\" id=\"sk-estimator-id-5\" type=\"checkbox\" ><label for=\"sk-estimator-id-5\" class=\"sk-toggleable__label sk-toggleable__label-arrow\">RandomizedSearchCV</label><div class=\"sk-toggleable__content\"><pre>RandomizedSearchCV(cv=5,\n",
       "                   estimator=Pipeline(steps=[(&#x27;sampling&#x27;, SMOTE()),\n",
       "                                             (&#x27;classification&#x27;,\n",
       "                                              LogisticRegression())]),\n",
       "                   n_iter=20, n_jobs=-1,\n",
       "                   param_distributions={&#x27;classification__C&#x27;: [18589.56679635688],\n",
       "                                        &#x27;classification__max_iter&#x27;: [1000],\n",
       "                                        &#x27;classification__penalty&#x27;: [&#x27;l1&#x27;],\n",
       "                                        &#x27;classification__solver&#x27;: [&#x27;liblinear&#x27;],\n",
       "                                        &#x27;classification__tol&#x27;: [0.0009326033468832199]},\n",
       "                   random_state=0, scoring=make_scorer(fbeta_score, beta=10),\n",
       "                   verbose=2)</pre></div></div></div><div class=\"sk-parallel\"><div class=\"sk-parallel-item\"><div class=\"sk-item\"><div class=\"sk-label-container\"><div class=\"sk-label sk-toggleable\"><input class=\"sk-toggleable__control sk-hidden--visually\" id=\"sk-estimator-id-6\" type=\"checkbox\" ><label for=\"sk-estimator-id-6\" class=\"sk-toggleable__label sk-toggleable__label-arrow\">estimator: Pipeline</label><div class=\"sk-toggleable__content\"><pre>Pipeline(steps=[(&#x27;sampling&#x27;, SMOTE()),\n",
       "                (&#x27;classification&#x27;, LogisticRegression())])</pre></div></div></div><div class=\"sk-serial\"><div class=\"sk-item\"><div class=\"sk-serial\"><div class=\"sk-item\"><div class=\"sk-estimator sk-toggleable\"><input class=\"sk-toggleable__control sk-hidden--visually\" id=\"sk-estimator-id-7\" type=\"checkbox\" ><label for=\"sk-estimator-id-7\" class=\"sk-toggleable__label sk-toggleable__label-arrow\">SMOTE</label><div class=\"sk-toggleable__content\"><pre>SMOTE()</pre></div></div></div><div class=\"sk-item\"><div class=\"sk-estimator sk-toggleable\"><input class=\"sk-toggleable__control sk-hidden--visually\" id=\"sk-estimator-id-8\" type=\"checkbox\" ><label for=\"sk-estimator-id-8\" class=\"sk-toggleable__label sk-toggleable__label-arrow\">LogisticRegression</label><div class=\"sk-toggleable__content\"><pre>LogisticRegression()</pre></div></div></div></div></div></div></div></div></div></div></div></div>"
      ],
      "text/plain": [
       "RandomizedSearchCV(cv=5,\n",
       "                   estimator=Pipeline(steps=[('sampling', SMOTE()),\n",
       "                                             ('classification',\n",
       "                                              LogisticRegression())]),\n",
       "                   n_iter=20, n_jobs=-1,\n",
       "                   param_distributions={'classification__C': [18589.56679635688],\n",
       "                                        'classification__max_iter': [1000],\n",
       "                                        'classification__penalty': ['l1'],\n",
       "                                        'classification__solver': ['liblinear'],\n",
       "                                        'classification__tol': [0.0009326033468832199]},\n",
       "                   random_state=0, scoring=make_scorer(fbeta_score, beta=10),\n",
       "                   verbose=2)"
      ]
     },
     "execution_count": 32,
     "metadata": {},
     "output_type": "execute_result"
    }
   ],
   "source": [
    "search_logi_ftwo_o.fit(X_train_sample,y_train_sample)"
   ]
  },
  {
   "cell_type": "code",
   "execution_count": 33,
   "id": "65759807",
   "metadata": {},
   "outputs": [
    {
     "data": {
      "text/html": [
       "<div>\n",
       "<style scoped>\n",
       "    .dataframe tbody tr th:only-of-type {\n",
       "        vertical-align: middle;\n",
       "    }\n",
       "\n",
       "    .dataframe tbody tr th {\n",
       "        vertical-align: top;\n",
       "    }\n",
       "\n",
       "    .dataframe thead th {\n",
       "        text-align: right;\n",
       "    }\n",
       "</style>\n",
       "<table border=\"1\" class=\"dataframe\">\n",
       "  <thead>\n",
       "    <tr style=\"text-align: right;\">\n",
       "      <th></th>\n",
       "      <th>model</th>\n",
       "      <th>score</th>\n",
       "      <th>best_params</th>\n",
       "      <th>best_score</th>\n",
       "      <th>train</th>\n",
       "      <th>test</th>\n",
       "      <th>fbeta_score_test</th>\n",
       "    </tr>\n",
       "  </thead>\n",
       "  <tbody>\n",
       "    <tr>\n",
       "      <th>0</th>\n",
       "      <td>search_gradiant</td>\n",
       "      <td>ftwo</td>\n",
       "      <td>{'classification__tol': 0.0009326033468832199,...</td>\n",
       "      <td>0.61348</td>\n",
       "      <td>0.644248</td>\n",
       "      <td>0.624637</td>\n",
       "      <td>0.624637</td>\n",
       "    </tr>\n",
       "  </tbody>\n",
       "</table>\n",
       "</div>"
      ],
      "text/plain": [
       "             model score                                        best_params  \\\n",
       "0  search_gradiant  ftwo  {'classification__tol': 0.0009326033468832199,...   \n",
       "\n",
       "   best_score     train      test  fbeta_score_test  \n",
       "0     0.61348  0.644248  0.624637          0.624637  "
      ]
     },
     "execution_count": 33,
     "metadata": {},
     "output_type": "execute_result"
    }
   ],
   "source": [
    "current_model = search_logi_ftwo_o\n",
    "\n",
    "y_predict = current_model.predict(X_test)\n",
    "\n",
    "report_final = pd.DataFrame({'model':'search_gradiant','score':['ftwo'],'best_params':[current_model.best_params_],\\\n",
    "          'best_score':[current_model.best_score_],'train':[current_model.score(X_train, y_train)],\\\n",
    "          'test':[current_model.score(X_test, y_test)],'fbeta_score_test':[fbeta_score(y_test,y_predict,beta=10)]})\n",
    "\n",
    "report_final\n",
    "\n",
    "# Par erreur, on a appellé le modèle search_gradiant au lieu de search_logi"
   ]
  },
  {
   "cell_type": "code",
   "execution_count": 34,
   "id": "6b62dc12",
   "metadata": {},
   "outputs": [],
   "source": [
    "# Essayons de nouveau paramètre\n",
    "\n",
    "model_logistic = Pipeline([\n",
    "        ('sampling', SMOTE()),\n",
    "        ('classification', LogisticRegression())\n",
    "    ])\n",
    "\n",
    "random_grid = {'classification__tol': np.logspace(-4, -2, 100),\n",
    "                'classification__solver': ['liblinear'],\n",
    "                'classification__penalty': ['l1'],\n",
    "                'classification__max_iter': [900,1000,1100,1200,1300,1400,1500],\n",
    "                'classification__C': np.logspace(-5, 5,1000)\n",
    "              }\n",
    "\n",
    "search_logi_ftwo = RandomizedSearchCV(estimator = model_logistic,scoring = ftwo_scorer,\\\n",
    "                               param_distributions =random_grid, n_iter = 100, cv = 5,\\\n",
    "                               verbose=2, random_state=0, n_jobs = -1)"
   ]
  },
  {
   "cell_type": "code",
   "execution_count": 35,
   "id": "e4c93c76",
   "metadata": {},
   "outputs": [
    {
     "name": "stdout",
     "output_type": "stream",
     "text": [
      "Fitting 5 folds for each of 100 candidates, totalling 500 fits\n"
     ]
    },
    {
     "name": "stderr",
     "output_type": "stream",
     "text": [
      "C:\\Users\\Louis\\AppData\\Roaming\\Python\\Python39\\site-packages\\sklearn\\utils\\validation.py:1141: DataConversionWarning: A column-vector y was passed when a 1d array was expected. Please change the shape of y to (n_samples, ), for example using ravel().\n",
      "  y = column_or_1d(y, warn=True)\n"
     ]
    },
    {
     "data": {
      "text/html": [
       "<style>#sk-container-id-3 {color: black;background-color: white;}#sk-container-id-3 pre{padding: 0;}#sk-container-id-3 div.sk-toggleable {background-color: white;}#sk-container-id-3 label.sk-toggleable__label {cursor: pointer;display: block;width: 100%;margin-bottom: 0;padding: 0.3em;box-sizing: border-box;text-align: center;}#sk-container-id-3 label.sk-toggleable__label-arrow:before {content: \"▸\";float: left;margin-right: 0.25em;color: #696969;}#sk-container-id-3 label.sk-toggleable__label-arrow:hover:before {color: black;}#sk-container-id-3 div.sk-estimator:hover label.sk-toggleable__label-arrow:before {color: black;}#sk-container-id-3 div.sk-toggleable__content {max-height: 0;max-width: 0;overflow: hidden;text-align: left;background-color: #f0f8ff;}#sk-container-id-3 div.sk-toggleable__content pre {margin: 0.2em;color: black;border-radius: 0.25em;background-color: #f0f8ff;}#sk-container-id-3 input.sk-toggleable__control:checked~div.sk-toggleable__content {max-height: 200px;max-width: 100%;overflow: auto;}#sk-container-id-3 input.sk-toggleable__control:checked~label.sk-toggleable__label-arrow:before {content: \"▾\";}#sk-container-id-3 div.sk-estimator input.sk-toggleable__control:checked~label.sk-toggleable__label {background-color: #d4ebff;}#sk-container-id-3 div.sk-label input.sk-toggleable__control:checked~label.sk-toggleable__label {background-color: #d4ebff;}#sk-container-id-3 input.sk-hidden--visually {border: 0;clip: rect(1px 1px 1px 1px);clip: rect(1px, 1px, 1px, 1px);height: 1px;margin: -1px;overflow: hidden;padding: 0;position: absolute;width: 1px;}#sk-container-id-3 div.sk-estimator {font-family: monospace;background-color: #f0f8ff;border: 1px dotted black;border-radius: 0.25em;box-sizing: border-box;margin-bottom: 0.5em;}#sk-container-id-3 div.sk-estimator:hover {background-color: #d4ebff;}#sk-container-id-3 div.sk-parallel-item::after {content: \"\";width: 100%;border-bottom: 1px solid gray;flex-grow: 1;}#sk-container-id-3 div.sk-label:hover label.sk-toggleable__label {background-color: #d4ebff;}#sk-container-id-3 div.sk-serial::before {content: \"\";position: absolute;border-left: 1px solid gray;box-sizing: border-box;top: 0;bottom: 0;left: 50%;z-index: 0;}#sk-container-id-3 div.sk-serial {display: flex;flex-direction: column;align-items: center;background-color: white;padding-right: 0.2em;padding-left: 0.2em;position: relative;}#sk-container-id-3 div.sk-item {position: relative;z-index: 1;}#sk-container-id-3 div.sk-parallel {display: flex;align-items: stretch;justify-content: center;background-color: white;position: relative;}#sk-container-id-3 div.sk-item::before, #sk-container-id-3 div.sk-parallel-item::before {content: \"\";position: absolute;border-left: 1px solid gray;box-sizing: border-box;top: 0;bottom: 0;left: 50%;z-index: -1;}#sk-container-id-3 div.sk-parallel-item {display: flex;flex-direction: column;z-index: 1;position: relative;background-color: white;}#sk-container-id-3 div.sk-parallel-item:first-child::after {align-self: flex-end;width: 50%;}#sk-container-id-3 div.sk-parallel-item:last-child::after {align-self: flex-start;width: 50%;}#sk-container-id-3 div.sk-parallel-item:only-child::after {width: 0;}#sk-container-id-3 div.sk-dashed-wrapped {border: 1px dashed gray;margin: 0 0.4em 0.5em 0.4em;box-sizing: border-box;padding-bottom: 0.4em;background-color: white;}#sk-container-id-3 div.sk-label label {font-family: monospace;font-weight: bold;display: inline-block;line-height: 1.2em;}#sk-container-id-3 div.sk-label-container {text-align: center;}#sk-container-id-3 div.sk-container {/* jupyter's `normalize.less` sets `[hidden] { display: none; }` but bootstrap.min.css set `[hidden] { display: none !important; }` so we also need the `!important` here to be able to override the default hidden behavior on the sphinx rendered scikit-learn.org. See: https://github.com/scikit-learn/scikit-learn/issues/21755 */display: inline-block !important;position: relative;}#sk-container-id-3 div.sk-text-repr-fallback {display: none;}</style><div id=\"sk-container-id-3\" class=\"sk-top-container\"><div class=\"sk-text-repr-fallback\"><pre>RandomizedSearchCV(cv=5,\n",
       "                   estimator=Pipeline(steps=[(&#x27;sampling&#x27;, SMOTE()),\n",
       "                                             (&#x27;classification&#x27;,\n",
       "                                              LogisticRegression())]),\n",
       "                   n_iter=100, n_jobs=-1,\n",
       "                   param_distributions={&#x27;classification__C&#x27;: array([1.00000000e-05, 1.02331658e-05, 1.04717682e-05, 1.07159340e-05,\n",
       "       1.09657929e-05, 1.12214777e-05, 1.14831241e-05, 1.17508713e-05,\n",
       "       1.20248614e-05, 1.23052400e-05, 1.25921561e-05, 1.2...\n",
       "       0.00259502, 0.00271859, 0.00284804, 0.00298365, 0.00312572,\n",
       "       0.00327455, 0.00343047, 0.00359381, 0.00376494, 0.00394421,\n",
       "       0.00413201, 0.00432876, 0.00453488, 0.00475081, 0.00497702,\n",
       "       0.00521401, 0.00546228, 0.00572237, 0.00599484, 0.00628029,\n",
       "       0.00657933, 0.00689261, 0.00722081, 0.00756463, 0.00792483,\n",
       "       0.00830218, 0.00869749, 0.00911163, 0.00954548, 0.01      ])},\n",
       "                   random_state=0, scoring=make_scorer(fbeta_score, beta=10),\n",
       "                   verbose=2)</pre><b>In a Jupyter environment, please rerun this cell to show the HTML representation or trust the notebook. <br />On GitHub, the HTML representation is unable to render, please try loading this page with nbviewer.org.</b></div><div class=\"sk-container\" hidden><div class=\"sk-item sk-dashed-wrapped\"><div class=\"sk-label-container\"><div class=\"sk-label sk-toggleable\"><input class=\"sk-toggleable__control sk-hidden--visually\" id=\"sk-estimator-id-9\" type=\"checkbox\" ><label for=\"sk-estimator-id-9\" class=\"sk-toggleable__label sk-toggleable__label-arrow\">RandomizedSearchCV</label><div class=\"sk-toggleable__content\"><pre>RandomizedSearchCV(cv=5,\n",
       "                   estimator=Pipeline(steps=[(&#x27;sampling&#x27;, SMOTE()),\n",
       "                                             (&#x27;classification&#x27;,\n",
       "                                              LogisticRegression())]),\n",
       "                   n_iter=100, n_jobs=-1,\n",
       "                   param_distributions={&#x27;classification__C&#x27;: array([1.00000000e-05, 1.02331658e-05, 1.04717682e-05, 1.07159340e-05,\n",
       "       1.09657929e-05, 1.12214777e-05, 1.14831241e-05, 1.17508713e-05,\n",
       "       1.20248614e-05, 1.23052400e-05, 1.25921561e-05, 1.2...\n",
       "       0.00259502, 0.00271859, 0.00284804, 0.00298365, 0.00312572,\n",
       "       0.00327455, 0.00343047, 0.00359381, 0.00376494, 0.00394421,\n",
       "       0.00413201, 0.00432876, 0.00453488, 0.00475081, 0.00497702,\n",
       "       0.00521401, 0.00546228, 0.00572237, 0.00599484, 0.00628029,\n",
       "       0.00657933, 0.00689261, 0.00722081, 0.00756463, 0.00792483,\n",
       "       0.00830218, 0.00869749, 0.00911163, 0.00954548, 0.01      ])},\n",
       "                   random_state=0, scoring=make_scorer(fbeta_score, beta=10),\n",
       "                   verbose=2)</pre></div></div></div><div class=\"sk-parallel\"><div class=\"sk-parallel-item\"><div class=\"sk-item\"><div class=\"sk-label-container\"><div class=\"sk-label sk-toggleable\"><input class=\"sk-toggleable__control sk-hidden--visually\" id=\"sk-estimator-id-10\" type=\"checkbox\" ><label for=\"sk-estimator-id-10\" class=\"sk-toggleable__label sk-toggleable__label-arrow\">estimator: Pipeline</label><div class=\"sk-toggleable__content\"><pre>Pipeline(steps=[(&#x27;sampling&#x27;, SMOTE()),\n",
       "                (&#x27;classification&#x27;, LogisticRegression())])</pre></div></div></div><div class=\"sk-serial\"><div class=\"sk-item\"><div class=\"sk-serial\"><div class=\"sk-item\"><div class=\"sk-estimator sk-toggleable\"><input class=\"sk-toggleable__control sk-hidden--visually\" id=\"sk-estimator-id-11\" type=\"checkbox\" ><label for=\"sk-estimator-id-11\" class=\"sk-toggleable__label sk-toggleable__label-arrow\">SMOTE</label><div class=\"sk-toggleable__content\"><pre>SMOTE()</pre></div></div></div><div class=\"sk-item\"><div class=\"sk-estimator sk-toggleable\"><input class=\"sk-toggleable__control sk-hidden--visually\" id=\"sk-estimator-id-12\" type=\"checkbox\" ><label for=\"sk-estimator-id-12\" class=\"sk-toggleable__label sk-toggleable__label-arrow\">LogisticRegression</label><div class=\"sk-toggleable__content\"><pre>LogisticRegression()</pre></div></div></div></div></div></div></div></div></div></div></div></div>"
      ],
      "text/plain": [
       "RandomizedSearchCV(cv=5,\n",
       "                   estimator=Pipeline(steps=[('sampling', SMOTE()),\n",
       "                                             ('classification',\n",
       "                                              LogisticRegression())]),\n",
       "                   n_iter=100, n_jobs=-1,\n",
       "                   param_distributions={'classification__C': array([1.00000000e-05, 1.02331658e-05, 1.04717682e-05, 1.07159340e-05,\n",
       "       1.09657929e-05, 1.12214777e-05, 1.14831241e-05, 1.17508713e-05,\n",
       "       1.20248614e-05, 1.23052400e-05, 1.25921561e-05, 1.2...\n",
       "       0.00259502, 0.00271859, 0.00284804, 0.00298365, 0.00312572,\n",
       "       0.00327455, 0.00343047, 0.00359381, 0.00376494, 0.00394421,\n",
       "       0.00413201, 0.00432876, 0.00453488, 0.00475081, 0.00497702,\n",
       "       0.00521401, 0.00546228, 0.00572237, 0.00599484, 0.00628029,\n",
       "       0.00657933, 0.00689261, 0.00722081, 0.00756463, 0.00792483,\n",
       "       0.00830218, 0.00869749, 0.00911163, 0.00954548, 0.01      ])},\n",
       "                   random_state=0, scoring=make_scorer(fbeta_score, beta=10),\n",
       "                   verbose=2)"
      ]
     },
     "execution_count": 35,
     "metadata": {},
     "output_type": "execute_result"
    }
   ],
   "source": [
    "search_logi_ftwo.fit(X_train_sample,y_train_sample)"
   ]
  },
  {
   "cell_type": "code",
   "execution_count": 36,
   "id": "ffa343f3",
   "metadata": {},
   "outputs": [
    {
     "data": {
      "text/plain": [
       "{'classification__tol': 0.0022570197196339213,\n",
       " 'classification__solver': 'liblinear',\n",
       " 'classification__penalty': 'l1',\n",
       " 'classification__max_iter': 1300,\n",
       " 'classification__C': 2389.8925662310526}"
      ]
     },
     "execution_count": 36,
     "metadata": {},
     "output_type": "execute_result"
    }
   ],
   "source": [
    "search_logi_ftwo.best_params_\n"
   ]
  },
  {
   "cell_type": "code",
   "execution_count": 37,
   "id": "d1f205c3",
   "metadata": {},
   "outputs": [],
   "source": [
    "best_param = {'classification__tol': [0.0022570197196339213],\n",
    "                'classification__solver': ['liblinear'],\n",
    "                'classification__penalty': ['l1'],\n",
    "                'classification__max_iter': [1500],\n",
    "                'classification__C': [49.73895958790068]}\n"
   ]
  },
  {
   "cell_type": "code",
   "execution_count": 38,
   "id": "07fcfb96",
   "metadata": {},
   "outputs": [
    {
     "data": {
      "text/html": [
       "<div>\n",
       "<style scoped>\n",
       "    .dataframe tbody tr th:only-of-type {\n",
       "        vertical-align: middle;\n",
       "    }\n",
       "\n",
       "    .dataframe tbody tr th {\n",
       "        vertical-align: top;\n",
       "    }\n",
       "\n",
       "    .dataframe thead th {\n",
       "        text-align: right;\n",
       "    }\n",
       "</style>\n",
       "<table border=\"1\" class=\"dataframe\">\n",
       "  <thead>\n",
       "    <tr style=\"text-align: right;\">\n",
       "      <th></th>\n",
       "      <th>model</th>\n",
       "      <th>score</th>\n",
       "      <th>best_params</th>\n",
       "      <th>best_score</th>\n",
       "      <th>train</th>\n",
       "      <th>test</th>\n",
       "      <th>fbeta_score_test</th>\n",
       "    </tr>\n",
       "  </thead>\n",
       "  <tbody>\n",
       "    <tr>\n",
       "      <th>0</th>\n",
       "      <td>search_gradiant</td>\n",
       "      <td>ftwo</td>\n",
       "      <td>{'classification__tol': 0.0009326033468832199,...</td>\n",
       "      <td>0.613480</td>\n",
       "      <td>0.644248</td>\n",
       "      <td>0.624637</td>\n",
       "      <td>0.624637</td>\n",
       "    </tr>\n",
       "    <tr>\n",
       "      <th>0</th>\n",
       "      <td>search_gradiant</td>\n",
       "      <td>ftwo</td>\n",
       "      <td>{'classification__tol': 0.0022570197196339213,...</td>\n",
       "      <td>0.626346</td>\n",
       "      <td>0.654305</td>\n",
       "      <td>0.662170</td>\n",
       "      <td>0.662170</td>\n",
       "    </tr>\n",
       "  </tbody>\n",
       "</table>\n",
       "</div>"
      ],
      "text/plain": [
       "             model score                                        best_params  \\\n",
       "0  search_gradiant  ftwo  {'classification__tol': 0.0009326033468832199,...   \n",
       "0  search_gradiant  ftwo  {'classification__tol': 0.0022570197196339213,...   \n",
       "\n",
       "   best_score     train      test  fbeta_score_test  \n",
       "0    0.613480  0.644248  0.624637          0.624637  \n",
       "0    0.626346  0.654305  0.662170          0.662170  "
      ]
     },
     "execution_count": 38,
     "metadata": {},
     "output_type": "execute_result"
    }
   ],
   "source": [
    "current_model = search_logi_ftwo\n",
    "\n",
    "y_predict = current_model.predict(X_test)\n",
    "\n",
    "report_new = pd.DataFrame({'model':'search_gradiant','score':['ftwo'],'best_params':[current_model.best_params_],\\\n",
    "          'best_score':[current_model.best_score_],'train':[current_model.score(X_train, y_train)],\\\n",
    "          'test':[current_model.score(X_test, y_test)],'fbeta_score_test':[fbeta_score(y_test,y_predict,beta=10)]})\n",
    "\n",
    "report_final = pd.concat([report_final,report_new])\n",
    "report_final\n",
    "\n",
    "# Par erreur, on a appellé le modèle search_gradiant au lieu de search_logi\n",
    "# Par erreur le score fbeta a été appellé ftwo"
   ]
  },
  {
   "cell_type": "code",
   "execution_count": 39,
   "id": "0f29f2d4",
   "metadata": {},
   "outputs": [],
   "source": [
    "#Essayons avec roc_auc\n",
    "\n",
    "search_logi_roc = RandomizedSearchCV(estimator = model_logistic,scoring = roc_auc,\\\n",
    "                               param_distributions =random_grid, n_iter = 100, cv = 5,\\\n",
    "                               verbose=2, random_state=0, n_jobs = -1)"
   ]
  },
  {
   "cell_type": "code",
   "execution_count": 40,
   "id": "d15d38eb",
   "metadata": {
    "scrolled": true
   },
   "outputs": [
    {
     "name": "stdout",
     "output_type": "stream",
     "text": [
      "Fitting 5 folds for each of 100 candidates, totalling 500 fits\n"
     ]
    },
    {
     "name": "stderr",
     "output_type": "stream",
     "text": [
      "C:\\Users\\Louis\\AppData\\Roaming\\Python\\Python39\\site-packages\\sklearn\\utils\\validation.py:1141: DataConversionWarning: A column-vector y was passed when a 1d array was expected. Please change the shape of y to (n_samples, ), for example using ravel().\n",
      "  y = column_or_1d(y, warn=True)\n"
     ]
    },
    {
     "data": {
      "text/html": [
       "<style>#sk-container-id-4 {color: black;background-color: white;}#sk-container-id-4 pre{padding: 0;}#sk-container-id-4 div.sk-toggleable {background-color: white;}#sk-container-id-4 label.sk-toggleable__label {cursor: pointer;display: block;width: 100%;margin-bottom: 0;padding: 0.3em;box-sizing: border-box;text-align: center;}#sk-container-id-4 label.sk-toggleable__label-arrow:before {content: \"▸\";float: left;margin-right: 0.25em;color: #696969;}#sk-container-id-4 label.sk-toggleable__label-arrow:hover:before {color: black;}#sk-container-id-4 div.sk-estimator:hover label.sk-toggleable__label-arrow:before {color: black;}#sk-container-id-4 div.sk-toggleable__content {max-height: 0;max-width: 0;overflow: hidden;text-align: left;background-color: #f0f8ff;}#sk-container-id-4 div.sk-toggleable__content pre {margin: 0.2em;color: black;border-radius: 0.25em;background-color: #f0f8ff;}#sk-container-id-4 input.sk-toggleable__control:checked~div.sk-toggleable__content {max-height: 200px;max-width: 100%;overflow: auto;}#sk-container-id-4 input.sk-toggleable__control:checked~label.sk-toggleable__label-arrow:before {content: \"▾\";}#sk-container-id-4 div.sk-estimator input.sk-toggleable__control:checked~label.sk-toggleable__label {background-color: #d4ebff;}#sk-container-id-4 div.sk-label input.sk-toggleable__control:checked~label.sk-toggleable__label {background-color: #d4ebff;}#sk-container-id-4 input.sk-hidden--visually {border: 0;clip: rect(1px 1px 1px 1px);clip: rect(1px, 1px, 1px, 1px);height: 1px;margin: -1px;overflow: hidden;padding: 0;position: absolute;width: 1px;}#sk-container-id-4 div.sk-estimator {font-family: monospace;background-color: #f0f8ff;border: 1px dotted black;border-radius: 0.25em;box-sizing: border-box;margin-bottom: 0.5em;}#sk-container-id-4 div.sk-estimator:hover {background-color: #d4ebff;}#sk-container-id-4 div.sk-parallel-item::after {content: \"\";width: 100%;border-bottom: 1px solid gray;flex-grow: 1;}#sk-container-id-4 div.sk-label:hover label.sk-toggleable__label {background-color: #d4ebff;}#sk-container-id-4 div.sk-serial::before {content: \"\";position: absolute;border-left: 1px solid gray;box-sizing: border-box;top: 0;bottom: 0;left: 50%;z-index: 0;}#sk-container-id-4 div.sk-serial {display: flex;flex-direction: column;align-items: center;background-color: white;padding-right: 0.2em;padding-left: 0.2em;position: relative;}#sk-container-id-4 div.sk-item {position: relative;z-index: 1;}#sk-container-id-4 div.sk-parallel {display: flex;align-items: stretch;justify-content: center;background-color: white;position: relative;}#sk-container-id-4 div.sk-item::before, #sk-container-id-4 div.sk-parallel-item::before {content: \"\";position: absolute;border-left: 1px solid gray;box-sizing: border-box;top: 0;bottom: 0;left: 50%;z-index: -1;}#sk-container-id-4 div.sk-parallel-item {display: flex;flex-direction: column;z-index: 1;position: relative;background-color: white;}#sk-container-id-4 div.sk-parallel-item:first-child::after {align-self: flex-end;width: 50%;}#sk-container-id-4 div.sk-parallel-item:last-child::after {align-self: flex-start;width: 50%;}#sk-container-id-4 div.sk-parallel-item:only-child::after {width: 0;}#sk-container-id-4 div.sk-dashed-wrapped {border: 1px dashed gray;margin: 0 0.4em 0.5em 0.4em;box-sizing: border-box;padding-bottom: 0.4em;background-color: white;}#sk-container-id-4 div.sk-label label {font-family: monospace;font-weight: bold;display: inline-block;line-height: 1.2em;}#sk-container-id-4 div.sk-label-container {text-align: center;}#sk-container-id-4 div.sk-container {/* jupyter's `normalize.less` sets `[hidden] { display: none; }` but bootstrap.min.css set `[hidden] { display: none !important; }` so we also need the `!important` here to be able to override the default hidden behavior on the sphinx rendered scikit-learn.org. See: https://github.com/scikit-learn/scikit-learn/issues/21755 */display: inline-block !important;position: relative;}#sk-container-id-4 div.sk-text-repr-fallback {display: none;}</style><div id=\"sk-container-id-4\" class=\"sk-top-container\"><div class=\"sk-text-repr-fallback\"><pre>RandomizedSearchCV(cv=5,\n",
       "                   estimator=Pipeline(steps=[(&#x27;sampling&#x27;, SMOTE()),\n",
       "                                             (&#x27;classification&#x27;,\n",
       "                                              LogisticRegression())]),\n",
       "                   n_iter=100, n_jobs=-1,\n",
       "                   param_distributions={&#x27;classification__C&#x27;: array([1.00000000e-05, 1.02331658e-05, 1.04717682e-05, 1.07159340e-05,\n",
       "       1.09657929e-05, 1.12214777e-05, 1.14831241e-05, 1.17508713e-05,\n",
       "       1.20248614e-05, 1.23052400e-05, 1.25921561e-05, 1.2...\n",
       "       0.00259502, 0.00271859, 0.00284804, 0.00298365, 0.00312572,\n",
       "       0.00327455, 0.00343047, 0.00359381, 0.00376494, 0.00394421,\n",
       "       0.00413201, 0.00432876, 0.00453488, 0.00475081, 0.00497702,\n",
       "       0.00521401, 0.00546228, 0.00572237, 0.00599484, 0.00628029,\n",
       "       0.00657933, 0.00689261, 0.00722081, 0.00756463, 0.00792483,\n",
       "       0.00830218, 0.00869749, 0.00911163, 0.00954548, 0.01      ])},\n",
       "                   random_state=0, scoring=make_scorer(roc_auc_score),\n",
       "                   verbose=2)</pre><b>In a Jupyter environment, please rerun this cell to show the HTML representation or trust the notebook. <br />On GitHub, the HTML representation is unable to render, please try loading this page with nbviewer.org.</b></div><div class=\"sk-container\" hidden><div class=\"sk-item sk-dashed-wrapped\"><div class=\"sk-label-container\"><div class=\"sk-label sk-toggleable\"><input class=\"sk-toggleable__control sk-hidden--visually\" id=\"sk-estimator-id-13\" type=\"checkbox\" ><label for=\"sk-estimator-id-13\" class=\"sk-toggleable__label sk-toggleable__label-arrow\">RandomizedSearchCV</label><div class=\"sk-toggleable__content\"><pre>RandomizedSearchCV(cv=5,\n",
       "                   estimator=Pipeline(steps=[(&#x27;sampling&#x27;, SMOTE()),\n",
       "                                             (&#x27;classification&#x27;,\n",
       "                                              LogisticRegression())]),\n",
       "                   n_iter=100, n_jobs=-1,\n",
       "                   param_distributions={&#x27;classification__C&#x27;: array([1.00000000e-05, 1.02331658e-05, 1.04717682e-05, 1.07159340e-05,\n",
       "       1.09657929e-05, 1.12214777e-05, 1.14831241e-05, 1.17508713e-05,\n",
       "       1.20248614e-05, 1.23052400e-05, 1.25921561e-05, 1.2...\n",
       "       0.00259502, 0.00271859, 0.00284804, 0.00298365, 0.00312572,\n",
       "       0.00327455, 0.00343047, 0.00359381, 0.00376494, 0.00394421,\n",
       "       0.00413201, 0.00432876, 0.00453488, 0.00475081, 0.00497702,\n",
       "       0.00521401, 0.00546228, 0.00572237, 0.00599484, 0.00628029,\n",
       "       0.00657933, 0.00689261, 0.00722081, 0.00756463, 0.00792483,\n",
       "       0.00830218, 0.00869749, 0.00911163, 0.00954548, 0.01      ])},\n",
       "                   random_state=0, scoring=make_scorer(roc_auc_score),\n",
       "                   verbose=2)</pre></div></div></div><div class=\"sk-parallel\"><div class=\"sk-parallel-item\"><div class=\"sk-item\"><div class=\"sk-label-container\"><div class=\"sk-label sk-toggleable\"><input class=\"sk-toggleable__control sk-hidden--visually\" id=\"sk-estimator-id-14\" type=\"checkbox\" ><label for=\"sk-estimator-id-14\" class=\"sk-toggleable__label sk-toggleable__label-arrow\">estimator: Pipeline</label><div class=\"sk-toggleable__content\"><pre>Pipeline(steps=[(&#x27;sampling&#x27;, SMOTE()),\n",
       "                (&#x27;classification&#x27;, LogisticRegression())])</pre></div></div></div><div class=\"sk-serial\"><div class=\"sk-item\"><div class=\"sk-serial\"><div class=\"sk-item\"><div class=\"sk-estimator sk-toggleable\"><input class=\"sk-toggleable__control sk-hidden--visually\" id=\"sk-estimator-id-15\" type=\"checkbox\" ><label for=\"sk-estimator-id-15\" class=\"sk-toggleable__label sk-toggleable__label-arrow\">SMOTE</label><div class=\"sk-toggleable__content\"><pre>SMOTE()</pre></div></div></div><div class=\"sk-item\"><div class=\"sk-estimator sk-toggleable\"><input class=\"sk-toggleable__control sk-hidden--visually\" id=\"sk-estimator-id-16\" type=\"checkbox\" ><label for=\"sk-estimator-id-16\" class=\"sk-toggleable__label sk-toggleable__label-arrow\">LogisticRegression</label><div class=\"sk-toggleable__content\"><pre>LogisticRegression()</pre></div></div></div></div></div></div></div></div></div></div></div></div>"
      ],
      "text/plain": [
       "RandomizedSearchCV(cv=5,\n",
       "                   estimator=Pipeline(steps=[('sampling', SMOTE()),\n",
       "                                             ('classification',\n",
       "                                              LogisticRegression())]),\n",
       "                   n_iter=100, n_jobs=-1,\n",
       "                   param_distributions={'classification__C': array([1.00000000e-05, 1.02331658e-05, 1.04717682e-05, 1.07159340e-05,\n",
       "       1.09657929e-05, 1.12214777e-05, 1.14831241e-05, 1.17508713e-05,\n",
       "       1.20248614e-05, 1.23052400e-05, 1.25921561e-05, 1.2...\n",
       "       0.00259502, 0.00271859, 0.00284804, 0.00298365, 0.00312572,\n",
       "       0.00327455, 0.00343047, 0.00359381, 0.00376494, 0.00394421,\n",
       "       0.00413201, 0.00432876, 0.00453488, 0.00475081, 0.00497702,\n",
       "       0.00521401, 0.00546228, 0.00572237, 0.00599484, 0.00628029,\n",
       "       0.00657933, 0.00689261, 0.00722081, 0.00756463, 0.00792483,\n",
       "       0.00830218, 0.00869749, 0.00911163, 0.00954548, 0.01      ])},\n",
       "                   random_state=0, scoring=make_scorer(roc_auc_score),\n",
       "                   verbose=2)"
      ]
     },
     "execution_count": 40,
     "metadata": {},
     "output_type": "execute_result"
    }
   ],
   "source": [
    "search_logi_roc.fit(X_train_sample,y_train_sample)"
   ]
  },
  {
   "cell_type": "code",
   "execution_count": 41,
   "id": "f9535dcc",
   "metadata": {},
   "outputs": [
    {
     "data": {
      "text/plain": [
       "{'classification__tol': 0.0016297508346206436,\n",
       " 'classification__solver': 'liblinear',\n",
       " 'classification__penalty': 'l1',\n",
       " 'classification__max_iter': 1300,\n",
       " 'classification__C': 465.2299523960189}"
      ]
     },
     "execution_count": 41,
     "metadata": {},
     "output_type": "execute_result"
    }
   ],
   "source": [
    "search_logi_roc.best_params_"
   ]
  },
  {
   "cell_type": "code",
   "execution_count": 44,
   "id": "f4c35093",
   "metadata": {},
   "outputs": [],
   "source": [
    "best_param_roc = {'classification__tol': [0.0016297508346206436],\n",
    "                'classification__solver': ['liblinear'],\n",
    "                'classification__penalty': ['l1'],\n",
    "                'classification__max_iter': [1300],\n",
    "                'classification__C': [465.2299523960189]}\n"
   ]
  },
  {
   "cell_type": "code",
   "execution_count": 43,
   "id": "d71edd50",
   "metadata": {},
   "outputs": [
    {
     "data": {
      "text/html": [
       "<div>\n",
       "<style scoped>\n",
       "    .dataframe tbody tr th:only-of-type {\n",
       "        vertical-align: middle;\n",
       "    }\n",
       "\n",
       "    .dataframe tbody tr th {\n",
       "        vertical-align: top;\n",
       "    }\n",
       "\n",
       "    .dataframe thead th {\n",
       "        text-align: right;\n",
       "    }\n",
       "</style>\n",
       "<table border=\"1\" class=\"dataframe\">\n",
       "  <thead>\n",
       "    <tr style=\"text-align: right;\">\n",
       "      <th></th>\n",
       "      <th>model</th>\n",
       "      <th>score</th>\n",
       "      <th>best_params</th>\n",
       "      <th>best_score</th>\n",
       "      <th>train</th>\n",
       "      <th>test</th>\n",
       "      <th>fbeta_score_test</th>\n",
       "    </tr>\n",
       "  </thead>\n",
       "  <tbody>\n",
       "    <tr>\n",
       "      <th>0</th>\n",
       "      <td>search_gradiant</td>\n",
       "      <td>ftwo</td>\n",
       "      <td>{'classification__tol': 0.0009326033468832199,...</td>\n",
       "      <td>0.613480</td>\n",
       "      <td>0.644248</td>\n",
       "      <td>0.624637</td>\n",
       "      <td>0.624637</td>\n",
       "    </tr>\n",
       "    <tr>\n",
       "      <th>0</th>\n",
       "      <td>search_gradiant</td>\n",
       "      <td>ftwo</td>\n",
       "      <td>{'classification__tol': 0.0022570197196339213,...</td>\n",
       "      <td>0.626346</td>\n",
       "      <td>0.654305</td>\n",
       "      <td>0.662170</td>\n",
       "      <td>0.662170</td>\n",
       "    </tr>\n",
       "    <tr>\n",
       "      <th>0</th>\n",
       "      <td>search_gradiant</td>\n",
       "      <td>ftwo</td>\n",
       "      <td>{'classification__tol': 0.0016297508346206436,...</td>\n",
       "      <td>0.655095</td>\n",
       "      <td>0.664117</td>\n",
       "      <td>0.667156</td>\n",
       "      <td>0.630892</td>\n",
       "    </tr>\n",
       "    <tr>\n",
       "      <th>0</th>\n",
       "      <td>search_gradiant</td>\n",
       "      <td>roc</td>\n",
       "      <td>{'classification__tol': 0.0016297508346206436,...</td>\n",
       "      <td>0.655095</td>\n",
       "      <td>0.664117</td>\n",
       "      <td>0.667156</td>\n",
       "      <td>0.630892</td>\n",
       "    </tr>\n",
       "  </tbody>\n",
       "</table>\n",
       "</div>"
      ],
      "text/plain": [
       "             model score                                        best_params  \\\n",
       "0  search_gradiant  ftwo  {'classification__tol': 0.0009326033468832199,...   \n",
       "0  search_gradiant  ftwo  {'classification__tol': 0.0022570197196339213,...   \n",
       "0  search_gradiant  ftwo  {'classification__tol': 0.0016297508346206436,...   \n",
       "0  search_gradiant   roc  {'classification__tol': 0.0016297508346206436,...   \n",
       "\n",
       "   best_score     train      test  fbeta_score_test  \n",
       "0    0.613480  0.644248  0.624637          0.624637  \n",
       "0    0.626346  0.654305  0.662170          0.662170  \n",
       "0    0.655095  0.664117  0.667156          0.630892  \n",
       "0    0.655095  0.664117  0.667156          0.630892  "
      ]
     },
     "execution_count": 43,
     "metadata": {},
     "output_type": "execute_result"
    }
   ],
   "source": [
    "current_model = search_logi_roc\n",
    "\n",
    "y_predict = current_model.predict(X_test)\n",
    "\n",
    "report_new = pd.DataFrame({'model':'search_gradiant','score':['roc'],'best_params':[current_model.best_params_],\\\n",
    "          'best_score':[current_model.best_score_],'train':[current_model.score(X_train, y_train)],\\\n",
    "          'test':[current_model.score(X_test, y_test)],'fbeta_score_test':[fbeta_score(y_test,y_predict,beta=10)]})\n",
    "\n",
    "report_final = pd.concat([report_final,report_new])\n",
    "report_final\n",
    "\n",
    "# Par erreur, on a appellé le modèle search_gradiant au lieu de search_logi\n",
    "# Par erreur, on a appellé le roc ftwo. C'est celui qui est à la troisième ligne. Il a été refait avec l'appellation correcte\n",
    "# à la quatrième ligne\n",
    "# Par erreur le score fbeta a été appellé ftwo"
   ]
  },
  {
   "cell_type": "markdown",
   "id": "6b8431ec",
   "metadata": {},
   "source": [
    "# Fine tune sur le X_train complet"
   ]
  },
  {
   "cell_type": "code",
   "execution_count": 50,
   "id": "fef80249",
   "metadata": {},
   "outputs": [],
   "source": [
    "search_logi_fwto_final = RandomizedSearchCV(estimator = model_logistic,scoring = ftwo_scorer,\\\n",
    "                               param_distributions =best_param, n_iter = 20, cv = 5,\\\n",
    "                               verbose=2, random_state=0, n_jobs = -1)"
   ]
  },
  {
   "cell_type": "code",
   "execution_count": 47,
   "id": "37bef9ff",
   "metadata": {},
   "outputs": [],
   "source": [
    "search_logi_roc_final = RandomizedSearchCV(estimator = model_logistic,scoring = roc_auc,\\\n",
    "                               param_distributions =best_param_roc, n_iter = 20, cv = 5,\\\n",
    "                               verbose=2, random_state=0, n_jobs = -1)"
   ]
  },
  {
   "cell_type": "code",
   "execution_count": 51,
   "id": "6bf09282",
   "metadata": {},
   "outputs": [
    {
     "name": "stderr",
     "output_type": "stream",
     "text": [
      "C:\\Users\\Louis\\AppData\\Roaming\\Python\\Python39\\site-packages\\sklearn\\model_selection\\_search.py:306: UserWarning: The total space of parameters 1 is smaller than n_iter=20. Running 1 iterations. For exhaustive searches, use GridSearchCV.\n",
      "  warnings.warn(\n"
     ]
    },
    {
     "name": "stdout",
     "output_type": "stream",
     "text": [
      "Fitting 5 folds for each of 1 candidates, totalling 5 fits\n"
     ]
    },
    {
     "name": "stderr",
     "output_type": "stream",
     "text": [
      "C:\\Users\\Louis\\AppData\\Roaming\\Python\\Python39\\site-packages\\sklearn\\utils\\validation.py:1141: DataConversionWarning: A column-vector y was passed when a 1d array was expected. Please change the shape of y to (n_samples, ), for example using ravel().\n",
      "  y = column_or_1d(y, warn=True)\n"
     ]
    },
    {
     "data": {
      "text/html": [
       "<style>#sk-container-id-7 {color: black;background-color: white;}#sk-container-id-7 pre{padding: 0;}#sk-container-id-7 div.sk-toggleable {background-color: white;}#sk-container-id-7 label.sk-toggleable__label {cursor: pointer;display: block;width: 100%;margin-bottom: 0;padding: 0.3em;box-sizing: border-box;text-align: center;}#sk-container-id-7 label.sk-toggleable__label-arrow:before {content: \"▸\";float: left;margin-right: 0.25em;color: #696969;}#sk-container-id-7 label.sk-toggleable__label-arrow:hover:before {color: black;}#sk-container-id-7 div.sk-estimator:hover label.sk-toggleable__label-arrow:before {color: black;}#sk-container-id-7 div.sk-toggleable__content {max-height: 0;max-width: 0;overflow: hidden;text-align: left;background-color: #f0f8ff;}#sk-container-id-7 div.sk-toggleable__content pre {margin: 0.2em;color: black;border-radius: 0.25em;background-color: #f0f8ff;}#sk-container-id-7 input.sk-toggleable__control:checked~div.sk-toggleable__content {max-height: 200px;max-width: 100%;overflow: auto;}#sk-container-id-7 input.sk-toggleable__control:checked~label.sk-toggleable__label-arrow:before {content: \"▾\";}#sk-container-id-7 div.sk-estimator input.sk-toggleable__control:checked~label.sk-toggleable__label {background-color: #d4ebff;}#sk-container-id-7 div.sk-label input.sk-toggleable__control:checked~label.sk-toggleable__label {background-color: #d4ebff;}#sk-container-id-7 input.sk-hidden--visually {border: 0;clip: rect(1px 1px 1px 1px);clip: rect(1px, 1px, 1px, 1px);height: 1px;margin: -1px;overflow: hidden;padding: 0;position: absolute;width: 1px;}#sk-container-id-7 div.sk-estimator {font-family: monospace;background-color: #f0f8ff;border: 1px dotted black;border-radius: 0.25em;box-sizing: border-box;margin-bottom: 0.5em;}#sk-container-id-7 div.sk-estimator:hover {background-color: #d4ebff;}#sk-container-id-7 div.sk-parallel-item::after {content: \"\";width: 100%;border-bottom: 1px solid gray;flex-grow: 1;}#sk-container-id-7 div.sk-label:hover label.sk-toggleable__label {background-color: #d4ebff;}#sk-container-id-7 div.sk-serial::before {content: \"\";position: absolute;border-left: 1px solid gray;box-sizing: border-box;top: 0;bottom: 0;left: 50%;z-index: 0;}#sk-container-id-7 div.sk-serial {display: flex;flex-direction: column;align-items: center;background-color: white;padding-right: 0.2em;padding-left: 0.2em;position: relative;}#sk-container-id-7 div.sk-item {position: relative;z-index: 1;}#sk-container-id-7 div.sk-parallel {display: flex;align-items: stretch;justify-content: center;background-color: white;position: relative;}#sk-container-id-7 div.sk-item::before, #sk-container-id-7 div.sk-parallel-item::before {content: \"\";position: absolute;border-left: 1px solid gray;box-sizing: border-box;top: 0;bottom: 0;left: 50%;z-index: -1;}#sk-container-id-7 div.sk-parallel-item {display: flex;flex-direction: column;z-index: 1;position: relative;background-color: white;}#sk-container-id-7 div.sk-parallel-item:first-child::after {align-self: flex-end;width: 50%;}#sk-container-id-7 div.sk-parallel-item:last-child::after {align-self: flex-start;width: 50%;}#sk-container-id-7 div.sk-parallel-item:only-child::after {width: 0;}#sk-container-id-7 div.sk-dashed-wrapped {border: 1px dashed gray;margin: 0 0.4em 0.5em 0.4em;box-sizing: border-box;padding-bottom: 0.4em;background-color: white;}#sk-container-id-7 div.sk-label label {font-family: monospace;font-weight: bold;display: inline-block;line-height: 1.2em;}#sk-container-id-7 div.sk-label-container {text-align: center;}#sk-container-id-7 div.sk-container {/* jupyter's `normalize.less` sets `[hidden] { display: none; }` but bootstrap.min.css set `[hidden] { display: none !important; }` so we also need the `!important` here to be able to override the default hidden behavior on the sphinx rendered scikit-learn.org. See: https://github.com/scikit-learn/scikit-learn/issues/21755 */display: inline-block !important;position: relative;}#sk-container-id-7 div.sk-text-repr-fallback {display: none;}</style><div id=\"sk-container-id-7\" class=\"sk-top-container\"><div class=\"sk-text-repr-fallback\"><pre>RandomizedSearchCV(cv=5,\n",
       "                   estimator=Pipeline(steps=[(&#x27;sampling&#x27;, SMOTE()),\n",
       "                                             (&#x27;classification&#x27;,\n",
       "                                              LogisticRegression())]),\n",
       "                   n_iter=20, n_jobs=-1,\n",
       "                   param_distributions={&#x27;classification__C&#x27;: [49.73895958790068],\n",
       "                                        &#x27;classification__max_iter&#x27;: [1500],\n",
       "                                        &#x27;classification__penalty&#x27;: [&#x27;l1&#x27;],\n",
       "                                        &#x27;classification__solver&#x27;: [&#x27;liblinear&#x27;],\n",
       "                                        &#x27;classification__tol&#x27;: [0.0022570197196339213]},\n",
       "                   random_state=0, scoring=make_scorer(fbeta_score, beta=10),\n",
       "                   verbose=2)</pre><b>In a Jupyter environment, please rerun this cell to show the HTML representation or trust the notebook. <br />On GitHub, the HTML representation is unable to render, please try loading this page with nbviewer.org.</b></div><div class=\"sk-container\" hidden><div class=\"sk-item sk-dashed-wrapped\"><div class=\"sk-label-container\"><div class=\"sk-label sk-toggleable\"><input class=\"sk-toggleable__control sk-hidden--visually\" id=\"sk-estimator-id-25\" type=\"checkbox\" ><label for=\"sk-estimator-id-25\" class=\"sk-toggleable__label sk-toggleable__label-arrow\">RandomizedSearchCV</label><div class=\"sk-toggleable__content\"><pre>RandomizedSearchCV(cv=5,\n",
       "                   estimator=Pipeline(steps=[(&#x27;sampling&#x27;, SMOTE()),\n",
       "                                             (&#x27;classification&#x27;,\n",
       "                                              LogisticRegression())]),\n",
       "                   n_iter=20, n_jobs=-1,\n",
       "                   param_distributions={&#x27;classification__C&#x27;: [49.73895958790068],\n",
       "                                        &#x27;classification__max_iter&#x27;: [1500],\n",
       "                                        &#x27;classification__penalty&#x27;: [&#x27;l1&#x27;],\n",
       "                                        &#x27;classification__solver&#x27;: [&#x27;liblinear&#x27;],\n",
       "                                        &#x27;classification__tol&#x27;: [0.0022570197196339213]},\n",
       "                   random_state=0, scoring=make_scorer(fbeta_score, beta=10),\n",
       "                   verbose=2)</pre></div></div></div><div class=\"sk-parallel\"><div class=\"sk-parallel-item\"><div class=\"sk-item\"><div class=\"sk-label-container\"><div class=\"sk-label sk-toggleable\"><input class=\"sk-toggleable__control sk-hidden--visually\" id=\"sk-estimator-id-26\" type=\"checkbox\" ><label for=\"sk-estimator-id-26\" class=\"sk-toggleable__label sk-toggleable__label-arrow\">estimator: Pipeline</label><div class=\"sk-toggleable__content\"><pre>Pipeline(steps=[(&#x27;sampling&#x27;, SMOTE()),\n",
       "                (&#x27;classification&#x27;, LogisticRegression())])</pre></div></div></div><div class=\"sk-serial\"><div class=\"sk-item\"><div class=\"sk-serial\"><div class=\"sk-item\"><div class=\"sk-estimator sk-toggleable\"><input class=\"sk-toggleable__control sk-hidden--visually\" id=\"sk-estimator-id-27\" type=\"checkbox\" ><label for=\"sk-estimator-id-27\" class=\"sk-toggleable__label sk-toggleable__label-arrow\">SMOTE</label><div class=\"sk-toggleable__content\"><pre>SMOTE()</pre></div></div></div><div class=\"sk-item\"><div class=\"sk-estimator sk-toggleable\"><input class=\"sk-toggleable__control sk-hidden--visually\" id=\"sk-estimator-id-28\" type=\"checkbox\" ><label for=\"sk-estimator-id-28\" class=\"sk-toggleable__label sk-toggleable__label-arrow\">LogisticRegression</label><div class=\"sk-toggleable__content\"><pre>LogisticRegression()</pre></div></div></div></div></div></div></div></div></div></div></div></div>"
      ],
      "text/plain": [
       "RandomizedSearchCV(cv=5,\n",
       "                   estimator=Pipeline(steps=[('sampling', SMOTE()),\n",
       "                                             ('classification',\n",
       "                                              LogisticRegression())]),\n",
       "                   n_iter=20, n_jobs=-1,\n",
       "                   param_distributions={'classification__C': [49.73895958790068],\n",
       "                                        'classification__max_iter': [1500],\n",
       "                                        'classification__penalty': ['l1'],\n",
       "                                        'classification__solver': ['liblinear'],\n",
       "                                        'classification__tol': [0.0022570197196339213]},\n",
       "                   random_state=0, scoring=make_scorer(fbeta_score, beta=10),\n",
       "                   verbose=2)"
      ]
     },
     "execution_count": 51,
     "metadata": {},
     "output_type": "execute_result"
    }
   ],
   "source": [
    "search_logi_fwto_final.fit(X_train,y_train)"
   ]
  },
  {
   "cell_type": "code",
   "execution_count": 48,
   "id": "79eca7c1",
   "metadata": {},
   "outputs": [
    {
     "name": "stderr",
     "output_type": "stream",
     "text": [
      "C:\\Users\\Louis\\AppData\\Roaming\\Python\\Python39\\site-packages\\sklearn\\model_selection\\_search.py:306: UserWarning: The total space of parameters 1 is smaller than n_iter=20. Running 1 iterations. For exhaustive searches, use GridSearchCV.\n",
      "  warnings.warn(\n"
     ]
    },
    {
     "name": "stdout",
     "output_type": "stream",
     "text": [
      "Fitting 5 folds for each of 1 candidates, totalling 5 fits\n"
     ]
    },
    {
     "name": "stderr",
     "output_type": "stream",
     "text": [
      "C:\\Users\\Louis\\AppData\\Roaming\\Python\\Python39\\site-packages\\sklearn\\utils\\validation.py:1141: DataConversionWarning: A column-vector y was passed when a 1d array was expected. Please change the shape of y to (n_samples, ), for example using ravel().\n",
      "  y = column_or_1d(y, warn=True)\n"
     ]
    },
    {
     "data": {
      "text/html": [
       "<style>#sk-container-id-6 {color: black;background-color: white;}#sk-container-id-6 pre{padding: 0;}#sk-container-id-6 div.sk-toggleable {background-color: white;}#sk-container-id-6 label.sk-toggleable__label {cursor: pointer;display: block;width: 100%;margin-bottom: 0;padding: 0.3em;box-sizing: border-box;text-align: center;}#sk-container-id-6 label.sk-toggleable__label-arrow:before {content: \"▸\";float: left;margin-right: 0.25em;color: #696969;}#sk-container-id-6 label.sk-toggleable__label-arrow:hover:before {color: black;}#sk-container-id-6 div.sk-estimator:hover label.sk-toggleable__label-arrow:before {color: black;}#sk-container-id-6 div.sk-toggleable__content {max-height: 0;max-width: 0;overflow: hidden;text-align: left;background-color: #f0f8ff;}#sk-container-id-6 div.sk-toggleable__content pre {margin: 0.2em;color: black;border-radius: 0.25em;background-color: #f0f8ff;}#sk-container-id-6 input.sk-toggleable__control:checked~div.sk-toggleable__content {max-height: 200px;max-width: 100%;overflow: auto;}#sk-container-id-6 input.sk-toggleable__control:checked~label.sk-toggleable__label-arrow:before {content: \"▾\";}#sk-container-id-6 div.sk-estimator input.sk-toggleable__control:checked~label.sk-toggleable__label {background-color: #d4ebff;}#sk-container-id-6 div.sk-label input.sk-toggleable__control:checked~label.sk-toggleable__label {background-color: #d4ebff;}#sk-container-id-6 input.sk-hidden--visually {border: 0;clip: rect(1px 1px 1px 1px);clip: rect(1px, 1px, 1px, 1px);height: 1px;margin: -1px;overflow: hidden;padding: 0;position: absolute;width: 1px;}#sk-container-id-6 div.sk-estimator {font-family: monospace;background-color: #f0f8ff;border: 1px dotted black;border-radius: 0.25em;box-sizing: border-box;margin-bottom: 0.5em;}#sk-container-id-6 div.sk-estimator:hover {background-color: #d4ebff;}#sk-container-id-6 div.sk-parallel-item::after {content: \"\";width: 100%;border-bottom: 1px solid gray;flex-grow: 1;}#sk-container-id-6 div.sk-label:hover label.sk-toggleable__label {background-color: #d4ebff;}#sk-container-id-6 div.sk-serial::before {content: \"\";position: absolute;border-left: 1px solid gray;box-sizing: border-box;top: 0;bottom: 0;left: 50%;z-index: 0;}#sk-container-id-6 div.sk-serial {display: flex;flex-direction: column;align-items: center;background-color: white;padding-right: 0.2em;padding-left: 0.2em;position: relative;}#sk-container-id-6 div.sk-item {position: relative;z-index: 1;}#sk-container-id-6 div.sk-parallel {display: flex;align-items: stretch;justify-content: center;background-color: white;position: relative;}#sk-container-id-6 div.sk-item::before, #sk-container-id-6 div.sk-parallel-item::before {content: \"\";position: absolute;border-left: 1px solid gray;box-sizing: border-box;top: 0;bottom: 0;left: 50%;z-index: -1;}#sk-container-id-6 div.sk-parallel-item {display: flex;flex-direction: column;z-index: 1;position: relative;background-color: white;}#sk-container-id-6 div.sk-parallel-item:first-child::after {align-self: flex-end;width: 50%;}#sk-container-id-6 div.sk-parallel-item:last-child::after {align-self: flex-start;width: 50%;}#sk-container-id-6 div.sk-parallel-item:only-child::after {width: 0;}#sk-container-id-6 div.sk-dashed-wrapped {border: 1px dashed gray;margin: 0 0.4em 0.5em 0.4em;box-sizing: border-box;padding-bottom: 0.4em;background-color: white;}#sk-container-id-6 div.sk-label label {font-family: monospace;font-weight: bold;display: inline-block;line-height: 1.2em;}#sk-container-id-6 div.sk-label-container {text-align: center;}#sk-container-id-6 div.sk-container {/* jupyter's `normalize.less` sets `[hidden] { display: none; }` but bootstrap.min.css set `[hidden] { display: none !important; }` so we also need the `!important` here to be able to override the default hidden behavior on the sphinx rendered scikit-learn.org. See: https://github.com/scikit-learn/scikit-learn/issues/21755 */display: inline-block !important;position: relative;}#sk-container-id-6 div.sk-text-repr-fallback {display: none;}</style><div id=\"sk-container-id-6\" class=\"sk-top-container\"><div class=\"sk-text-repr-fallback\"><pre>RandomizedSearchCV(cv=5,\n",
       "                   estimator=Pipeline(steps=[(&#x27;sampling&#x27;, SMOTE()),\n",
       "                                             (&#x27;classification&#x27;,\n",
       "                                              LogisticRegression())]),\n",
       "                   n_iter=20, n_jobs=-1,\n",
       "                   param_distributions={&#x27;classification__C&#x27;: [465.2299523960189],\n",
       "                                        &#x27;classification__max_iter&#x27;: [1300],\n",
       "                                        &#x27;classification__penalty&#x27;: [&#x27;l1&#x27;],\n",
       "                                        &#x27;classification__solver&#x27;: [&#x27;liblinear&#x27;],\n",
       "                                        &#x27;classification__tol&#x27;: [0.0016297508346206436]},\n",
       "                   random_state=0, scoring=make_scorer(roc_auc_score),\n",
       "                   verbose=2)</pre><b>In a Jupyter environment, please rerun this cell to show the HTML representation or trust the notebook. <br />On GitHub, the HTML representation is unable to render, please try loading this page with nbviewer.org.</b></div><div class=\"sk-container\" hidden><div class=\"sk-item sk-dashed-wrapped\"><div class=\"sk-label-container\"><div class=\"sk-label sk-toggleable\"><input class=\"sk-toggleable__control sk-hidden--visually\" id=\"sk-estimator-id-21\" type=\"checkbox\" ><label for=\"sk-estimator-id-21\" class=\"sk-toggleable__label sk-toggleable__label-arrow\">RandomizedSearchCV</label><div class=\"sk-toggleable__content\"><pre>RandomizedSearchCV(cv=5,\n",
       "                   estimator=Pipeline(steps=[(&#x27;sampling&#x27;, SMOTE()),\n",
       "                                             (&#x27;classification&#x27;,\n",
       "                                              LogisticRegression())]),\n",
       "                   n_iter=20, n_jobs=-1,\n",
       "                   param_distributions={&#x27;classification__C&#x27;: [465.2299523960189],\n",
       "                                        &#x27;classification__max_iter&#x27;: [1300],\n",
       "                                        &#x27;classification__penalty&#x27;: [&#x27;l1&#x27;],\n",
       "                                        &#x27;classification__solver&#x27;: [&#x27;liblinear&#x27;],\n",
       "                                        &#x27;classification__tol&#x27;: [0.0016297508346206436]},\n",
       "                   random_state=0, scoring=make_scorer(roc_auc_score),\n",
       "                   verbose=2)</pre></div></div></div><div class=\"sk-parallel\"><div class=\"sk-parallel-item\"><div class=\"sk-item\"><div class=\"sk-label-container\"><div class=\"sk-label sk-toggleable\"><input class=\"sk-toggleable__control sk-hidden--visually\" id=\"sk-estimator-id-22\" type=\"checkbox\" ><label for=\"sk-estimator-id-22\" class=\"sk-toggleable__label sk-toggleable__label-arrow\">estimator: Pipeline</label><div class=\"sk-toggleable__content\"><pre>Pipeline(steps=[(&#x27;sampling&#x27;, SMOTE()),\n",
       "                (&#x27;classification&#x27;, LogisticRegression())])</pre></div></div></div><div class=\"sk-serial\"><div class=\"sk-item\"><div class=\"sk-serial\"><div class=\"sk-item\"><div class=\"sk-estimator sk-toggleable\"><input class=\"sk-toggleable__control sk-hidden--visually\" id=\"sk-estimator-id-23\" type=\"checkbox\" ><label for=\"sk-estimator-id-23\" class=\"sk-toggleable__label sk-toggleable__label-arrow\">SMOTE</label><div class=\"sk-toggleable__content\"><pre>SMOTE()</pre></div></div></div><div class=\"sk-item\"><div class=\"sk-estimator sk-toggleable\"><input class=\"sk-toggleable__control sk-hidden--visually\" id=\"sk-estimator-id-24\" type=\"checkbox\" ><label for=\"sk-estimator-id-24\" class=\"sk-toggleable__label sk-toggleable__label-arrow\">LogisticRegression</label><div class=\"sk-toggleable__content\"><pre>LogisticRegression()</pre></div></div></div></div></div></div></div></div></div></div></div></div>"
      ],
      "text/plain": [
       "RandomizedSearchCV(cv=5,\n",
       "                   estimator=Pipeline(steps=[('sampling', SMOTE()),\n",
       "                                             ('classification',\n",
       "                                              LogisticRegression())]),\n",
       "                   n_iter=20, n_jobs=-1,\n",
       "                   param_distributions={'classification__C': [465.2299523960189],\n",
       "                                        'classification__max_iter': [1300],\n",
       "                                        'classification__penalty': ['l1'],\n",
       "                                        'classification__solver': ['liblinear'],\n",
       "                                        'classification__tol': [0.0016297508346206436]},\n",
       "                   random_state=0, scoring=make_scorer(roc_auc_score),\n",
       "                   verbose=2)"
      ]
     },
     "execution_count": 48,
     "metadata": {},
     "output_type": "execute_result"
    }
   ],
   "source": [
    "search_logi_roc_final.fit(X_train,y_train)"
   ]
  },
  {
   "cell_type": "code",
   "execution_count": 52,
   "id": "850b7500",
   "metadata": {},
   "outputs": [
    {
     "data": {
      "text/html": [
       "<div>\n",
       "<style scoped>\n",
       "    .dataframe tbody tr th:only-of-type {\n",
       "        vertical-align: middle;\n",
       "    }\n",
       "\n",
       "    .dataframe tbody tr th {\n",
       "        vertical-align: top;\n",
       "    }\n",
       "\n",
       "    .dataframe thead th {\n",
       "        text-align: right;\n",
       "    }\n",
       "</style>\n",
       "<table border=\"1\" class=\"dataframe\">\n",
       "  <thead>\n",
       "    <tr style=\"text-align: right;\">\n",
       "      <th></th>\n",
       "      <th>model</th>\n",
       "      <th>score</th>\n",
       "      <th>best_params</th>\n",
       "      <th>best_score</th>\n",
       "      <th>train</th>\n",
       "      <th>test</th>\n",
       "      <th>fbeta_score_test</th>\n",
       "    </tr>\n",
       "  </thead>\n",
       "  <tbody>\n",
       "    <tr>\n",
       "      <th>0</th>\n",
       "      <td>search_gradiant</td>\n",
       "      <td>fwto</td>\n",
       "      <td>{'classification__tol': 0.0022570197196339213,...</td>\n",
       "      <td>0.637733</td>\n",
       "      <td>0.648908</td>\n",
       "      <td>0.63121</td>\n",
       "      <td>0.63121</td>\n",
       "    </tr>\n",
       "  </tbody>\n",
       "</table>\n",
       "</div>"
      ],
      "text/plain": [
       "             model score                                        best_params  \\\n",
       "0  search_gradiant  fwto  {'classification__tol': 0.0022570197196339213,...   \n",
       "\n",
       "   best_score     train     test  fbeta_score_test  \n",
       "0    0.637733  0.648908  0.63121           0.63121  "
      ]
     },
     "execution_count": 52,
     "metadata": {},
     "output_type": "execute_result"
    }
   ],
   "source": [
    "current_model = search_logi_fwto_final\n",
    "\n",
    "y_predict = current_model.predict(X_test)\n",
    "\n",
    "report_new_1 = pd.DataFrame({'model':'search_gradiant','score':['fwto'],'best_params':[current_model.best_params_],\\\n",
    "          'best_score':[current_model.best_score_],'train':[current_model.score(X_train, y_train)],\\\n",
    "          'test':[current_model.score(X_test, y_test)],'fbeta_score_test':[fbeta_score(y_test,y_predict,beta=10)]})\n",
    "\n",
    "#report_final = pd.concat([report_final,report_new])\n",
    "#report_final\n",
    "\n",
    "report_new_1\n",
    "\n",
    "# Par erreur, on a appellé le modèle search_gradiant au lieu de search_logi\n",
    "# Par erreur le score fbeta a été appellé ftwo"
   ]
  },
  {
   "cell_type": "code",
   "execution_count": 49,
   "id": "8965f3b6",
   "metadata": {},
   "outputs": [
    {
     "data": {
      "text/html": [
       "<div>\n",
       "<style scoped>\n",
       "    .dataframe tbody tr th:only-of-type {\n",
       "        vertical-align: middle;\n",
       "    }\n",
       "\n",
       "    .dataframe tbody tr th {\n",
       "        vertical-align: top;\n",
       "    }\n",
       "\n",
       "    .dataframe thead th {\n",
       "        text-align: right;\n",
       "    }\n",
       "</style>\n",
       "<table border=\"1\" class=\"dataframe\">\n",
       "  <thead>\n",
       "    <tr style=\"text-align: right;\">\n",
       "      <th></th>\n",
       "      <th>model</th>\n",
       "      <th>score</th>\n",
       "      <th>best_params</th>\n",
       "      <th>best_score</th>\n",
       "      <th>train</th>\n",
       "      <th>test</th>\n",
       "      <th>fbeta_score_test</th>\n",
       "    </tr>\n",
       "  </thead>\n",
       "  <tbody>\n",
       "    <tr>\n",
       "      <th>0</th>\n",
       "      <td>search_gradiant</td>\n",
       "      <td>roc</td>\n",
       "      <td>{'classification__tol': 0.0016297508346206436,...</td>\n",
       "      <td>0.669061</td>\n",
       "      <td>0.670158</td>\n",
       "      <td>0.672751</td>\n",
       "      <td>0.637546</td>\n",
       "    </tr>\n",
       "  </tbody>\n",
       "</table>\n",
       "</div>"
      ],
      "text/plain": [
       "             model score                                        best_params  \\\n",
       "0  search_gradiant   roc  {'classification__tol': 0.0016297508346206436,...   \n",
       "\n",
       "   best_score     train      test  fbeta_score_test  \n",
       "0    0.669061  0.670158  0.672751          0.637546  "
      ]
     },
     "execution_count": 49,
     "metadata": {},
     "output_type": "execute_result"
    }
   ],
   "source": [
    "current_model = search_logi_roc_final\n",
    "\n",
    "y_predict = current_model.predict(X_test)\n",
    "\n",
    "report_new_1 = pd.DataFrame({'model':'search_gradiant','score':['roc'],'best_params':[current_model.best_params_],\\\n",
    "          'best_score':[current_model.best_score_],'train':[current_model.score(X_train, y_train)],\\\n",
    "          'test':[current_model.score(X_test, y_test)],'fbeta_score_test':[fbeta_score(y_test,y_predict,beta=10)]})\n",
    "\n",
    "#report_final = pd.concat([report_final,report_new])\n",
    "#report_final\n",
    "\n",
    "report_new_1\n",
    "\n",
    "# Par erreur, on a appellé le modèle search_gradiant au lieu de search_logi\n",
    "# Par erreur le score fbeta a été appellé ftwo"
   ]
  },
  {
   "cell_type": "code",
   "execution_count": 54,
   "id": "63b187be",
   "metadata": {},
   "outputs": [],
   "source": [
    "# Le roc_auc semble être celui qui overfit le moins"
   ]
  },
  {
   "cell_type": "markdown",
   "id": "0c77a084",
   "metadata": {},
   "source": [
    "# Fine tune Threshold"
   ]
  },
  {
   "cell_type": "code",
   "execution_count": null,
   "id": "7ae9a8c1",
   "metadata": {},
   "outputs": [],
   "source": [
    "# On fait quelques tests pour voir l'effet du threshold sur notre score final."
   ]
  },
  {
   "cell_type": "code",
   "execution_count": 59,
   "id": "0e44848d",
   "metadata": {},
   "outputs": [],
   "source": [
    "prediction_test = pd.DataFrame(search_logi_roc_final.predict_proba(X_test))[1]"
   ]
  },
  {
   "cell_type": "code",
   "execution_count": 60,
   "id": "602c61af",
   "metadata": {},
   "outputs": [],
   "source": [
    "def threshold_test(threshold,prediction):\n",
    "    return  np.array(prediction.apply(lambda x : 1 if (x >= threshold)else 0))\n"
   ]
  },
  {
   "cell_type": "code",
   "execution_count": 62,
   "id": "76276be4",
   "metadata": {
    "scrolled": true
   },
   "outputs": [
    {
     "name": "stdout",
     "output_type": "stream",
     "text": [
      "threshold :\n",
      " 0.0\n",
      "0.898460818165857 \n",
      "\n",
      "threshold :\n",
      " 0.1\n",
      "0.9017857142857143 \n",
      "\n",
      "threshold :\n",
      " 0.2\n",
      "0.8916194452728899 \n",
      "\n",
      "threshold :\n",
      " 0.30000000000000004\n",
      "0.8242889335525914 \n",
      "\n",
      "threshold :\n",
      " 0.4\n",
      "0.7402484472049689 \n",
      "\n",
      "threshold :\n",
      " 0.5\n",
      "0.6375457644236839 \n",
      "\n",
      "threshold :\n",
      " 0.6000000000000001\n",
      "0.505 \n",
      "\n",
      "threshold :\n",
      " 0.7000000000000001\n",
      "0.3146213251995587 \n",
      "\n",
      "threshold :\n",
      " 0.8\n",
      "0.17183614710116477 \n",
      "\n",
      "threshold :\n",
      " 0.9\n",
      "0.03982649842271293 \n",
      "\n",
      "threshold :\n",
      " 1.0\n",
      "0.0 \n",
      "\n"
     ]
    }
   ],
   "source": [
    "score = []\n",
    "\n",
    "for i in np.linspace(0,1,11):\n",
    "    print('threshold :\\n', i)\n",
    "    print(fbeta_score(y_test,threshold_test(i,prediction_test),beta = 10),'\\n')\n",
    "    score.append(fbeta_score(y_test,threshold_test(i,prediction_test),beta = 10))"
   ]
  },
  {
   "cell_type": "code",
   "execution_count": 68,
   "id": "7d2f6790",
   "metadata": {},
   "outputs": [
    {
     "data": {
      "text/plain": [
       "Text(0, 0.5, 'Score')"
      ]
     },
     "execution_count": 68,
     "metadata": {},
     "output_type": "execute_result"
    },
    {
     "data": {
      "image/png": "[encoded data removed]",
      "text/plain": [
       "<Figure size 640x480 with 1 Axes>"
      ]
     },
     "metadata": {},
     "output_type": "display_data"
    }
   ],
   "source": [
    "plt.plot(np.linspace(0,1,11),score)\n",
    "\n",
    "plt.title('Score en fonction du Threshold')\n",
    "\n",
    "plt.xlabel('Threshold')\n",
    "plt.ylabel('Score')\n"
   ]
  },
  {
   "cell_type": "markdown",
   "id": "1ce14e8a",
   "metadata": {},
   "source": [
    "# Sauvegarde du modèle"
   ]
  },
  {
   "cell_type": "code",
   "execution_count": 69,
   "id": "099ebc9d",
   "metadata": {},
   "outputs": [],
   "source": [
    "import joblib"
   ]
  },
  {
   "cell_type": "code",
   "execution_count": 70,
   "id": "69d87270",
   "metadata": {},
   "outputs": [
    {
     "data": {
      "text/plain": [
       "['Pipeline\\\\search_logi_roc_tuned.joblib']"
      ]
     },
     "execution_count": 70,
     "metadata": {},
     "output_type": "execute_result"
    }
   ],
   "source": [
    "joblib.dump(search_logi_roc_final, 'Pipeline\\search_logi_roc_tuned.joblib')"
   ]
  },
  {
   "cell_type": "code",
   "execution_count": null,
   "id": "9a3c119d",
   "metadata": {},
   "outputs": [],
   "source": []
  }
 ],
 "metadata": {
  "kernelspec": {
   "display_name": "Python 3 (ipykernel)",
   "language": "python",
   "name": "python3"
  },
  "language_info": {
   "codemirror_mode": {
    "name": "ipython",
    "version": 3
   },
   "file_extension": ".py",
   "mimetype": "text/x-python",
   "name": "python",
   "nbconvert_exporter": "python",
   "pygments_lexer": "ipython3",
   "version": "3.9.7"
  }
 },
 "nbformat": 4,
 "nbformat_minor": 5
}
