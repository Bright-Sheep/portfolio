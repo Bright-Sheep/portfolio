{
 "cells": [
  {
   "cell_type": "markdown",
   "id": "235578c9",
   "metadata": {},
   "source": [
    "# Import des librairies"
   ]
  },
  {
   "cell_type": "code",
   "execution_count": 1,
   "id": "e6d9fb97",
   "metadata": {},
   "outputs": [],
   "source": [
    "import numpy as np\n",
    "import pandas as pd\n",
    "\n",
    "import matplotlib.pyplot as plt\n",
    "import seaborn as sns\n",
    "\n",
    "import imblearn"
   ]
  },
  {
   "cell_type": "markdown",
   "id": "ccd64d32",
   "metadata": {},
   "source": [
    "# Import des données"
   ]
  },
  {
   "cell_type": "code",
   "execution_count": 2,
   "id": "93294152",
   "metadata": {},
   "outputs": [],
   "source": [
    "df = pd.read_csv('donnée/data_rdy.csv')"
   ]
  },
  {
   "cell_type": "code",
   "execution_count": 3,
   "id": "d36c9d86",
   "metadata": {},
   "outputs": [],
   "source": [
    "train_df = df[df['TARGET'].notnull()]\n",
    "\n",
    "# Destiné à Kaggle\n",
    "test_df = df[df['TARGET'].isnull()]"
   ]
  },
  {
   "cell_type": "markdown",
   "id": "e78d251e",
   "metadata": {},
   "source": [
    "# Etude du DataFrame"
   ]
  },
  {
   "cell_type": "code",
   "execution_count": 4,
   "id": "ce3fb9c8",
   "metadata": {},
   "outputs": [
    {
     "data": {
      "text/html": [
       "<div>\n",
       "<style scoped>\n",
       "    .dataframe tbody tr th:only-of-type {\n",
       "        vertical-align: middle;\n",
       "    }\n",
       "\n",
       "    .dataframe tbody tr th {\n",
       "        vertical-align: top;\n",
       "    }\n",
       "\n",
       "    .dataframe thead th {\n",
       "        text-align: right;\n",
       "    }\n",
       "</style>\n",
       "<table border=\"1\" class=\"dataframe\">\n",
       "  <thead>\n",
       "    <tr style=\"text-align: right;\">\n",
       "      <th></th>\n",
       "      <th>index</th>\n",
       "      <th>SK_ID_CURR</th>\n",
       "      <th>TARGET</th>\n",
       "      <th>CODE_GENDER</th>\n",
       "      <th>FLAG_OWN_CAR</th>\n",
       "      <th>FLAG_OWN_REALTY</th>\n",
       "      <th>CNT_CHILDREN</th>\n",
       "      <th>AMT_INCOME_TOTAL</th>\n",
       "      <th>AMT_CREDIT</th>\n",
       "      <th>AMT_ANNUITY</th>\n",
       "      <th>...</th>\n",
       "      <th>CC_NAME_CONTRACT_STATUS_Signed_MAX</th>\n",
       "      <th>CC_NAME_CONTRACT_STATUS_Signed_MEAN</th>\n",
       "      <th>CC_NAME_CONTRACT_STATUS_Signed_SUM</th>\n",
       "      <th>CC_NAME_CONTRACT_STATUS_Signed_VAR</th>\n",
       "      <th>CC_NAME_CONTRACT_STATUS_nan_MIN</th>\n",
       "      <th>CC_NAME_CONTRACT_STATUS_nan_MAX</th>\n",
       "      <th>CC_NAME_CONTRACT_STATUS_nan_MEAN</th>\n",
       "      <th>CC_NAME_CONTRACT_STATUS_nan_SUM</th>\n",
       "      <th>CC_NAME_CONTRACT_STATUS_nan_VAR</th>\n",
       "      <th>CC_COUNT</th>\n",
       "    </tr>\n",
       "  </thead>\n",
       "  <tbody>\n",
       "    <tr>\n",
       "      <th>0</th>\n",
       "      <td>0</td>\n",
       "      <td>100002</td>\n",
       "      <td>1.0</td>\n",
       "      <td>0</td>\n",
       "      <td>0</td>\n",
       "      <td>0</td>\n",
       "      <td>0</td>\n",
       "      <td>202500.0</td>\n",
       "      <td>406597.5</td>\n",
       "      <td>24700.5</td>\n",
       "      <td>...</td>\n",
       "      <td>NaN</td>\n",
       "      <td>NaN</td>\n",
       "      <td>NaN</td>\n",
       "      <td>NaN</td>\n",
       "      <td>NaN</td>\n",
       "      <td>NaN</td>\n",
       "      <td>NaN</td>\n",
       "      <td>NaN</td>\n",
       "      <td>NaN</td>\n",
       "      <td>NaN</td>\n",
       "    </tr>\n",
       "    <tr>\n",
       "      <th>1</th>\n",
       "      <td>1</td>\n",
       "      <td>100003</td>\n",
       "      <td>0.0</td>\n",
       "      <td>1</td>\n",
       "      <td>0</td>\n",
       "      <td>1</td>\n",
       "      <td>0</td>\n",
       "      <td>270000.0</td>\n",
       "      <td>1293502.5</td>\n",
       "      <td>35698.5</td>\n",
       "      <td>...</td>\n",
       "      <td>NaN</td>\n",
       "      <td>NaN</td>\n",
       "      <td>NaN</td>\n",
       "      <td>NaN</td>\n",
       "      <td>NaN</td>\n",
       "      <td>NaN</td>\n",
       "      <td>NaN</td>\n",
       "      <td>NaN</td>\n",
       "      <td>NaN</td>\n",
       "      <td>NaN</td>\n",
       "    </tr>\n",
       "    <tr>\n",
       "      <th>2</th>\n",
       "      <td>2</td>\n",
       "      <td>100004</td>\n",
       "      <td>0.0</td>\n",
       "      <td>0</td>\n",
       "      <td>1</td>\n",
       "      <td>0</td>\n",
       "      <td>0</td>\n",
       "      <td>67500.0</td>\n",
       "      <td>135000.0</td>\n",
       "      <td>6750.0</td>\n",
       "      <td>...</td>\n",
       "      <td>NaN</td>\n",
       "      <td>NaN</td>\n",
       "      <td>NaN</td>\n",
       "      <td>NaN</td>\n",
       "      <td>NaN</td>\n",
       "      <td>NaN</td>\n",
       "      <td>NaN</td>\n",
       "      <td>NaN</td>\n",
       "      <td>NaN</td>\n",
       "      <td>NaN</td>\n",
       "    </tr>\n",
       "    <tr>\n",
       "      <th>3</th>\n",
       "      <td>3</td>\n",
       "      <td>100006</td>\n",
       "      <td>0.0</td>\n",
       "      <td>1</td>\n",
       "      <td>0</td>\n",
       "      <td>0</td>\n",
       "      <td>0</td>\n",
       "      <td>135000.0</td>\n",
       "      <td>312682.5</td>\n",
       "      <td>29686.5</td>\n",
       "      <td>...</td>\n",
       "      <td>0.0</td>\n",
       "      <td>0.0</td>\n",
       "      <td>0.0</td>\n",
       "      <td>0.0</td>\n",
       "      <td>0.0</td>\n",
       "      <td>0.0</td>\n",
       "      <td>0.0</td>\n",
       "      <td>0.0</td>\n",
       "      <td>0.0</td>\n",
       "      <td>6.0</td>\n",
       "    </tr>\n",
       "    <tr>\n",
       "      <th>4</th>\n",
       "      <td>4</td>\n",
       "      <td>100007</td>\n",
       "      <td>0.0</td>\n",
       "      <td>0</td>\n",
       "      <td>0</td>\n",
       "      <td>0</td>\n",
       "      <td>0</td>\n",
       "      <td>121500.0</td>\n",
       "      <td>513000.0</td>\n",
       "      <td>21865.5</td>\n",
       "      <td>...</td>\n",
       "      <td>NaN</td>\n",
       "      <td>NaN</td>\n",
       "      <td>NaN</td>\n",
       "      <td>NaN</td>\n",
       "      <td>NaN</td>\n",
       "      <td>NaN</td>\n",
       "      <td>NaN</td>\n",
       "      <td>NaN</td>\n",
       "      <td>NaN</td>\n",
       "      <td>NaN</td>\n",
       "    </tr>\n",
       "    <tr>\n",
       "      <th>...</th>\n",
       "      <td>...</td>\n",
       "      <td>...</td>\n",
       "      <td>...</td>\n",
       "      <td>...</td>\n",
       "      <td>...</td>\n",
       "      <td>...</td>\n",
       "      <td>...</td>\n",
       "      <td>...</td>\n",
       "      <td>...</td>\n",
       "      <td>...</td>\n",
       "      <td>...</td>\n",
       "      <td>...</td>\n",
       "      <td>...</td>\n",
       "      <td>...</td>\n",
       "      <td>...</td>\n",
       "      <td>...</td>\n",
       "      <td>...</td>\n",
       "      <td>...</td>\n",
       "      <td>...</td>\n",
       "      <td>...</td>\n",
       "      <td>...</td>\n",
       "    </tr>\n",
       "    <tr>\n",
       "      <th>307502</th>\n",
       "      <td>307506</td>\n",
       "      <td>456251</td>\n",
       "      <td>0.0</td>\n",
       "      <td>0</td>\n",
       "      <td>0</td>\n",
       "      <td>1</td>\n",
       "      <td>0</td>\n",
       "      <td>157500.0</td>\n",
       "      <td>254700.0</td>\n",
       "      <td>27558.0</td>\n",
       "      <td>...</td>\n",
       "      <td>NaN</td>\n",
       "      <td>NaN</td>\n",
       "      <td>NaN</td>\n",
       "      <td>NaN</td>\n",
       "      <td>NaN</td>\n",
       "      <td>NaN</td>\n",
       "      <td>NaN</td>\n",
       "      <td>NaN</td>\n",
       "      <td>NaN</td>\n",
       "      <td>NaN</td>\n",
       "    </tr>\n",
       "    <tr>\n",
       "      <th>307503</th>\n",
       "      <td>307507</td>\n",
       "      <td>456252</td>\n",
       "      <td>0.0</td>\n",
       "      <td>1</td>\n",
       "      <td>0</td>\n",
       "      <td>0</td>\n",
       "      <td>0</td>\n",
       "      <td>72000.0</td>\n",
       "      <td>269550.0</td>\n",
       "      <td>12001.5</td>\n",
       "      <td>...</td>\n",
       "      <td>NaN</td>\n",
       "      <td>NaN</td>\n",
       "      <td>NaN</td>\n",
       "      <td>NaN</td>\n",
       "      <td>NaN</td>\n",
       "      <td>NaN</td>\n",
       "      <td>NaN</td>\n",
       "      <td>NaN</td>\n",
       "      <td>NaN</td>\n",
       "      <td>NaN</td>\n",
       "    </tr>\n",
       "    <tr>\n",
       "      <th>307504</th>\n",
       "      <td>307508</td>\n",
       "      <td>456253</td>\n",
       "      <td>0.0</td>\n",
       "      <td>1</td>\n",
       "      <td>0</td>\n",
       "      <td>0</td>\n",
       "      <td>0</td>\n",
       "      <td>153000.0</td>\n",
       "      <td>677664.0</td>\n",
       "      <td>29979.0</td>\n",
       "      <td>...</td>\n",
       "      <td>NaN</td>\n",
       "      <td>NaN</td>\n",
       "      <td>NaN</td>\n",
       "      <td>NaN</td>\n",
       "      <td>NaN</td>\n",
       "      <td>NaN</td>\n",
       "      <td>NaN</td>\n",
       "      <td>NaN</td>\n",
       "      <td>NaN</td>\n",
       "      <td>NaN</td>\n",
       "    </tr>\n",
       "    <tr>\n",
       "      <th>307505</th>\n",
       "      <td>307509</td>\n",
       "      <td>456254</td>\n",
       "      <td>1.0</td>\n",
       "      <td>1</td>\n",
       "      <td>0</td>\n",
       "      <td>0</td>\n",
       "      <td>0</td>\n",
       "      <td>171000.0</td>\n",
       "      <td>370107.0</td>\n",
       "      <td>20205.0</td>\n",
       "      <td>...</td>\n",
       "      <td>NaN</td>\n",
       "      <td>NaN</td>\n",
       "      <td>NaN</td>\n",
       "      <td>NaN</td>\n",
       "      <td>NaN</td>\n",
       "      <td>NaN</td>\n",
       "      <td>NaN</td>\n",
       "      <td>NaN</td>\n",
       "      <td>NaN</td>\n",
       "      <td>NaN</td>\n",
       "    </tr>\n",
       "    <tr>\n",
       "      <th>307506</th>\n",
       "      <td>307510</td>\n",
       "      <td>456255</td>\n",
       "      <td>0.0</td>\n",
       "      <td>1</td>\n",
       "      <td>0</td>\n",
       "      <td>1</td>\n",
       "      <td>0</td>\n",
       "      <td>157500.0</td>\n",
       "      <td>675000.0</td>\n",
       "      <td>49117.5</td>\n",
       "      <td>...</td>\n",
       "      <td>NaN</td>\n",
       "      <td>NaN</td>\n",
       "      <td>NaN</td>\n",
       "      <td>NaN</td>\n",
       "      <td>NaN</td>\n",
       "      <td>NaN</td>\n",
       "      <td>NaN</td>\n",
       "      <td>NaN</td>\n",
       "      <td>NaN</td>\n",
       "      <td>NaN</td>\n",
       "    </tr>\n",
       "  </tbody>\n",
       "</table>\n",
       "<p>307507 rows × 798 columns</p>\n",
       "</div>"
      ],
      "text/plain": [
       "         index  SK_ID_CURR  TARGET  CODE_GENDER  FLAG_OWN_CAR  \\\n",
       "0            0      100002     1.0            0             0   \n",
       "1            1      100003     0.0            1             0   \n",
       "2            2      100004     0.0            0             1   \n",
       "3            3      100006     0.0            1             0   \n",
       "4            4      100007     0.0            0             0   \n",
       "...        ...         ...     ...          ...           ...   \n",
       "307502  307506      456251     0.0            0             0   \n",
       "307503  307507      456252     0.0            1             0   \n",
       "307504  307508      456253     0.0            1             0   \n",
       "307505  307509      456254     1.0            1             0   \n",
       "307506  307510      456255     0.0            1             0   \n",
       "\n",
       "        FLAG_OWN_REALTY  CNT_CHILDREN  AMT_INCOME_TOTAL  AMT_CREDIT  \\\n",
       "0                     0             0          202500.0    406597.5   \n",
       "1                     1             0          270000.0   1293502.5   \n",
       "2                     0             0           67500.0    135000.0   \n",
       "3                     0             0          135000.0    312682.5   \n",
       "4                     0             0          121500.0    513000.0   \n",
       "...                 ...           ...               ...         ...   \n",
       "307502                1             0          157500.0    254700.0   \n",
       "307503                0             0           72000.0    269550.0   \n",
       "307504                0             0          153000.0    677664.0   \n",
       "307505                0             0          171000.0    370107.0   \n",
       "307506                1             0          157500.0    675000.0   \n",
       "\n",
       "        AMT_ANNUITY  ...  CC_NAME_CONTRACT_STATUS_Signed_MAX  \\\n",
       "0           24700.5  ...                                 NaN   \n",
       "1           35698.5  ...                                 NaN   \n",
       "2            6750.0  ...                                 NaN   \n",
       "3           29686.5  ...                                 0.0   \n",
       "4           21865.5  ...                                 NaN   \n",
       "...             ...  ...                                 ...   \n",
       "307502      27558.0  ...                                 NaN   \n",
       "307503      12001.5  ...                                 NaN   \n",
       "307504      29979.0  ...                                 NaN   \n",
       "307505      20205.0  ...                                 NaN   \n",
       "307506      49117.5  ...                                 NaN   \n",
       "\n",
       "        CC_NAME_CONTRACT_STATUS_Signed_MEAN  \\\n",
       "0                                       NaN   \n",
       "1                                       NaN   \n",
       "2                                       NaN   \n",
       "3                                       0.0   \n",
       "4                                       NaN   \n",
       "...                                     ...   \n",
       "307502                                  NaN   \n",
       "307503                                  NaN   \n",
       "307504                                  NaN   \n",
       "307505                                  NaN   \n",
       "307506                                  NaN   \n",
       "\n",
       "        CC_NAME_CONTRACT_STATUS_Signed_SUM  \\\n",
       "0                                      NaN   \n",
       "1                                      NaN   \n",
       "2                                      NaN   \n",
       "3                                      0.0   \n",
       "4                                      NaN   \n",
       "...                                    ...   \n",
       "307502                                 NaN   \n",
       "307503                                 NaN   \n",
       "307504                                 NaN   \n",
       "307505                                 NaN   \n",
       "307506                                 NaN   \n",
       "\n",
       "        CC_NAME_CONTRACT_STATUS_Signed_VAR  CC_NAME_CONTRACT_STATUS_nan_MIN  \\\n",
       "0                                      NaN                              NaN   \n",
       "1                                      NaN                              NaN   \n",
       "2                                      NaN                              NaN   \n",
       "3                                      0.0                              0.0   \n",
       "4                                      NaN                              NaN   \n",
       "...                                    ...                              ...   \n",
       "307502                                 NaN                              NaN   \n",
       "307503                                 NaN                              NaN   \n",
       "307504                                 NaN                              NaN   \n",
       "307505                                 NaN                              NaN   \n",
       "307506                                 NaN                              NaN   \n",
       "\n",
       "        CC_NAME_CONTRACT_STATUS_nan_MAX  CC_NAME_CONTRACT_STATUS_nan_MEAN  \\\n",
       "0                                   NaN                               NaN   \n",
       "1                                   NaN                               NaN   \n",
       "2                                   NaN                               NaN   \n",
       "3                                   0.0                               0.0   \n",
       "4                                   NaN                               NaN   \n",
       "...                                 ...                               ...   \n",
       "307502                              NaN                               NaN   \n",
       "307503                              NaN                               NaN   \n",
       "307504                              NaN                               NaN   \n",
       "307505                              NaN                               NaN   \n",
       "307506                              NaN                               NaN   \n",
       "\n",
       "        CC_NAME_CONTRACT_STATUS_nan_SUM  CC_NAME_CONTRACT_STATUS_nan_VAR  \\\n",
       "0                                   NaN                              NaN   \n",
       "1                                   NaN                              NaN   \n",
       "2                                   NaN                              NaN   \n",
       "3                                   0.0                              0.0   \n",
       "4                                   NaN                              NaN   \n",
       "...                                 ...                              ...   \n",
       "307502                              NaN                              NaN   \n",
       "307503                              NaN                              NaN   \n",
       "307504                              NaN                              NaN   \n",
       "307505                              NaN                              NaN   \n",
       "307506                              NaN                              NaN   \n",
       "\n",
       "        CC_COUNT  \n",
       "0            NaN  \n",
       "1            NaN  \n",
       "2            NaN  \n",
       "3            6.0  \n",
       "4            NaN  \n",
       "...          ...  \n",
       "307502       NaN  \n",
       "307503       NaN  \n",
       "307504       NaN  \n",
       "307505       NaN  \n",
       "307506       NaN  \n",
       "\n",
       "[307507 rows x 798 columns]"
      ]
     },
     "execution_count": 4,
     "metadata": {},
     "output_type": "execute_result"
    }
   ],
   "source": [
    "# On regarde notre DataFrame final\n",
    "\n",
    "train_df"
   ]
  },
  {
   "cell_type": "code",
   "execution_count": 5,
   "id": "364a2f61",
   "metadata": {},
   "outputs": [
    {
     "data": {
      "text/plain": [
       "array([1., 0.])"
      ]
     },
     "execution_count": 5,
     "metadata": {},
     "output_type": "execute_result"
    }
   ],
   "source": [
    "# On regarde la répartition entre les clients autoriser à faire des cédits et ceux qui ne sont pas autorisés :\n",
    "# On cherche les clients susceptible de ne pas rembourser\n",
    "# 0 correspond au client autorisé à faire des crédits\n",
    "# 1 correspond au client non autorisé\n",
    "\n",
    "train_df['TARGET'].unique()"
   ]
  },
  {
   "cell_type": "code",
   "execution_count": 6,
   "id": "1fe0d3c7",
   "metadata": {},
   "outputs": [
    {
     "data": {
      "text/plain": [
       "{0.0: 91.92701304360551, 1.0: 8.07298695639449}"
      ]
     },
     "execution_count": 6,
     "metadata": {},
     "output_type": "execute_result"
    }
   ],
   "source": [
    "# On regarde si il y a une imbalance\n",
    "\n",
    "dict(train_df['TARGET'].value_counts()/len(train_df['TARGET'])*100)"
   ]
  },
  {
   "cell_type": "code",
   "execution_count": 7,
   "id": "9f62cefc",
   "metadata": {},
   "outputs": [
    {
     "data": {
      "text/plain": [
       "CODE_GENDER                        -0.054710\n",
       "FLAG_OWN_CAR                       -0.021850\n",
       "FLAG_OWN_REALTY                     0.006146\n",
       "CNT_CHILDREN                        0.019189\n",
       "AMT_INCOME_TOTAL                   -0.003982\n",
       "                                      ...   \n",
       "CC_NAME_CONTRACT_STATUS_nan_MAX          NaN\n",
       "CC_NAME_CONTRACT_STATUS_nan_MEAN         NaN\n",
       "CC_NAME_CONTRACT_STATUS_nan_SUM          NaN\n",
       "CC_NAME_CONTRACT_STATUS_nan_VAR          NaN\n",
       "CC_COUNT                           -0.060481\n",
       "Length: 795, dtype: float64"
      ]
     },
     "execution_count": 7,
     "metadata": {},
     "output_type": "execute_result"
    }
   ],
   "source": [
    "# On retire les informations qui ne sont pas des features\n",
    "\n",
    "feats = [f for f in train_df.columns if f not in ['TARGET','SK_ID_CURR','SK_ID_BUREAU','SK_ID_PREV','index']]\n",
    "\n",
    "correlation = train_df[feats].corrwith(train_df['TARGET'])\n",
    "correlation"
   ]
  },
  {
   "cell_type": "code",
   "execution_count": 8,
   "id": "0b6a715f",
   "metadata": {
    "scrolled": true
   },
   "outputs": [
    {
     "data": {
      "text/plain": [
       "['EXT_SOURCE_3',\n",
       " 'EXT_SOURCE_2',\n",
       " 'EXT_SOURCE_1',\n",
       " 'CC_CNT_DRAWINGS_ATM_CURRENT_MEAN',\n",
       " 'CC_CNT_DRAWINGS_CURRENT_MAX',\n",
       " 'BURO_DAYS_CREDIT_MEAN',\n",
       " 'CC_AMT_BALANCE_MEAN',\n",
       " 'CC_AMT_TOTAL_RECEIVABLE_MEAN',\n",
       " 'CC_AMT_RECIVABLE_MEAN',\n",
       " 'CC_AMT_RECEIVABLE_PRINCIPAL_MEAN',\n",
       " 'CC_CNT_DRAWINGS_CURRENT_MEAN',\n",
       " 'BURO_MONTHS_BALANCE_SIZE_MEAN',\n",
       " 'BURO_CREDIT_ACTIVE_Closed_MEAN',\n",
       " 'DAYS_BIRTH',\n",
       " 'PREV_NAME_CONTRACT_STATUS_Refused_MEAN',\n",
       " 'BURO_CREDIT_ACTIVE_Active_MEAN',\n",
       " 'BURO_DAYS_CREDIT_MIN',\n",
       " 'DAYS_EMPLOYED',\n",
       " 'PREV_CODE_REJECT_REASON_XAP_MEAN',\n",
       " 'CC_AMT_INST_MIN_REGULARITY_MEAN']"
      ]
     },
     "execution_count": 8,
     "metadata": {},
     "output_type": "execute_result"
    }
   ],
   "source": [
    "feature = list(correlation.abs().sort_values(ascending=False)[:20].index)\n",
    "feature"
   ]
  },
  {
   "cell_type": "code",
   "execution_count": 9,
   "id": "0818ed4c",
   "metadata": {},
   "outputs": [
    {
     "data": {
      "text/html": [
       "<div>\n",
       "<style scoped>\n",
       "    .dataframe tbody tr th:only-of-type {\n",
       "        vertical-align: middle;\n",
       "    }\n",
       "\n",
       "    .dataframe tbody tr th {\n",
       "        vertical-align: top;\n",
       "    }\n",
       "\n",
       "    .dataframe thead th {\n",
       "        text-align: right;\n",
       "    }\n",
       "</style>\n",
       "<table border=\"1\" class=\"dataframe\">\n",
       "  <thead>\n",
       "    <tr style=\"text-align: right;\">\n",
       "      <th></th>\n",
       "      <th>EXT_SOURCE_3</th>\n",
       "      <th>EXT_SOURCE_2</th>\n",
       "      <th>EXT_SOURCE_1</th>\n",
       "      <th>CC_CNT_DRAWINGS_ATM_CURRENT_MEAN</th>\n",
       "      <th>CC_CNT_DRAWINGS_CURRENT_MAX</th>\n",
       "      <th>BURO_DAYS_CREDIT_MEAN</th>\n",
       "      <th>CC_AMT_BALANCE_MEAN</th>\n",
       "      <th>CC_AMT_TOTAL_RECEIVABLE_MEAN</th>\n",
       "      <th>CC_AMT_RECIVABLE_MEAN</th>\n",
       "      <th>CC_AMT_RECEIVABLE_PRINCIPAL_MEAN</th>\n",
       "      <th>CC_CNT_DRAWINGS_CURRENT_MEAN</th>\n",
       "      <th>BURO_MONTHS_BALANCE_SIZE_MEAN</th>\n",
       "      <th>BURO_CREDIT_ACTIVE_Closed_MEAN</th>\n",
       "      <th>DAYS_BIRTH</th>\n",
       "      <th>PREV_NAME_CONTRACT_STATUS_Refused_MEAN</th>\n",
       "      <th>BURO_CREDIT_ACTIVE_Active_MEAN</th>\n",
       "      <th>BURO_DAYS_CREDIT_MIN</th>\n",
       "      <th>DAYS_EMPLOYED</th>\n",
       "      <th>PREV_CODE_REJECT_REASON_XAP_MEAN</th>\n",
       "      <th>CC_AMT_INST_MIN_REGULARITY_MEAN</th>\n",
       "    </tr>\n",
       "  </thead>\n",
       "  <tbody>\n",
       "    <tr>\n",
       "      <th>36</th>\n",
       "      <td>0.754406</td>\n",
       "      <td>0.681699</td>\n",
       "      <td>0.842763</td>\n",
       "      <td>0.060606</td>\n",
       "      <td>10.0</td>\n",
       "      <td>-1904.000000</td>\n",
       "      <td>208572.600000</td>\n",
       "      <td>208397.449091</td>\n",
       "      <td>208397.449091</td>\n",
       "      <td>203647.547727</td>\n",
       "      <td>0.363636</td>\n",
       "      <td>2.000000</td>\n",
       "      <td>1.000000</td>\n",
       "      <td>-17199</td>\n",
       "      <td>0.555556</td>\n",
       "      <td>0.000000</td>\n",
       "      <td>-2639.0</td>\n",
       "      <td>-768.0</td>\n",
       "      <td>0.444444</td>\n",
       "      <td>11279.115000</td>\n",
       "    </tr>\n",
       "    <tr>\n",
       "      <th>85</th>\n",
       "      <td>0.824595</td>\n",
       "      <td>0.495765</td>\n",
       "      <td>0.447675</td>\n",
       "      <td>0.191489</td>\n",
       "      <td>2.0</td>\n",
       "      <td>-1866.400000</td>\n",
       "      <td>40102.360851</td>\n",
       "      <td>40075.166968</td>\n",
       "      <td>40075.166968</td>\n",
       "      <td>38209.465053</td>\n",
       "      <td>0.212766</td>\n",
       "      <td>32.400000</td>\n",
       "      <td>1.000000</td>\n",
       "      <td>-15909</td>\n",
       "      <td>0.000000</td>\n",
       "      <td>0.000000</td>\n",
       "      <td>-2830.0</td>\n",
       "      <td>-1094.0</td>\n",
       "      <td>1.000000</td>\n",
       "      <td>2713.067903</td>\n",
       "    </tr>\n",
       "    <tr>\n",
       "      <th>111</th>\n",
       "      <td>0.452534</td>\n",
       "      <td>0.707972</td>\n",
       "      <td>0.339403</td>\n",
       "      <td>1.625000</td>\n",
       "      <td>10.0</td>\n",
       "      <td>-690.500000</td>\n",
       "      <td>239297.514375</td>\n",
       "      <td>236263.530000</td>\n",
       "      <td>236263.530000</td>\n",
       "      <td>229597.291875</td>\n",
       "      <td>3.125000</td>\n",
       "      <td>21.000000</td>\n",
       "      <td>0.000000</td>\n",
       "      <td>-13830</td>\n",
       "      <td>0.000000</td>\n",
       "      <td>1.000000</td>\n",
       "      <td>-875.0</td>\n",
       "      <td>-1169.0</td>\n",
       "      <td>1.000000</td>\n",
       "      <td>10370.178750</td>\n",
       "    </tr>\n",
       "    <tr>\n",
       "      <th>119</th>\n",
       "      <td>0.096319</td>\n",
       "      <td>0.601408</td>\n",
       "      <td>0.567775</td>\n",
       "      <td>1.066667</td>\n",
       "      <td>7.0</td>\n",
       "      <td>-733.500000</td>\n",
       "      <td>192715.035600</td>\n",
       "      <td>192650.827200</td>\n",
       "      <td>192650.827200</td>\n",
       "      <td>181626.355200</td>\n",
       "      <td>1.266667</td>\n",
       "      <td>8.000000</td>\n",
       "      <td>0.500000</td>\n",
       "      <td>-13286</td>\n",
       "      <td>0.272727</td>\n",
       "      <td>0.500000</td>\n",
       "      <td>-1252.0</td>\n",
       "      <td>-2305.0</td>\n",
       "      <td>0.636364</td>\n",
       "      <td>9687.838378</td>\n",
       "    </tr>\n",
       "    <tr>\n",
       "      <th>124</th>\n",
       "      <td>0.739412</td>\n",
       "      <td>0.746486</td>\n",
       "      <td>0.647045</td>\n",
       "      <td>0.000000</td>\n",
       "      <td>0.0</td>\n",
       "      <td>-1489.714286</td>\n",
       "      <td>1614.429844</td>\n",
       "      <td>1587.911719</td>\n",
       "      <td>1587.911719</td>\n",
       "      <td>1545.474844</td>\n",
       "      <td>0.000000</td>\n",
       "      <td>46.285714</td>\n",
       "      <td>0.571429</td>\n",
       "      <td>-16282</td>\n",
       "      <td>0.166667</td>\n",
       "      <td>0.428571</td>\n",
       "      <td>-2857.0</td>\n",
       "      <td>-4375.0</td>\n",
       "      <td>0.833333</td>\n",
       "      <td>254.476875</td>\n",
       "    </tr>\n",
       "    <tr>\n",
       "      <th>...</th>\n",
       "      <td>...</td>\n",
       "      <td>...</td>\n",
       "      <td>...</td>\n",
       "      <td>...</td>\n",
       "      <td>...</td>\n",
       "      <td>...</td>\n",
       "      <td>...</td>\n",
       "      <td>...</td>\n",
       "      <td>...</td>\n",
       "      <td>...</td>\n",
       "      <td>...</td>\n",
       "      <td>...</td>\n",
       "      <td>...</td>\n",
       "      <td>...</td>\n",
       "      <td>...</td>\n",
       "      <td>...</td>\n",
       "      <td>...</td>\n",
       "      <td>...</td>\n",
       "      <td>...</td>\n",
       "      <td>...</td>\n",
       "    </tr>\n",
       "    <tr>\n",
       "      <th>307469</th>\n",
       "      <td>0.565608</td>\n",
       "      <td>0.264486</td>\n",
       "      <td>0.585450</td>\n",
       "      <td>0.441176</td>\n",
       "      <td>8.0</td>\n",
       "      <td>-1375.727273</td>\n",
       "      <td>246443.762647</td>\n",
       "      <td>247080.352500</td>\n",
       "      <td>247080.352500</td>\n",
       "      <td>239288.582647</td>\n",
       "      <td>0.441176</td>\n",
       "      <td>45.636364</td>\n",
       "      <td>0.818182</td>\n",
       "      <td>-14589</td>\n",
       "      <td>0.000000</td>\n",
       "      <td>0.181818</td>\n",
       "      <td>-2216.0</td>\n",
       "      <td>-2145.0</td>\n",
       "      <td>1.000000</td>\n",
       "      <td>12882.023182</td>\n",
       "    </tr>\n",
       "    <tr>\n",
       "      <th>307471</th>\n",
       "      <td>0.424130</td>\n",
       "      <td>0.583214</td>\n",
       "      <td>0.634729</td>\n",
       "      <td>0.000000</td>\n",
       "      <td>0.0</td>\n",
       "      <td>-1082.900000</td>\n",
       "      <td>5511.337660</td>\n",
       "      <td>5440.027979</td>\n",
       "      <td>5440.027979</td>\n",
       "      <td>5268.558830</td>\n",
       "      <td>0.000000</td>\n",
       "      <td>25.700000</td>\n",
       "      <td>0.600000</td>\n",
       "      <td>-13416</td>\n",
       "      <td>0.181818</td>\n",
       "      <td>0.400000</td>\n",
       "      <td>-2624.0</td>\n",
       "      <td>-2405.0</td>\n",
       "      <td>0.818182</td>\n",
       "      <td>453.269681</td>\n",
       "    </tr>\n",
       "    <tr>\n",
       "      <th>307475</th>\n",
       "      <td>0.352340</td>\n",
       "      <td>0.226036</td>\n",
       "      <td>0.407174</td>\n",
       "      <td>0.700000</td>\n",
       "      <td>15.0</td>\n",
       "      <td>-664.000000</td>\n",
       "      <td>72884.079000</td>\n",
       "      <td>71516.529000</td>\n",
       "      <td>71516.529000</td>\n",
       "      <td>68680.174500</td>\n",
       "      <td>3.800000</td>\n",
       "      <td>19.875000</td>\n",
       "      <td>0.625000</td>\n",
       "      <td>-13346</td>\n",
       "      <td>0.000000</td>\n",
       "      <td>0.375000</td>\n",
       "      <td>-1450.0</td>\n",
       "      <td>-1972.0</td>\n",
       "      <td>1.000000</td>\n",
       "      <td>3189.397500</td>\n",
       "    </tr>\n",
       "    <tr>\n",
       "      <th>307496</th>\n",
       "      <td>0.337673</td>\n",
       "      <td>0.789389</td>\n",
       "      <td>0.896042</td>\n",
       "      <td>1.048780</td>\n",
       "      <td>8.0</td>\n",
       "      <td>-1740.956522</td>\n",
       "      <td>131834.730732</td>\n",
       "      <td>130767.060732</td>\n",
       "      <td>130767.060732</td>\n",
       "      <td>127608.373537</td>\n",
       "      <td>1.365854</td>\n",
       "      <td>48.608696</td>\n",
       "      <td>0.826087</td>\n",
       "      <td>-20390</td>\n",
       "      <td>0.055556</td>\n",
       "      <td>0.173913</td>\n",
       "      <td>-2906.0</td>\n",
       "      <td>-5326.0</td>\n",
       "      <td>0.944444</td>\n",
       "      <td>6514.200000</td>\n",
       "    </tr>\n",
       "    <tr>\n",
       "      <th>307499</th>\n",
       "      <td>0.609276</td>\n",
       "      <td>0.501221</td>\n",
       "      <td>0.243466</td>\n",
       "      <td>0.115789</td>\n",
       "      <td>4.0</td>\n",
       "      <td>-1043.181818</td>\n",
       "      <td>23216.396211</td>\n",
       "      <td>23128.243105</td>\n",
       "      <td>23128.243105</td>\n",
       "      <td>22100.653895</td>\n",
       "      <td>0.147368</td>\n",
       "      <td>29.090909</td>\n",
       "      <td>0.727273</td>\n",
       "      <td>-11870</td>\n",
       "      <td>0.200000</td>\n",
       "      <td>0.272727</td>\n",
       "      <td>-2482.0</td>\n",
       "      <td>-399.0</td>\n",
       "      <td>0.800000</td>\n",
       "      <td>1414.704789</td>\n",
       "    </tr>\n",
       "  </tbody>\n",
       "</table>\n",
       "<p>9433 rows × 20 columns</p>\n",
       "</div>"
      ],
      "text/plain": [
       "        EXT_SOURCE_3  EXT_SOURCE_2  EXT_SOURCE_1  \\\n",
       "36          0.754406      0.681699      0.842763   \n",
       "85          0.824595      0.495765      0.447675   \n",
       "111         0.452534      0.707972      0.339403   \n",
       "119         0.096319      0.601408      0.567775   \n",
       "124         0.739412      0.746486      0.647045   \n",
       "...              ...           ...           ...   \n",
       "307469      0.565608      0.264486      0.585450   \n",
       "307471      0.424130      0.583214      0.634729   \n",
       "307475      0.352340      0.226036      0.407174   \n",
       "307496      0.337673      0.789389      0.896042   \n",
       "307499      0.609276      0.501221      0.243466   \n",
       "\n",
       "        CC_CNT_DRAWINGS_ATM_CURRENT_MEAN  CC_CNT_DRAWINGS_CURRENT_MAX  \\\n",
       "36                              0.060606                         10.0   \n",
       "85                              0.191489                          2.0   \n",
       "111                             1.625000                         10.0   \n",
       "119                             1.066667                          7.0   \n",
       "124                             0.000000                          0.0   \n",
       "...                                  ...                          ...   \n",
       "307469                          0.441176                          8.0   \n",
       "307471                          0.000000                          0.0   \n",
       "307475                          0.700000                         15.0   \n",
       "307496                          1.048780                          8.0   \n",
       "307499                          0.115789                          4.0   \n",
       "\n",
       "        BURO_DAYS_CREDIT_MEAN  CC_AMT_BALANCE_MEAN  \\\n",
       "36               -1904.000000        208572.600000   \n",
       "85               -1866.400000         40102.360851   \n",
       "111               -690.500000        239297.514375   \n",
       "119               -733.500000        192715.035600   \n",
       "124              -1489.714286          1614.429844   \n",
       "...                       ...                  ...   \n",
       "307469           -1375.727273        246443.762647   \n",
       "307471           -1082.900000          5511.337660   \n",
       "307475            -664.000000         72884.079000   \n",
       "307496           -1740.956522        131834.730732   \n",
       "307499           -1043.181818         23216.396211   \n",
       "\n",
       "        CC_AMT_TOTAL_RECEIVABLE_MEAN  CC_AMT_RECIVABLE_MEAN  \\\n",
       "36                     208397.449091          208397.449091   \n",
       "85                      40075.166968           40075.166968   \n",
       "111                    236263.530000          236263.530000   \n",
       "119                    192650.827200          192650.827200   \n",
       "124                      1587.911719            1587.911719   \n",
       "...                              ...                    ...   \n",
       "307469                 247080.352500          247080.352500   \n",
       "307471                   5440.027979            5440.027979   \n",
       "307475                  71516.529000           71516.529000   \n",
       "307496                 130767.060732          130767.060732   \n",
       "307499                  23128.243105           23128.243105   \n",
       "\n",
       "        CC_AMT_RECEIVABLE_PRINCIPAL_MEAN  CC_CNT_DRAWINGS_CURRENT_MEAN  \\\n",
       "36                         203647.547727                      0.363636   \n",
       "85                          38209.465053                      0.212766   \n",
       "111                        229597.291875                      3.125000   \n",
       "119                        181626.355200                      1.266667   \n",
       "124                          1545.474844                      0.000000   \n",
       "...                                  ...                           ...   \n",
       "307469                     239288.582647                      0.441176   \n",
       "307471                       5268.558830                      0.000000   \n",
       "307475                      68680.174500                      3.800000   \n",
       "307496                     127608.373537                      1.365854   \n",
       "307499                      22100.653895                      0.147368   \n",
       "\n",
       "        BURO_MONTHS_BALANCE_SIZE_MEAN  BURO_CREDIT_ACTIVE_Closed_MEAN  \\\n",
       "36                           2.000000                        1.000000   \n",
       "85                          32.400000                        1.000000   \n",
       "111                         21.000000                        0.000000   \n",
       "119                          8.000000                        0.500000   \n",
       "124                         46.285714                        0.571429   \n",
       "...                               ...                             ...   \n",
       "307469                      45.636364                        0.818182   \n",
       "307471                      25.700000                        0.600000   \n",
       "307475                      19.875000                        0.625000   \n",
       "307496                      48.608696                        0.826087   \n",
       "307499                      29.090909                        0.727273   \n",
       "\n",
       "        DAYS_BIRTH  PREV_NAME_CONTRACT_STATUS_Refused_MEAN  \\\n",
       "36          -17199                                0.555556   \n",
       "85          -15909                                0.000000   \n",
       "111         -13830                                0.000000   \n",
       "119         -13286                                0.272727   \n",
       "124         -16282                                0.166667   \n",
       "...            ...                                     ...   \n",
       "307469      -14589                                0.000000   \n",
       "307471      -13416                                0.181818   \n",
       "307475      -13346                                0.000000   \n",
       "307496      -20390                                0.055556   \n",
       "307499      -11870                                0.200000   \n",
       "\n",
       "        BURO_CREDIT_ACTIVE_Active_MEAN  BURO_DAYS_CREDIT_MIN  DAYS_EMPLOYED  \\\n",
       "36                            0.000000               -2639.0         -768.0   \n",
       "85                            0.000000               -2830.0        -1094.0   \n",
       "111                           1.000000                -875.0        -1169.0   \n",
       "119                           0.500000               -1252.0        -2305.0   \n",
       "124                           0.428571               -2857.0        -4375.0   \n",
       "...                                ...                   ...            ...   \n",
       "307469                        0.181818               -2216.0        -2145.0   \n",
       "307471                        0.400000               -2624.0        -2405.0   \n",
       "307475                        0.375000               -1450.0        -1972.0   \n",
       "307496                        0.173913               -2906.0        -5326.0   \n",
       "307499                        0.272727               -2482.0         -399.0   \n",
       "\n",
       "        PREV_CODE_REJECT_REASON_XAP_MEAN  CC_AMT_INST_MIN_REGULARITY_MEAN  \n",
       "36                              0.444444                     11279.115000  \n",
       "85                              1.000000                      2713.067903  \n",
       "111                             1.000000                     10370.178750  \n",
       "119                             0.636364                      9687.838378  \n",
       "124                             0.833333                       254.476875  \n",
       "...                                  ...                              ...  \n",
       "307469                          1.000000                     12882.023182  \n",
       "307471                          0.818182                       453.269681  \n",
       "307475                          1.000000                      3189.397500  \n",
       "307496                          0.944444                      6514.200000  \n",
       "307499                          0.800000                      1414.704789  \n",
       "\n",
       "[9433 rows x 20 columns]"
      ]
     },
     "execution_count": 9,
     "metadata": {},
     "output_type": "execute_result"
    }
   ],
   "source": [
    "train_df[feature].dropna()"
   ]
  },
  {
   "cell_type": "markdown",
   "id": "bfea6899",
   "metadata": {},
   "source": [
    "# Imbalance"
   ]
  },
  {
   "cell_type": "markdown",
   "id": "01a9bc3b",
   "metadata": {},
   "source": [
    "Il faut que l'on s'occuppe de l'imbalance entre les deux classes de la Target"
   ]
  },
  {
   "cell_type": "code",
   "execution_count": 10,
   "id": "0c1676bb",
   "metadata": {},
   "outputs": [
    {
     "data": {
      "text/html": [
       "<div>\n",
       "<style scoped>\n",
       "    .dataframe tbody tr th:only-of-type {\n",
       "        vertical-align: middle;\n",
       "    }\n",
       "\n",
       "    .dataframe tbody tr th {\n",
       "        vertical-align: top;\n",
       "    }\n",
       "\n",
       "    .dataframe thead th {\n",
       "        text-align: right;\n",
       "    }\n",
       "</style>\n",
       "<table border=\"1\" class=\"dataframe\">\n",
       "  <thead>\n",
       "    <tr style=\"text-align: right;\">\n",
       "      <th></th>\n",
       "      <th>index</th>\n",
       "      <th>SK_ID_CURR</th>\n",
       "      <th>TARGET</th>\n",
       "      <th>CODE_GENDER</th>\n",
       "      <th>FLAG_OWN_CAR</th>\n",
       "      <th>FLAG_OWN_REALTY</th>\n",
       "      <th>CNT_CHILDREN</th>\n",
       "      <th>AMT_INCOME_TOTAL</th>\n",
       "      <th>AMT_CREDIT</th>\n",
       "      <th>AMT_ANNUITY</th>\n",
       "      <th>...</th>\n",
       "      <th>CC_NAME_CONTRACT_STATUS_Signed_MAX</th>\n",
       "      <th>CC_NAME_CONTRACT_STATUS_Signed_MEAN</th>\n",
       "      <th>CC_NAME_CONTRACT_STATUS_Signed_SUM</th>\n",
       "      <th>CC_NAME_CONTRACT_STATUS_Signed_VAR</th>\n",
       "      <th>CC_NAME_CONTRACT_STATUS_nan_MIN</th>\n",
       "      <th>CC_NAME_CONTRACT_STATUS_nan_MAX</th>\n",
       "      <th>CC_NAME_CONTRACT_STATUS_nan_MEAN</th>\n",
       "      <th>CC_NAME_CONTRACT_STATUS_nan_SUM</th>\n",
       "      <th>CC_NAME_CONTRACT_STATUS_nan_VAR</th>\n",
       "      <th>CC_COUNT</th>\n",
       "    </tr>\n",
       "  </thead>\n",
       "  <tbody>\n",
       "    <tr>\n",
       "      <th>36</th>\n",
       "      <td>36</td>\n",
       "      <td>100043</td>\n",
       "      <td>0.0</td>\n",
       "      <td>1</td>\n",
       "      <td>0</td>\n",
       "      <td>0</td>\n",
       "      <td>2</td>\n",
       "      <td>198000.0</td>\n",
       "      <td>641173.5</td>\n",
       "      <td>23157.0</td>\n",
       "      <td>...</td>\n",
       "      <td>0.0</td>\n",
       "      <td>0.000000</td>\n",
       "      <td>0.0</td>\n",
       "      <td>0.000000</td>\n",
       "      <td>0.0</td>\n",
       "      <td>0.0</td>\n",
       "      <td>0.0</td>\n",
       "      <td>0.0</td>\n",
       "      <td>0.0</td>\n",
       "      <td>33.0</td>\n",
       "    </tr>\n",
       "    <tr>\n",
       "      <th>85</th>\n",
       "      <td>85</td>\n",
       "      <td>100100</td>\n",
       "      <td>0.0</td>\n",
       "      <td>0</td>\n",
       "      <td>1</td>\n",
       "      <td>0</td>\n",
       "      <td>2</td>\n",
       "      <td>202500.0</td>\n",
       "      <td>796396.5</td>\n",
       "      <td>38443.5</td>\n",
       "      <td>...</td>\n",
       "      <td>1.0</td>\n",
       "      <td>0.031915</td>\n",
       "      <td>3.0</td>\n",
       "      <td>0.031229</td>\n",
       "      <td>0.0</td>\n",
       "      <td>0.0</td>\n",
       "      <td>0.0</td>\n",
       "      <td>0.0</td>\n",
       "      <td>0.0</td>\n",
       "      <td>94.0</td>\n",
       "    </tr>\n",
       "    <tr>\n",
       "      <th>111</th>\n",
       "      <td>111</td>\n",
       "      <td>100131</td>\n",
       "      <td>0.0</td>\n",
       "      <td>1</td>\n",
       "      <td>0</td>\n",
       "      <td>0</td>\n",
       "      <td>0</td>\n",
       "      <td>270000.0</td>\n",
       "      <td>891072.0</td>\n",
       "      <td>45625.5</td>\n",
       "      <td>...</td>\n",
       "      <td>0.0</td>\n",
       "      <td>0.000000</td>\n",
       "      <td>0.0</td>\n",
       "      <td>0.000000</td>\n",
       "      <td>0.0</td>\n",
       "      <td>0.0</td>\n",
       "      <td>0.0</td>\n",
       "      <td>0.0</td>\n",
       "      <td>0.0</td>\n",
       "      <td>24.0</td>\n",
       "    </tr>\n",
       "    <tr>\n",
       "      <th>119</th>\n",
       "      <td>119</td>\n",
       "      <td>100139</td>\n",
       "      <td>0.0</td>\n",
       "      <td>1</td>\n",
       "      <td>0</td>\n",
       "      <td>1</td>\n",
       "      <td>1</td>\n",
       "      <td>157500.0</td>\n",
       "      <td>302341.5</td>\n",
       "      <td>24016.5</td>\n",
       "      <td>...</td>\n",
       "      <td>0.0</td>\n",
       "      <td>0.000000</td>\n",
       "      <td>0.0</td>\n",
       "      <td>0.000000</td>\n",
       "      <td>0.0</td>\n",
       "      <td>0.0</td>\n",
       "      <td>0.0</td>\n",
       "      <td>0.0</td>\n",
       "      <td>0.0</td>\n",
       "      <td>75.0</td>\n",
       "    </tr>\n",
       "    <tr>\n",
       "      <th>124</th>\n",
       "      <td>124</td>\n",
       "      <td>100145</td>\n",
       "      <td>0.0</td>\n",
       "      <td>1</td>\n",
       "      <td>1</td>\n",
       "      <td>0</td>\n",
       "      <td>1</td>\n",
       "      <td>202500.0</td>\n",
       "      <td>260725.5</td>\n",
       "      <td>16789.5</td>\n",
       "      <td>...</td>\n",
       "      <td>0.0</td>\n",
       "      <td>0.000000</td>\n",
       "      <td>0.0</td>\n",
       "      <td>0.000000</td>\n",
       "      <td>0.0</td>\n",
       "      <td>0.0</td>\n",
       "      <td>0.0</td>\n",
       "      <td>0.0</td>\n",
       "      <td>0.0</td>\n",
       "      <td>96.0</td>\n",
       "    </tr>\n",
       "    <tr>\n",
       "      <th>...</th>\n",
       "      <td>...</td>\n",
       "      <td>...</td>\n",
       "      <td>...</td>\n",
       "      <td>...</td>\n",
       "      <td>...</td>\n",
       "      <td>...</td>\n",
       "      <td>...</td>\n",
       "      <td>...</td>\n",
       "      <td>...</td>\n",
       "      <td>...</td>\n",
       "      <td>...</td>\n",
       "      <td>...</td>\n",
       "      <td>...</td>\n",
       "      <td>...</td>\n",
       "      <td>...</td>\n",
       "      <td>...</td>\n",
       "      <td>...</td>\n",
       "      <td>...</td>\n",
       "      <td>...</td>\n",
       "      <td>...</td>\n",
       "      <td>...</td>\n",
       "    </tr>\n",
       "    <tr>\n",
       "      <th>307469</th>\n",
       "      <td>307473</td>\n",
       "      <td>456213</td>\n",
       "      <td>0.0</td>\n",
       "      <td>1</td>\n",
       "      <td>1</td>\n",
       "      <td>0</td>\n",
       "      <td>1</td>\n",
       "      <td>90000.0</td>\n",
       "      <td>258709.5</td>\n",
       "      <td>20439.0</td>\n",
       "      <td>...</td>\n",
       "      <td>0.0</td>\n",
       "      <td>0.000000</td>\n",
       "      <td>0.0</td>\n",
       "      <td>0.000000</td>\n",
       "      <td>0.0</td>\n",
       "      <td>0.0</td>\n",
       "      <td>0.0</td>\n",
       "      <td>0.0</td>\n",
       "      <td>0.0</td>\n",
       "      <td>34.0</td>\n",
       "    </tr>\n",
       "    <tr>\n",
       "      <th>307471</th>\n",
       "      <td>307475</td>\n",
       "      <td>456215</td>\n",
       "      <td>1.0</td>\n",
       "      <td>1</td>\n",
       "      <td>0</td>\n",
       "      <td>1</td>\n",
       "      <td>1</td>\n",
       "      <td>144000.0</td>\n",
       "      <td>1303200.0</td>\n",
       "      <td>46809.0</td>\n",
       "      <td>...</td>\n",
       "      <td>0.0</td>\n",
       "      <td>0.000000</td>\n",
       "      <td>0.0</td>\n",
       "      <td>0.000000</td>\n",
       "      <td>0.0</td>\n",
       "      <td>0.0</td>\n",
       "      <td>0.0</td>\n",
       "      <td>0.0</td>\n",
       "      <td>0.0</td>\n",
       "      <td>94.0</td>\n",
       "    </tr>\n",
       "    <tr>\n",
       "      <th>307475</th>\n",
       "      <td>307479</td>\n",
       "      <td>456219</td>\n",
       "      <td>0.0</td>\n",
       "      <td>1</td>\n",
       "      <td>0</td>\n",
       "      <td>0</td>\n",
       "      <td>1</td>\n",
       "      <td>112500.0</td>\n",
       "      <td>521280.0</td>\n",
       "      <td>31630.5</td>\n",
       "      <td>...</td>\n",
       "      <td>0.0</td>\n",
       "      <td>0.000000</td>\n",
       "      <td>0.0</td>\n",
       "      <td>0.000000</td>\n",
       "      <td>0.0</td>\n",
       "      <td>0.0</td>\n",
       "      <td>0.0</td>\n",
       "      <td>0.0</td>\n",
       "      <td>0.0</td>\n",
       "      <td>10.0</td>\n",
       "    </tr>\n",
       "    <tr>\n",
       "      <th>307496</th>\n",
       "      <td>307500</td>\n",
       "      <td>456244</td>\n",
       "      <td>0.0</td>\n",
       "      <td>1</td>\n",
       "      <td>0</td>\n",
       "      <td>0</td>\n",
       "      <td>0</td>\n",
       "      <td>261000.0</td>\n",
       "      <td>1303812.0</td>\n",
       "      <td>35982.0</td>\n",
       "      <td>...</td>\n",
       "      <td>0.0</td>\n",
       "      <td>0.000000</td>\n",
       "      <td>0.0</td>\n",
       "      <td>0.000000</td>\n",
       "      <td>0.0</td>\n",
       "      <td>0.0</td>\n",
       "      <td>0.0</td>\n",
       "      <td>0.0</td>\n",
       "      <td>0.0</td>\n",
       "      <td>41.0</td>\n",
       "    </tr>\n",
       "    <tr>\n",
       "      <th>307499</th>\n",
       "      <td>307503</td>\n",
       "      <td>456247</td>\n",
       "      <td>0.0</td>\n",
       "      <td>1</td>\n",
       "      <td>0</td>\n",
       "      <td>0</td>\n",
       "      <td>0</td>\n",
       "      <td>112500.0</td>\n",
       "      <td>345510.0</td>\n",
       "      <td>17770.5</td>\n",
       "      <td>...</td>\n",
       "      <td>0.0</td>\n",
       "      <td>0.000000</td>\n",
       "      <td>0.0</td>\n",
       "      <td>0.000000</td>\n",
       "      <td>0.0</td>\n",
       "      <td>0.0</td>\n",
       "      <td>0.0</td>\n",
       "      <td>0.0</td>\n",
       "      <td>0.0</td>\n",
       "      <td>95.0</td>\n",
       "    </tr>\n",
       "  </tbody>\n",
       "</table>\n",
       "<p>9433 rows × 798 columns</p>\n",
       "</div>"
      ],
      "text/plain": [
       "         index  SK_ID_CURR  TARGET  CODE_GENDER  FLAG_OWN_CAR  \\\n",
       "36          36      100043     0.0            1             0   \n",
       "85          85      100100     0.0            0             1   \n",
       "111        111      100131     0.0            1             0   \n",
       "119        119      100139     0.0            1             0   \n",
       "124        124      100145     0.0            1             1   \n",
       "...        ...         ...     ...          ...           ...   \n",
       "307469  307473      456213     0.0            1             1   \n",
       "307471  307475      456215     1.0            1             0   \n",
       "307475  307479      456219     0.0            1             0   \n",
       "307496  307500      456244     0.0            1             0   \n",
       "307499  307503      456247     0.0            1             0   \n",
       "\n",
       "        FLAG_OWN_REALTY  CNT_CHILDREN  AMT_INCOME_TOTAL  AMT_CREDIT  \\\n",
       "36                    0             2          198000.0    641173.5   \n",
       "85                    0             2          202500.0    796396.5   \n",
       "111                   0             0          270000.0    891072.0   \n",
       "119                   1             1          157500.0    302341.5   \n",
       "124                   0             1          202500.0    260725.5   \n",
       "...                 ...           ...               ...         ...   \n",
       "307469                0             1           90000.0    258709.5   \n",
       "307471                1             1          144000.0   1303200.0   \n",
       "307475                0             1          112500.0    521280.0   \n",
       "307496                0             0          261000.0   1303812.0   \n",
       "307499                0             0          112500.0    345510.0   \n",
       "\n",
       "        AMT_ANNUITY  ...  CC_NAME_CONTRACT_STATUS_Signed_MAX  \\\n",
       "36          23157.0  ...                                 0.0   \n",
       "85          38443.5  ...                                 1.0   \n",
       "111         45625.5  ...                                 0.0   \n",
       "119         24016.5  ...                                 0.0   \n",
       "124         16789.5  ...                                 0.0   \n",
       "...             ...  ...                                 ...   \n",
       "307469      20439.0  ...                                 0.0   \n",
       "307471      46809.0  ...                                 0.0   \n",
       "307475      31630.5  ...                                 0.0   \n",
       "307496      35982.0  ...                                 0.0   \n",
       "307499      17770.5  ...                                 0.0   \n",
       "\n",
       "        CC_NAME_CONTRACT_STATUS_Signed_MEAN  \\\n",
       "36                                 0.000000   \n",
       "85                                 0.031915   \n",
       "111                                0.000000   \n",
       "119                                0.000000   \n",
       "124                                0.000000   \n",
       "...                                     ...   \n",
       "307469                             0.000000   \n",
       "307471                             0.000000   \n",
       "307475                             0.000000   \n",
       "307496                             0.000000   \n",
       "307499                             0.000000   \n",
       "\n",
       "        CC_NAME_CONTRACT_STATUS_Signed_SUM  \\\n",
       "36                                     0.0   \n",
       "85                                     3.0   \n",
       "111                                    0.0   \n",
       "119                                    0.0   \n",
       "124                                    0.0   \n",
       "...                                    ...   \n",
       "307469                                 0.0   \n",
       "307471                                 0.0   \n",
       "307475                                 0.0   \n",
       "307496                                 0.0   \n",
       "307499                                 0.0   \n",
       "\n",
       "        CC_NAME_CONTRACT_STATUS_Signed_VAR  CC_NAME_CONTRACT_STATUS_nan_MIN  \\\n",
       "36                                0.000000                              0.0   \n",
       "85                                0.031229                              0.0   \n",
       "111                               0.000000                              0.0   \n",
       "119                               0.000000                              0.0   \n",
       "124                               0.000000                              0.0   \n",
       "...                                    ...                              ...   \n",
       "307469                            0.000000                              0.0   \n",
       "307471                            0.000000                              0.0   \n",
       "307475                            0.000000                              0.0   \n",
       "307496                            0.000000                              0.0   \n",
       "307499                            0.000000                              0.0   \n",
       "\n",
       "        CC_NAME_CONTRACT_STATUS_nan_MAX  CC_NAME_CONTRACT_STATUS_nan_MEAN  \\\n",
       "36                                  0.0                               0.0   \n",
       "85                                  0.0                               0.0   \n",
       "111                                 0.0                               0.0   \n",
       "119                                 0.0                               0.0   \n",
       "124                                 0.0                               0.0   \n",
       "...                                 ...                               ...   \n",
       "307469                              0.0                               0.0   \n",
       "307471                              0.0                               0.0   \n",
       "307475                              0.0                               0.0   \n",
       "307496                              0.0                               0.0   \n",
       "307499                              0.0                               0.0   \n",
       "\n",
       "        CC_NAME_CONTRACT_STATUS_nan_SUM  CC_NAME_CONTRACT_STATUS_nan_VAR  \\\n",
       "36                                  0.0                              0.0   \n",
       "85                                  0.0                              0.0   \n",
       "111                                 0.0                              0.0   \n",
       "119                                 0.0                              0.0   \n",
       "124                                 0.0                              0.0   \n",
       "...                                 ...                              ...   \n",
       "307469                              0.0                              0.0   \n",
       "307471                              0.0                              0.0   \n",
       "307475                              0.0                              0.0   \n",
       "307496                              0.0                              0.0   \n",
       "307499                              0.0                              0.0   \n",
       "\n",
       "        CC_COUNT  \n",
       "36          33.0  \n",
       "85          94.0  \n",
       "111         24.0  \n",
       "119         75.0  \n",
       "124         96.0  \n",
       "...          ...  \n",
       "307469      34.0  \n",
       "307471      94.0  \n",
       "307475      10.0  \n",
       "307496      41.0  \n",
       "307499      95.0  \n",
       "\n",
       "[9433 rows x 798 columns]"
      ]
     },
     "execution_count": 10,
     "metadata": {},
     "output_type": "execute_result"
    }
   ],
   "source": [
    "train_rdy = train_df.dropna(subset = feature)\n",
    "train_rdy"
   ]
  },
  {
   "cell_type": "code",
   "execution_count": 11,
   "id": "91cdba35",
   "metadata": {},
   "outputs": [
    {
     "data": {
      "text/plain": [
       "{0.0: 90.37421817025336, 1.0: 9.625781829746634}"
      ]
     },
     "execution_count": 11,
     "metadata": {},
     "output_type": "execute_result"
    }
   ],
   "source": [
    "# On vérifie que l'imbalance n'a pas trop changé après le dropna\n",
    "\n",
    "dict(train_rdy['TARGET'].value_counts()/len(train_rdy['TARGET'])*100)"
   ]
  },
  {
   "cell_type": "code",
   "execution_count": 12,
   "id": "59aa18e2",
   "metadata": {},
   "outputs": [],
   "source": [
    "# On récupère notre x et notre y\n",
    "\n",
    "X = train_rdy[feature]\n",
    "y = train_rdy['TARGET']"
   ]
  },
  {
   "cell_type": "code",
   "execution_count": 13,
   "id": "94e08489",
   "metadata": {},
   "outputs": [],
   "source": [
    "from sklearn.model_selection import train_test_split\n",
    "\n",
    "# On prend un X_train et y_train\n",
    "\n",
    "X_train, X_test, y_train, y_test = train_test_split(X,y,test_size=0.2,random_state = 0)"
   ]
  },
  {
   "cell_type": "code",
   "execution_count": 14,
   "id": "8399a419",
   "metadata": {},
   "outputs": [
    {
     "name": "stdout",
     "output_type": "stream",
     "text": [
      "original dataset shape:\n",
      " 0.0    90.374218\n",
      "1.0     9.625782\n",
      "Name: TARGET, dtype: float64\n",
      "Resample dataset shape:\n",
      " 0.0    50.0\n",
      "1.0    50.0\n",
      "Name: TARGET, dtype: float64\n"
     ]
    }
   ],
   "source": [
    "# import library\n",
    "from imblearn.over_sampling import SMOTE\n",
    "\n",
    "# On teste le SMOTE. On utilisera un pipeline plus tard pour s'assurer que tout va bien\n",
    "\n",
    "smote = SMOTE()\n",
    "\n",
    "# fit predictor and target variable\n",
    "X_smote, y_smote = smote.fit_resample(X_train, y_train)\n",
    "\n",
    "print('original dataset shape:\\n', y.value_counts()/len(y)*100)\n",
    "print('Resample dataset shape:\\n', y_smote.value_counts()/len(y_smote)*100)"
   ]
  },
  {
   "cell_type": "markdown",
   "id": "84fbdd3e",
   "metadata": {},
   "source": [
    "# Gridsearch"
   ]
  },
  {
   "cell_type": "code",
   "execution_count": 15,
   "id": "8eb68975",
   "metadata": {},
   "outputs": [],
   "source": [
    "# Score\n",
    "from sklearn.metrics import fbeta_score, make_scorer, roc_auc_score\n",
    "\n",
    "#Pipeline\n",
    "from imblearn.pipeline import Pipeline\n",
    "\n",
    "# Gridsearch\n",
    "\n",
    "from sklearn.model_selection import GridSearchCV\n",
    "from sklearn.model_selection import RandomizedSearchCV\n",
    "\n",
    "# Classifier\n",
    "\n",
    "from sklearn.ensemble import RandomForestClassifier"
   ]
  },
  {
   "cell_type": "code",
   "execution_count": 16,
   "id": "19e236f3",
   "metadata": {},
   "outputs": [],
   "source": [
    "# On prépare le fbetascore pour le gridsearch\n",
    "\n",
    "# Le fbeta_score permet de maximiser la pénalité sur les faux négatifs. Il servira à évaluer la performance final de nos modèles\n",
    "ftwo_scorer = make_scorer(fbeta_score, beta=10)"
   ]
  },
  {
   "cell_type": "code",
   "execution_count": 17,
   "id": "6ae67ca0",
   "metadata": {},
   "outputs": [],
   "source": [
    "# On prépare le roc_auc_score pour le gridsearch\n",
    "\n",
    "roc_auc = make_scorer(roc_auc_score)"
   ]
  },
  {
   "cell_type": "markdown",
   "id": "8a9e71b4",
   "metadata": {},
   "source": [
    "## Random Forest"
   ]
  },
  {
   "cell_type": "markdown",
   "id": "f1b99439",
   "metadata": {},
   "source": [
    "## fbeta score"
   ]
  },
  {
   "cell_type": "code",
   "execution_count": 18,
   "id": "f648bc61",
   "metadata": {},
   "outputs": [],
   "source": [
    "# Random Forest\n",
    "\n",
    "# Number of trees in random forest\n",
    "# original\n",
    "#n_estimators = [10,20,30,50,70,100]\n",
    "\n",
    "n_estimators = np.arange(10,20,1)\n",
    "\n",
    "# Number of features to consider at every split\n",
    "\n",
    "# original\n",
    "#max_features = ['auto', 'sqrt']\n",
    "\n",
    "#max_features = ['sqrt']\n",
    "\n",
    "# a été retiré\n",
    "\n",
    "# Maximum number of levels in tree\n",
    "\n",
    "# original\n",
    "max_depth = [2,3,4]\n",
    "\n",
    "#max_depth = [2]\n",
    "\n",
    "# Minimum number of samples required to split a node\n",
    "\n",
    "# original\n",
    "#min_samples_split = [3, 5, 10]\n",
    "\n",
    "min_samples_split = [4,5, 6,7]\n",
    "\n",
    "# Minimum number of samples required at each leaf node\n",
    "\n",
    "# original\n",
    "min_samples_leaf = [ 3, 4, 5]\n",
    "\n",
    "#min_samples_leaf = [ 4]\n",
    "\n",
    "# Create the random grid\n",
    "random_grid = {'classification__n_estimators': n_estimators,\n",
    "               #'classification__max_features': max_features,\n",
    "               'classification__max_depth': max_depth,\n",
    "               'classification__min_samples_split': min_samples_split,\n",
    "               'classification__min_samples_leaf': min_samples_leaf}"
   ]
  },
  {
   "cell_type": "code",
   "execution_count": 18,
   "id": "af21798a",
   "metadata": {},
   "outputs": [],
   "source": [
    "random_grid ={\"classification__n_estimators\":[10, 30, 50, 100],\n",
    "              \"classification__criterion\":[\"gini\", \"entropy\"],\n",
    "              \"classification__max_depth\":[2],\n",
    "              \"classification__min_samples_split\":range(30, 50, 70), \n",
    "              \"classification__min_samples_leaf\":[20, 25, 30], \n",
    "              \"classification__max_features\": range(2, 7) \n",
    "             }"
   ]
  },
  {
   "cell_type": "code",
   "execution_count": 19,
   "id": "520d6689",
   "metadata": {},
   "outputs": [],
   "source": [
    "model_tree = Pipeline([\n",
    "        ('sampling', SMOTE()),\n",
    "        ('classification', RandomForestClassifier())\n",
    "    ])"
   ]
  },
  {
   "cell_type": "code",
   "execution_count": 20,
   "id": "32b729ec",
   "metadata": {},
   "outputs": [],
   "source": [
    "search_tree_ftwo = RandomizedSearchCV(estimator = model_tree,scoring = ftwo_scorer,\\\n",
    "                               param_distributions = random_grid, n_iter = 400, cv = 5,\\\n",
    "                               verbose=2, random_state=0, n_jobs = -1)"
   ]
  },
  {
   "cell_type": "code",
   "execution_count": 21,
   "id": "f3521cd7",
   "metadata": {},
   "outputs": [
    {
     "name": "stderr",
     "output_type": "stream",
     "text": [
      "C:\\Users\\Louis\\AppData\\Roaming\\Python\\Python39\\site-packages\\sklearn\\model_selection\\_search.py:306: UserWarning: The total space of parameters 120 is smaller than n_iter=400. Running 120 iterations. For exhaustive searches, use GridSearchCV.\n",
      "  warnings.warn(\n"
     ]
    },
    {
     "name": "stdout",
     "output_type": "stream",
     "text": [
      "Fitting 5 folds for each of 120 candidates, totalling 600 fits\n"
     ]
    },
    {
     "data": {
      "text/html": [
       "<style>#sk-container-id-1 {color: black;background-color: white;}#sk-container-id-1 pre{padding: 0;}#sk-container-id-1 div.sk-toggleable {background-color: white;}#sk-container-id-1 label.sk-toggleable__label {cursor: pointer;display: block;width: 100%;margin-bottom: 0;padding: 0.3em;box-sizing: border-box;text-align: center;}#sk-container-id-1 label.sk-toggleable__label-arrow:before {content: \"▸\";float: left;margin-right: 0.25em;color: #696969;}#sk-container-id-1 label.sk-toggleable__label-arrow:hover:before {color: black;}#sk-container-id-1 div.sk-estimator:hover label.sk-toggleable__label-arrow:before {color: black;}#sk-container-id-1 div.sk-toggleable__content {max-height: 0;max-width: 0;overflow: hidden;text-align: left;background-color: #f0f8ff;}#sk-container-id-1 div.sk-toggleable__content pre {margin: 0.2em;color: black;border-radius: 0.25em;background-color: #f0f8ff;}#sk-container-id-1 input.sk-toggleable__control:checked~div.sk-toggleable__content {max-height: 200px;max-width: 100%;overflow: auto;}#sk-container-id-1 input.sk-toggleable__control:checked~label.sk-toggleable__label-arrow:before {content: \"▾\";}#sk-container-id-1 div.sk-estimator input.sk-toggleable__control:checked~label.sk-toggleable__label {background-color: #d4ebff;}#sk-container-id-1 div.sk-label input.sk-toggleable__control:checked~label.sk-toggleable__label {background-color: #d4ebff;}#sk-container-id-1 input.sk-hidden--visually {border: 0;clip: rect(1px 1px 1px 1px);clip: rect(1px, 1px, 1px, 1px);height: 1px;margin: -1px;overflow: hidden;padding: 0;position: absolute;width: 1px;}#sk-container-id-1 div.sk-estimator {font-family: monospace;background-color: #f0f8ff;border: 1px dotted black;border-radius: 0.25em;box-sizing: border-box;margin-bottom: 0.5em;}#sk-container-id-1 div.sk-estimator:hover {background-color: #d4ebff;}#sk-container-id-1 div.sk-parallel-item::after {content: \"\";width: 100%;border-bottom: 1px solid gray;flex-grow: 1;}#sk-container-id-1 div.sk-label:hover label.sk-toggleable__label {background-color: #d4ebff;}#sk-container-id-1 div.sk-serial::before {content: \"\";position: absolute;border-left: 1px solid gray;box-sizing: border-box;top: 0;bottom: 0;left: 50%;z-index: 0;}#sk-container-id-1 div.sk-serial {display: flex;flex-direction: column;align-items: center;background-color: white;padding-right: 0.2em;padding-left: 0.2em;position: relative;}#sk-container-id-1 div.sk-item {position: relative;z-index: 1;}#sk-container-id-1 div.sk-parallel {display: flex;align-items: stretch;justify-content: center;background-color: white;position: relative;}#sk-container-id-1 div.sk-item::before, #sk-container-id-1 div.sk-parallel-item::before {content: \"\";position: absolute;border-left: 1px solid gray;box-sizing: border-box;top: 0;bottom: 0;left: 50%;z-index: -1;}#sk-container-id-1 div.sk-parallel-item {display: flex;flex-direction: column;z-index: 1;position: relative;background-color: white;}#sk-container-id-1 div.sk-parallel-item:first-child::after {align-self: flex-end;width: 50%;}#sk-container-id-1 div.sk-parallel-item:last-child::after {align-self: flex-start;width: 50%;}#sk-container-id-1 div.sk-parallel-item:only-child::after {width: 0;}#sk-container-id-1 div.sk-dashed-wrapped {border: 1px dashed gray;margin: 0 0.4em 0.5em 0.4em;box-sizing: border-box;padding-bottom: 0.4em;background-color: white;}#sk-container-id-1 div.sk-label label {font-family: monospace;font-weight: bold;display: inline-block;line-height: 1.2em;}#sk-container-id-1 div.sk-label-container {text-align: center;}#sk-container-id-1 div.sk-container {/* jupyter's `normalize.less` sets `[hidden] { display: none; }` but bootstrap.min.css set `[hidden] { display: none !important; }` so we also need the `!important` here to be able to override the default hidden behavior on the sphinx rendered scikit-learn.org. See: https://github.com/scikit-learn/scikit-learn/issues/21755 */display: inline-block !important;position: relative;}#sk-container-id-1 div.sk-text-repr-fallback {display: none;}</style><div id=\"sk-container-id-1\" class=\"sk-top-container\"><div class=\"sk-text-repr-fallback\"><pre>RandomizedSearchCV(cv=5,\n",
       "                   estimator=Pipeline(steps=[(&#x27;sampling&#x27;, SMOTE()),\n",
       "                                             (&#x27;classification&#x27;,\n",
       "                                              RandomForestClassifier())]),\n",
       "                   n_iter=400, n_jobs=-1,\n",
       "                   param_distributions={&#x27;classification__criterion&#x27;: [&#x27;gini&#x27;,\n",
       "                                                                      &#x27;entropy&#x27;],\n",
       "                                        &#x27;classification__max_depth&#x27;: [2],\n",
       "                                        &#x27;classification__max_features&#x27;: range(2, 7),\n",
       "                                        &#x27;classification__min_samples_leaf&#x27;: [20,\n",
       "                                                                             25,\n",
       "                                                                             30],\n",
       "                                        &#x27;classification__min_samples_split&#x27;: range(30, 50, 70),\n",
       "                                        &#x27;classification__n_estimators&#x27;: [10, 30,\n",
       "                                                                         50,\n",
       "                                                                         100]},\n",
       "                   random_state=0, scoring=make_scorer(fbeta_score, beta=10),\n",
       "                   verbose=2)</pre><b>In a Jupyter environment, please rerun this cell to show the HTML representation or trust the notebook. <br />On GitHub, the HTML representation is unable to render, please try loading this page with nbviewer.org.</b></div><div class=\"sk-container\" hidden><div class=\"sk-item sk-dashed-wrapped\"><div class=\"sk-label-container\"><div class=\"sk-label sk-toggleable\"><input class=\"sk-toggleable__control sk-hidden--visually\" id=\"sk-estimator-id-1\" type=\"checkbox\" ><label for=\"sk-estimator-id-1\" class=\"sk-toggleable__label sk-toggleable__label-arrow\">RandomizedSearchCV</label><div class=\"sk-toggleable__content\"><pre>RandomizedSearchCV(cv=5,\n",
       "                   estimator=Pipeline(steps=[(&#x27;sampling&#x27;, SMOTE()),\n",
       "                                             (&#x27;classification&#x27;,\n",
       "                                              RandomForestClassifier())]),\n",
       "                   n_iter=400, n_jobs=-1,\n",
       "                   param_distributions={&#x27;classification__criterion&#x27;: [&#x27;gini&#x27;,\n",
       "                                                                      &#x27;entropy&#x27;],\n",
       "                                        &#x27;classification__max_depth&#x27;: [2],\n",
       "                                        &#x27;classification__max_features&#x27;: range(2, 7),\n",
       "                                        &#x27;classification__min_samples_leaf&#x27;: [20,\n",
       "                                                                             25,\n",
       "                                                                             30],\n",
       "                                        &#x27;classification__min_samples_split&#x27;: range(30, 50, 70),\n",
       "                                        &#x27;classification__n_estimators&#x27;: [10, 30,\n",
       "                                                                         50,\n",
       "                                                                         100]},\n",
       "                   random_state=0, scoring=make_scorer(fbeta_score, beta=10),\n",
       "                   verbose=2)</pre></div></div></div><div class=\"sk-parallel\"><div class=\"sk-parallel-item\"><div class=\"sk-item\"><div class=\"sk-label-container\"><div class=\"sk-label sk-toggleable\"><input class=\"sk-toggleable__control sk-hidden--visually\" id=\"sk-estimator-id-2\" type=\"checkbox\" ><label for=\"sk-estimator-id-2\" class=\"sk-toggleable__label sk-toggleable__label-arrow\">estimator: Pipeline</label><div class=\"sk-toggleable__content\"><pre>Pipeline(steps=[(&#x27;sampling&#x27;, SMOTE()),\n",
       "                (&#x27;classification&#x27;, RandomForestClassifier())])</pre></div></div></div><div class=\"sk-serial\"><div class=\"sk-item\"><div class=\"sk-serial\"><div class=\"sk-item\"><div class=\"sk-estimator sk-toggleable\"><input class=\"sk-toggleable__control sk-hidden--visually\" id=\"sk-estimator-id-3\" type=\"checkbox\" ><label for=\"sk-estimator-id-3\" class=\"sk-toggleable__label sk-toggleable__label-arrow\">SMOTE</label><div class=\"sk-toggleable__content\"><pre>SMOTE()</pre></div></div></div><div class=\"sk-item\"><div class=\"sk-estimator sk-toggleable\"><input class=\"sk-toggleable__control sk-hidden--visually\" id=\"sk-estimator-id-4\" type=\"checkbox\" ><label for=\"sk-estimator-id-4\" class=\"sk-toggleable__label sk-toggleable__label-arrow\">RandomForestClassifier</label><div class=\"sk-toggleable__content\"><pre>RandomForestClassifier()</pre></div></div></div></div></div></div></div></div></div></div></div></div>"
      ],
      "text/plain": [
       "RandomizedSearchCV(cv=5,\n",
       "                   estimator=Pipeline(steps=[('sampling', SMOTE()),\n",
       "                                             ('classification',\n",
       "                                              RandomForestClassifier())]),\n",
       "                   n_iter=400, n_jobs=-1,\n",
       "                   param_distributions={'classification__criterion': ['gini',\n",
       "                                                                      'entropy'],\n",
       "                                        'classification__max_depth': [2],\n",
       "                                        'classification__max_features': range(2, 7),\n",
       "                                        'classification__min_samples_leaf': [20,\n",
       "                                                                             25,\n",
       "                                                                             30],\n",
       "                                        'classification__min_samples_split': range(30, 50, 70),\n",
       "                                        'classification__n_estimators': [10, 30,\n",
       "                                                                         50,\n",
       "                                                                         100]},\n",
       "                   random_state=0, scoring=make_scorer(fbeta_score, beta=10),\n",
       "                   verbose=2)"
      ]
     },
     "execution_count": 21,
     "metadata": {},
     "output_type": "execute_result"
    }
   ],
   "source": [
    "search_tree_ftwo.fit(X_train,y_train)"
   ]
  },
  {
   "cell_type": "code",
   "execution_count": 22,
   "id": "f77e93ac",
   "metadata": {},
   "outputs": [
    {
     "data": {
      "text/plain": [
       "{'classification__n_estimators': 10,\n",
       " 'classification__min_samples_split': 30,\n",
       " 'classification__min_samples_leaf': 20,\n",
       " 'classification__max_features': 2,\n",
       " 'classification__max_depth': 2,\n",
       " 'classification__criterion': 'entropy'}"
      ]
     },
     "execution_count": 22,
     "metadata": {},
     "output_type": "execute_result"
    }
   ],
   "source": [
    "search_tree_ftwo.best_params_"
   ]
  },
  {
   "cell_type": "code",
   "execution_count": 23,
   "id": "0a859508",
   "metadata": {},
   "outputs": [
    {
     "data": {
      "text/plain": [
       "0.5466868543856265"
      ]
     },
     "execution_count": 23,
     "metadata": {},
     "output_type": "execute_result"
    }
   ],
   "source": [
    "search_tree_ftwo.best_score_"
   ]
  },
  {
   "cell_type": "code",
   "execution_count": 24,
   "id": "78a89de1",
   "metadata": {},
   "outputs": [
    {
     "data": {
      "text/plain": [
       "0.510068808787324"
      ]
     },
     "execution_count": 24,
     "metadata": {},
     "output_type": "execute_result"
    }
   ],
   "source": [
    "search_tree_ftwo.score(X_test, y_test)"
   ]
  },
  {
   "cell_type": "code",
   "execution_count": 25,
   "id": "f1f239e4",
   "metadata": {},
   "outputs": [
    {
     "data": {
      "text/plain": [
       "0.4887762398488176"
      ]
     },
     "execution_count": 25,
     "metadata": {},
     "output_type": "execute_result"
    }
   ],
   "source": [
    "search_tree_ftwo.score(X_train, y_train)"
   ]
  },
  {
   "cell_type": "code",
   "execution_count": 26,
   "id": "792724bd",
   "metadata": {},
   "outputs": [
    {
     "data": {
      "text/plain": [
       "0.4887762398488176"
      ]
     },
     "execution_count": 26,
     "metadata": {},
     "output_type": "execute_result"
    }
   ],
   "source": [
    "y_predict = search_tree_ftwo.predict(X_train)\n",
    "\n",
    "fbeta_score(y_train,y_predict,beta=10)"
   ]
  },
  {
   "cell_type": "code",
   "execution_count": 27,
   "id": "98d9111f",
   "metadata": {},
   "outputs": [
    {
     "data": {
      "text/plain": [
       "0.510068808787324"
      ]
     },
     "execution_count": 27,
     "metadata": {},
     "output_type": "execute_result"
    }
   ],
   "source": [
    "y_predict = search_tree_ftwo.predict(X_test)\n",
    "\n",
    "fbeta_score(y_test,y_predict,beta=10)"
   ]
  },
  {
   "cell_type": "code",
   "execution_count": 28,
   "id": "ecdc353a",
   "metadata": {},
   "outputs": [
    {
     "data": {
      "text/html": [
       "<div>\n",
       "<style scoped>\n",
       "    .dataframe tbody tr th:only-of-type {\n",
       "        vertical-align: middle;\n",
       "    }\n",
       "\n",
       "    .dataframe tbody tr th {\n",
       "        vertical-align: top;\n",
       "    }\n",
       "\n",
       "    .dataframe thead th {\n",
       "        text-align: right;\n",
       "    }\n",
       "</style>\n",
       "<table border=\"1\" class=\"dataframe\">\n",
       "  <thead>\n",
       "    <tr style=\"text-align: right;\">\n",
       "      <th></th>\n",
       "      <th>model</th>\n",
       "      <th>score</th>\n",
       "      <th>best_params</th>\n",
       "      <th>best_score</th>\n",
       "      <th>train</th>\n",
       "      <th>test</th>\n",
       "      <th>fbeta_score_test</th>\n",
       "    </tr>\n",
       "  </thead>\n",
       "  <tbody>\n",
       "    <tr>\n",
       "      <th>0</th>\n",
       "      <td>search_tree</td>\n",
       "      <td>fbeta</td>\n",
       "      <td>{'classification__n_estimators': 10, 'classifi...</td>\n",
       "      <td>0.546687</td>\n",
       "      <td>0.488776</td>\n",
       "      <td>0.510069</td>\n",
       "      <td>0.510069</td>\n",
       "    </tr>\n",
       "  </tbody>\n",
       "</table>\n",
       "</div>"
      ],
      "text/plain": [
       "         model  score                                        best_params  \\\n",
       "0  search_tree  fbeta  {'classification__n_estimators': 10, 'classifi...   \n",
       "\n",
       "   best_score     train      test  fbeta_score_test  \n",
       "0    0.546687  0.488776  0.510069          0.510069  "
      ]
     },
     "execution_count": 28,
     "metadata": {},
     "output_type": "execute_result"
    }
   ],
   "source": [
    "current_model = search_tree_ftwo\n",
    "\n",
    "y_predict = current_model.predict(X_test)\n",
    "\n",
    "report = pd.DataFrame({'model':['search_tree'],'score':['fbeta'],'best_params':[current_model.best_params_],\\\n",
    "          'best_score':[current_model.best_score_],'train':[current_model.score(X_train, y_train)],\\\n",
    "          'test':[current_model.score(X_test, y_test)],'fbeta_score_test':[fbeta_score(y_test,y_predict,beta=10)]})\n",
    "\n",
    "report"
   ]
  },
  {
   "cell_type": "markdown",
   "id": "7de21490",
   "metadata": {},
   "source": [
    "## au_roc"
   ]
  },
  {
   "cell_type": "code",
   "execution_count": 29,
   "id": "b278bbad",
   "metadata": {},
   "outputs": [],
   "source": [
    "search_tree_roc = RandomizedSearchCV(estimator = model_tree,scoring = roc_auc,\\\n",
    "                               param_distributions = random_grid, n_iter = 400, cv = 5,\\\n",
    "                               verbose=2, random_state=0, n_jobs = -1)"
   ]
  },
  {
   "cell_type": "code",
   "execution_count": 30,
   "id": "f173b4d6",
   "metadata": {},
   "outputs": [
    {
     "name": "stderr",
     "output_type": "stream",
     "text": [
      "C:\\Users\\Louis\\AppData\\Roaming\\Python\\Python39\\site-packages\\sklearn\\model_selection\\_search.py:306: UserWarning: The total space of parameters 120 is smaller than n_iter=400. Running 120 iterations. For exhaustive searches, use GridSearchCV.\n",
      "  warnings.warn(\n"
     ]
    },
    {
     "name": "stdout",
     "output_type": "stream",
     "text": [
      "Fitting 5 folds for each of 120 candidates, totalling 600 fits\n"
     ]
    },
    {
     "data": {
      "text/html": [
       "<style>#sk-container-id-2 {color: black;background-color: white;}#sk-container-id-2 pre{padding: 0;}#sk-container-id-2 div.sk-toggleable {background-color: white;}#sk-container-id-2 label.sk-toggleable__label {cursor: pointer;display: block;width: 100%;margin-bottom: 0;padding: 0.3em;box-sizing: border-box;text-align: center;}#sk-container-id-2 label.sk-toggleable__label-arrow:before {content: \"▸\";float: left;margin-right: 0.25em;color: #696969;}#sk-container-id-2 label.sk-toggleable__label-arrow:hover:before {color: black;}#sk-container-id-2 div.sk-estimator:hover label.sk-toggleable__label-arrow:before {color: black;}#sk-container-id-2 div.sk-toggleable__content {max-height: 0;max-width: 0;overflow: hidden;text-align: left;background-color: #f0f8ff;}#sk-container-id-2 div.sk-toggleable__content pre {margin: 0.2em;color: black;border-radius: 0.25em;background-color: #f0f8ff;}#sk-container-id-2 input.sk-toggleable__control:checked~div.sk-toggleable__content {max-height: 200px;max-width: 100%;overflow: auto;}#sk-container-id-2 input.sk-toggleable__control:checked~label.sk-toggleable__label-arrow:before {content: \"▾\";}#sk-container-id-2 div.sk-estimator input.sk-toggleable__control:checked~label.sk-toggleable__label {background-color: #d4ebff;}#sk-container-id-2 div.sk-label input.sk-toggleable__control:checked~label.sk-toggleable__label {background-color: #d4ebff;}#sk-container-id-2 input.sk-hidden--visually {border: 0;clip: rect(1px 1px 1px 1px);clip: rect(1px, 1px, 1px, 1px);height: 1px;margin: -1px;overflow: hidden;padding: 0;position: absolute;width: 1px;}#sk-container-id-2 div.sk-estimator {font-family: monospace;background-color: #f0f8ff;border: 1px dotted black;border-radius: 0.25em;box-sizing: border-box;margin-bottom: 0.5em;}#sk-container-id-2 div.sk-estimator:hover {background-color: #d4ebff;}#sk-container-id-2 div.sk-parallel-item::after {content: \"\";width: 100%;border-bottom: 1px solid gray;flex-grow: 1;}#sk-container-id-2 div.sk-label:hover label.sk-toggleable__label {background-color: #d4ebff;}#sk-container-id-2 div.sk-serial::before {content: \"\";position: absolute;border-left: 1px solid gray;box-sizing: border-box;top: 0;bottom: 0;left: 50%;z-index: 0;}#sk-container-id-2 div.sk-serial {display: flex;flex-direction: column;align-items: center;background-color: white;padding-right: 0.2em;padding-left: 0.2em;position: relative;}#sk-container-id-2 div.sk-item {position: relative;z-index: 1;}#sk-container-id-2 div.sk-parallel {display: flex;align-items: stretch;justify-content: center;background-color: white;position: relative;}#sk-container-id-2 div.sk-item::before, #sk-container-id-2 div.sk-parallel-item::before {content: \"\";position: absolute;border-left: 1px solid gray;box-sizing: border-box;top: 0;bottom: 0;left: 50%;z-index: -1;}#sk-container-id-2 div.sk-parallel-item {display: flex;flex-direction: column;z-index: 1;position: relative;background-color: white;}#sk-container-id-2 div.sk-parallel-item:first-child::after {align-self: flex-end;width: 50%;}#sk-container-id-2 div.sk-parallel-item:last-child::after {align-self: flex-start;width: 50%;}#sk-container-id-2 div.sk-parallel-item:only-child::after {width: 0;}#sk-container-id-2 div.sk-dashed-wrapped {border: 1px dashed gray;margin: 0 0.4em 0.5em 0.4em;box-sizing: border-box;padding-bottom: 0.4em;background-color: white;}#sk-container-id-2 div.sk-label label {font-family: monospace;font-weight: bold;display: inline-block;line-height: 1.2em;}#sk-container-id-2 div.sk-label-container {text-align: center;}#sk-container-id-2 div.sk-container {/* jupyter's `normalize.less` sets `[hidden] { display: none; }` but bootstrap.min.css set `[hidden] { display: none !important; }` so we also need the `!important` here to be able to override the default hidden behavior on the sphinx rendered scikit-learn.org. See: https://github.com/scikit-learn/scikit-learn/issues/21755 */display: inline-block !important;position: relative;}#sk-container-id-2 div.sk-text-repr-fallback {display: none;}</style><div id=\"sk-container-id-2\" class=\"sk-top-container\"><div class=\"sk-text-repr-fallback\"><pre>RandomizedSearchCV(cv=5,\n",
       "                   estimator=Pipeline(steps=[(&#x27;sampling&#x27;, SMOTE()),\n",
       "                                             (&#x27;classification&#x27;,\n",
       "                                              RandomForestClassifier())]),\n",
       "                   n_iter=400, n_jobs=-1,\n",
       "                   param_distributions={&#x27;classification__criterion&#x27;: [&#x27;gini&#x27;,\n",
       "                                                                      &#x27;entropy&#x27;],\n",
       "                                        &#x27;classification__max_depth&#x27;: [2],\n",
       "                                        &#x27;classification__max_features&#x27;: range(2, 7),\n",
       "                                        &#x27;classification__min_samples_leaf&#x27;: [20,\n",
       "                                                                             25,\n",
       "                                                                             30],\n",
       "                                        &#x27;classification__min_samples_split&#x27;: range(30, 50, 70),\n",
       "                                        &#x27;classification__n_estimators&#x27;: [10, 30,\n",
       "                                                                         50,\n",
       "                                                                         100]},\n",
       "                   random_state=0, scoring=make_scorer(roc_auc_score),\n",
       "                   verbose=2)</pre><b>In a Jupyter environment, please rerun this cell to show the HTML representation or trust the notebook. <br />On GitHub, the HTML representation is unable to render, please try loading this page with nbviewer.org.</b></div><div class=\"sk-container\" hidden><div class=\"sk-item sk-dashed-wrapped\"><div class=\"sk-label-container\"><div class=\"sk-label sk-toggleable\"><input class=\"sk-toggleable__control sk-hidden--visually\" id=\"sk-estimator-id-5\" type=\"checkbox\" ><label for=\"sk-estimator-id-5\" class=\"sk-toggleable__label sk-toggleable__label-arrow\">RandomizedSearchCV</label><div class=\"sk-toggleable__content\"><pre>RandomizedSearchCV(cv=5,\n",
       "                   estimator=Pipeline(steps=[(&#x27;sampling&#x27;, SMOTE()),\n",
       "                                             (&#x27;classification&#x27;,\n",
       "                                              RandomForestClassifier())]),\n",
       "                   n_iter=400, n_jobs=-1,\n",
       "                   param_distributions={&#x27;classification__criterion&#x27;: [&#x27;gini&#x27;,\n",
       "                                                                      &#x27;entropy&#x27;],\n",
       "                                        &#x27;classification__max_depth&#x27;: [2],\n",
       "                                        &#x27;classification__max_features&#x27;: range(2, 7),\n",
       "                                        &#x27;classification__min_samples_leaf&#x27;: [20,\n",
       "                                                                             25,\n",
       "                                                                             30],\n",
       "                                        &#x27;classification__min_samples_split&#x27;: range(30, 50, 70),\n",
       "                                        &#x27;classification__n_estimators&#x27;: [10, 30,\n",
       "                                                                         50,\n",
       "                                                                         100]},\n",
       "                   random_state=0, scoring=make_scorer(roc_auc_score),\n",
       "                   verbose=2)</pre></div></div></div><div class=\"sk-parallel\"><div class=\"sk-parallel-item\"><div class=\"sk-item\"><div class=\"sk-label-container\"><div class=\"sk-label sk-toggleable\"><input class=\"sk-toggleable__control sk-hidden--visually\" id=\"sk-estimator-id-6\" type=\"checkbox\" ><label for=\"sk-estimator-id-6\" class=\"sk-toggleable__label sk-toggleable__label-arrow\">estimator: Pipeline</label><div class=\"sk-toggleable__content\"><pre>Pipeline(steps=[(&#x27;sampling&#x27;, SMOTE()),\n",
       "                (&#x27;classification&#x27;, RandomForestClassifier())])</pre></div></div></div><div class=\"sk-serial\"><div class=\"sk-item\"><div class=\"sk-serial\"><div class=\"sk-item\"><div class=\"sk-estimator sk-toggleable\"><input class=\"sk-toggleable__control sk-hidden--visually\" id=\"sk-estimator-id-7\" type=\"checkbox\" ><label for=\"sk-estimator-id-7\" class=\"sk-toggleable__label sk-toggleable__label-arrow\">SMOTE</label><div class=\"sk-toggleable__content\"><pre>SMOTE()</pre></div></div></div><div class=\"sk-item\"><div class=\"sk-estimator sk-toggleable\"><input class=\"sk-toggleable__control sk-hidden--visually\" id=\"sk-estimator-id-8\" type=\"checkbox\" ><label for=\"sk-estimator-id-8\" class=\"sk-toggleable__label sk-toggleable__label-arrow\">RandomForestClassifier</label><div class=\"sk-toggleable__content\"><pre>RandomForestClassifier()</pre></div></div></div></div></div></div></div></div></div></div></div></div>"
      ],
      "text/plain": [
       "RandomizedSearchCV(cv=5,\n",
       "                   estimator=Pipeline(steps=[('sampling', SMOTE()),\n",
       "                                             ('classification',\n",
       "                                              RandomForestClassifier())]),\n",
       "                   n_iter=400, n_jobs=-1,\n",
       "                   param_distributions={'classification__criterion': ['gini',\n",
       "                                                                      'entropy'],\n",
       "                                        'classification__max_depth': [2],\n",
       "                                        'classification__max_features': range(2, 7),\n",
       "                                        'classification__min_samples_leaf': [20,\n",
       "                                                                             25,\n",
       "                                                                             30],\n",
       "                                        'classification__min_samples_split': range(30, 50, 70),\n",
       "                                        'classification__n_estimators': [10, 30,\n",
       "                                                                         50,\n",
       "                                                                         100]},\n",
       "                   random_state=0, scoring=make_scorer(roc_auc_score),\n",
       "                   verbose=2)"
      ]
     },
     "execution_count": 30,
     "metadata": {},
     "output_type": "execute_result"
    }
   ],
   "source": [
    "search_tree_roc.fit(X_train,y_train)"
   ]
  },
  {
   "cell_type": "code",
   "execution_count": 31,
   "id": "48f0160d",
   "metadata": {},
   "outputs": [
    {
     "data": {
      "text/plain": [
       "{'classification__n_estimators': 50,\n",
       " 'classification__min_samples_split': 30,\n",
       " 'classification__min_samples_leaf': 25,\n",
       " 'classification__max_features': 2,\n",
       " 'classification__max_depth': 2,\n",
       " 'classification__criterion': 'entropy'}"
      ]
     },
     "execution_count": 31,
     "metadata": {},
     "output_type": "execute_result"
    }
   ],
   "source": [
    "search_tree_roc.best_params_"
   ]
  },
  {
   "cell_type": "code",
   "execution_count": 32,
   "id": "0bc7061a",
   "metadata": {},
   "outputs": [
    {
     "data": {
      "text/plain": [
       "0.6148020572870012"
      ]
     },
     "execution_count": 32,
     "metadata": {},
     "output_type": "execute_result"
    }
   ],
   "source": [
    "search_tree_roc.best_score_"
   ]
  },
  {
   "cell_type": "code",
   "execution_count": 33,
   "id": "8c2f7113",
   "metadata": {},
   "outputs": [
    {
     "data": {
      "text/plain": [
       "0.6065334445624148"
      ]
     },
     "execution_count": 33,
     "metadata": {},
     "output_type": "execute_result"
    }
   ],
   "source": [
    "search_tree_roc.score(X_test, y_test)"
   ]
  },
  {
   "cell_type": "code",
   "execution_count": 34,
   "id": "51565a41",
   "metadata": {},
   "outputs": [
    {
     "data": {
      "text/plain": [
       "0.6040487099765449"
      ]
     },
     "execution_count": 34,
     "metadata": {},
     "output_type": "execute_result"
    }
   ],
   "source": [
    "search_tree_roc.score(X_train, y_train)"
   ]
  },
  {
   "cell_type": "code",
   "execution_count": 35,
   "id": "4de625e2",
   "metadata": {},
   "outputs": [
    {
     "data": {
      "text/plain": [
       "0.4909452353469283"
      ]
     },
     "execution_count": 35,
     "metadata": {},
     "output_type": "execute_result"
    }
   ],
   "source": [
    "# Fbeta est le score que l'on cherche à maximiser\n",
    "\n",
    "y_predict = search_tree_roc.predict(X_train)\n",
    "\n",
    "fbeta_score(y_train,y_predict,beta=10)"
   ]
  },
  {
   "cell_type": "code",
   "execution_count": 36,
   "id": "3cf54ae0",
   "metadata": {},
   "outputs": [
    {
     "data": {
      "text/plain": [
       "0.4874579284943164"
      ]
     },
     "execution_count": 36,
     "metadata": {},
     "output_type": "execute_result"
    }
   ],
   "source": [
    "y_predict = search_tree_roc.predict(X_test)\n",
    "\n",
    "fbeta_score(y_test,y_predict,beta=10)"
   ]
  },
  {
   "cell_type": "code",
   "execution_count": 37,
   "id": "6f5aa05a",
   "metadata": {},
   "outputs": [
    {
     "data": {
      "text/html": [
       "<div>\n",
       "<style scoped>\n",
       "    .dataframe tbody tr th:only-of-type {\n",
       "        vertical-align: middle;\n",
       "    }\n",
       "\n",
       "    .dataframe tbody tr th {\n",
       "        vertical-align: top;\n",
       "    }\n",
       "\n",
       "    .dataframe thead th {\n",
       "        text-align: right;\n",
       "    }\n",
       "</style>\n",
       "<table border=\"1\" class=\"dataframe\">\n",
       "  <thead>\n",
       "    <tr style=\"text-align: right;\">\n",
       "      <th></th>\n",
       "      <th>model</th>\n",
       "      <th>score</th>\n",
       "      <th>best_params</th>\n",
       "      <th>best_score</th>\n",
       "      <th>train</th>\n",
       "      <th>test</th>\n",
       "      <th>fbeta_score_test</th>\n",
       "    </tr>\n",
       "  </thead>\n",
       "  <tbody>\n",
       "    <tr>\n",
       "      <th>0</th>\n",
       "      <td>search_tree</td>\n",
       "      <td>fbeta</td>\n",
       "      <td>{'classification__n_estimators': 13, 'classifi...</td>\n",
       "      <td>0.526590</td>\n",
       "      <td>0.527499</td>\n",
       "      <td>0.528562</td>\n",
       "      <td>0.528562</td>\n",
       "    </tr>\n",
       "    <tr>\n",
       "      <th>0</th>\n",
       "      <td>search_tree</td>\n",
       "      <td>roc_auc</td>\n",
       "      <td>{'classification__n_estimators': 13, 'classifi...</td>\n",
       "      <td>0.613108</td>\n",
       "      <td>0.611411</td>\n",
       "      <td>0.614265</td>\n",
       "      <td>0.487458</td>\n",
       "    </tr>\n",
       "  </tbody>\n",
       "</table>\n",
       "</div>"
      ],
      "text/plain": [
       "         model    score                                        best_params  \\\n",
       "0  search_tree    fbeta  {'classification__n_estimators': 13, 'classifi...   \n",
       "0  search_tree  roc_auc  {'classification__n_estimators': 13, 'classifi...   \n",
       "\n",
       "   best_score     train      test  fbeta_score_test  \n",
       "0    0.526590  0.527499  0.528562          0.528562  \n",
       "0    0.613108  0.611411  0.614265          0.487458  "
      ]
     },
     "execution_count": 37,
     "metadata": {},
     "output_type": "execute_result"
    }
   ],
   "source": [
    "current_model = search_tree_roc\n",
    "\n",
    "y_predict = current_model.predict(X_test)\n",
    "\n",
    "report_new = pd.DataFrame({'model':['search_tree'],'score':['roc_auc'],'best_params':[current_model.best_params_],\\\n",
    "          'best_score':[current_model.best_score_],'train':[current_model.score(X_train, y_train)],\\\n",
    "          'test':[current_model.score(X_test, y_test)],'fbeta_score_test':[fbeta_score(y_test,y_predict,beta=10)]})\n",
    "\n",
    "report_final = pd.concat([report,report_new])\n",
    "report_final"
   ]
  },
  {
   "cell_type": "code",
   "execution_count": null,
   "id": "94346c25",
   "metadata": {},
   "outputs": [],
   "source": []
  },
  {
   "cell_type": "markdown",
   "id": "5186b2af",
   "metadata": {},
   "source": [
    "# Regression logistic"
   ]
  },
  {
   "cell_type": "markdown",
   "id": "71ddf6c3",
   "metadata": {},
   "source": [
    "## fbeta_score"
   ]
  },
  {
   "cell_type": "code",
   "execution_count": 38,
   "id": "fa9f466d",
   "metadata": {},
   "outputs": [],
   "source": [
    "from sklearn.linear_model import LogisticRegression"
   ]
  },
  {
   "cell_type": "code",
   "execution_count": 39,
   "id": "f47e8a21",
   "metadata": {},
   "outputs": [],
   "source": [
    "model_logistic = Pipeline([\n",
    "        ('sampling', SMOTE()),\n",
    "        ('classification', LogisticRegression())\n",
    "    ])"
   ]
  },
  {
   "cell_type": "code",
   "execution_count": 40,
   "id": "750b4bde",
   "metadata": {},
   "outputs": [],
   "source": [
    "#random_grid = {'classification__max_iter':[1000,5000,10_000]}\n",
    "\n",
    "#\n",
    "random_grid = {'classification__penalty': ['l1', 'l2'],\n",
    "              'classification__C':np.logspace(-5, 5,1000), \n",
    "              'classification__max_iter':[500, 1000],\n",
    "              'classification__solver': [\"liblinear\"],\n",
    "              'classification__tol':np.logspace(-4, -2, 100)\n",
    "             }"
   ]
  },
  {
   "cell_type": "code",
   "execution_count": 41,
   "id": "635b8165",
   "metadata": {},
   "outputs": [],
   "source": [
    "search_logi_ftwo = RandomizedSearchCV(estimator = model_logistic,scoring = ftwo_scorer,\\\n",
    "                               param_distributions = random_grid, n_iter = 5, cv = 5,\\\n",
    "                               verbose=2, random_state=0, n_jobs = -1)"
   ]
  },
  {
   "cell_type": "code",
   "execution_count": 42,
   "id": "bcb5c02c",
   "metadata": {},
   "outputs": [
    {
     "name": "stdout",
     "output_type": "stream",
     "text": [
      "Fitting 5 folds for each of 5 candidates, totalling 25 fits\n"
     ]
    },
    {
     "data": {
      "text/html": [
       "<style>#sk-container-id-3 {color: black;background-color: white;}#sk-container-id-3 pre{padding: 0;}#sk-container-id-3 div.sk-toggleable {background-color: white;}#sk-container-id-3 label.sk-toggleable__label {cursor: pointer;display: block;width: 100%;margin-bottom: 0;padding: 0.3em;box-sizing: border-box;text-align: center;}#sk-container-id-3 label.sk-toggleable__label-arrow:before {content: \"▸\";float: left;margin-right: 0.25em;color: #696969;}#sk-container-id-3 label.sk-toggleable__label-arrow:hover:before {color: black;}#sk-container-id-3 div.sk-estimator:hover label.sk-toggleable__label-arrow:before {color: black;}#sk-container-id-3 div.sk-toggleable__content {max-height: 0;max-width: 0;overflow: hidden;text-align: left;background-color: #f0f8ff;}#sk-container-id-3 div.sk-toggleable__content pre {margin: 0.2em;color: black;border-radius: 0.25em;background-color: #f0f8ff;}#sk-container-id-3 input.sk-toggleable__control:checked~div.sk-toggleable__content {max-height: 200px;max-width: 100%;overflow: auto;}#sk-container-id-3 input.sk-toggleable__control:checked~label.sk-toggleable__label-arrow:before {content: \"▾\";}#sk-container-id-3 div.sk-estimator input.sk-toggleable__control:checked~label.sk-toggleable__label {background-color: #d4ebff;}#sk-container-id-3 div.sk-label input.sk-toggleable__control:checked~label.sk-toggleable__label {background-color: #d4ebff;}#sk-container-id-3 input.sk-hidden--visually {border: 0;clip: rect(1px 1px 1px 1px);clip: rect(1px, 1px, 1px, 1px);height: 1px;margin: -1px;overflow: hidden;padding: 0;position: absolute;width: 1px;}#sk-container-id-3 div.sk-estimator {font-family: monospace;background-color: #f0f8ff;border: 1px dotted black;border-radius: 0.25em;box-sizing: border-box;margin-bottom: 0.5em;}#sk-container-id-3 div.sk-estimator:hover {background-color: #d4ebff;}#sk-container-id-3 div.sk-parallel-item::after {content: \"\";width: 100%;border-bottom: 1px solid gray;flex-grow: 1;}#sk-container-id-3 div.sk-label:hover label.sk-toggleable__label {background-color: #d4ebff;}#sk-container-id-3 div.sk-serial::before {content: \"\";position: absolute;border-left: 1px solid gray;box-sizing: border-box;top: 0;bottom: 0;left: 50%;z-index: 0;}#sk-container-id-3 div.sk-serial {display: flex;flex-direction: column;align-items: center;background-color: white;padding-right: 0.2em;padding-left: 0.2em;position: relative;}#sk-container-id-3 div.sk-item {position: relative;z-index: 1;}#sk-container-id-3 div.sk-parallel {display: flex;align-items: stretch;justify-content: center;background-color: white;position: relative;}#sk-container-id-3 div.sk-item::before, #sk-container-id-3 div.sk-parallel-item::before {content: \"\";position: absolute;border-left: 1px solid gray;box-sizing: border-box;top: 0;bottom: 0;left: 50%;z-index: -1;}#sk-container-id-3 div.sk-parallel-item {display: flex;flex-direction: column;z-index: 1;position: relative;background-color: white;}#sk-container-id-3 div.sk-parallel-item:first-child::after {align-self: flex-end;width: 50%;}#sk-container-id-3 div.sk-parallel-item:last-child::after {align-self: flex-start;width: 50%;}#sk-container-id-3 div.sk-parallel-item:only-child::after {width: 0;}#sk-container-id-3 div.sk-dashed-wrapped {border: 1px dashed gray;margin: 0 0.4em 0.5em 0.4em;box-sizing: border-box;padding-bottom: 0.4em;background-color: white;}#sk-container-id-3 div.sk-label label {font-family: monospace;font-weight: bold;display: inline-block;line-height: 1.2em;}#sk-container-id-3 div.sk-label-container {text-align: center;}#sk-container-id-3 div.sk-container {/* jupyter's `normalize.less` sets `[hidden] { display: none; }` but bootstrap.min.css set `[hidden] { display: none !important; }` so we also need the `!important` here to be able to override the default hidden behavior on the sphinx rendered scikit-learn.org. See: https://github.com/scikit-learn/scikit-learn/issues/21755 */display: inline-block !important;position: relative;}#sk-container-id-3 div.sk-text-repr-fallback {display: none;}</style><div id=\"sk-container-id-3\" class=\"sk-top-container\"><div class=\"sk-text-repr-fallback\"><pre>RandomizedSearchCV(cv=5,\n",
       "                   estimator=Pipeline(steps=[(&#x27;sampling&#x27;, SMOTE()),\n",
       "                                             (&#x27;classification&#x27;,\n",
       "                                              LogisticRegression())]),\n",
       "                   n_iter=5, n_jobs=-1,\n",
       "                   param_distributions={&#x27;classification__C&#x27;: array([1.00000000e-05, 1.02331658e-05, 1.04717682e-05, 1.07159340e-05,\n",
       "       1.09657929e-05, 1.12214777e-05, 1.14831241e-05, 1.17508713e-05,\n",
       "       1.20248614e-05, 1.23052400e-05, 1.25921561e-05, 1.288...\n",
       "       0.00259502, 0.00271859, 0.00284804, 0.00298365, 0.00312572,\n",
       "       0.00327455, 0.00343047, 0.00359381, 0.00376494, 0.00394421,\n",
       "       0.00413201, 0.00432876, 0.00453488, 0.00475081, 0.00497702,\n",
       "       0.00521401, 0.00546228, 0.00572237, 0.00599484, 0.00628029,\n",
       "       0.00657933, 0.00689261, 0.00722081, 0.00756463, 0.00792483,\n",
       "       0.00830218, 0.00869749, 0.00911163, 0.00954548, 0.01      ])},\n",
       "                   random_state=0, scoring=make_scorer(fbeta_score, beta=10),\n",
       "                   verbose=2)</pre><b>In a Jupyter environment, please rerun this cell to show the HTML representation or trust the notebook. <br />On GitHub, the HTML representation is unable to render, please try loading this page with nbviewer.org.</b></div><div class=\"sk-container\" hidden><div class=\"sk-item sk-dashed-wrapped\"><div class=\"sk-label-container\"><div class=\"sk-label sk-toggleable\"><input class=\"sk-toggleable__control sk-hidden--visually\" id=\"sk-estimator-id-9\" type=\"checkbox\" ><label for=\"sk-estimator-id-9\" class=\"sk-toggleable__label sk-toggleable__label-arrow\">RandomizedSearchCV</label><div class=\"sk-toggleable__content\"><pre>RandomizedSearchCV(cv=5,\n",
       "                   estimator=Pipeline(steps=[(&#x27;sampling&#x27;, SMOTE()),\n",
       "                                             (&#x27;classification&#x27;,\n",
       "                                              LogisticRegression())]),\n",
       "                   n_iter=5, n_jobs=-1,\n",
       "                   param_distributions={&#x27;classification__C&#x27;: array([1.00000000e-05, 1.02331658e-05, 1.04717682e-05, 1.07159340e-05,\n",
       "       1.09657929e-05, 1.12214777e-05, 1.14831241e-05, 1.17508713e-05,\n",
       "       1.20248614e-05, 1.23052400e-05, 1.25921561e-05, 1.288...\n",
       "       0.00259502, 0.00271859, 0.00284804, 0.00298365, 0.00312572,\n",
       "       0.00327455, 0.00343047, 0.00359381, 0.00376494, 0.00394421,\n",
       "       0.00413201, 0.00432876, 0.00453488, 0.00475081, 0.00497702,\n",
       "       0.00521401, 0.00546228, 0.00572237, 0.00599484, 0.00628029,\n",
       "       0.00657933, 0.00689261, 0.00722081, 0.00756463, 0.00792483,\n",
       "       0.00830218, 0.00869749, 0.00911163, 0.00954548, 0.01      ])},\n",
       "                   random_state=0, scoring=make_scorer(fbeta_score, beta=10),\n",
       "                   verbose=2)</pre></div></div></div><div class=\"sk-parallel\"><div class=\"sk-parallel-item\"><div class=\"sk-item\"><div class=\"sk-label-container\"><div class=\"sk-label sk-toggleable\"><input class=\"sk-toggleable__control sk-hidden--visually\" id=\"sk-estimator-id-10\" type=\"checkbox\" ><label for=\"sk-estimator-id-10\" class=\"sk-toggleable__label sk-toggleable__label-arrow\">estimator: Pipeline</label><div class=\"sk-toggleable__content\"><pre>Pipeline(steps=[(&#x27;sampling&#x27;, SMOTE()),\n",
       "                (&#x27;classification&#x27;, LogisticRegression())])</pre></div></div></div><div class=\"sk-serial\"><div class=\"sk-item\"><div class=\"sk-serial\"><div class=\"sk-item\"><div class=\"sk-estimator sk-toggleable\"><input class=\"sk-toggleable__control sk-hidden--visually\" id=\"sk-estimator-id-11\" type=\"checkbox\" ><label for=\"sk-estimator-id-11\" class=\"sk-toggleable__label sk-toggleable__label-arrow\">SMOTE</label><div class=\"sk-toggleable__content\"><pre>SMOTE()</pre></div></div></div><div class=\"sk-item\"><div class=\"sk-estimator sk-toggleable\"><input class=\"sk-toggleable__control sk-hidden--visually\" id=\"sk-estimator-id-12\" type=\"checkbox\" ><label for=\"sk-estimator-id-12\" class=\"sk-toggleable__label sk-toggleable__label-arrow\">LogisticRegression</label><div class=\"sk-toggleable__content\"><pre>LogisticRegression()</pre></div></div></div></div></div></div></div></div></div></div></div></div>"
      ],
      "text/plain": [
       "RandomizedSearchCV(cv=5,\n",
       "                   estimator=Pipeline(steps=[('sampling', SMOTE()),\n",
       "                                             ('classification',\n",
       "                                              LogisticRegression())]),\n",
       "                   n_iter=5, n_jobs=-1,\n",
       "                   param_distributions={'classification__C': array([1.00000000e-05, 1.02331658e-05, 1.04717682e-05, 1.07159340e-05,\n",
       "       1.09657929e-05, 1.12214777e-05, 1.14831241e-05, 1.17508713e-05,\n",
       "       1.20248614e-05, 1.23052400e-05, 1.25921561e-05, 1.288...\n",
       "       0.00259502, 0.00271859, 0.00284804, 0.00298365, 0.00312572,\n",
       "       0.00327455, 0.00343047, 0.00359381, 0.00376494, 0.00394421,\n",
       "       0.00413201, 0.00432876, 0.00453488, 0.00475081, 0.00497702,\n",
       "       0.00521401, 0.00546228, 0.00572237, 0.00599484, 0.00628029,\n",
       "       0.00657933, 0.00689261, 0.00722081, 0.00756463, 0.00792483,\n",
       "       0.00830218, 0.00869749, 0.00911163, 0.00954548, 0.01      ])},\n",
       "                   random_state=0, scoring=make_scorer(fbeta_score, beta=10),\n",
       "                   verbose=2)"
      ]
     },
     "execution_count": 42,
     "metadata": {},
     "output_type": "execute_result"
    }
   ],
   "source": [
    "search_logi_ftwo.fit(X_train,y_train)"
   ]
  },
  {
   "cell_type": "code",
   "execution_count": 43,
   "id": "bf9eabfd",
   "metadata": {},
   "outputs": [
    {
     "data": {
      "text/plain": [
       "{'classification__tol': 0.0047508101621027985,\n",
       " 'classification__solver': 'liblinear',\n",
       " 'classification__penalty': 'l1',\n",
       " 'classification__max_iter': 500,\n",
       " 'classification__C': 9098.272894455567}"
      ]
     },
     "execution_count": 43,
     "metadata": {},
     "output_type": "execute_result"
    }
   ],
   "source": [
    "search_logi_ftwo.best_params_"
   ]
  },
  {
   "cell_type": "code",
   "execution_count": 44,
   "id": "13c3632b",
   "metadata": {},
   "outputs": [
    {
     "data": {
      "text/plain": [
       "0.6426793510362524"
      ]
     },
     "execution_count": 44,
     "metadata": {},
     "output_type": "execute_result"
    }
   ],
   "source": [
    "search_logi_ftwo.best_score_"
   ]
  },
  {
   "cell_type": "code",
   "execution_count": 45,
   "id": "8640cd6f",
   "metadata": {},
   "outputs": [
    {
     "data": {
      "text/plain": [
       "0.625189489641233"
      ]
     },
     "execution_count": 45,
     "metadata": {},
     "output_type": "execute_result"
    }
   ],
   "source": [
    "search_logi_ftwo.score(X_test,y_test)"
   ]
  },
  {
   "cell_type": "code",
   "execution_count": 46,
   "id": "4b51aaad",
   "metadata": {},
   "outputs": [
    {
     "data": {
      "text/plain": [
       "0.6401881102080458"
      ]
     },
     "execution_count": 46,
     "metadata": {},
     "output_type": "execute_result"
    }
   ],
   "source": [
    "search_logi_ftwo.score(X_train,y_train)"
   ]
  },
  {
   "cell_type": "code",
   "execution_count": 47,
   "id": "c40373ed",
   "metadata": {},
   "outputs": [
    {
     "data": {
      "text/plain": [
       "0.625189489641233"
      ]
     },
     "execution_count": 47,
     "metadata": {},
     "output_type": "execute_result"
    }
   ],
   "source": [
    "y_predict = search_logi_ftwo.predict(X_test)\n",
    "\n",
    "fbeta_score(y_test,y_predict,beta=10)"
   ]
  },
  {
   "cell_type": "code",
   "execution_count": 48,
   "id": "714d039d",
   "metadata": {},
   "outputs": [
    {
     "data": {
      "text/html": [
       "<div>\n",
       "<style scoped>\n",
       "    .dataframe tbody tr th:only-of-type {\n",
       "        vertical-align: middle;\n",
       "    }\n",
       "\n",
       "    .dataframe tbody tr th {\n",
       "        vertical-align: top;\n",
       "    }\n",
       "\n",
       "    .dataframe thead th {\n",
       "        text-align: right;\n",
       "    }\n",
       "</style>\n",
       "<table border=\"1\" class=\"dataframe\">\n",
       "  <thead>\n",
       "    <tr style=\"text-align: right;\">\n",
       "      <th></th>\n",
       "      <th>model</th>\n",
       "      <th>score</th>\n",
       "      <th>best_params</th>\n",
       "      <th>best_score</th>\n",
       "      <th>train</th>\n",
       "      <th>test</th>\n",
       "      <th>fbeta_score_test</th>\n",
       "    </tr>\n",
       "  </thead>\n",
       "  <tbody>\n",
       "    <tr>\n",
       "      <th>0</th>\n",
       "      <td>search_tree</td>\n",
       "      <td>fbeta</td>\n",
       "      <td>{'classification__n_estimators': 13, 'classifi...</td>\n",
       "      <td>0.526590</td>\n",
       "      <td>0.527499</td>\n",
       "      <td>0.528562</td>\n",
       "      <td>0.528562</td>\n",
       "    </tr>\n",
       "    <tr>\n",
       "      <th>0</th>\n",
       "      <td>search_tree</td>\n",
       "      <td>roc_auc</td>\n",
       "      <td>{'classification__n_estimators': 13, 'classifi...</td>\n",
       "      <td>0.613108</td>\n",
       "      <td>0.611411</td>\n",
       "      <td>0.614265</td>\n",
       "      <td>0.487458</td>\n",
       "    </tr>\n",
       "    <tr>\n",
       "      <th>0</th>\n",
       "      <td>search_logi</td>\n",
       "      <td>fbeta</td>\n",
       "      <td>{'classification__tol': 0.0047508101621027985,...</td>\n",
       "      <td>0.642679</td>\n",
       "      <td>0.640188</td>\n",
       "      <td>0.625189</td>\n",
       "      <td>0.625189</td>\n",
       "    </tr>\n",
       "  </tbody>\n",
       "</table>\n",
       "</div>"
      ],
      "text/plain": [
       "         model    score                                        best_params  \\\n",
       "0  search_tree    fbeta  {'classification__n_estimators': 13, 'classifi...   \n",
       "0  search_tree  roc_auc  {'classification__n_estimators': 13, 'classifi...   \n",
       "0  search_logi    fbeta  {'classification__tol': 0.0047508101621027985,...   \n",
       "\n",
       "   best_score     train      test  fbeta_score_test  \n",
       "0    0.526590  0.527499  0.528562          0.528562  \n",
       "0    0.613108  0.611411  0.614265          0.487458  \n",
       "0    0.642679  0.640188  0.625189          0.625189  "
      ]
     },
     "execution_count": 48,
     "metadata": {},
     "output_type": "execute_result"
    }
   ],
   "source": [
    "current_model = search_logi_ftwo\n",
    "\n",
    "y_predict = current_model.predict(X_test)\n",
    "\n",
    "report_new = pd.DataFrame({'model':'search_logi','score':['fbeta'],'best_params':[current_model.best_params_],\\\n",
    "          'best_score':[current_model.best_score_],'train':[current_model.score(X_train, y_train)],\\\n",
    "          'test':[current_model.score(X_test, y_test)],'fbeta_score_test':[fbeta_score(y_test,y_predict,beta=10)]})\n",
    "\n",
    "report_final = pd.concat([report_final,report_new])\n",
    "report_final"
   ]
  },
  {
   "cell_type": "markdown",
   "id": "4b0950bf",
   "metadata": {},
   "source": [
    "## au_roc"
   ]
  },
  {
   "cell_type": "code",
   "execution_count": 49,
   "id": "99ba4b14",
   "metadata": {},
   "outputs": [],
   "source": [
    "search_logi_roc = RandomizedSearchCV(estimator = model_logistic,scoring = roc_auc,\\\n",
    "                               param_distributions = random_grid, n_iter = 3, cv = 5,\\\n",
    "                               verbose=2, random_state=0, n_jobs = -1)"
   ]
  },
  {
   "cell_type": "code",
   "execution_count": 50,
   "id": "c7d12b1e",
   "metadata": {},
   "outputs": [
    {
     "name": "stdout",
     "output_type": "stream",
     "text": [
      "Fitting 5 folds for each of 3 candidates, totalling 15 fits\n"
     ]
    },
    {
     "data": {
      "text/html": [
       "<style>#sk-container-id-4 {color: black;background-color: white;}#sk-container-id-4 pre{padding: 0;}#sk-container-id-4 div.sk-toggleable {background-color: white;}#sk-container-id-4 label.sk-toggleable__label {cursor: pointer;display: block;width: 100%;margin-bottom: 0;padding: 0.3em;box-sizing: border-box;text-align: center;}#sk-container-id-4 label.sk-toggleable__label-arrow:before {content: \"▸\";float: left;margin-right: 0.25em;color: #696969;}#sk-container-id-4 label.sk-toggleable__label-arrow:hover:before {color: black;}#sk-container-id-4 div.sk-estimator:hover label.sk-toggleable__label-arrow:before {color: black;}#sk-container-id-4 div.sk-toggleable__content {max-height: 0;max-width: 0;overflow: hidden;text-align: left;background-color: #f0f8ff;}#sk-container-id-4 div.sk-toggleable__content pre {margin: 0.2em;color: black;border-radius: 0.25em;background-color: #f0f8ff;}#sk-container-id-4 input.sk-toggleable__control:checked~div.sk-toggleable__content {max-height: 200px;max-width: 100%;overflow: auto;}#sk-container-id-4 input.sk-toggleable__control:checked~label.sk-toggleable__label-arrow:before {content: \"▾\";}#sk-container-id-4 div.sk-estimator input.sk-toggleable__control:checked~label.sk-toggleable__label {background-color: #d4ebff;}#sk-container-id-4 div.sk-label input.sk-toggleable__control:checked~label.sk-toggleable__label {background-color: #d4ebff;}#sk-container-id-4 input.sk-hidden--visually {border: 0;clip: rect(1px 1px 1px 1px);clip: rect(1px, 1px, 1px, 1px);height: 1px;margin: -1px;overflow: hidden;padding: 0;position: absolute;width: 1px;}#sk-container-id-4 div.sk-estimator {font-family: monospace;background-color: #f0f8ff;border: 1px dotted black;border-radius: 0.25em;box-sizing: border-box;margin-bottom: 0.5em;}#sk-container-id-4 div.sk-estimator:hover {background-color: #d4ebff;}#sk-container-id-4 div.sk-parallel-item::after {content: \"\";width: 100%;border-bottom: 1px solid gray;flex-grow: 1;}#sk-container-id-4 div.sk-label:hover label.sk-toggleable__label {background-color: #d4ebff;}#sk-container-id-4 div.sk-serial::before {content: \"\";position: absolute;border-left: 1px solid gray;box-sizing: border-box;top: 0;bottom: 0;left: 50%;z-index: 0;}#sk-container-id-4 div.sk-serial {display: flex;flex-direction: column;align-items: center;background-color: white;padding-right: 0.2em;padding-left: 0.2em;position: relative;}#sk-container-id-4 div.sk-item {position: relative;z-index: 1;}#sk-container-id-4 div.sk-parallel {display: flex;align-items: stretch;justify-content: center;background-color: white;position: relative;}#sk-container-id-4 div.sk-item::before, #sk-container-id-4 div.sk-parallel-item::before {content: \"\";position: absolute;border-left: 1px solid gray;box-sizing: border-box;top: 0;bottom: 0;left: 50%;z-index: -1;}#sk-container-id-4 div.sk-parallel-item {display: flex;flex-direction: column;z-index: 1;position: relative;background-color: white;}#sk-container-id-4 div.sk-parallel-item:first-child::after {align-self: flex-end;width: 50%;}#sk-container-id-4 div.sk-parallel-item:last-child::after {align-self: flex-start;width: 50%;}#sk-container-id-4 div.sk-parallel-item:only-child::after {width: 0;}#sk-container-id-4 div.sk-dashed-wrapped {border: 1px dashed gray;margin: 0 0.4em 0.5em 0.4em;box-sizing: border-box;padding-bottom: 0.4em;background-color: white;}#sk-container-id-4 div.sk-label label {font-family: monospace;font-weight: bold;display: inline-block;line-height: 1.2em;}#sk-container-id-4 div.sk-label-container {text-align: center;}#sk-container-id-4 div.sk-container {/* jupyter's `normalize.less` sets `[hidden] { display: none; }` but bootstrap.min.css set `[hidden] { display: none !important; }` so we also need the `!important` here to be able to override the default hidden behavior on the sphinx rendered scikit-learn.org. See: https://github.com/scikit-learn/scikit-learn/issues/21755 */display: inline-block !important;position: relative;}#sk-container-id-4 div.sk-text-repr-fallback {display: none;}</style><div id=\"sk-container-id-4\" class=\"sk-top-container\"><div class=\"sk-text-repr-fallback\"><pre>RandomizedSearchCV(cv=5,\n",
       "                   estimator=Pipeline(steps=[(&#x27;sampling&#x27;, SMOTE()),\n",
       "                                             (&#x27;classification&#x27;,\n",
       "                                              LogisticRegression())]),\n",
       "                   n_iter=3, n_jobs=-1,\n",
       "                   param_distributions={&#x27;classification__C&#x27;: array([1.00000000e-05, 1.02331658e-05, 1.04717682e-05, 1.07159340e-05,\n",
       "       1.09657929e-05, 1.12214777e-05, 1.14831241e-05, 1.17508713e-05,\n",
       "       1.20248614e-05, 1.23052400e-05, 1.25921561e-05, 1.288...\n",
       "       0.00259502, 0.00271859, 0.00284804, 0.00298365, 0.00312572,\n",
       "       0.00327455, 0.00343047, 0.00359381, 0.00376494, 0.00394421,\n",
       "       0.00413201, 0.00432876, 0.00453488, 0.00475081, 0.00497702,\n",
       "       0.00521401, 0.00546228, 0.00572237, 0.00599484, 0.00628029,\n",
       "       0.00657933, 0.00689261, 0.00722081, 0.00756463, 0.00792483,\n",
       "       0.00830218, 0.00869749, 0.00911163, 0.00954548, 0.01      ])},\n",
       "                   random_state=0, scoring=make_scorer(roc_auc_score),\n",
       "                   verbose=2)</pre><b>In a Jupyter environment, please rerun this cell to show the HTML representation or trust the notebook. <br />On GitHub, the HTML representation is unable to render, please try loading this page with nbviewer.org.</b></div><div class=\"sk-container\" hidden><div class=\"sk-item sk-dashed-wrapped\"><div class=\"sk-label-container\"><div class=\"sk-label sk-toggleable\"><input class=\"sk-toggleable__control sk-hidden--visually\" id=\"sk-estimator-id-13\" type=\"checkbox\" ><label for=\"sk-estimator-id-13\" class=\"sk-toggleable__label sk-toggleable__label-arrow\">RandomizedSearchCV</label><div class=\"sk-toggleable__content\"><pre>RandomizedSearchCV(cv=5,\n",
       "                   estimator=Pipeline(steps=[(&#x27;sampling&#x27;, SMOTE()),\n",
       "                                             (&#x27;classification&#x27;,\n",
       "                                              LogisticRegression())]),\n",
       "                   n_iter=3, n_jobs=-1,\n",
       "                   param_distributions={&#x27;classification__C&#x27;: array([1.00000000e-05, 1.02331658e-05, 1.04717682e-05, 1.07159340e-05,\n",
       "       1.09657929e-05, 1.12214777e-05, 1.14831241e-05, 1.17508713e-05,\n",
       "       1.20248614e-05, 1.23052400e-05, 1.25921561e-05, 1.288...\n",
       "       0.00259502, 0.00271859, 0.00284804, 0.00298365, 0.00312572,\n",
       "       0.00327455, 0.00343047, 0.00359381, 0.00376494, 0.00394421,\n",
       "       0.00413201, 0.00432876, 0.00453488, 0.00475081, 0.00497702,\n",
       "       0.00521401, 0.00546228, 0.00572237, 0.00599484, 0.00628029,\n",
       "       0.00657933, 0.00689261, 0.00722081, 0.00756463, 0.00792483,\n",
       "       0.00830218, 0.00869749, 0.00911163, 0.00954548, 0.01      ])},\n",
       "                   random_state=0, scoring=make_scorer(roc_auc_score),\n",
       "                   verbose=2)</pre></div></div></div><div class=\"sk-parallel\"><div class=\"sk-parallel-item\"><div class=\"sk-item\"><div class=\"sk-label-container\"><div class=\"sk-label sk-toggleable\"><input class=\"sk-toggleable__control sk-hidden--visually\" id=\"sk-estimator-id-14\" type=\"checkbox\" ><label for=\"sk-estimator-id-14\" class=\"sk-toggleable__label sk-toggleable__label-arrow\">estimator: Pipeline</label><div class=\"sk-toggleable__content\"><pre>Pipeline(steps=[(&#x27;sampling&#x27;, SMOTE()),\n",
       "                (&#x27;classification&#x27;, LogisticRegression())])</pre></div></div></div><div class=\"sk-serial\"><div class=\"sk-item\"><div class=\"sk-serial\"><div class=\"sk-item\"><div class=\"sk-estimator sk-toggleable\"><input class=\"sk-toggleable__control sk-hidden--visually\" id=\"sk-estimator-id-15\" type=\"checkbox\" ><label for=\"sk-estimator-id-15\" class=\"sk-toggleable__label sk-toggleable__label-arrow\">SMOTE</label><div class=\"sk-toggleable__content\"><pre>SMOTE()</pre></div></div></div><div class=\"sk-item\"><div class=\"sk-estimator sk-toggleable\"><input class=\"sk-toggleable__control sk-hidden--visually\" id=\"sk-estimator-id-16\" type=\"checkbox\" ><label for=\"sk-estimator-id-16\" class=\"sk-toggleable__label sk-toggleable__label-arrow\">LogisticRegression</label><div class=\"sk-toggleable__content\"><pre>LogisticRegression()</pre></div></div></div></div></div></div></div></div></div></div></div></div>"
      ],
      "text/plain": [
       "RandomizedSearchCV(cv=5,\n",
       "                   estimator=Pipeline(steps=[('sampling', SMOTE()),\n",
       "                                             ('classification',\n",
       "                                              LogisticRegression())]),\n",
       "                   n_iter=3, n_jobs=-1,\n",
       "                   param_distributions={'classification__C': array([1.00000000e-05, 1.02331658e-05, 1.04717682e-05, 1.07159340e-05,\n",
       "       1.09657929e-05, 1.12214777e-05, 1.14831241e-05, 1.17508713e-05,\n",
       "       1.20248614e-05, 1.23052400e-05, 1.25921561e-05, 1.288...\n",
       "       0.00259502, 0.00271859, 0.00284804, 0.00298365, 0.00312572,\n",
       "       0.00327455, 0.00343047, 0.00359381, 0.00376494, 0.00394421,\n",
       "       0.00413201, 0.00432876, 0.00453488, 0.00475081, 0.00497702,\n",
       "       0.00521401, 0.00546228, 0.00572237, 0.00599484, 0.00628029,\n",
       "       0.00657933, 0.00689261, 0.00722081, 0.00756463, 0.00792483,\n",
       "       0.00830218, 0.00869749, 0.00911163, 0.00954548, 0.01      ])},\n",
       "                   random_state=0, scoring=make_scorer(roc_auc_score),\n",
       "                   verbose=2)"
      ]
     },
     "execution_count": 50,
     "metadata": {},
     "output_type": "execute_result"
    }
   ],
   "source": [
    "search_logi_roc.fit(X_train,y_train)"
   ]
  },
  {
   "cell_type": "code",
   "execution_count": 51,
   "id": "caded828",
   "metadata": {},
   "outputs": [
    {
     "data": {
      "text/plain": [
       "{'classification__tol': 0.0001668100537200059,\n",
       " 'classification__solver': 'liblinear',\n",
       " 'classification__penalty': 'l2',\n",
       " 'classification__max_iter': 500,\n",
       " 'classification__C': 444.27067496068827}"
      ]
     },
     "execution_count": 51,
     "metadata": {},
     "output_type": "execute_result"
    }
   ],
   "source": [
    "search_logi_roc.best_params_"
   ]
  },
  {
   "cell_type": "code",
   "execution_count": 52,
   "id": "6537d233",
   "metadata": {},
   "outputs": [
    {
     "data": {
      "text/plain": [
       "0.6099282757484276"
      ]
     },
     "execution_count": 52,
     "metadata": {},
     "output_type": "execute_result"
    }
   ],
   "source": [
    "search_logi_roc.best_score_"
   ]
  },
  {
   "cell_type": "code",
   "execution_count": 53,
   "id": "aad48694",
   "metadata": {},
   "outputs": [
    {
     "data": {
      "text/plain": [
       "0.5916597148490823"
      ]
     },
     "execution_count": 53,
     "metadata": {},
     "output_type": "execute_result"
    }
   ],
   "source": [
    "search_logi_roc.score(X_test,y_test)"
   ]
  },
  {
   "cell_type": "code",
   "execution_count": 54,
   "id": "a08b6161",
   "metadata": {},
   "outputs": [
    {
     "data": {
      "text/plain": [
       "0.6163080237822506"
      ]
     },
     "execution_count": 54,
     "metadata": {},
     "output_type": "execute_result"
    }
   ],
   "source": [
    "search_logi_roc.score(X_train,y_train)"
   ]
  },
  {
   "cell_type": "code",
   "execution_count": 55,
   "id": "faa14c31",
   "metadata": {},
   "outputs": [
    {
     "data": {
      "text/plain": [
       "0.5504949254479388"
      ]
     },
     "execution_count": 55,
     "metadata": {},
     "output_type": "execute_result"
    }
   ],
   "source": [
    "y_predict = search_logi_roc.predict(X_test)\n",
    "\n",
    "fbeta_score(y_test,y_predict,beta=10)"
   ]
  },
  {
   "cell_type": "code",
   "execution_count": 56,
   "id": "6797f4f9",
   "metadata": {},
   "outputs": [
    {
     "data": {
      "text/html": [
       "<div>\n",
       "<style scoped>\n",
       "    .dataframe tbody tr th:only-of-type {\n",
       "        vertical-align: middle;\n",
       "    }\n",
       "\n",
       "    .dataframe tbody tr th {\n",
       "        vertical-align: top;\n",
       "    }\n",
       "\n",
       "    .dataframe thead th {\n",
       "        text-align: right;\n",
       "    }\n",
       "</style>\n",
       "<table border=\"1\" class=\"dataframe\">\n",
       "  <thead>\n",
       "    <tr style=\"text-align: right;\">\n",
       "      <th></th>\n",
       "      <th>model</th>\n",
       "      <th>score</th>\n",
       "      <th>best_params</th>\n",
       "      <th>best_score</th>\n",
       "      <th>train</th>\n",
       "      <th>test</th>\n",
       "      <th>fbeta_score_test</th>\n",
       "    </tr>\n",
       "  </thead>\n",
       "  <tbody>\n",
       "    <tr>\n",
       "      <th>0</th>\n",
       "      <td>search_tree</td>\n",
       "      <td>fbeta</td>\n",
       "      <td>{'classification__n_estimators': 13, 'classifi...</td>\n",
       "      <td>0.526590</td>\n",
       "      <td>0.527499</td>\n",
       "      <td>0.528562</td>\n",
       "      <td>0.528562</td>\n",
       "    </tr>\n",
       "    <tr>\n",
       "      <th>0</th>\n",
       "      <td>search_tree</td>\n",
       "      <td>roc_auc</td>\n",
       "      <td>{'classification__n_estimators': 13, 'classifi...</td>\n",
       "      <td>0.613108</td>\n",
       "      <td>0.611411</td>\n",
       "      <td>0.614265</td>\n",
       "      <td>0.487458</td>\n",
       "    </tr>\n",
       "    <tr>\n",
       "      <th>0</th>\n",
       "      <td>search_logi</td>\n",
       "      <td>fbeta</td>\n",
       "      <td>{'classification__tol': 0.0047508101621027985,...</td>\n",
       "      <td>0.642679</td>\n",
       "      <td>0.640188</td>\n",
       "      <td>0.625189</td>\n",
       "      <td>0.625189</td>\n",
       "    </tr>\n",
       "    <tr>\n",
       "      <th>0</th>\n",
       "      <td>search_logi</td>\n",
       "      <td>roc_auc</td>\n",
       "      <td>{'classification__tol': 0.0001668100537200059,...</td>\n",
       "      <td>0.609928</td>\n",
       "      <td>0.616308</td>\n",
       "      <td>0.591660</td>\n",
       "      <td>0.550495</td>\n",
       "    </tr>\n",
       "  </tbody>\n",
       "</table>\n",
       "</div>"
      ],
      "text/plain": [
       "         model    score                                        best_params  \\\n",
       "0  search_tree    fbeta  {'classification__n_estimators': 13, 'classifi...   \n",
       "0  search_tree  roc_auc  {'classification__n_estimators': 13, 'classifi...   \n",
       "0  search_logi    fbeta  {'classification__tol': 0.0047508101621027985,...   \n",
       "0  search_logi  roc_auc  {'classification__tol': 0.0001668100537200059,...   \n",
       "\n",
       "   best_score     train      test  fbeta_score_test  \n",
       "0    0.526590  0.527499  0.528562          0.528562  \n",
       "0    0.613108  0.611411  0.614265          0.487458  \n",
       "0    0.642679  0.640188  0.625189          0.625189  \n",
       "0    0.609928  0.616308  0.591660          0.550495  "
      ]
     },
     "execution_count": 56,
     "metadata": {},
     "output_type": "execute_result"
    }
   ],
   "source": [
    "current_model = search_logi_roc\n",
    "\n",
    "y_predict = current_model.predict(X_test)\n",
    "\n",
    "report_new = pd.DataFrame({'model':'search_logi','score':['roc_auc'],'best_params':[current_model.best_params_],\\\n",
    "          'best_score':[current_model.best_score_],'train':[current_model.score(X_train, y_train)],\\\n",
    "          'test':[current_model.score(X_test, y_test)],'fbeta_score_test':[fbeta_score(y_test,y_predict,beta=10)]})\n",
    "\n",
    "report_final = pd.concat([report_final,report_new])\n",
    "report_final"
   ]
  },
  {
   "cell_type": "markdown",
   "id": "ea8a8f5e",
   "metadata": {},
   "source": [
    "# KNN Classifier"
   ]
  },
  {
   "cell_type": "markdown",
   "id": "58c86770",
   "metadata": {},
   "source": [
    "## fwto scorer"
   ]
  },
  {
   "cell_type": "code",
   "execution_count": 57,
   "id": "bd48638b",
   "metadata": {},
   "outputs": [],
   "source": [
    "from sklearn.neighbors import KNeighborsClassifier"
   ]
  },
  {
   "cell_type": "code",
   "execution_count": 58,
   "id": "9ba46254",
   "metadata": {},
   "outputs": [],
   "source": [
    "model_KNN = Pipeline([\n",
    "        ('sampling', SMOTE()),\n",
    "        ('classification', KNeighborsClassifier())\n",
    "    ])"
   ]
  },
  {
   "cell_type": "code",
   "execution_count": 59,
   "id": "1ef26b14",
   "metadata": {},
   "outputs": [],
   "source": [
    "random_grid = {'classification__n_neighbors':[2,5,10,20,30]}"
   ]
  },
  {
   "cell_type": "code",
   "execution_count": 60,
   "id": "a6ca0569",
   "metadata": {},
   "outputs": [],
   "source": [
    "search_KNN_ftwo = RandomizedSearchCV(estimator = model_KNN,scoring = ftwo_scorer,\\\n",
    "                               param_distributions = random_grid, n_iter = 3, cv = 5,\\\n",
    "                               verbose=2, random_state=0, n_jobs = -1)"
   ]
  },
  {
   "cell_type": "code",
   "execution_count": 61,
   "id": "ed80a64f",
   "metadata": {},
   "outputs": [
    {
     "name": "stdout",
     "output_type": "stream",
     "text": [
      "Fitting 5 folds for each of 3 candidates, totalling 15 fits\n"
     ]
    },
    {
     "data": {
      "text/html": [
       "<style>#sk-container-id-5 {color: black;background-color: white;}#sk-container-id-5 pre{padding: 0;}#sk-container-id-5 div.sk-toggleable {background-color: white;}#sk-container-id-5 label.sk-toggleable__label {cursor: pointer;display: block;width: 100%;margin-bottom: 0;padding: 0.3em;box-sizing: border-box;text-align: center;}#sk-container-id-5 label.sk-toggleable__label-arrow:before {content: \"▸\";float: left;margin-right: 0.25em;color: #696969;}#sk-container-id-5 label.sk-toggleable__label-arrow:hover:before {color: black;}#sk-container-id-5 div.sk-estimator:hover label.sk-toggleable__label-arrow:before {color: black;}#sk-container-id-5 div.sk-toggleable__content {max-height: 0;max-width: 0;overflow: hidden;text-align: left;background-color: #f0f8ff;}#sk-container-id-5 div.sk-toggleable__content pre {margin: 0.2em;color: black;border-radius: 0.25em;background-color: #f0f8ff;}#sk-container-id-5 input.sk-toggleable__control:checked~div.sk-toggleable__content {max-height: 200px;max-width: 100%;overflow: auto;}#sk-container-id-5 input.sk-toggleable__control:checked~label.sk-toggleable__label-arrow:before {content: \"▾\";}#sk-container-id-5 div.sk-estimator input.sk-toggleable__control:checked~label.sk-toggleable__label {background-color: #d4ebff;}#sk-container-id-5 div.sk-label input.sk-toggleable__control:checked~label.sk-toggleable__label {background-color: #d4ebff;}#sk-container-id-5 input.sk-hidden--visually {border: 0;clip: rect(1px 1px 1px 1px);clip: rect(1px, 1px, 1px, 1px);height: 1px;margin: -1px;overflow: hidden;padding: 0;position: absolute;width: 1px;}#sk-container-id-5 div.sk-estimator {font-family: monospace;background-color: #f0f8ff;border: 1px dotted black;border-radius: 0.25em;box-sizing: border-box;margin-bottom: 0.5em;}#sk-container-id-5 div.sk-estimator:hover {background-color: #d4ebff;}#sk-container-id-5 div.sk-parallel-item::after {content: \"\";width: 100%;border-bottom: 1px solid gray;flex-grow: 1;}#sk-container-id-5 div.sk-label:hover label.sk-toggleable__label {background-color: #d4ebff;}#sk-container-id-5 div.sk-serial::before {content: \"\";position: absolute;border-left: 1px solid gray;box-sizing: border-box;top: 0;bottom: 0;left: 50%;z-index: 0;}#sk-container-id-5 div.sk-serial {display: flex;flex-direction: column;align-items: center;background-color: white;padding-right: 0.2em;padding-left: 0.2em;position: relative;}#sk-container-id-5 div.sk-item {position: relative;z-index: 1;}#sk-container-id-5 div.sk-parallel {display: flex;align-items: stretch;justify-content: center;background-color: white;position: relative;}#sk-container-id-5 div.sk-item::before, #sk-container-id-5 div.sk-parallel-item::before {content: \"\";position: absolute;border-left: 1px solid gray;box-sizing: border-box;top: 0;bottom: 0;left: 50%;z-index: -1;}#sk-container-id-5 div.sk-parallel-item {display: flex;flex-direction: column;z-index: 1;position: relative;background-color: white;}#sk-container-id-5 div.sk-parallel-item:first-child::after {align-self: flex-end;width: 50%;}#sk-container-id-5 div.sk-parallel-item:last-child::after {align-self: flex-start;width: 50%;}#sk-container-id-5 div.sk-parallel-item:only-child::after {width: 0;}#sk-container-id-5 div.sk-dashed-wrapped {border: 1px dashed gray;margin: 0 0.4em 0.5em 0.4em;box-sizing: border-box;padding-bottom: 0.4em;background-color: white;}#sk-container-id-5 div.sk-label label {font-family: monospace;font-weight: bold;display: inline-block;line-height: 1.2em;}#sk-container-id-5 div.sk-label-container {text-align: center;}#sk-container-id-5 div.sk-container {/* jupyter's `normalize.less` sets `[hidden] { display: none; }` but bootstrap.min.css set `[hidden] { display: none !important; }` so we also need the `!important` here to be able to override the default hidden behavior on the sphinx rendered scikit-learn.org. See: https://github.com/scikit-learn/scikit-learn/issues/21755 */display: inline-block !important;position: relative;}#sk-container-id-5 div.sk-text-repr-fallback {display: none;}</style><div id=\"sk-container-id-5\" class=\"sk-top-container\"><div class=\"sk-text-repr-fallback\"><pre>RandomizedSearchCV(cv=5,\n",
       "                   estimator=Pipeline(steps=[(&#x27;sampling&#x27;, SMOTE()),\n",
       "                                             (&#x27;classification&#x27;,\n",
       "                                              KNeighborsClassifier())]),\n",
       "                   n_iter=3, n_jobs=-1,\n",
       "                   param_distributions={&#x27;classification__n_neighbors&#x27;: [2, 5,\n",
       "                                                                        10, 20,\n",
       "                                                                        30]},\n",
       "                   random_state=0, scoring=make_scorer(fbeta_score, beta=10),\n",
       "                   verbose=2)</pre><b>In a Jupyter environment, please rerun this cell to show the HTML representation or trust the notebook. <br />On GitHub, the HTML representation is unable to render, please try loading this page with nbviewer.org.</b></div><div class=\"sk-container\" hidden><div class=\"sk-item sk-dashed-wrapped\"><div class=\"sk-label-container\"><div class=\"sk-label sk-toggleable\"><input class=\"sk-toggleable__control sk-hidden--visually\" id=\"sk-estimator-id-17\" type=\"checkbox\" ><label for=\"sk-estimator-id-17\" class=\"sk-toggleable__label sk-toggleable__label-arrow\">RandomizedSearchCV</label><div class=\"sk-toggleable__content\"><pre>RandomizedSearchCV(cv=5,\n",
       "                   estimator=Pipeline(steps=[(&#x27;sampling&#x27;, SMOTE()),\n",
       "                                             (&#x27;classification&#x27;,\n",
       "                                              KNeighborsClassifier())]),\n",
       "                   n_iter=3, n_jobs=-1,\n",
       "                   param_distributions={&#x27;classification__n_neighbors&#x27;: [2, 5,\n",
       "                                                                        10, 20,\n",
       "                                                                        30]},\n",
       "                   random_state=0, scoring=make_scorer(fbeta_score, beta=10),\n",
       "                   verbose=2)</pre></div></div></div><div class=\"sk-parallel\"><div class=\"sk-parallel-item\"><div class=\"sk-item\"><div class=\"sk-label-container\"><div class=\"sk-label sk-toggleable\"><input class=\"sk-toggleable__control sk-hidden--visually\" id=\"sk-estimator-id-18\" type=\"checkbox\" ><label for=\"sk-estimator-id-18\" class=\"sk-toggleable__label sk-toggleable__label-arrow\">estimator: Pipeline</label><div class=\"sk-toggleable__content\"><pre>Pipeline(steps=[(&#x27;sampling&#x27;, SMOTE()),\n",
       "                (&#x27;classification&#x27;, KNeighborsClassifier())])</pre></div></div></div><div class=\"sk-serial\"><div class=\"sk-item\"><div class=\"sk-serial\"><div class=\"sk-item\"><div class=\"sk-estimator sk-toggleable\"><input class=\"sk-toggleable__control sk-hidden--visually\" id=\"sk-estimator-id-19\" type=\"checkbox\" ><label for=\"sk-estimator-id-19\" class=\"sk-toggleable__label sk-toggleable__label-arrow\">SMOTE</label><div class=\"sk-toggleable__content\"><pre>SMOTE()</pre></div></div></div><div class=\"sk-item\"><div class=\"sk-estimator sk-toggleable\"><input class=\"sk-toggleable__control sk-hidden--visually\" id=\"sk-estimator-id-20\" type=\"checkbox\" ><label for=\"sk-estimator-id-20\" class=\"sk-toggleable__label sk-toggleable__label-arrow\">KNeighborsClassifier</label><div class=\"sk-toggleable__content\"><pre>KNeighborsClassifier()</pre></div></div></div></div></div></div></div></div></div></div></div></div>"
      ],
      "text/plain": [
       "RandomizedSearchCV(cv=5,\n",
       "                   estimator=Pipeline(steps=[('sampling', SMOTE()),\n",
       "                                             ('classification',\n",
       "                                              KNeighborsClassifier())]),\n",
       "                   n_iter=3, n_jobs=-1,\n",
       "                   param_distributions={'classification__n_neighbors': [2, 5,\n",
       "                                                                        10, 20,\n",
       "                                                                        30]},\n",
       "                   random_state=0, scoring=make_scorer(fbeta_score, beta=10),\n",
       "                   verbose=2)"
      ]
     },
     "execution_count": 61,
     "metadata": {},
     "output_type": "execute_result"
    }
   ],
   "source": [
    "search_KNN_ftwo.fit(X_train,y_train)"
   ]
  },
  {
   "cell_type": "code",
   "execution_count": 62,
   "id": "f4997c57",
   "metadata": {},
   "outputs": [
    {
     "data": {
      "text/plain": [
       "0.41663421774439674"
      ]
     },
     "execution_count": 62,
     "metadata": {},
     "output_type": "execute_result"
    }
   ],
   "source": [
    "search_KNN_ftwo.best_score_"
   ]
  },
  {
   "cell_type": "code",
   "execution_count": 63,
   "id": "6c2817f0",
   "metadata": {},
   "outputs": [
    {
     "data": {
      "text/plain": [
       "{'classification__n_neighbors': 10}"
      ]
     },
     "execution_count": 63,
     "metadata": {},
     "output_type": "execute_result"
    }
   ],
   "source": [
    "search_KNN_ftwo.best_params_"
   ]
  },
  {
   "cell_type": "code",
   "execution_count": 64,
   "id": "de447a59",
   "metadata": {},
   "outputs": [
    {
     "data": {
      "text/plain": [
       "0.3683350100603622"
      ]
     },
     "execution_count": 64,
     "metadata": {},
     "output_type": "execute_result"
    }
   ],
   "source": [
    "search_KNN_ftwo.score(X_test,y_test)"
   ]
  },
  {
   "cell_type": "code",
   "execution_count": 65,
   "id": "fa2908e3",
   "metadata": {},
   "outputs": [
    {
     "data": {
      "text/plain": [
       "0.9320340021442793"
      ]
     },
     "execution_count": 65,
     "metadata": {},
     "output_type": "execute_result"
    }
   ],
   "source": [
    "search_KNN_ftwo.score(X_train,y_train)"
   ]
  },
  {
   "cell_type": "code",
   "execution_count": 66,
   "id": "e834d119",
   "metadata": {},
   "outputs": [],
   "source": [
    "# Très clairement, ce modèle overfit"
   ]
  },
  {
   "cell_type": "code",
   "execution_count": 67,
   "id": "361e1ef0",
   "metadata": {
    "scrolled": true
   },
   "outputs": [
    {
     "data": {
      "text/plain": [
       "0.3683350100603622"
      ]
     },
     "execution_count": 67,
     "metadata": {},
     "output_type": "execute_result"
    }
   ],
   "source": [
    "y_predict = search_KNN_ftwo.predict(X_test)\n",
    "\n",
    "fbeta_score(y_test,y_predict,beta=10)"
   ]
  },
  {
   "cell_type": "code",
   "execution_count": 68,
   "id": "fd4ed60a",
   "metadata": {},
   "outputs": [
    {
     "data": {
      "text/html": [
       "<div>\n",
       "<style scoped>\n",
       "    .dataframe tbody tr th:only-of-type {\n",
       "        vertical-align: middle;\n",
       "    }\n",
       "\n",
       "    .dataframe tbody tr th {\n",
       "        vertical-align: top;\n",
       "    }\n",
       "\n",
       "    .dataframe thead th {\n",
       "        text-align: right;\n",
       "    }\n",
       "</style>\n",
       "<table border=\"1\" class=\"dataframe\">\n",
       "  <thead>\n",
       "    <tr style=\"text-align: right;\">\n",
       "      <th></th>\n",
       "      <th>model</th>\n",
       "      <th>score</th>\n",
       "      <th>best_params</th>\n",
       "      <th>best_score</th>\n",
       "      <th>train</th>\n",
       "      <th>test</th>\n",
       "      <th>fbeta_score_test</th>\n",
       "    </tr>\n",
       "  </thead>\n",
       "  <tbody>\n",
       "    <tr>\n",
       "      <th>0</th>\n",
       "      <td>search_tree</td>\n",
       "      <td>fbeta</td>\n",
       "      <td>{'classification__n_estimators': 13, 'classifi...</td>\n",
       "      <td>0.526590</td>\n",
       "      <td>0.527499</td>\n",
       "      <td>0.528562</td>\n",
       "      <td>0.528562</td>\n",
       "    </tr>\n",
       "    <tr>\n",
       "      <th>0</th>\n",
       "      <td>search_tree</td>\n",
       "      <td>roc_auc</td>\n",
       "      <td>{'classification__n_estimators': 13, 'classifi...</td>\n",
       "      <td>0.613108</td>\n",
       "      <td>0.611411</td>\n",
       "      <td>0.614265</td>\n",
       "      <td>0.487458</td>\n",
       "    </tr>\n",
       "    <tr>\n",
       "      <th>0</th>\n",
       "      <td>search_logi</td>\n",
       "      <td>fbeta</td>\n",
       "      <td>{'classification__tol': 0.0047508101621027985,...</td>\n",
       "      <td>0.642679</td>\n",
       "      <td>0.640188</td>\n",
       "      <td>0.625189</td>\n",
       "      <td>0.625189</td>\n",
       "    </tr>\n",
       "    <tr>\n",
       "      <th>0</th>\n",
       "      <td>search_logi</td>\n",
       "      <td>roc_auc</td>\n",
       "      <td>{'classification__tol': 0.0001668100537200059,...</td>\n",
       "      <td>0.609928</td>\n",
       "      <td>0.616308</td>\n",
       "      <td>0.591660</td>\n",
       "      <td>0.550495</td>\n",
       "    </tr>\n",
       "    <tr>\n",
       "      <th>0</th>\n",
       "      <td>search_KNN</td>\n",
       "      <td>fbeta</td>\n",
       "      <td>{'classification__n_neighbors': 10}</td>\n",
       "      <td>0.416634</td>\n",
       "      <td>0.932034</td>\n",
       "      <td>0.368335</td>\n",
       "      <td>0.368335</td>\n",
       "    </tr>\n",
       "  </tbody>\n",
       "</table>\n",
       "</div>"
      ],
      "text/plain": [
       "         model    score                                        best_params  \\\n",
       "0  search_tree    fbeta  {'classification__n_estimators': 13, 'classifi...   \n",
       "0  search_tree  roc_auc  {'classification__n_estimators': 13, 'classifi...   \n",
       "0  search_logi    fbeta  {'classification__tol': 0.0047508101621027985,...   \n",
       "0  search_logi  roc_auc  {'classification__tol': 0.0001668100537200059,...   \n",
       "0   search_KNN    fbeta                {'classification__n_neighbors': 10}   \n",
       "\n",
       "   best_score     train      test  fbeta_score_test  \n",
       "0    0.526590  0.527499  0.528562          0.528562  \n",
       "0    0.613108  0.611411  0.614265          0.487458  \n",
       "0    0.642679  0.640188  0.625189          0.625189  \n",
       "0    0.609928  0.616308  0.591660          0.550495  \n",
       "0    0.416634  0.932034  0.368335          0.368335  "
      ]
     },
     "execution_count": 68,
     "metadata": {},
     "output_type": "execute_result"
    }
   ],
   "source": [
    "current_model = search_KNN_ftwo\n",
    "\n",
    "y_predict = current_model.predict(X_test)\n",
    "\n",
    "report_new = pd.DataFrame({'model':'search_KNN','score':['fbeta'],'best_params':[current_model.best_params_],\\\n",
    "          'best_score':[current_model.best_score_],'train':[current_model.score(X_train, y_train)],\\\n",
    "          'test':[current_model.score(X_test, y_test)],'fbeta_score_test':[fbeta_score(y_test,y_predict,beta=10)]})\n",
    "\n",
    "report_final = pd.concat([report_final,report_new])\n",
    "report_final"
   ]
  },
  {
   "cell_type": "markdown",
   "id": "8a78eb6a",
   "metadata": {},
   "source": [
    "## au_roc"
   ]
  },
  {
   "cell_type": "code",
   "execution_count": 69,
   "id": "c28c0824",
   "metadata": {},
   "outputs": [],
   "source": [
    "search_KNN_roc = RandomizedSearchCV(estimator = model_KNN,scoring = roc_auc,\\\n",
    "                               param_distributions = random_grid, n_iter = 3, cv = 5,\\\n",
    "                               verbose=2, random_state=0, n_jobs = -1)"
   ]
  },
  {
   "cell_type": "code",
   "execution_count": 70,
   "id": "f5072fc5",
   "metadata": {},
   "outputs": [
    {
     "name": "stdout",
     "output_type": "stream",
     "text": [
      "Fitting 5 folds for each of 3 candidates, totalling 15 fits\n"
     ]
    },
    {
     "data": {
      "text/html": [
       "<style>#sk-container-id-6 {color: black;background-color: white;}#sk-container-id-6 pre{padding: 0;}#sk-container-id-6 div.sk-toggleable {background-color: white;}#sk-container-id-6 label.sk-toggleable__label {cursor: pointer;display: block;width: 100%;margin-bottom: 0;padding: 0.3em;box-sizing: border-box;text-align: center;}#sk-container-id-6 label.sk-toggleable__label-arrow:before {content: \"▸\";float: left;margin-right: 0.25em;color: #696969;}#sk-container-id-6 label.sk-toggleable__label-arrow:hover:before {color: black;}#sk-container-id-6 div.sk-estimator:hover label.sk-toggleable__label-arrow:before {color: black;}#sk-container-id-6 div.sk-toggleable__content {max-height: 0;max-width: 0;overflow: hidden;text-align: left;background-color: #f0f8ff;}#sk-container-id-6 div.sk-toggleable__content pre {margin: 0.2em;color: black;border-radius: 0.25em;background-color: #f0f8ff;}#sk-container-id-6 input.sk-toggleable__control:checked~div.sk-toggleable__content {max-height: 200px;max-width: 100%;overflow: auto;}#sk-container-id-6 input.sk-toggleable__control:checked~label.sk-toggleable__label-arrow:before {content: \"▾\";}#sk-container-id-6 div.sk-estimator input.sk-toggleable__control:checked~label.sk-toggleable__label {background-color: #d4ebff;}#sk-container-id-6 div.sk-label input.sk-toggleable__control:checked~label.sk-toggleable__label {background-color: #d4ebff;}#sk-container-id-6 input.sk-hidden--visually {border: 0;clip: rect(1px 1px 1px 1px);clip: rect(1px, 1px, 1px, 1px);height: 1px;margin: -1px;overflow: hidden;padding: 0;position: absolute;width: 1px;}#sk-container-id-6 div.sk-estimator {font-family: monospace;background-color: #f0f8ff;border: 1px dotted black;border-radius: 0.25em;box-sizing: border-box;margin-bottom: 0.5em;}#sk-container-id-6 div.sk-estimator:hover {background-color: #d4ebff;}#sk-container-id-6 div.sk-parallel-item::after {content: \"\";width: 100%;border-bottom: 1px solid gray;flex-grow: 1;}#sk-container-id-6 div.sk-label:hover label.sk-toggleable__label {background-color: #d4ebff;}#sk-container-id-6 div.sk-serial::before {content: \"\";position: absolute;border-left: 1px solid gray;box-sizing: border-box;top: 0;bottom: 0;left: 50%;z-index: 0;}#sk-container-id-6 div.sk-serial {display: flex;flex-direction: column;align-items: center;background-color: white;padding-right: 0.2em;padding-left: 0.2em;position: relative;}#sk-container-id-6 div.sk-item {position: relative;z-index: 1;}#sk-container-id-6 div.sk-parallel {display: flex;align-items: stretch;justify-content: center;background-color: white;position: relative;}#sk-container-id-6 div.sk-item::before, #sk-container-id-6 div.sk-parallel-item::before {content: \"\";position: absolute;border-left: 1px solid gray;box-sizing: border-box;top: 0;bottom: 0;left: 50%;z-index: -1;}#sk-container-id-6 div.sk-parallel-item {display: flex;flex-direction: column;z-index: 1;position: relative;background-color: white;}#sk-container-id-6 div.sk-parallel-item:first-child::after {align-self: flex-end;width: 50%;}#sk-container-id-6 div.sk-parallel-item:last-child::after {align-self: flex-start;width: 50%;}#sk-container-id-6 div.sk-parallel-item:only-child::after {width: 0;}#sk-container-id-6 div.sk-dashed-wrapped {border: 1px dashed gray;margin: 0 0.4em 0.5em 0.4em;box-sizing: border-box;padding-bottom: 0.4em;background-color: white;}#sk-container-id-6 div.sk-label label {font-family: monospace;font-weight: bold;display: inline-block;line-height: 1.2em;}#sk-container-id-6 div.sk-label-container {text-align: center;}#sk-container-id-6 div.sk-container {/* jupyter's `normalize.less` sets `[hidden] { display: none; }` but bootstrap.min.css set `[hidden] { display: none !important; }` so we also need the `!important` here to be able to override the default hidden behavior on the sphinx rendered scikit-learn.org. See: https://github.com/scikit-learn/scikit-learn/issues/21755 */display: inline-block !important;position: relative;}#sk-container-id-6 div.sk-text-repr-fallback {display: none;}</style><div id=\"sk-container-id-6\" class=\"sk-top-container\"><div class=\"sk-text-repr-fallback\"><pre>RandomizedSearchCV(cv=5,\n",
       "                   estimator=Pipeline(steps=[(&#x27;sampling&#x27;, SMOTE()),\n",
       "                                             (&#x27;classification&#x27;,\n",
       "                                              KNeighborsClassifier())]),\n",
       "                   n_iter=3, n_jobs=-1,\n",
       "                   param_distributions={&#x27;classification__n_neighbors&#x27;: [2, 5,\n",
       "                                                                        10, 20,\n",
       "                                                                        30]},\n",
       "                   random_state=0, scoring=make_scorer(roc_auc_score),\n",
       "                   verbose=2)</pre><b>In a Jupyter environment, please rerun this cell to show the HTML representation or trust the notebook. <br />On GitHub, the HTML representation is unable to render, please try loading this page with nbviewer.org.</b></div><div class=\"sk-container\" hidden><div class=\"sk-item sk-dashed-wrapped\"><div class=\"sk-label-container\"><div class=\"sk-label sk-toggleable\"><input class=\"sk-toggleable__control sk-hidden--visually\" id=\"sk-estimator-id-21\" type=\"checkbox\" ><label for=\"sk-estimator-id-21\" class=\"sk-toggleable__label sk-toggleable__label-arrow\">RandomizedSearchCV</label><div class=\"sk-toggleable__content\"><pre>RandomizedSearchCV(cv=5,\n",
       "                   estimator=Pipeline(steps=[(&#x27;sampling&#x27;, SMOTE()),\n",
       "                                             (&#x27;classification&#x27;,\n",
       "                                              KNeighborsClassifier())]),\n",
       "                   n_iter=3, n_jobs=-1,\n",
       "                   param_distributions={&#x27;classification__n_neighbors&#x27;: [2, 5,\n",
       "                                                                        10, 20,\n",
       "                                                                        30]},\n",
       "                   random_state=0, scoring=make_scorer(roc_auc_score),\n",
       "                   verbose=2)</pre></div></div></div><div class=\"sk-parallel\"><div class=\"sk-parallel-item\"><div class=\"sk-item\"><div class=\"sk-label-container\"><div class=\"sk-label sk-toggleable\"><input class=\"sk-toggleable__control sk-hidden--visually\" id=\"sk-estimator-id-22\" type=\"checkbox\" ><label for=\"sk-estimator-id-22\" class=\"sk-toggleable__label sk-toggleable__label-arrow\">estimator: Pipeline</label><div class=\"sk-toggleable__content\"><pre>Pipeline(steps=[(&#x27;sampling&#x27;, SMOTE()),\n",
       "                (&#x27;classification&#x27;, KNeighborsClassifier())])</pre></div></div></div><div class=\"sk-serial\"><div class=\"sk-item\"><div class=\"sk-serial\"><div class=\"sk-item\"><div class=\"sk-estimator sk-toggleable\"><input class=\"sk-toggleable__control sk-hidden--visually\" id=\"sk-estimator-id-23\" type=\"checkbox\" ><label for=\"sk-estimator-id-23\" class=\"sk-toggleable__label sk-toggleable__label-arrow\">SMOTE</label><div class=\"sk-toggleable__content\"><pre>SMOTE()</pre></div></div></div><div class=\"sk-item\"><div class=\"sk-estimator sk-toggleable\"><input class=\"sk-toggleable__control sk-hidden--visually\" id=\"sk-estimator-id-24\" type=\"checkbox\" ><label for=\"sk-estimator-id-24\" class=\"sk-toggleable__label sk-toggleable__label-arrow\">KNeighborsClassifier</label><div class=\"sk-toggleable__content\"><pre>KNeighborsClassifier()</pre></div></div></div></div></div></div></div></div></div></div></div></div>"
      ],
      "text/plain": [
       "RandomizedSearchCV(cv=5,\n",
       "                   estimator=Pipeline(steps=[('sampling', SMOTE()),\n",
       "                                             ('classification',\n",
       "                                              KNeighborsClassifier())]),\n",
       "                   n_iter=3, n_jobs=-1,\n",
       "                   param_distributions={'classification__n_neighbors': [2, 5,\n",
       "                                                                        10, 20,\n",
       "                                                                        30]},\n",
       "                   random_state=0, scoring=make_scorer(roc_auc_score),\n",
       "                   verbose=2)"
      ]
     },
     "execution_count": 70,
     "metadata": {},
     "output_type": "execute_result"
    }
   ],
   "source": [
    "search_KNN_roc.fit(X_train,y_train)"
   ]
  },
  {
   "cell_type": "code",
   "execution_count": 71,
   "id": "930447d7",
   "metadata": {},
   "outputs": [
    {
     "name": "stdout",
     "output_type": "stream",
     "text": [
      "best_score : 0.5351907047094764\n",
      "best_params : {'classification__n_neighbors': 10}\n",
      "score X_train : 0.8311187476135928\n",
      "score X_test : 0.5154045957834066\n",
      "score fbeta : 0.3752755211285345\n"
     ]
    }
   ],
   "source": [
    "current_model = search_KNN_roc\n",
    "\n",
    "print(\"best_score :\",current_model.best_score_)\n",
    "print(\"best_params :\",current_model.best_params_)\n",
    "print(\"score X_train :\",current_model.score(X_train,y_train))\n",
    "print(\"score X_test :\",current_model.score(X_test,y_test))\n",
    "\n",
    "y_predict = current_model.predict(X_test)\n",
    "\n",
    "print(\"score fbeta :\",fbeta_score(y_test,y_predict,beta=10))"
   ]
  },
  {
   "cell_type": "code",
   "execution_count": 72,
   "id": "5ff6fd67",
   "metadata": {},
   "outputs": [
    {
     "data": {
      "text/html": [
       "<div>\n",
       "<style scoped>\n",
       "    .dataframe tbody tr th:only-of-type {\n",
       "        vertical-align: middle;\n",
       "    }\n",
       "\n",
       "    .dataframe tbody tr th {\n",
       "        vertical-align: top;\n",
       "    }\n",
       "\n",
       "    .dataframe thead th {\n",
       "        text-align: right;\n",
       "    }\n",
       "</style>\n",
       "<table border=\"1\" class=\"dataframe\">\n",
       "  <thead>\n",
       "    <tr style=\"text-align: right;\">\n",
       "      <th></th>\n",
       "      <th>model</th>\n",
       "      <th>score</th>\n",
       "      <th>best_params</th>\n",
       "      <th>best_score</th>\n",
       "      <th>train</th>\n",
       "      <th>test</th>\n",
       "      <th>fbeta_score_test</th>\n",
       "    </tr>\n",
       "  </thead>\n",
       "  <tbody>\n",
       "    <tr>\n",
       "      <th>0</th>\n",
       "      <td>search_tree</td>\n",
       "      <td>fbeta</td>\n",
       "      <td>{'classification__n_estimators': 13, 'classifi...</td>\n",
       "      <td>0.526590</td>\n",
       "      <td>0.527499</td>\n",
       "      <td>0.528562</td>\n",
       "      <td>0.528562</td>\n",
       "    </tr>\n",
       "    <tr>\n",
       "      <th>0</th>\n",
       "      <td>search_tree</td>\n",
       "      <td>roc_auc</td>\n",
       "      <td>{'classification__n_estimators': 13, 'classifi...</td>\n",
       "      <td>0.613108</td>\n",
       "      <td>0.611411</td>\n",
       "      <td>0.614265</td>\n",
       "      <td>0.487458</td>\n",
       "    </tr>\n",
       "    <tr>\n",
       "      <th>0</th>\n",
       "      <td>search_logi</td>\n",
       "      <td>fbeta</td>\n",
       "      <td>{'classification__tol': 0.0047508101621027985,...</td>\n",
       "      <td>0.642679</td>\n",
       "      <td>0.640188</td>\n",
       "      <td>0.625189</td>\n",
       "      <td>0.625189</td>\n",
       "    </tr>\n",
       "    <tr>\n",
       "      <th>0</th>\n",
       "      <td>search_logi</td>\n",
       "      <td>roc_auc</td>\n",
       "      <td>{'classification__tol': 0.0001668100537200059,...</td>\n",
       "      <td>0.609928</td>\n",
       "      <td>0.616308</td>\n",
       "      <td>0.591660</td>\n",
       "      <td>0.550495</td>\n",
       "    </tr>\n",
       "    <tr>\n",
       "      <th>0</th>\n",
       "      <td>search_KNN</td>\n",
       "      <td>fbeta</td>\n",
       "      <td>{'classification__n_neighbors': 10}</td>\n",
       "      <td>0.416634</td>\n",
       "      <td>0.932034</td>\n",
       "      <td>0.368335</td>\n",
       "      <td>0.368335</td>\n",
       "    </tr>\n",
       "    <tr>\n",
       "      <th>0</th>\n",
       "      <td>search_KNN</td>\n",
       "      <td>roc_auc</td>\n",
       "      <td>{'classification__n_neighbors': 10}</td>\n",
       "      <td>0.535191</td>\n",
       "      <td>0.831119</td>\n",
       "      <td>0.515405</td>\n",
       "      <td>0.375276</td>\n",
       "    </tr>\n",
       "  </tbody>\n",
       "</table>\n",
       "</div>"
      ],
      "text/plain": [
       "         model    score                                        best_params  \\\n",
       "0  search_tree    fbeta  {'classification__n_estimators': 13, 'classifi...   \n",
       "0  search_tree  roc_auc  {'classification__n_estimators': 13, 'classifi...   \n",
       "0  search_logi    fbeta  {'classification__tol': 0.0047508101621027985,...   \n",
       "0  search_logi  roc_auc  {'classification__tol': 0.0001668100537200059,...   \n",
       "0   search_KNN    fbeta                {'classification__n_neighbors': 10}   \n",
       "0   search_KNN  roc_auc                {'classification__n_neighbors': 10}   \n",
       "\n",
       "   best_score     train      test  fbeta_score_test  \n",
       "0    0.526590  0.527499  0.528562          0.528562  \n",
       "0    0.613108  0.611411  0.614265          0.487458  \n",
       "0    0.642679  0.640188  0.625189          0.625189  \n",
       "0    0.609928  0.616308  0.591660          0.550495  \n",
       "0    0.416634  0.932034  0.368335          0.368335  \n",
       "0    0.535191  0.831119  0.515405          0.375276  "
      ]
     },
     "execution_count": 72,
     "metadata": {},
     "output_type": "execute_result"
    }
   ],
   "source": [
    "current_model = search_KNN_roc\n",
    "\n",
    "y_predict = current_model.predict(X_test)\n",
    "\n",
    "report_new = pd.DataFrame({'model':'search_KNN','score':['roc_auc'],'best_params':[current_model.best_params_],\\\n",
    "          'best_score':[current_model.best_score_],'train':[current_model.score(X_train, y_train)],\\\n",
    "          'test':[current_model.score(X_test, y_test)],'fbeta_score_test':[fbeta_score(y_test,y_predict,beta=10)]})\n",
    "\n",
    "report_final = pd.concat([report_final,report_new])\n",
    "report_final"
   ]
  },
  {
   "cell_type": "markdown",
   "id": "3432a1ee",
   "metadata": {},
   "source": [
    "# Gradiant boosting classifier"
   ]
  },
  {
   "cell_type": "markdown",
   "id": "3d21c5ab",
   "metadata": {},
   "source": [
    "## fwto scorer"
   ]
  },
  {
   "cell_type": "code",
   "execution_count": 73,
   "id": "c2515e25",
   "metadata": {},
   "outputs": [],
   "source": [
    "from sklearn.ensemble import GradientBoostingClassifier"
   ]
  },
  {
   "cell_type": "code",
   "execution_count": 74,
   "id": "6a12eb05",
   "metadata": {},
   "outputs": [],
   "source": [
    "# Gradiant Boosting\n",
    "\n",
    "#Original\n",
    "random_grid = {'classification__n_estimators':np.arange(1,100,1),\n",
    "       'classification__max_depth':[2,3,4],\n",
    "       'classification__min_samples_split': [3, 5, 10],\n",
    "        'classification__max_features' : ['auto', 'sqrt'],\n",
    "        'classification__min_samples_leaf' : [ 3, 4, 5]}\n",
    "\n",
    "model_gradiant = Pipeline([\n",
    "        ('sampling', SMOTE()),\n",
    "        ('classification', GradientBoostingClassifier())\n",
    "    ])"
   ]
  },
  {
   "cell_type": "code",
   "execution_count": 75,
   "id": "bc7486fe",
   "metadata": {},
   "outputs": [],
   "source": [
    "search_gradiant_ftwo = RandomizedSearchCV(estimator = model_gradiant,scoring = ftwo_scorer,\\\n",
    "                               param_distributions = random_grid, n_iter = 100, cv = 5,\\\n",
    "                               verbose=2, random_state=0, n_jobs = -1)"
   ]
  },
  {
   "cell_type": "code",
   "execution_count": 76,
   "id": "908b3a61",
   "metadata": {},
   "outputs": [
    {
     "name": "stdout",
     "output_type": "stream",
     "text": [
      "Fitting 5 folds for each of 100 candidates, totalling 500 fits\n"
     ]
    },
    {
     "data": {
      "text/html": [
       "<style>#sk-container-id-7 {color: black;background-color: white;}#sk-container-id-7 pre{padding: 0;}#sk-container-id-7 div.sk-toggleable {background-color: white;}#sk-container-id-7 label.sk-toggleable__label {cursor: pointer;display: block;width: 100%;margin-bottom: 0;padding: 0.3em;box-sizing: border-box;text-align: center;}#sk-container-id-7 label.sk-toggleable__label-arrow:before {content: \"▸\";float: left;margin-right: 0.25em;color: #696969;}#sk-container-id-7 label.sk-toggleable__label-arrow:hover:before {color: black;}#sk-container-id-7 div.sk-estimator:hover label.sk-toggleable__label-arrow:before {color: black;}#sk-container-id-7 div.sk-toggleable__content {max-height: 0;max-width: 0;overflow: hidden;text-align: left;background-color: #f0f8ff;}#sk-container-id-7 div.sk-toggleable__content pre {margin: 0.2em;color: black;border-radius: 0.25em;background-color: #f0f8ff;}#sk-container-id-7 input.sk-toggleable__control:checked~div.sk-toggleable__content {max-height: 200px;max-width: 100%;overflow: auto;}#sk-container-id-7 input.sk-toggleable__control:checked~label.sk-toggleable__label-arrow:before {content: \"▾\";}#sk-container-id-7 div.sk-estimator input.sk-toggleable__control:checked~label.sk-toggleable__label {background-color: #d4ebff;}#sk-container-id-7 div.sk-label input.sk-toggleable__control:checked~label.sk-toggleable__label {background-color: #d4ebff;}#sk-container-id-7 input.sk-hidden--visually {border: 0;clip: rect(1px 1px 1px 1px);clip: rect(1px, 1px, 1px, 1px);height: 1px;margin: -1px;overflow: hidden;padding: 0;position: absolute;width: 1px;}#sk-container-id-7 div.sk-estimator {font-family: monospace;background-color: #f0f8ff;border: 1px dotted black;border-radius: 0.25em;box-sizing: border-box;margin-bottom: 0.5em;}#sk-container-id-7 div.sk-estimator:hover {background-color: #d4ebff;}#sk-container-id-7 div.sk-parallel-item::after {content: \"\";width: 100%;border-bottom: 1px solid gray;flex-grow: 1;}#sk-container-id-7 div.sk-label:hover label.sk-toggleable__label {background-color: #d4ebff;}#sk-container-id-7 div.sk-serial::before {content: \"\";position: absolute;border-left: 1px solid gray;box-sizing: border-box;top: 0;bottom: 0;left: 50%;z-index: 0;}#sk-container-id-7 div.sk-serial {display: flex;flex-direction: column;align-items: center;background-color: white;padding-right: 0.2em;padding-left: 0.2em;position: relative;}#sk-container-id-7 div.sk-item {position: relative;z-index: 1;}#sk-container-id-7 div.sk-parallel {display: flex;align-items: stretch;justify-content: center;background-color: white;position: relative;}#sk-container-id-7 div.sk-item::before, #sk-container-id-7 div.sk-parallel-item::before {content: \"\";position: absolute;border-left: 1px solid gray;box-sizing: border-box;top: 0;bottom: 0;left: 50%;z-index: -1;}#sk-container-id-7 div.sk-parallel-item {display: flex;flex-direction: column;z-index: 1;position: relative;background-color: white;}#sk-container-id-7 div.sk-parallel-item:first-child::after {align-self: flex-end;width: 50%;}#sk-container-id-7 div.sk-parallel-item:last-child::after {align-self: flex-start;width: 50%;}#sk-container-id-7 div.sk-parallel-item:only-child::after {width: 0;}#sk-container-id-7 div.sk-dashed-wrapped {border: 1px dashed gray;margin: 0 0.4em 0.5em 0.4em;box-sizing: border-box;padding-bottom: 0.4em;background-color: white;}#sk-container-id-7 div.sk-label label {font-family: monospace;font-weight: bold;display: inline-block;line-height: 1.2em;}#sk-container-id-7 div.sk-label-container {text-align: center;}#sk-container-id-7 div.sk-container {/* jupyter's `normalize.less` sets `[hidden] { display: none; }` but bootstrap.min.css set `[hidden] { display: none !important; }` so we also need the `!important` here to be able to override the default hidden behavior on the sphinx rendered scikit-learn.org. See: https://github.com/scikit-learn/scikit-learn/issues/21755 */display: inline-block !important;position: relative;}#sk-container-id-7 div.sk-text-repr-fallback {display: none;}</style><div id=\"sk-container-id-7\" class=\"sk-top-container\"><div class=\"sk-text-repr-fallback\"><pre>RandomizedSearchCV(cv=5,\n",
       "                   estimator=Pipeline(steps=[(&#x27;sampling&#x27;, SMOTE()),\n",
       "                                             (&#x27;classification&#x27;,\n",
       "                                              GradientBoostingClassifier())]),\n",
       "                   n_iter=100, n_jobs=-1,\n",
       "                   param_distributions={&#x27;classification__max_depth&#x27;: [2, 3, 4],\n",
       "                                        &#x27;classification__max_features&#x27;: [&#x27;auto&#x27;,\n",
       "                                                                         &#x27;sqrt&#x27;],\n",
       "                                        &#x27;classification__min_samples_leaf&#x27;: [3,\n",
       "                                                                             4,\n",
       "                                                                             5],\n",
       "                                        &#x27;classification__min_samples_split&#x27;: [3,\n",
       "                                                                              5,\n",
       "                                                                              10],\n",
       "                                        &#x27;classification_...,  5,  6,  7,  8,  9, 10, 11, 12, 13, 14, 15, 16, 17,\n",
       "       18, 19, 20, 21, 22, 23, 24, 25, 26, 27, 28, 29, 30, 31, 32, 33, 34,\n",
       "       35, 36, 37, 38, 39, 40, 41, 42, 43, 44, 45, 46, 47, 48, 49, 50, 51,\n",
       "       52, 53, 54, 55, 56, 57, 58, 59, 60, 61, 62, 63, 64, 65, 66, 67, 68,\n",
       "       69, 70, 71, 72, 73, 74, 75, 76, 77, 78, 79, 80, 81, 82, 83, 84, 85,\n",
       "       86, 87, 88, 89, 90, 91, 92, 93, 94, 95, 96, 97, 98, 99])},\n",
       "                   random_state=0, scoring=make_scorer(fbeta_score, beta=10),\n",
       "                   verbose=2)</pre><b>In a Jupyter environment, please rerun this cell to show the HTML representation or trust the notebook. <br />On GitHub, the HTML representation is unable to render, please try loading this page with nbviewer.org.</b></div><div class=\"sk-container\" hidden><div class=\"sk-item sk-dashed-wrapped\"><div class=\"sk-label-container\"><div class=\"sk-label sk-toggleable\"><input class=\"sk-toggleable__control sk-hidden--visually\" id=\"sk-estimator-id-25\" type=\"checkbox\" ><label for=\"sk-estimator-id-25\" class=\"sk-toggleable__label sk-toggleable__label-arrow\">RandomizedSearchCV</label><div class=\"sk-toggleable__content\"><pre>RandomizedSearchCV(cv=5,\n",
       "                   estimator=Pipeline(steps=[(&#x27;sampling&#x27;, SMOTE()),\n",
       "                                             (&#x27;classification&#x27;,\n",
       "                                              GradientBoostingClassifier())]),\n",
       "                   n_iter=100, n_jobs=-1,\n",
       "                   param_distributions={&#x27;classification__max_depth&#x27;: [2, 3, 4],\n",
       "                                        &#x27;classification__max_features&#x27;: [&#x27;auto&#x27;,\n",
       "                                                                         &#x27;sqrt&#x27;],\n",
       "                                        &#x27;classification__min_samples_leaf&#x27;: [3,\n",
       "                                                                             4,\n",
       "                                                                             5],\n",
       "                                        &#x27;classification__min_samples_split&#x27;: [3,\n",
       "                                                                              5,\n",
       "                                                                              10],\n",
       "                                        &#x27;classification_...,  5,  6,  7,  8,  9, 10, 11, 12, 13, 14, 15, 16, 17,\n",
       "       18, 19, 20, 21, 22, 23, 24, 25, 26, 27, 28, 29, 30, 31, 32, 33, 34,\n",
       "       35, 36, 37, 38, 39, 40, 41, 42, 43, 44, 45, 46, 47, 48, 49, 50, 51,\n",
       "       52, 53, 54, 55, 56, 57, 58, 59, 60, 61, 62, 63, 64, 65, 66, 67, 68,\n",
       "       69, 70, 71, 72, 73, 74, 75, 76, 77, 78, 79, 80, 81, 82, 83, 84, 85,\n",
       "       86, 87, 88, 89, 90, 91, 92, 93, 94, 95, 96, 97, 98, 99])},\n",
       "                   random_state=0, scoring=make_scorer(fbeta_score, beta=10),\n",
       "                   verbose=2)</pre></div></div></div><div class=\"sk-parallel\"><div class=\"sk-parallel-item\"><div class=\"sk-item\"><div class=\"sk-label-container\"><div class=\"sk-label sk-toggleable\"><input class=\"sk-toggleable__control sk-hidden--visually\" id=\"sk-estimator-id-26\" type=\"checkbox\" ><label for=\"sk-estimator-id-26\" class=\"sk-toggleable__label sk-toggleable__label-arrow\">estimator: Pipeline</label><div class=\"sk-toggleable__content\"><pre>Pipeline(steps=[(&#x27;sampling&#x27;, SMOTE()),\n",
       "                (&#x27;classification&#x27;, GradientBoostingClassifier())])</pre></div></div></div><div class=\"sk-serial\"><div class=\"sk-item\"><div class=\"sk-serial\"><div class=\"sk-item\"><div class=\"sk-estimator sk-toggleable\"><input class=\"sk-toggleable__control sk-hidden--visually\" id=\"sk-estimator-id-27\" type=\"checkbox\" ><label for=\"sk-estimator-id-27\" class=\"sk-toggleable__label sk-toggleable__label-arrow\">SMOTE</label><div class=\"sk-toggleable__content\"><pre>SMOTE()</pre></div></div></div><div class=\"sk-item\"><div class=\"sk-estimator sk-toggleable\"><input class=\"sk-toggleable__control sk-hidden--visually\" id=\"sk-estimator-id-28\" type=\"checkbox\" ><label for=\"sk-estimator-id-28\" class=\"sk-toggleable__label sk-toggleable__label-arrow\">GradientBoostingClassifier</label><div class=\"sk-toggleable__content\"><pre>GradientBoostingClassifier()</pre></div></div></div></div></div></div></div></div></div></div></div></div>"
      ],
      "text/plain": [
       "RandomizedSearchCV(cv=5,\n",
       "                   estimator=Pipeline(steps=[('sampling', SMOTE()),\n",
       "                                             ('classification',\n",
       "                                              GradientBoostingClassifier())]),\n",
       "                   n_iter=100, n_jobs=-1,\n",
       "                   param_distributions={'classification__max_depth': [2, 3, 4],\n",
       "                                        'classification__max_features': ['auto',\n",
       "                                                                         'sqrt'],\n",
       "                                        'classification__min_samples_leaf': [3,\n",
       "                                                                             4,\n",
       "                                                                             5],\n",
       "                                        'classification__min_samples_split': [3,\n",
       "                                                                              5,\n",
       "                                                                              10],\n",
       "                                        'classification_...,  5,  6,  7,  8,  9, 10, 11, 12, 13, 14, 15, 16, 17,\n",
       "       18, 19, 20, 21, 22, 23, 24, 25, 26, 27, 28, 29, 30, 31, 32, 33, 34,\n",
       "       35, 36, 37, 38, 39, 40, 41, 42, 43, 44, 45, 46, 47, 48, 49, 50, 51,\n",
       "       52, 53, 54, 55, 56, 57, 58, 59, 60, 61, 62, 63, 64, 65, 66, 67, 68,\n",
       "       69, 70, 71, 72, 73, 74, 75, 76, 77, 78, 79, 80, 81, 82, 83, 84, 85,\n",
       "       86, 87, 88, 89, 90, 91, 92, 93, 94, 95, 96, 97, 98, 99])},\n",
       "                   random_state=0, scoring=make_scorer(fbeta_score, beta=10),\n",
       "                   verbose=2)"
      ]
     },
     "execution_count": 76,
     "metadata": {},
     "output_type": "execute_result"
    }
   ],
   "source": [
    "search_gradiant_ftwo.fit(X_train,y_train)"
   ]
  },
  {
   "cell_type": "code",
   "execution_count": 77,
   "id": "6d135666",
   "metadata": {},
   "outputs": [
    {
     "name": "stdout",
     "output_type": "stream",
     "text": [
      "best_score : 0.49265432883583227\n",
      "best_params : {'classification__n_estimators': 10, 'classification__min_samples_split': 3, 'classification__min_samples_leaf': 5, 'classification__max_features': 'sqrt', 'classification__max_depth': 3}\n",
      "score X_train : 0.493365129428055\n",
      "score X_test : 0.4998413806230569\n",
      "score fbeta : 0.4998413806230569\n"
     ]
    }
   ],
   "source": [
    "current_model = search_gradiant_ftwo\n",
    "\n",
    "print(\"best_score :\",current_model.best_score_)\n",
    "print(\"best_params :\",current_model.best_params_)\n",
    "print(\"score X_train :\",current_model.score(X_train,y_train))\n",
    "print(\"score X_test :\",current_model.score(X_test,y_test))\n",
    "\n",
    "y_predict = current_model.predict(X_test)\n",
    "\n",
    "print(\"score fbeta :\",fbeta_score(y_test,y_predict,beta=10))"
   ]
  },
  {
   "cell_type": "code",
   "execution_count": 78,
   "id": "c4db481e",
   "metadata": {},
   "outputs": [
    {
     "data": {
      "text/html": [
       "<div>\n",
       "<style scoped>\n",
       "    .dataframe tbody tr th:only-of-type {\n",
       "        vertical-align: middle;\n",
       "    }\n",
       "\n",
       "    .dataframe tbody tr th {\n",
       "        vertical-align: top;\n",
       "    }\n",
       "\n",
       "    .dataframe thead th {\n",
       "        text-align: right;\n",
       "    }\n",
       "</style>\n",
       "<table border=\"1\" class=\"dataframe\">\n",
       "  <thead>\n",
       "    <tr style=\"text-align: right;\">\n",
       "      <th></th>\n",
       "      <th>model</th>\n",
       "      <th>score</th>\n",
       "      <th>best_params</th>\n",
       "      <th>best_score</th>\n",
       "      <th>train</th>\n",
       "      <th>test</th>\n",
       "      <th>fbeta_score_test</th>\n",
       "    </tr>\n",
       "  </thead>\n",
       "  <tbody>\n",
       "    <tr>\n",
       "      <th>0</th>\n",
       "      <td>search_tree</td>\n",
       "      <td>fbeta</td>\n",
       "      <td>{'classification__n_estimators': 13, 'classifi...</td>\n",
       "      <td>0.526590</td>\n",
       "      <td>0.527499</td>\n",
       "      <td>0.528562</td>\n",
       "      <td>0.528562</td>\n",
       "    </tr>\n",
       "    <tr>\n",
       "      <th>0</th>\n",
       "      <td>search_tree</td>\n",
       "      <td>roc_auc</td>\n",
       "      <td>{'classification__n_estimators': 13, 'classifi...</td>\n",
       "      <td>0.613108</td>\n",
       "      <td>0.611411</td>\n",
       "      <td>0.614265</td>\n",
       "      <td>0.487458</td>\n",
       "    </tr>\n",
       "    <tr>\n",
       "      <th>0</th>\n",
       "      <td>search_logi</td>\n",
       "      <td>fbeta</td>\n",
       "      <td>{'classification__tol': 0.0047508101621027985,...</td>\n",
       "      <td>0.642679</td>\n",
       "      <td>0.640188</td>\n",
       "      <td>0.625189</td>\n",
       "      <td>0.625189</td>\n",
       "    </tr>\n",
       "    <tr>\n",
       "      <th>0</th>\n",
       "      <td>search_logi</td>\n",
       "      <td>roc_auc</td>\n",
       "      <td>{'classification__tol': 0.0001668100537200059,...</td>\n",
       "      <td>0.609928</td>\n",
       "      <td>0.616308</td>\n",
       "      <td>0.591660</td>\n",
       "      <td>0.550495</td>\n",
       "    </tr>\n",
       "    <tr>\n",
       "      <th>0</th>\n",
       "      <td>search_KNN</td>\n",
       "      <td>fbeta</td>\n",
       "      <td>{'classification__n_neighbors': 10}</td>\n",
       "      <td>0.416634</td>\n",
       "      <td>0.932034</td>\n",
       "      <td>0.368335</td>\n",
       "      <td>0.368335</td>\n",
       "    </tr>\n",
       "    <tr>\n",
       "      <th>0</th>\n",
       "      <td>search_KNN</td>\n",
       "      <td>roc_auc</td>\n",
       "      <td>{'classification__n_neighbors': 10}</td>\n",
       "      <td>0.535191</td>\n",
       "      <td>0.831119</td>\n",
       "      <td>0.515405</td>\n",
       "      <td>0.375276</td>\n",
       "    </tr>\n",
       "    <tr>\n",
       "      <th>0</th>\n",
       "      <td>search_gradiant</td>\n",
       "      <td>ftwo</td>\n",
       "      <td>{'classification__n_estimators': 10, 'classifi...</td>\n",
       "      <td>0.492654</td>\n",
       "      <td>0.493365</td>\n",
       "      <td>0.499841</td>\n",
       "      <td>0.499841</td>\n",
       "    </tr>\n",
       "  </tbody>\n",
       "</table>\n",
       "</div>"
      ],
      "text/plain": [
       "             model    score  \\\n",
       "0      search_tree    fbeta   \n",
       "0      search_tree  roc_auc   \n",
       "0      search_logi    fbeta   \n",
       "0      search_logi  roc_auc   \n",
       "0       search_KNN    fbeta   \n",
       "0       search_KNN  roc_auc   \n",
       "0  search_gradiant     ftwo   \n",
       "\n",
       "                                         best_params  best_score     train  \\\n",
       "0  {'classification__n_estimators': 13, 'classifi...    0.526590  0.527499   \n",
       "0  {'classification__n_estimators': 13, 'classifi...    0.613108  0.611411   \n",
       "0  {'classification__tol': 0.0047508101621027985,...    0.642679  0.640188   \n",
       "0  {'classification__tol': 0.0001668100537200059,...    0.609928  0.616308   \n",
       "0                {'classification__n_neighbors': 10}    0.416634  0.932034   \n",
       "0                {'classification__n_neighbors': 10}    0.535191  0.831119   \n",
       "0  {'classification__n_estimators': 10, 'classifi...    0.492654  0.493365   \n",
       "\n",
       "       test  fbeta_score_test  \n",
       "0  0.528562          0.528562  \n",
       "0  0.614265          0.487458  \n",
       "0  0.625189          0.625189  \n",
       "0  0.591660          0.550495  \n",
       "0  0.368335          0.368335  \n",
       "0  0.515405          0.375276  \n",
       "0  0.499841          0.499841  "
      ]
     },
     "execution_count": 78,
     "metadata": {},
     "output_type": "execute_result"
    }
   ],
   "source": [
    "current_model = search_gradiant_ftwo\n",
    "\n",
    "y_predict = current_model.predict(X_test)\n",
    "\n",
    "report_new = pd.DataFrame({'model':'search_gradiant','score':['ftwo'],'best_params':[current_model.best_params_],\\\n",
    "          'best_score':[current_model.best_score_],'train':[current_model.score(X_train, y_train)],\\\n",
    "          'test':[current_model.score(X_test, y_test)],'fbeta_score_test':[fbeta_score(y_test,y_predict,beta=10)]})\n",
    "\n",
    "report_final = pd.concat([report_final,report_new])\n",
    "report_final\n",
    "\n",
    "# Légère typo à la ligne 7 le score ftwo correspond au fbeta (corrigé dans le rapport et les diapos)"
   ]
  },
  {
   "cell_type": "markdown",
   "id": "3f279224",
   "metadata": {},
   "source": [
    "## au_roc"
   ]
  },
  {
   "cell_type": "code",
   "execution_count": 79,
   "id": "c2bcfaa6",
   "metadata": {},
   "outputs": [],
   "source": [
    "search_gradiant_roc = RandomizedSearchCV(estimator = model_gradiant,scoring = roc_auc,\\\n",
    "                               param_distributions = random_grid, n_iter = 100, cv = 5,\\\n",
    "                               verbose=2, random_state=0, n_jobs = -1)"
   ]
  },
  {
   "cell_type": "code",
   "execution_count": 80,
   "id": "6e0d6bef",
   "metadata": {},
   "outputs": [
    {
     "name": "stdout",
     "output_type": "stream",
     "text": [
      "Fitting 5 folds for each of 100 candidates, totalling 500 fits\n"
     ]
    },
    {
     "name": "stderr",
     "output_type": "stream",
     "text": [
      "C:\\Users\\Louis\\AppData\\Roaming\\Python\\Python39\\site-packages\\sklearn\\tree\\_classes.py:277: FutureWarning: `max_features='auto'` has been deprecated in 1.1 and will be removed in 1.3. To keep the past behaviour, explicitly set `max_features=1.0'`.\n",
      "  warnings.warn(\n",
      "C:\\Users\\Louis\\AppData\\Roaming\\Python\\Python39\\site-packages\\sklearn\\tree\\_classes.py:277: FutureWarning: `max_features='auto'` has been deprecated in 1.1 and will be removed in 1.3. To keep the past behaviour, explicitly set `max_features=1.0'`.\n",
      "  warnings.warn(\n",
      "C:\\Users\\Louis\\AppData\\Roaming\\Python\\Python39\\site-packages\\sklearn\\tree\\_classes.py:277: FutureWarning: `max_features='auto'` has been deprecated in 1.1 and will be removed in 1.3. To keep the past behaviour, explicitly set `max_features=1.0'`.\n",
      "  warnings.warn(\n",
      "C:\\Users\\Louis\\AppData\\Roaming\\Python\\Python39\\site-packages\\sklearn\\tree\\_classes.py:277: FutureWarning: `max_features='auto'` has been deprecated in 1.1 and will be removed in 1.3. To keep the past behaviour, explicitly set `max_features=1.0'`.\n",
      "  warnings.warn(\n",
      "C:\\Users\\Louis\\AppData\\Roaming\\Python\\Python39\\site-packages\\sklearn\\tree\\_classes.py:277: FutureWarning: `max_features='auto'` has been deprecated in 1.1 and will be removed in 1.3. To keep the past behaviour, explicitly set `max_features=1.0'`.\n",
      "  warnings.warn(\n",
      "C:\\Users\\Louis\\AppData\\Roaming\\Python\\Python39\\site-packages\\sklearn\\tree\\_classes.py:277: FutureWarning: `max_features='auto'` has been deprecated in 1.1 and will be removed in 1.3. To keep the past behaviour, explicitly set `max_features=1.0'`.\n",
      "  warnings.warn(\n",
      "C:\\Users\\Louis\\AppData\\Roaming\\Python\\Python39\\site-packages\\sklearn\\tree\\_classes.py:277: FutureWarning: `max_features='auto'` has been deprecated in 1.1 and will be removed in 1.3. To keep the past behaviour, explicitly set `max_features=1.0'`.\n",
      "  warnings.warn(\n",
      "C:\\Users\\Louis\\AppData\\Roaming\\Python\\Python39\\site-packages\\sklearn\\tree\\_classes.py:277: FutureWarning: `max_features='auto'` has been deprecated in 1.1 and will be removed in 1.3. To keep the past behaviour, explicitly set `max_features=1.0'`.\n",
      "  warnings.warn(\n",
      "C:\\Users\\Louis\\AppData\\Roaming\\Python\\Python39\\site-packages\\sklearn\\tree\\_classes.py:277: FutureWarning: `max_features='auto'` has been deprecated in 1.1 and will be removed in 1.3. To keep the past behaviour, explicitly set `max_features=1.0'`.\n",
      "  warnings.warn(\n",
      "C:\\Users\\Louis\\AppData\\Roaming\\Python\\Python39\\site-packages\\sklearn\\tree\\_classes.py:277: FutureWarning: `max_features='auto'` has been deprecated in 1.1 and will be removed in 1.3. To keep the past behaviour, explicitly set `max_features=1.0'`.\n",
      "  warnings.warn(\n",
      "C:\\Users\\Louis\\AppData\\Roaming\\Python\\Python39\\site-packages\\sklearn\\tree\\_classes.py:277: FutureWarning: `max_features='auto'` has been deprecated in 1.1 and will be removed in 1.3. To keep the past behaviour, explicitly set `max_features=1.0'`.\n",
      "  warnings.warn(\n",
      "C:\\Users\\Louis\\AppData\\Roaming\\Python\\Python39\\site-packages\\sklearn\\tree\\_classes.py:277: FutureWarning: `max_features='auto'` has been deprecated in 1.1 and will be removed in 1.3. To keep the past behaviour, explicitly set `max_features=1.0'`.\n",
      "  warnings.warn(\n",
      "C:\\Users\\Louis\\AppData\\Roaming\\Python\\Python39\\site-packages\\sklearn\\tree\\_classes.py:277: FutureWarning: `max_features='auto'` has been deprecated in 1.1 and will be removed in 1.3. To keep the past behaviour, explicitly set `max_features=1.0'`.\n",
      "  warnings.warn(\n",
      "C:\\Users\\Louis\\AppData\\Roaming\\Python\\Python39\\site-packages\\sklearn\\tree\\_classes.py:277: FutureWarning: `max_features='auto'` has been deprecated in 1.1 and will be removed in 1.3. To keep the past behaviour, explicitly set `max_features=1.0'`.\n",
      "  warnings.warn(\n",
      "C:\\Users\\Louis\\AppData\\Roaming\\Python\\Python39\\site-packages\\sklearn\\tree\\_classes.py:277: FutureWarning: `max_features='auto'` has been deprecated in 1.1 and will be removed in 1.3. To keep the past behaviour, explicitly set `max_features=1.0'`.\n",
      "  warnings.warn(\n",
      "C:\\Users\\Louis\\AppData\\Roaming\\Python\\Python39\\site-packages\\sklearn\\tree\\_classes.py:277: FutureWarning: `max_features='auto'` has been deprecated in 1.1 and will be removed in 1.3. To keep the past behaviour, explicitly set `max_features=1.0'`.\n",
      "  warnings.warn(\n",
      "C:\\Users\\Louis\\AppData\\Roaming\\Python\\Python39\\site-packages\\sklearn\\tree\\_classes.py:277: FutureWarning: `max_features='auto'` has been deprecated in 1.1 and will be removed in 1.3. To keep the past behaviour, explicitly set `max_features=1.0'`.\n",
      "  warnings.warn(\n",
      "C:\\Users\\Louis\\AppData\\Roaming\\Python\\Python39\\site-packages\\sklearn\\tree\\_classes.py:277: FutureWarning: `max_features='auto'` has been deprecated in 1.1 and will be removed in 1.3. To keep the past behaviour, explicitly set `max_features=1.0'`.\n",
      "  warnings.warn(\n",
      "C:\\Users\\Louis\\AppData\\Roaming\\Python\\Python39\\site-packages\\sklearn\\tree\\_classes.py:277: FutureWarning: `max_features='auto'` has been deprecated in 1.1 and will be removed in 1.3. To keep the past behaviour, explicitly set `max_features=1.0'`.\n",
      "  warnings.warn(\n",
      "C:\\Users\\Louis\\AppData\\Roaming\\Python\\Python39\\site-packages\\sklearn\\tree\\_classes.py:277: FutureWarning: `max_features='auto'` has been deprecated in 1.1 and will be removed in 1.3. To keep the past behaviour, explicitly set `max_features=1.0'`.\n",
      "  warnings.warn(\n",
      "C:\\Users\\Louis\\AppData\\Roaming\\Python\\Python39\\site-packages\\sklearn\\tree\\_classes.py:277: FutureWarning: `max_features='auto'` has been deprecated in 1.1 and will be removed in 1.3. To keep the past behaviour, explicitly set `max_features=1.0'`.\n",
      "  warnings.warn(\n",
      "C:\\Users\\Louis\\AppData\\Roaming\\Python\\Python39\\site-packages\\sklearn\\tree\\_classes.py:277: FutureWarning: `max_features='auto'` has been deprecated in 1.1 and will be removed in 1.3. To keep the past behaviour, explicitly set `max_features=1.0'`.\n",
      "  warnings.warn(\n",
      "C:\\Users\\Louis\\AppData\\Roaming\\Python\\Python39\\site-packages\\sklearn\\tree\\_classes.py:277: FutureWarning: `max_features='auto'` has been deprecated in 1.1 and will be removed in 1.3. To keep the past behaviour, explicitly set `max_features=1.0'`.\n",
      "  warnings.warn(\n",
      "C:\\Users\\Louis\\AppData\\Roaming\\Python\\Python39\\site-packages\\sklearn\\tree\\_classes.py:277: FutureWarning: `max_features='auto'` has been deprecated in 1.1 and will be removed in 1.3. To keep the past behaviour, explicitly set `max_features=1.0'`.\n",
      "  warnings.warn(\n",
      "C:\\Users\\Louis\\AppData\\Roaming\\Python\\Python39\\site-packages\\sklearn\\tree\\_classes.py:277: FutureWarning: `max_features='auto'` has been deprecated in 1.1 and will be removed in 1.3. To keep the past behaviour, explicitly set `max_features=1.0'`.\n",
      "  warnings.warn(\n",
      "C:\\Users\\Louis\\AppData\\Roaming\\Python\\Python39\\site-packages\\sklearn\\tree\\_classes.py:277: FutureWarning: `max_features='auto'` has been deprecated in 1.1 and will be removed in 1.3. To keep the past behaviour, explicitly set `max_features=1.0'`.\n",
      "  warnings.warn(\n",
      "C:\\Users\\Louis\\AppData\\Roaming\\Python\\Python39\\site-packages\\sklearn\\tree\\_classes.py:277: FutureWarning: `max_features='auto'` has been deprecated in 1.1 and will be removed in 1.3. To keep the past behaviour, explicitly set `max_features=1.0'`.\n",
      "  warnings.warn(\n",
      "C:\\Users\\Louis\\AppData\\Roaming\\Python\\Python39\\site-packages\\sklearn\\tree\\_classes.py:277: FutureWarning: `max_features='auto'` has been deprecated in 1.1 and will be removed in 1.3. To keep the past behaviour, explicitly set `max_features=1.0'`.\n",
      "  warnings.warn(\n",
      "C:\\Users\\Louis\\AppData\\Roaming\\Python\\Python39\\site-packages\\sklearn\\tree\\_classes.py:277: FutureWarning: `max_features='auto'` has been deprecated in 1.1 and will be removed in 1.3. To keep the past behaviour, explicitly set `max_features=1.0'`.\n",
      "  warnings.warn(\n",
      "C:\\Users\\Louis\\AppData\\Roaming\\Python\\Python39\\site-packages\\sklearn\\tree\\_classes.py:277: FutureWarning: `max_features='auto'` has been deprecated in 1.1 and will be removed in 1.3. To keep the past behaviour, explicitly set `max_features=1.0'`.\n",
      "  warnings.warn(\n",
      "C:\\Users\\Louis\\AppData\\Roaming\\Python\\Python39\\site-packages\\sklearn\\tree\\_classes.py:277: FutureWarning: `max_features='auto'` has been deprecated in 1.1 and will be removed in 1.3. To keep the past behaviour, explicitly set `max_features=1.0'`.\n",
      "  warnings.warn(\n",
      "C:\\Users\\Louis\\AppData\\Roaming\\Python\\Python39\\site-packages\\sklearn\\tree\\_classes.py:277: FutureWarning: `max_features='auto'` has been deprecated in 1.1 and will be removed in 1.3. To keep the past behaviour, explicitly set `max_features=1.0'`.\n",
      "  warnings.warn(\n"
     ]
    },
    {
     "name": "stderr",
     "output_type": "stream",
     "text": [
      "C:\\Users\\Louis\\AppData\\Roaming\\Python\\Python39\\site-packages\\sklearn\\tree\\_classes.py:277: FutureWarning: `max_features='auto'` has been deprecated in 1.1 and will be removed in 1.3. To keep the past behaviour, explicitly set `max_features=1.0'`.\n",
      "  warnings.warn(\n",
      "C:\\Users\\Louis\\AppData\\Roaming\\Python\\Python39\\site-packages\\sklearn\\tree\\_classes.py:277: FutureWarning: `max_features='auto'` has been deprecated in 1.1 and will be removed in 1.3. To keep the past behaviour, explicitly set `max_features=1.0'`.\n",
      "  warnings.warn(\n",
      "C:\\Users\\Louis\\AppData\\Roaming\\Python\\Python39\\site-packages\\sklearn\\tree\\_classes.py:277: FutureWarning: `max_features='auto'` has been deprecated in 1.1 and will be removed in 1.3. To keep the past behaviour, explicitly set `max_features=1.0'`.\n",
      "  warnings.warn(\n",
      "C:\\Users\\Louis\\AppData\\Roaming\\Python\\Python39\\site-packages\\sklearn\\tree\\_classes.py:277: FutureWarning: `max_features='auto'` has been deprecated in 1.1 and will be removed in 1.3. To keep the past behaviour, explicitly set `max_features=1.0'`.\n",
      "  warnings.warn(\n",
      "C:\\Users\\Louis\\AppData\\Roaming\\Python\\Python39\\site-packages\\sklearn\\tree\\_classes.py:277: FutureWarning: `max_features='auto'` has been deprecated in 1.1 and will be removed in 1.3. To keep the past behaviour, explicitly set `max_features=1.0'`.\n",
      "  warnings.warn(\n",
      "C:\\Users\\Louis\\AppData\\Roaming\\Python\\Python39\\site-packages\\sklearn\\tree\\_classes.py:277: FutureWarning: `max_features='auto'` has been deprecated in 1.1 and will be removed in 1.3. To keep the past behaviour, explicitly set `max_features=1.0'`.\n",
      "  warnings.warn(\n",
      "C:\\Users\\Louis\\AppData\\Roaming\\Python\\Python39\\site-packages\\sklearn\\tree\\_classes.py:277: FutureWarning: `max_features='auto'` has been deprecated in 1.1 and will be removed in 1.3. To keep the past behaviour, explicitly set `max_features=1.0'`.\n",
      "  warnings.warn(\n",
      "C:\\Users\\Louis\\AppData\\Roaming\\Python\\Python39\\site-packages\\sklearn\\tree\\_classes.py:277: FutureWarning: `max_features='auto'` has been deprecated in 1.1 and will be removed in 1.3. To keep the past behaviour, explicitly set `max_features=1.0'`.\n",
      "  warnings.warn(\n",
      "C:\\Users\\Louis\\AppData\\Roaming\\Python\\Python39\\site-packages\\sklearn\\tree\\_classes.py:277: FutureWarning: `max_features='auto'` has been deprecated in 1.1 and will be removed in 1.3. To keep the past behaviour, explicitly set `max_features=1.0'`.\n",
      "  warnings.warn(\n",
      "C:\\Users\\Louis\\AppData\\Roaming\\Python\\Python39\\site-packages\\sklearn\\tree\\_classes.py:277: FutureWarning: `max_features='auto'` has been deprecated in 1.1 and will be removed in 1.3. To keep the past behaviour, explicitly set `max_features=1.0'`.\n",
      "  warnings.warn(\n",
      "C:\\Users\\Louis\\AppData\\Roaming\\Python\\Python39\\site-packages\\sklearn\\tree\\_classes.py:277: FutureWarning: `max_features='auto'` has been deprecated in 1.1 and will be removed in 1.3. To keep the past behaviour, explicitly set `max_features=1.0'`.\n",
      "  warnings.warn(\n"
     ]
    },
    {
     "data": {
      "text/html": [
       "<style>#sk-container-id-8 {color: black;background-color: white;}#sk-container-id-8 pre{padding: 0;}#sk-container-id-8 div.sk-toggleable {background-color: white;}#sk-container-id-8 label.sk-toggleable__label {cursor: pointer;display: block;width: 100%;margin-bottom: 0;padding: 0.3em;box-sizing: border-box;text-align: center;}#sk-container-id-8 label.sk-toggleable__label-arrow:before {content: \"▸\";float: left;margin-right: 0.25em;color: #696969;}#sk-container-id-8 label.sk-toggleable__label-arrow:hover:before {color: black;}#sk-container-id-8 div.sk-estimator:hover label.sk-toggleable__label-arrow:before {color: black;}#sk-container-id-8 div.sk-toggleable__content {max-height: 0;max-width: 0;overflow: hidden;text-align: left;background-color: #f0f8ff;}#sk-container-id-8 div.sk-toggleable__content pre {margin: 0.2em;color: black;border-radius: 0.25em;background-color: #f0f8ff;}#sk-container-id-8 input.sk-toggleable__control:checked~div.sk-toggleable__content {max-height: 200px;max-width: 100%;overflow: auto;}#sk-container-id-8 input.sk-toggleable__control:checked~label.sk-toggleable__label-arrow:before {content: \"▾\";}#sk-container-id-8 div.sk-estimator input.sk-toggleable__control:checked~label.sk-toggleable__label {background-color: #d4ebff;}#sk-container-id-8 div.sk-label input.sk-toggleable__control:checked~label.sk-toggleable__label {background-color: #d4ebff;}#sk-container-id-8 input.sk-hidden--visually {border: 0;clip: rect(1px 1px 1px 1px);clip: rect(1px, 1px, 1px, 1px);height: 1px;margin: -1px;overflow: hidden;padding: 0;position: absolute;width: 1px;}#sk-container-id-8 div.sk-estimator {font-family: monospace;background-color: #f0f8ff;border: 1px dotted black;border-radius: 0.25em;box-sizing: border-box;margin-bottom: 0.5em;}#sk-container-id-8 div.sk-estimator:hover {background-color: #d4ebff;}#sk-container-id-8 div.sk-parallel-item::after {content: \"\";width: 100%;border-bottom: 1px solid gray;flex-grow: 1;}#sk-container-id-8 div.sk-label:hover label.sk-toggleable__label {background-color: #d4ebff;}#sk-container-id-8 div.sk-serial::before {content: \"\";position: absolute;border-left: 1px solid gray;box-sizing: border-box;top: 0;bottom: 0;left: 50%;z-index: 0;}#sk-container-id-8 div.sk-serial {display: flex;flex-direction: column;align-items: center;background-color: white;padding-right: 0.2em;padding-left: 0.2em;position: relative;}#sk-container-id-8 div.sk-item {position: relative;z-index: 1;}#sk-container-id-8 div.sk-parallel {display: flex;align-items: stretch;justify-content: center;background-color: white;position: relative;}#sk-container-id-8 div.sk-item::before, #sk-container-id-8 div.sk-parallel-item::before {content: \"\";position: absolute;border-left: 1px solid gray;box-sizing: border-box;top: 0;bottom: 0;left: 50%;z-index: -1;}#sk-container-id-8 div.sk-parallel-item {display: flex;flex-direction: column;z-index: 1;position: relative;background-color: white;}#sk-container-id-8 div.sk-parallel-item:first-child::after {align-self: flex-end;width: 50%;}#sk-container-id-8 div.sk-parallel-item:last-child::after {align-self: flex-start;width: 50%;}#sk-container-id-8 div.sk-parallel-item:only-child::after {width: 0;}#sk-container-id-8 div.sk-dashed-wrapped {border: 1px dashed gray;margin: 0 0.4em 0.5em 0.4em;box-sizing: border-box;padding-bottom: 0.4em;background-color: white;}#sk-container-id-8 div.sk-label label {font-family: monospace;font-weight: bold;display: inline-block;line-height: 1.2em;}#sk-container-id-8 div.sk-label-container {text-align: center;}#sk-container-id-8 div.sk-container {/* jupyter's `normalize.less` sets `[hidden] { display: none; }` but bootstrap.min.css set `[hidden] { display: none !important; }` so we also need the `!important` here to be able to override the default hidden behavior on the sphinx rendered scikit-learn.org. See: https://github.com/scikit-learn/scikit-learn/issues/21755 */display: inline-block !important;position: relative;}#sk-container-id-8 div.sk-text-repr-fallback {display: none;}</style><div id=\"sk-container-id-8\" class=\"sk-top-container\"><div class=\"sk-text-repr-fallback\"><pre>RandomizedSearchCV(cv=5,\n",
       "                   estimator=Pipeline(steps=[(&#x27;sampling&#x27;, SMOTE()),\n",
       "                                             (&#x27;classification&#x27;,\n",
       "                                              GradientBoostingClassifier())]),\n",
       "                   n_iter=100, n_jobs=-1,\n",
       "                   param_distributions={&#x27;classification__max_depth&#x27;: [2, 3, 4],\n",
       "                                        &#x27;classification__max_features&#x27;: [&#x27;auto&#x27;,\n",
       "                                                                         &#x27;sqrt&#x27;],\n",
       "                                        &#x27;classification__min_samples_leaf&#x27;: [3,\n",
       "                                                                             4,\n",
       "                                                                             5],\n",
       "                                        &#x27;classification__min_samples_split&#x27;: [3,\n",
       "                                                                              5,\n",
       "                                                                              10],\n",
       "                                        &#x27;classification_...,  2,  3,  4,  5,  6,  7,  8,  9, 10, 11, 12, 13, 14, 15, 16, 17,\n",
       "       18, 19, 20, 21, 22, 23, 24, 25, 26, 27, 28, 29, 30, 31, 32, 33, 34,\n",
       "       35, 36, 37, 38, 39, 40, 41, 42, 43, 44, 45, 46, 47, 48, 49, 50, 51,\n",
       "       52, 53, 54, 55, 56, 57, 58, 59, 60, 61, 62, 63, 64, 65, 66, 67, 68,\n",
       "       69, 70, 71, 72, 73, 74, 75, 76, 77, 78, 79, 80, 81, 82, 83, 84, 85,\n",
       "       86, 87, 88, 89, 90, 91, 92, 93, 94, 95, 96, 97, 98, 99])},\n",
       "                   random_state=0, scoring=make_scorer(roc_auc_score),\n",
       "                   verbose=2)</pre><b>In a Jupyter environment, please rerun this cell to show the HTML representation or trust the notebook. <br />On GitHub, the HTML representation is unable to render, please try loading this page with nbviewer.org.</b></div><div class=\"sk-container\" hidden><div class=\"sk-item sk-dashed-wrapped\"><div class=\"sk-label-container\"><div class=\"sk-label sk-toggleable\"><input class=\"sk-toggleable__control sk-hidden--visually\" id=\"sk-estimator-id-29\" type=\"checkbox\" ><label for=\"sk-estimator-id-29\" class=\"sk-toggleable__label sk-toggleable__label-arrow\">RandomizedSearchCV</label><div class=\"sk-toggleable__content\"><pre>RandomizedSearchCV(cv=5,\n",
       "                   estimator=Pipeline(steps=[(&#x27;sampling&#x27;, SMOTE()),\n",
       "                                             (&#x27;classification&#x27;,\n",
       "                                              GradientBoostingClassifier())]),\n",
       "                   n_iter=100, n_jobs=-1,\n",
       "                   param_distributions={&#x27;classification__max_depth&#x27;: [2, 3, 4],\n",
       "                                        &#x27;classification__max_features&#x27;: [&#x27;auto&#x27;,\n",
       "                                                                         &#x27;sqrt&#x27;],\n",
       "                                        &#x27;classification__min_samples_leaf&#x27;: [3,\n",
       "                                                                             4,\n",
       "                                                                             5],\n",
       "                                        &#x27;classification__min_samples_split&#x27;: [3,\n",
       "                                                                              5,\n",
       "                                                                              10],\n",
       "                                        &#x27;classification_...,  2,  3,  4,  5,  6,  7,  8,  9, 10, 11, 12, 13, 14, 15, 16, 17,\n",
       "       18, 19, 20, 21, 22, 23, 24, 25, 26, 27, 28, 29, 30, 31, 32, 33, 34,\n",
       "       35, 36, 37, 38, 39, 40, 41, 42, 43, 44, 45, 46, 47, 48, 49, 50, 51,\n",
       "       52, 53, 54, 55, 56, 57, 58, 59, 60, 61, 62, 63, 64, 65, 66, 67, 68,\n",
       "       69, 70, 71, 72, 73, 74, 75, 76, 77, 78, 79, 80, 81, 82, 83, 84, 85,\n",
       "       86, 87, 88, 89, 90, 91, 92, 93, 94, 95, 96, 97, 98, 99])},\n",
       "                   random_state=0, scoring=make_scorer(roc_auc_score),\n",
       "                   verbose=2)</pre></div></div></div><div class=\"sk-parallel\"><div class=\"sk-parallel-item\"><div class=\"sk-item\"><div class=\"sk-label-container\"><div class=\"sk-label sk-toggleable\"><input class=\"sk-toggleable__control sk-hidden--visually\" id=\"sk-estimator-id-30\" type=\"checkbox\" ><label for=\"sk-estimator-id-30\" class=\"sk-toggleable__label sk-toggleable__label-arrow\">estimator: Pipeline</label><div class=\"sk-toggleable__content\"><pre>Pipeline(steps=[(&#x27;sampling&#x27;, SMOTE()),\n",
       "                (&#x27;classification&#x27;, GradientBoostingClassifier())])</pre></div></div></div><div class=\"sk-serial\"><div class=\"sk-item\"><div class=\"sk-serial\"><div class=\"sk-item\"><div class=\"sk-estimator sk-toggleable\"><input class=\"sk-toggleable__control sk-hidden--visually\" id=\"sk-estimator-id-31\" type=\"checkbox\" ><label for=\"sk-estimator-id-31\" class=\"sk-toggleable__label sk-toggleable__label-arrow\">SMOTE</label><div class=\"sk-toggleable__content\"><pre>SMOTE()</pre></div></div></div><div class=\"sk-item\"><div class=\"sk-estimator sk-toggleable\"><input class=\"sk-toggleable__control sk-hidden--visually\" id=\"sk-estimator-id-32\" type=\"checkbox\" ><label for=\"sk-estimator-id-32\" class=\"sk-toggleable__label sk-toggleable__label-arrow\">GradientBoostingClassifier</label><div class=\"sk-toggleable__content\"><pre>GradientBoostingClassifier()</pre></div></div></div></div></div></div></div></div></div></div></div></div>"
      ],
      "text/plain": [
       "RandomizedSearchCV(cv=5,\n",
       "                   estimator=Pipeline(steps=[('sampling', SMOTE()),\n",
       "                                             ('classification',\n",
       "                                              GradientBoostingClassifier())]),\n",
       "                   n_iter=100, n_jobs=-1,\n",
       "                   param_distributions={'classification__max_depth': [2, 3, 4],\n",
       "                                        'classification__max_features': ['auto',\n",
       "                                                                         'sqrt'],\n",
       "                                        'classification__min_samples_leaf': [3,\n",
       "                                                                             4,\n",
       "                                                                             5],\n",
       "                                        'classification__min_samples_split': [3,\n",
       "                                                                              5,\n",
       "                                                                              10],\n",
       "                                        'classification_...,  2,  3,  4,  5,  6,  7,  8,  9, 10, 11, 12, 13, 14, 15, 16, 17,\n",
       "       18, 19, 20, 21, 22, 23, 24, 25, 26, 27, 28, 29, 30, 31, 32, 33, 34,\n",
       "       35, 36, 37, 38, 39, 40, 41, 42, 43, 44, 45, 46, 47, 48, 49, 50, 51,\n",
       "       52, 53, 54, 55, 56, 57, 58, 59, 60, 61, 62, 63, 64, 65, 66, 67, 68,\n",
       "       69, 70, 71, 72, 73, 74, 75, 76, 77, 78, 79, 80, 81, 82, 83, 84, 85,\n",
       "       86, 87, 88, 89, 90, 91, 92, 93, 94, 95, 96, 97, 98, 99])},\n",
       "                   random_state=0, scoring=make_scorer(roc_auc_score),\n",
       "                   verbose=2)"
      ]
     },
     "execution_count": 80,
     "metadata": {},
     "output_type": "execute_result"
    }
   ],
   "source": [
    "search_gradiant_roc.fit(X_train,y_train)"
   ]
  },
  {
   "cell_type": "code",
   "execution_count": 81,
   "id": "bf224624",
   "metadata": {},
   "outputs": [
    {
     "name": "stdout",
     "output_type": "stream",
     "text": [
      "best_score : 0.6184467513940858\n",
      "best_params : {'classification__n_estimators': 43, 'classification__min_samples_split': 5, 'classification__min_samples_leaf': 5, 'classification__max_features': 'auto', 'classification__max_depth': 2}\n",
      "score X_train : 0.6236499754540992\n",
      "score X_test : 0.6162615652965266\n",
      "score fbeta : 0.45739252455670365\n"
     ]
    }
   ],
   "source": [
    "current_model = search_gradiant_roc\n",
    "\n",
    "print(\"best_score :\",current_model.best_score_)\n",
    "print(\"best_params :\",current_model.best_params_)\n",
    "print(\"score X_train :\",current_model.score(X_train,y_train))\n",
    "print(\"score X_test :\",current_model.score(X_test,y_test))\n",
    "\n",
    "y_predict = current_model.predict(X_test)\n",
    "\n",
    "print(\"score fbeta :\",fbeta_score(y_test,y_predict,beta=10))"
   ]
  },
  {
   "cell_type": "code",
   "execution_count": 82,
   "id": "dff63083",
   "metadata": {},
   "outputs": [
    {
     "data": {
      "text/html": [
       "<div>\n",
       "<style scoped>\n",
       "    .dataframe tbody tr th:only-of-type {\n",
       "        vertical-align: middle;\n",
       "    }\n",
       "\n",
       "    .dataframe tbody tr th {\n",
       "        vertical-align: top;\n",
       "    }\n",
       "\n",
       "    .dataframe thead th {\n",
       "        text-align: right;\n",
       "    }\n",
       "</style>\n",
       "<table border=\"1\" class=\"dataframe\">\n",
       "  <thead>\n",
       "    <tr style=\"text-align: right;\">\n",
       "      <th></th>\n",
       "      <th>model</th>\n",
       "      <th>score</th>\n",
       "      <th>best_params</th>\n",
       "      <th>best_score</th>\n",
       "      <th>train</th>\n",
       "      <th>test</th>\n",
       "      <th>fbeta_score_test</th>\n",
       "    </tr>\n",
       "  </thead>\n",
       "  <tbody>\n",
       "    <tr>\n",
       "      <th>0</th>\n",
       "      <td>search_tree</td>\n",
       "      <td>fbeta</td>\n",
       "      <td>{'classification__n_estimators': 13, 'classifi...</td>\n",
       "      <td>0.526590</td>\n",
       "      <td>0.527499</td>\n",
       "      <td>0.528562</td>\n",
       "      <td>0.528562</td>\n",
       "    </tr>\n",
       "    <tr>\n",
       "      <th>0</th>\n",
       "      <td>search_tree</td>\n",
       "      <td>roc_auc</td>\n",
       "      <td>{'classification__n_estimators': 13, 'classifi...</td>\n",
       "      <td>0.613108</td>\n",
       "      <td>0.611411</td>\n",
       "      <td>0.614265</td>\n",
       "      <td>0.487458</td>\n",
       "    </tr>\n",
       "    <tr>\n",
       "      <th>0</th>\n",
       "      <td>search_logi</td>\n",
       "      <td>fbeta</td>\n",
       "      <td>{'classification__tol': 0.0047508101621027985,...</td>\n",
       "      <td>0.642679</td>\n",
       "      <td>0.640188</td>\n",
       "      <td>0.625189</td>\n",
       "      <td>0.625189</td>\n",
       "    </tr>\n",
       "    <tr>\n",
       "      <th>0</th>\n",
       "      <td>search_logi</td>\n",
       "      <td>roc_auc</td>\n",
       "      <td>{'classification__tol': 0.0001668100537200059,...</td>\n",
       "      <td>0.609928</td>\n",
       "      <td>0.616308</td>\n",
       "      <td>0.591660</td>\n",
       "      <td>0.550495</td>\n",
       "    </tr>\n",
       "    <tr>\n",
       "      <th>0</th>\n",
       "      <td>search_KNN</td>\n",
       "      <td>fbeta</td>\n",
       "      <td>{'classification__n_neighbors': 10}</td>\n",
       "      <td>0.416634</td>\n",
       "      <td>0.932034</td>\n",
       "      <td>0.368335</td>\n",
       "      <td>0.368335</td>\n",
       "    </tr>\n",
       "    <tr>\n",
       "      <th>0</th>\n",
       "      <td>search_KNN</td>\n",
       "      <td>roc_auc</td>\n",
       "      <td>{'classification__n_neighbors': 10}</td>\n",
       "      <td>0.535191</td>\n",
       "      <td>0.831119</td>\n",
       "      <td>0.515405</td>\n",
       "      <td>0.375276</td>\n",
       "    </tr>\n",
       "    <tr>\n",
       "      <th>0</th>\n",
       "      <td>search_gradiant</td>\n",
       "      <td>ftwo</td>\n",
       "      <td>{'classification__n_estimators': 10, 'classifi...</td>\n",
       "      <td>0.492654</td>\n",
       "      <td>0.493365</td>\n",
       "      <td>0.499841</td>\n",
       "      <td>0.499841</td>\n",
       "    </tr>\n",
       "    <tr>\n",
       "      <th>0</th>\n",
       "      <td>search_gradiant</td>\n",
       "      <td>au_roc</td>\n",
       "      <td>{'classification__n_estimators': 43, 'classifi...</td>\n",
       "      <td>0.618447</td>\n",
       "      <td>0.623650</td>\n",
       "      <td>0.616262</td>\n",
       "      <td>0.457393</td>\n",
       "    </tr>\n",
       "  </tbody>\n",
       "</table>\n",
       "</div>"
      ],
      "text/plain": [
       "             model    score  \\\n",
       "0      search_tree    fbeta   \n",
       "0      search_tree  roc_auc   \n",
       "0      search_logi    fbeta   \n",
       "0      search_logi  roc_auc   \n",
       "0       search_KNN    fbeta   \n",
       "0       search_KNN  roc_auc   \n",
       "0  search_gradiant     ftwo   \n",
       "0  search_gradiant   au_roc   \n",
       "\n",
       "                                         best_params  best_score     train  \\\n",
       "0  {'classification__n_estimators': 13, 'classifi...    0.526590  0.527499   \n",
       "0  {'classification__n_estimators': 13, 'classifi...    0.613108  0.611411   \n",
       "0  {'classification__tol': 0.0047508101621027985,...    0.642679  0.640188   \n",
       "0  {'classification__tol': 0.0001668100537200059,...    0.609928  0.616308   \n",
       "0                {'classification__n_neighbors': 10}    0.416634  0.932034   \n",
       "0                {'classification__n_neighbors': 10}    0.535191  0.831119   \n",
       "0  {'classification__n_estimators': 10, 'classifi...    0.492654  0.493365   \n",
       "0  {'classification__n_estimators': 43, 'classifi...    0.618447  0.623650   \n",
       "\n",
       "       test  fbeta_score_test  \n",
       "0  0.528562          0.528562  \n",
       "0  0.614265          0.487458  \n",
       "0  0.625189          0.625189  \n",
       "0  0.591660          0.550495  \n",
       "0  0.368335          0.368335  \n",
       "0  0.515405          0.375276  \n",
       "0  0.499841          0.499841  \n",
       "0  0.616262          0.457393  "
      ]
     },
     "execution_count": 82,
     "metadata": {},
     "output_type": "execute_result"
    }
   ],
   "source": [
    "current_model = search_gradiant_roc\n",
    "\n",
    "y_predict = current_model.predict(X_test)\n",
    "\n",
    "report_new = pd.DataFrame({'model':'search_gradiant','score':['au_roc'],'best_params':[current_model.best_params_],\\\n",
    "          'best_score':[current_model.best_score_],'train':[current_model.score(X_train, y_train)],\\\n",
    "          'test':[current_model.score(X_test, y_test)],'fbeta_score_test':[fbeta_score(y_test,y_predict,beta=10)]})\n",
    "\n",
    "report_final = pd.concat([report_final,report_new])\n",
    "report_final\n",
    "\n",
    "# Légère typo à la ligne 7 le score ftwo correspond au fbeta (corrigé dans le rapport et les diapos)"
   ]
  },
  {
   "cell_type": "code",
   "execution_count": null,
   "id": "46b2e572",
   "metadata": {},
   "outputs": [],
   "source": []
  },
  {
   "cell_type": "markdown",
   "id": "d7db1538",
   "metadata": {},
   "source": [
    "# Affinage"
   ]
  },
  {
   "cell_type": "code",
   "execution_count": null,
   "id": "311215af",
   "metadata": {},
   "outputs": [],
   "source": [
    "# Un affinage plus complet est réalisé dans le notebook suivant"
   ]
  },
  {
   "cell_type": "code",
   "execution_count": 83,
   "id": "ff3518f0",
   "metadata": {},
   "outputs": [],
   "source": [
    "model_logistic = Pipeline([\n",
    "        ('sampling', SMOTE()),\n",
    "        ('classification', LogisticRegression())\n",
    "    ])\n",
    "\n",
    "random_grid = {'classification__penalty': ['l1', 'l2'],\n",
    "              'classification__C':np.logspace(-5, 5,1000), \n",
    "              'classification__max_iter':[500, 1000],\n",
    "              'classification__solver': [\"liblinear\"],\n",
    "              'classification__tol':np.logspace(-4, -2, 100)\n",
    "             }\n",
    "\n",
    "search_logi_ftwo_1 = RandomizedSearchCV(estimator = model_logistic,scoring = ftwo_scorer,\\\n",
    "                               param_distributions = random_grid, n_iter = 100, cv = 5,\\\n",
    "                               verbose=2, random_state=0, n_jobs = -1)"
   ]
  },
  {
   "cell_type": "code",
   "execution_count": 84,
   "id": "7ffee1bc",
   "metadata": {},
   "outputs": [
    {
     "name": "stdout",
     "output_type": "stream",
     "text": [
      "Fitting 5 folds for each of 100 candidates, totalling 500 fits\n"
     ]
    },
    {
     "data": {
      "text/html": [
       "<style>#sk-container-id-9 {color: black;background-color: white;}#sk-container-id-9 pre{padding: 0;}#sk-container-id-9 div.sk-toggleable {background-color: white;}#sk-container-id-9 label.sk-toggleable__label {cursor: pointer;display: block;width: 100%;margin-bottom: 0;padding: 0.3em;box-sizing: border-box;text-align: center;}#sk-container-id-9 label.sk-toggleable__label-arrow:before {content: \"▸\";float: left;margin-right: 0.25em;color: #696969;}#sk-container-id-9 label.sk-toggleable__label-arrow:hover:before {color: black;}#sk-container-id-9 div.sk-estimator:hover label.sk-toggleable__label-arrow:before {color: black;}#sk-container-id-9 div.sk-toggleable__content {max-height: 0;max-width: 0;overflow: hidden;text-align: left;background-color: #f0f8ff;}#sk-container-id-9 div.sk-toggleable__content pre {margin: 0.2em;color: black;border-radius: 0.25em;background-color: #f0f8ff;}#sk-container-id-9 input.sk-toggleable__control:checked~div.sk-toggleable__content {max-height: 200px;max-width: 100%;overflow: auto;}#sk-container-id-9 input.sk-toggleable__control:checked~label.sk-toggleable__label-arrow:before {content: \"▾\";}#sk-container-id-9 div.sk-estimator input.sk-toggleable__control:checked~label.sk-toggleable__label {background-color: #d4ebff;}#sk-container-id-9 div.sk-label input.sk-toggleable__control:checked~label.sk-toggleable__label {background-color: #d4ebff;}#sk-container-id-9 input.sk-hidden--visually {border: 0;clip: rect(1px 1px 1px 1px);clip: rect(1px, 1px, 1px, 1px);height: 1px;margin: -1px;overflow: hidden;padding: 0;position: absolute;width: 1px;}#sk-container-id-9 div.sk-estimator {font-family: monospace;background-color: #f0f8ff;border: 1px dotted black;border-radius: 0.25em;box-sizing: border-box;margin-bottom: 0.5em;}#sk-container-id-9 div.sk-estimator:hover {background-color: #d4ebff;}#sk-container-id-9 div.sk-parallel-item::after {content: \"\";width: 100%;border-bottom: 1px solid gray;flex-grow: 1;}#sk-container-id-9 div.sk-label:hover label.sk-toggleable__label {background-color: #d4ebff;}#sk-container-id-9 div.sk-serial::before {content: \"\";position: absolute;border-left: 1px solid gray;box-sizing: border-box;top: 0;bottom: 0;left: 50%;z-index: 0;}#sk-container-id-9 div.sk-serial {display: flex;flex-direction: column;align-items: center;background-color: white;padding-right: 0.2em;padding-left: 0.2em;position: relative;}#sk-container-id-9 div.sk-item {position: relative;z-index: 1;}#sk-container-id-9 div.sk-parallel {display: flex;align-items: stretch;justify-content: center;background-color: white;position: relative;}#sk-container-id-9 div.sk-item::before, #sk-container-id-9 div.sk-parallel-item::before {content: \"\";position: absolute;border-left: 1px solid gray;box-sizing: border-box;top: 0;bottom: 0;left: 50%;z-index: -1;}#sk-container-id-9 div.sk-parallel-item {display: flex;flex-direction: column;z-index: 1;position: relative;background-color: white;}#sk-container-id-9 div.sk-parallel-item:first-child::after {align-self: flex-end;width: 50%;}#sk-container-id-9 div.sk-parallel-item:last-child::after {align-self: flex-start;width: 50%;}#sk-container-id-9 div.sk-parallel-item:only-child::after {width: 0;}#sk-container-id-9 div.sk-dashed-wrapped {border: 1px dashed gray;margin: 0 0.4em 0.5em 0.4em;box-sizing: border-box;padding-bottom: 0.4em;background-color: white;}#sk-container-id-9 div.sk-label label {font-family: monospace;font-weight: bold;display: inline-block;line-height: 1.2em;}#sk-container-id-9 div.sk-label-container {text-align: center;}#sk-container-id-9 div.sk-container {/* jupyter's `normalize.less` sets `[hidden] { display: none; }` but bootstrap.min.css set `[hidden] { display: none !important; }` so we also need the `!important` here to be able to override the default hidden behavior on the sphinx rendered scikit-learn.org. See: https://github.com/scikit-learn/scikit-learn/issues/21755 */display: inline-block !important;position: relative;}#sk-container-id-9 div.sk-text-repr-fallback {display: none;}</style><div id=\"sk-container-id-9\" class=\"sk-top-container\"><div class=\"sk-text-repr-fallback\"><pre>RandomizedSearchCV(cv=5,\n",
       "                   estimator=Pipeline(steps=[(&#x27;sampling&#x27;, SMOTE()),\n",
       "                                             (&#x27;classification&#x27;,\n",
       "                                              LogisticRegression())]),\n",
       "                   n_iter=100, n_jobs=-1,\n",
       "                   param_distributions={&#x27;classification__C&#x27;: array([1.00000000e-05, 1.02331658e-05, 1.04717682e-05, 1.07159340e-05,\n",
       "       1.09657929e-05, 1.12214777e-05, 1.14831241e-05, 1.17508713e-05,\n",
       "       1.20248614e-05, 1.23052400e-05, 1.25921561e-05, 1.2...\n",
       "       0.00259502, 0.00271859, 0.00284804, 0.00298365, 0.00312572,\n",
       "       0.00327455, 0.00343047, 0.00359381, 0.00376494, 0.00394421,\n",
       "       0.00413201, 0.00432876, 0.00453488, 0.00475081, 0.00497702,\n",
       "       0.00521401, 0.00546228, 0.00572237, 0.00599484, 0.00628029,\n",
       "       0.00657933, 0.00689261, 0.00722081, 0.00756463, 0.00792483,\n",
       "       0.00830218, 0.00869749, 0.00911163, 0.00954548, 0.01      ])},\n",
       "                   random_state=0, scoring=make_scorer(fbeta_score, beta=10),\n",
       "                   verbose=2)</pre><b>In a Jupyter environment, please rerun this cell to show the HTML representation or trust the notebook. <br />On GitHub, the HTML representation is unable to render, please try loading this page with nbviewer.org.</b></div><div class=\"sk-container\" hidden><div class=\"sk-item sk-dashed-wrapped\"><div class=\"sk-label-container\"><div class=\"sk-label sk-toggleable\"><input class=\"sk-toggleable__control sk-hidden--visually\" id=\"sk-estimator-id-33\" type=\"checkbox\" ><label for=\"sk-estimator-id-33\" class=\"sk-toggleable__label sk-toggleable__label-arrow\">RandomizedSearchCV</label><div class=\"sk-toggleable__content\"><pre>RandomizedSearchCV(cv=5,\n",
       "                   estimator=Pipeline(steps=[(&#x27;sampling&#x27;, SMOTE()),\n",
       "                                             (&#x27;classification&#x27;,\n",
       "                                              LogisticRegression())]),\n",
       "                   n_iter=100, n_jobs=-1,\n",
       "                   param_distributions={&#x27;classification__C&#x27;: array([1.00000000e-05, 1.02331658e-05, 1.04717682e-05, 1.07159340e-05,\n",
       "       1.09657929e-05, 1.12214777e-05, 1.14831241e-05, 1.17508713e-05,\n",
       "       1.20248614e-05, 1.23052400e-05, 1.25921561e-05, 1.2...\n",
       "       0.00259502, 0.00271859, 0.00284804, 0.00298365, 0.00312572,\n",
       "       0.00327455, 0.00343047, 0.00359381, 0.00376494, 0.00394421,\n",
       "       0.00413201, 0.00432876, 0.00453488, 0.00475081, 0.00497702,\n",
       "       0.00521401, 0.00546228, 0.00572237, 0.00599484, 0.00628029,\n",
       "       0.00657933, 0.00689261, 0.00722081, 0.00756463, 0.00792483,\n",
       "       0.00830218, 0.00869749, 0.00911163, 0.00954548, 0.01      ])},\n",
       "                   random_state=0, scoring=make_scorer(fbeta_score, beta=10),\n",
       "                   verbose=2)</pre></div></div></div><div class=\"sk-parallel\"><div class=\"sk-parallel-item\"><div class=\"sk-item\"><div class=\"sk-label-container\"><div class=\"sk-label sk-toggleable\"><input class=\"sk-toggleable__control sk-hidden--visually\" id=\"sk-estimator-id-34\" type=\"checkbox\" ><label for=\"sk-estimator-id-34\" class=\"sk-toggleable__label sk-toggleable__label-arrow\">estimator: Pipeline</label><div class=\"sk-toggleable__content\"><pre>Pipeline(steps=[(&#x27;sampling&#x27;, SMOTE()),\n",
       "                (&#x27;classification&#x27;, LogisticRegression())])</pre></div></div></div><div class=\"sk-serial\"><div class=\"sk-item\"><div class=\"sk-serial\"><div class=\"sk-item\"><div class=\"sk-estimator sk-toggleable\"><input class=\"sk-toggleable__control sk-hidden--visually\" id=\"sk-estimator-id-35\" type=\"checkbox\" ><label for=\"sk-estimator-id-35\" class=\"sk-toggleable__label sk-toggleable__label-arrow\">SMOTE</label><div class=\"sk-toggleable__content\"><pre>SMOTE()</pre></div></div></div><div class=\"sk-item\"><div class=\"sk-estimator sk-toggleable\"><input class=\"sk-toggleable__control sk-hidden--visually\" id=\"sk-estimator-id-36\" type=\"checkbox\" ><label for=\"sk-estimator-id-36\" class=\"sk-toggleable__label sk-toggleable__label-arrow\">LogisticRegression</label><div class=\"sk-toggleable__content\"><pre>LogisticRegression()</pre></div></div></div></div></div></div></div></div></div></div></div></div>"
      ],
      "text/plain": [
       "RandomizedSearchCV(cv=5,\n",
       "                   estimator=Pipeline(steps=[('sampling', SMOTE()),\n",
       "                                             ('classification',\n",
       "                                              LogisticRegression())]),\n",
       "                   n_iter=100, n_jobs=-1,\n",
       "                   param_distributions={'classification__C': array([1.00000000e-05, 1.02331658e-05, 1.04717682e-05, 1.07159340e-05,\n",
       "       1.09657929e-05, 1.12214777e-05, 1.14831241e-05, 1.17508713e-05,\n",
       "       1.20248614e-05, 1.23052400e-05, 1.25921561e-05, 1.2...\n",
       "       0.00259502, 0.00271859, 0.00284804, 0.00298365, 0.00312572,\n",
       "       0.00327455, 0.00343047, 0.00359381, 0.00376494, 0.00394421,\n",
       "       0.00413201, 0.00432876, 0.00453488, 0.00475081, 0.00497702,\n",
       "       0.00521401, 0.00546228, 0.00572237, 0.00599484, 0.00628029,\n",
       "       0.00657933, 0.00689261, 0.00722081, 0.00756463, 0.00792483,\n",
       "       0.00830218, 0.00869749, 0.00911163, 0.00954548, 0.01      ])},\n",
       "                   random_state=0, scoring=make_scorer(fbeta_score, beta=10),\n",
       "                   verbose=2)"
      ]
     },
     "execution_count": 84,
     "metadata": {},
     "output_type": "execute_result"
    }
   ],
   "source": [
    "search_logi_ftwo_1.fit(X_train,y_train)"
   ]
  },
  {
   "cell_type": "code",
   "execution_count": 85,
   "id": "3a7df6bf",
   "metadata": {},
   "outputs": [
    {
     "data": {
      "text/plain": [
       "0.6479624375524301"
      ]
     },
     "execution_count": 85,
     "metadata": {},
     "output_type": "execute_result"
    }
   ],
   "source": [
    "search_logi_ftwo_1.best_score_"
   ]
  },
  {
   "cell_type": "code",
   "execution_count": 93,
   "id": "4095d225",
   "metadata": {},
   "outputs": [
    {
     "data": {
      "text/plain": [
       "{'classification__tol': 0.0009326033468832199,\n",
       " 'classification__solver': 'liblinear',\n",
       " 'classification__penalty': 'l1',\n",
       " 'classification__max_iter': 1000,\n",
       " 'classification__C': 18589.56679635688}"
      ]
     },
     "execution_count": 93,
     "metadata": {},
     "output_type": "execute_result"
    }
   ],
   "source": [
    "search_logi_ftwo_1.best_params_"
   ]
  },
  {
   "cell_type": "code",
   "execution_count": 128,
   "id": "f5f292ac",
   "metadata": {
    "scrolled": true
   },
   "outputs": [
    {
     "data": {
      "text/html": [
       "<div>\n",
       "<style scoped>\n",
       "    .dataframe tbody tr th:only-of-type {\n",
       "        vertical-align: middle;\n",
       "    }\n",
       "\n",
       "    .dataframe tbody tr th {\n",
       "        vertical-align: top;\n",
       "    }\n",
       "\n",
       "    .dataframe thead th {\n",
       "        text-align: right;\n",
       "    }\n",
       "</style>\n",
       "<table border=\"1\" class=\"dataframe\">\n",
       "  <thead>\n",
       "    <tr style=\"text-align: right;\">\n",
       "      <th></th>\n",
       "      <th>model</th>\n",
       "      <th>score</th>\n",
       "      <th>best_params</th>\n",
       "      <th>best_score</th>\n",
       "      <th>train</th>\n",
       "      <th>test</th>\n",
       "      <th>fbeta_score_test</th>\n",
       "    </tr>\n",
       "  </thead>\n",
       "  <tbody>\n",
       "    <tr>\n",
       "      <th>0</th>\n",
       "      <td>search_gradiant</td>\n",
       "      <td>ftwo</td>\n",
       "      <td>{'classification__tol': 0.0009326033468832199,...</td>\n",
       "      <td>0.647962</td>\n",
       "      <td>0.643953</td>\n",
       "      <td>0.637707</td>\n",
       "      <td>0.637707</td>\n",
       "    </tr>\n",
       "  </tbody>\n",
       "</table>\n",
       "</div>"
      ],
      "text/plain": [
       "             model score                                        best_params  \\\n",
       "0  search_gradiant  ftwo  {'classification__tol': 0.0009326033468832199,...   \n",
       "\n",
       "   best_score     train      test  fbeta_score_test  \n",
       "0    0.647962  0.643953  0.637707          0.637707  "
      ]
     },
     "execution_count": 128,
     "metadata": {},
     "output_type": "execute_result"
    }
   ],
   "source": [
    "current_model = search_logi_ftwo_1\n",
    "\n",
    "y_predict = current_model.predict(X_test)\n",
    "\n",
    "report_new_1 = pd.DataFrame({'model':'search_gradiant','score':['ftwo'],'best_params':[current_model.best_params_],\\\n",
    "          'best_score':[current_model.best_score_],'train':[current_model.score(X_train, y_train)],\\\n",
    "          'test':[current_model.score(X_test, y_test)],'fbeta_score_test':[fbeta_score(y_test,y_predict,beta=10)]})\n",
    "\n",
    "#report_final = pd.concat([report_final,report_new])\n",
    "#report_final\n",
    "\n",
    "report_new_1\n",
    "# Par erreur, on a appellé le modèle search_gradiant au lieu de search_logi\n",
    "# Le score ftwo correspond au fbeta (corrigé dans le rapport et les diapos)"
   ]
  },
  {
   "cell_type": "code",
   "execution_count": 87,
   "id": "de95fe8a",
   "metadata": {},
   "outputs": [],
   "source": [
    "search_logi_roc_1 = RandomizedSearchCV(estimator = model_logistic,scoring =  roc_auc,\\\n",
    "                               param_distributions = random_grid, n_iter = 100, cv = 5,\\\n",
    "                               verbose=2, random_state=0, n_jobs = -1)"
   ]
  },
  {
   "cell_type": "code",
   "execution_count": 88,
   "id": "c1c5a428",
   "metadata": {},
   "outputs": [
    {
     "name": "stdout",
     "output_type": "stream",
     "text": [
      "Fitting 5 folds for each of 100 candidates, totalling 500 fits\n"
     ]
    },
    {
     "data": {
      "text/html": [
       "<style>#sk-container-id-10 {color: black;background-color: white;}#sk-container-id-10 pre{padding: 0;}#sk-container-id-10 div.sk-toggleable {background-color: white;}#sk-container-id-10 label.sk-toggleable__label {cursor: pointer;display: block;width: 100%;margin-bottom: 0;padding: 0.3em;box-sizing: border-box;text-align: center;}#sk-container-id-10 label.sk-toggleable__label-arrow:before {content: \"▸\";float: left;margin-right: 0.25em;color: #696969;}#sk-container-id-10 label.sk-toggleable__label-arrow:hover:before {color: black;}#sk-container-id-10 div.sk-estimator:hover label.sk-toggleable__label-arrow:before {color: black;}#sk-container-id-10 div.sk-toggleable__content {max-height: 0;max-width: 0;overflow: hidden;text-align: left;background-color: #f0f8ff;}#sk-container-id-10 div.sk-toggleable__content pre {margin: 0.2em;color: black;border-radius: 0.25em;background-color: #f0f8ff;}#sk-container-id-10 input.sk-toggleable__control:checked~div.sk-toggleable__content {max-height: 200px;max-width: 100%;overflow: auto;}#sk-container-id-10 input.sk-toggleable__control:checked~label.sk-toggleable__label-arrow:before {content: \"▾\";}#sk-container-id-10 div.sk-estimator input.sk-toggleable__control:checked~label.sk-toggleable__label {background-color: #d4ebff;}#sk-container-id-10 div.sk-label input.sk-toggleable__control:checked~label.sk-toggleable__label {background-color: #d4ebff;}#sk-container-id-10 input.sk-hidden--visually {border: 0;clip: rect(1px 1px 1px 1px);clip: rect(1px, 1px, 1px, 1px);height: 1px;margin: -1px;overflow: hidden;padding: 0;position: absolute;width: 1px;}#sk-container-id-10 div.sk-estimator {font-family: monospace;background-color: #f0f8ff;border: 1px dotted black;border-radius: 0.25em;box-sizing: border-box;margin-bottom: 0.5em;}#sk-container-id-10 div.sk-estimator:hover {background-color: #d4ebff;}#sk-container-id-10 div.sk-parallel-item::after {content: \"\";width: 100%;border-bottom: 1px solid gray;flex-grow: 1;}#sk-container-id-10 div.sk-label:hover label.sk-toggleable__label {background-color: #d4ebff;}#sk-container-id-10 div.sk-serial::before {content: \"\";position: absolute;border-left: 1px solid gray;box-sizing: border-box;top: 0;bottom: 0;left: 50%;z-index: 0;}#sk-container-id-10 div.sk-serial {display: flex;flex-direction: column;align-items: center;background-color: white;padding-right: 0.2em;padding-left: 0.2em;position: relative;}#sk-container-id-10 div.sk-item {position: relative;z-index: 1;}#sk-container-id-10 div.sk-parallel {display: flex;align-items: stretch;justify-content: center;background-color: white;position: relative;}#sk-container-id-10 div.sk-item::before, #sk-container-id-10 div.sk-parallel-item::before {content: \"\";position: absolute;border-left: 1px solid gray;box-sizing: border-box;top: 0;bottom: 0;left: 50%;z-index: -1;}#sk-container-id-10 div.sk-parallel-item {display: flex;flex-direction: column;z-index: 1;position: relative;background-color: white;}#sk-container-id-10 div.sk-parallel-item:first-child::after {align-self: flex-end;width: 50%;}#sk-container-id-10 div.sk-parallel-item:last-child::after {align-self: flex-start;width: 50%;}#sk-container-id-10 div.sk-parallel-item:only-child::after {width: 0;}#sk-container-id-10 div.sk-dashed-wrapped {border: 1px dashed gray;margin: 0 0.4em 0.5em 0.4em;box-sizing: border-box;padding-bottom: 0.4em;background-color: white;}#sk-container-id-10 div.sk-label label {font-family: monospace;font-weight: bold;display: inline-block;line-height: 1.2em;}#sk-container-id-10 div.sk-label-container {text-align: center;}#sk-container-id-10 div.sk-container {/* jupyter's `normalize.less` sets `[hidden] { display: none; }` but bootstrap.min.css set `[hidden] { display: none !important; }` so we also need the `!important` here to be able to override the default hidden behavior on the sphinx rendered scikit-learn.org. See: https://github.com/scikit-learn/scikit-learn/issues/21755 */display: inline-block !important;position: relative;}#sk-container-id-10 div.sk-text-repr-fallback {display: none;}</style><div id=\"sk-container-id-10\" class=\"sk-top-container\"><div class=\"sk-text-repr-fallback\"><pre>RandomizedSearchCV(cv=5,\n",
       "                   estimator=Pipeline(steps=[(&#x27;sampling&#x27;, SMOTE()),\n",
       "                                             (&#x27;classification&#x27;,\n",
       "                                              LogisticRegression())]),\n",
       "                   n_iter=100, n_jobs=-1,\n",
       "                   param_distributions={&#x27;classification__C&#x27;: array([1.00000000e-05, 1.02331658e-05, 1.04717682e-05, 1.07159340e-05,\n",
       "       1.09657929e-05, 1.12214777e-05, 1.14831241e-05, 1.17508713e-05,\n",
       "       1.20248614e-05, 1.23052400e-05, 1.25921561e-05, 1.2...\n",
       "       0.00259502, 0.00271859, 0.00284804, 0.00298365, 0.00312572,\n",
       "       0.00327455, 0.00343047, 0.00359381, 0.00376494, 0.00394421,\n",
       "       0.00413201, 0.00432876, 0.00453488, 0.00475081, 0.00497702,\n",
       "       0.00521401, 0.00546228, 0.00572237, 0.00599484, 0.00628029,\n",
       "       0.00657933, 0.00689261, 0.00722081, 0.00756463, 0.00792483,\n",
       "       0.00830218, 0.00869749, 0.00911163, 0.00954548, 0.01      ])},\n",
       "                   random_state=0, scoring=make_scorer(roc_auc_score),\n",
       "                   verbose=2)</pre><b>In a Jupyter environment, please rerun this cell to show the HTML representation or trust the notebook. <br />On GitHub, the HTML representation is unable to render, please try loading this page with nbviewer.org.</b></div><div class=\"sk-container\" hidden><div class=\"sk-item sk-dashed-wrapped\"><div class=\"sk-label-container\"><div class=\"sk-label sk-toggleable\"><input class=\"sk-toggleable__control sk-hidden--visually\" id=\"sk-estimator-id-37\" type=\"checkbox\" ><label for=\"sk-estimator-id-37\" class=\"sk-toggleable__label sk-toggleable__label-arrow\">RandomizedSearchCV</label><div class=\"sk-toggleable__content\"><pre>RandomizedSearchCV(cv=5,\n",
       "                   estimator=Pipeline(steps=[(&#x27;sampling&#x27;, SMOTE()),\n",
       "                                             (&#x27;classification&#x27;,\n",
       "                                              LogisticRegression())]),\n",
       "                   n_iter=100, n_jobs=-1,\n",
       "                   param_distributions={&#x27;classification__C&#x27;: array([1.00000000e-05, 1.02331658e-05, 1.04717682e-05, 1.07159340e-05,\n",
       "       1.09657929e-05, 1.12214777e-05, 1.14831241e-05, 1.17508713e-05,\n",
       "       1.20248614e-05, 1.23052400e-05, 1.25921561e-05, 1.2...\n",
       "       0.00259502, 0.00271859, 0.00284804, 0.00298365, 0.00312572,\n",
       "       0.00327455, 0.00343047, 0.00359381, 0.00376494, 0.00394421,\n",
       "       0.00413201, 0.00432876, 0.00453488, 0.00475081, 0.00497702,\n",
       "       0.00521401, 0.00546228, 0.00572237, 0.00599484, 0.00628029,\n",
       "       0.00657933, 0.00689261, 0.00722081, 0.00756463, 0.00792483,\n",
       "       0.00830218, 0.00869749, 0.00911163, 0.00954548, 0.01      ])},\n",
       "                   random_state=0, scoring=make_scorer(roc_auc_score),\n",
       "                   verbose=2)</pre></div></div></div><div class=\"sk-parallel\"><div class=\"sk-parallel-item\"><div class=\"sk-item\"><div class=\"sk-label-container\"><div class=\"sk-label sk-toggleable\"><input class=\"sk-toggleable__control sk-hidden--visually\" id=\"sk-estimator-id-38\" type=\"checkbox\" ><label for=\"sk-estimator-id-38\" class=\"sk-toggleable__label sk-toggleable__label-arrow\">estimator: Pipeline</label><div class=\"sk-toggleable__content\"><pre>Pipeline(steps=[(&#x27;sampling&#x27;, SMOTE()),\n",
       "                (&#x27;classification&#x27;, LogisticRegression())])</pre></div></div></div><div class=\"sk-serial\"><div class=\"sk-item\"><div class=\"sk-serial\"><div class=\"sk-item\"><div class=\"sk-estimator sk-toggleable\"><input class=\"sk-toggleable__control sk-hidden--visually\" id=\"sk-estimator-id-39\" type=\"checkbox\" ><label for=\"sk-estimator-id-39\" class=\"sk-toggleable__label sk-toggleable__label-arrow\">SMOTE</label><div class=\"sk-toggleable__content\"><pre>SMOTE()</pre></div></div></div><div class=\"sk-item\"><div class=\"sk-estimator sk-toggleable\"><input class=\"sk-toggleable__control sk-hidden--visually\" id=\"sk-estimator-id-40\" type=\"checkbox\" ><label for=\"sk-estimator-id-40\" class=\"sk-toggleable__label sk-toggleable__label-arrow\">LogisticRegression</label><div class=\"sk-toggleable__content\"><pre>LogisticRegression()</pre></div></div></div></div></div></div></div></div></div></div></div></div>"
      ],
      "text/plain": [
       "RandomizedSearchCV(cv=5,\n",
       "                   estimator=Pipeline(steps=[('sampling', SMOTE()),\n",
       "                                             ('classification',\n",
       "                                              LogisticRegression())]),\n",
       "                   n_iter=100, n_jobs=-1,\n",
       "                   param_distributions={'classification__C': array([1.00000000e-05, 1.02331658e-05, 1.04717682e-05, 1.07159340e-05,\n",
       "       1.09657929e-05, 1.12214777e-05, 1.14831241e-05, 1.17508713e-05,\n",
       "       1.20248614e-05, 1.23052400e-05, 1.25921561e-05, 1.2...\n",
       "       0.00259502, 0.00271859, 0.00284804, 0.00298365, 0.00312572,\n",
       "       0.00327455, 0.00343047, 0.00359381, 0.00376494, 0.00394421,\n",
       "       0.00413201, 0.00432876, 0.00453488, 0.00475081, 0.00497702,\n",
       "       0.00521401, 0.00546228, 0.00572237, 0.00599484, 0.00628029,\n",
       "       0.00657933, 0.00689261, 0.00722081, 0.00756463, 0.00792483,\n",
       "       0.00830218, 0.00869749, 0.00911163, 0.00954548, 0.01      ])},\n",
       "                   random_state=0, scoring=make_scorer(roc_auc_score),\n",
       "                   verbose=2)"
      ]
     },
     "execution_count": 88,
     "metadata": {},
     "output_type": "execute_result"
    }
   ],
   "source": [
    "search_logi_roc_1.fit(X_train,y_train)"
   ]
  },
  {
   "cell_type": "code",
   "execution_count": 129,
   "id": "487efbe5",
   "metadata": {},
   "outputs": [
    {
     "data": {
      "text/html": [
       "<div>\n",
       "<style scoped>\n",
       "    .dataframe tbody tr th:only-of-type {\n",
       "        vertical-align: middle;\n",
       "    }\n",
       "\n",
       "    .dataframe tbody tr th {\n",
       "        vertical-align: top;\n",
       "    }\n",
       "\n",
       "    .dataframe thead th {\n",
       "        text-align: right;\n",
       "    }\n",
       "</style>\n",
       "<table border=\"1\" class=\"dataframe\">\n",
       "  <thead>\n",
       "    <tr style=\"text-align: right;\">\n",
       "      <th></th>\n",
       "      <th>model</th>\n",
       "      <th>score</th>\n",
       "      <th>best_params</th>\n",
       "      <th>best_score</th>\n",
       "      <th>train</th>\n",
       "      <th>test</th>\n",
       "      <th>fbeta_score_test</th>\n",
       "    </tr>\n",
       "  </thead>\n",
       "  <tbody>\n",
       "    <tr>\n",
       "      <th>0</th>\n",
       "      <td>search_gradiant</td>\n",
       "      <td>ftwo</td>\n",
       "      <td>{'classification__tol': 0.0009326033468832199,...</td>\n",
       "      <td>0.647962</td>\n",
       "      <td>0.643953</td>\n",
       "      <td>0.637707</td>\n",
       "      <td>0.637707</td>\n",
       "    </tr>\n",
       "    <tr>\n",
       "      <th>0</th>\n",
       "      <td>search_gradiant</td>\n",
       "      <td>roc</td>\n",
       "      <td>{'classification__tol': 0.0009326033468832199,...</td>\n",
       "      <td>0.673914</td>\n",
       "      <td>0.671483</td>\n",
       "      <td>0.672751</td>\n",
       "      <td>0.637546</td>\n",
       "    </tr>\n",
       "  </tbody>\n",
       "</table>\n",
       "</div>"
      ],
      "text/plain": [
       "             model score                                        best_params  \\\n",
       "0  search_gradiant  ftwo  {'classification__tol': 0.0009326033468832199,...   \n",
       "0  search_gradiant   roc  {'classification__tol': 0.0009326033468832199,...   \n",
       "\n",
       "   best_score     train      test  fbeta_score_test  \n",
       "0    0.647962  0.643953  0.637707          0.637707  \n",
       "0    0.673914  0.671483  0.672751          0.637546  "
      ]
     },
     "execution_count": 129,
     "metadata": {},
     "output_type": "execute_result"
    }
   ],
   "source": [
    "current_model = search_logi_roc_1\n",
    "\n",
    "y_predict = current_model.predict(X_test)\n",
    "\n",
    "report_new_2 = pd.DataFrame({'model':'search_gradiant','score':['roc'],'best_params':[current_model.best_params_],\\\n",
    "          'best_score':[current_model.best_score_],'train':[current_model.score(X_train, y_train)],\\\n",
    "          'test':[current_model.score(X_test, y_test)],'fbeta_score_test':[fbeta_score(y_test,y_predict,beta=10)]})\n",
    "\n",
    "report_final_1 = pd.concat([report_new_1,report_new_2])\n",
    "report_final_1\n",
    "# Par erreur, on a appellé le modèle search_gradiant au lieu de search_logi\n",
    "# Le score ftwo correspond au fbeta (corrigé dans le rapport et les diapos)"
   ]
  },
  {
   "cell_type": "code",
   "execution_count": 95,
   "id": "e42db5a8",
   "metadata": {},
   "outputs": [
    {
     "data": {
      "text/plain": [
       "{'classification__tol': 0.0009326033468832199,\n",
       " 'classification__solver': 'liblinear',\n",
       " 'classification__penalty': 'l1',\n",
       " 'classification__max_iter': 1000,\n",
       " 'classification__C': 18589.56679635688}"
      ]
     },
     "execution_count": 95,
     "metadata": {},
     "output_type": "execute_result"
    }
   ],
   "source": [
    "search_logi_roc_1.best_params_"
   ]
  },
  {
   "cell_type": "code",
   "execution_count": 97,
   "id": "8eec5d04",
   "metadata": {},
   "outputs": [],
   "source": [
    "# On va exporter notre pipeline pour ne pas avoir à le faire tourner à chaque fois\n",
    "import joblib"
   ]
  },
  {
   "cell_type": "code",
   "execution_count": 99,
   "id": "547d3aa1",
   "metadata": {},
   "outputs": [
    {
     "data": {
      "text/plain": [
       "['Pipeline\\\\search_logi_roc_1.joblib']"
      ]
     },
     "execution_count": 99,
     "metadata": {},
     "output_type": "execute_result"
    }
   ],
   "source": [
    "joblib.dump(search_logi_ftwo_1, 'Pipeline\\search_logi_ftwo_1.joblib')\n",
    "joblib.dump(search_logi_roc_1, 'Pipeline\\search_logi_roc_1.joblib')"
   ]
  },
  {
   "cell_type": "markdown",
   "id": "32415fda",
   "metadata": {},
   "source": [
    "# Feature importance"
   ]
  },
  {
   "cell_type": "code",
   "execution_count": 125,
   "id": "b750d0c1",
   "metadata": {},
   "outputs": [
    {
     "data": {
      "text/html": [
       "<div>\n",
       "<style scoped>\n",
       "    .dataframe tbody tr th:only-of-type {\n",
       "        vertical-align: middle;\n",
       "    }\n",
       "\n",
       "    .dataframe tbody tr th {\n",
       "        vertical-align: top;\n",
       "    }\n",
       "\n",
       "    .dataframe thead th {\n",
       "        text-align: right;\n",
       "    }\n",
       "</style>\n",
       "<table border=\"1\" class=\"dataframe\">\n",
       "  <thead>\n",
       "    <tr style=\"text-align: right;\">\n",
       "      <th></th>\n",
       "      <th>feature</th>\n",
       "      <th>coef</th>\n",
       "    </tr>\n",
       "  </thead>\n",
       "  <tbody>\n",
       "    <tr>\n",
       "      <th>0</th>\n",
       "      <td>EXT_SOURCE_3</td>\n",
       "      <td>-2.256766e+00</td>\n",
       "    </tr>\n",
       "    <tr>\n",
       "      <th>1</th>\n",
       "      <td>EXT_SOURCE_2</td>\n",
       "      <td>-1.866373e+00</td>\n",
       "    </tr>\n",
       "    <tr>\n",
       "      <th>2</th>\n",
       "      <td>EXT_SOURCE_1</td>\n",
       "      <td>-2.549993e+00</td>\n",
       "    </tr>\n",
       "    <tr>\n",
       "      <th>3</th>\n",
       "      <td>CC_CNT_DRAWINGS_ATM_CURRENT_MEAN</td>\n",
       "      <td>3.622152e-01</td>\n",
       "    </tr>\n",
       "    <tr>\n",
       "      <th>4</th>\n",
       "      <td>CC_CNT_DRAWINGS_CURRENT_MAX</td>\n",
       "      <td>2.866240e-02</td>\n",
       "    </tr>\n",
       "    <tr>\n",
       "      <th>5</th>\n",
       "      <td>BURO_DAYS_CREDIT_MEAN</td>\n",
       "      <td>1.033761e-04</td>\n",
       "    </tr>\n",
       "    <tr>\n",
       "      <th>6</th>\n",
       "      <td>CC_AMT_BALANCE_MEAN</td>\n",
       "      <td>9.444904e-07</td>\n",
       "    </tr>\n",
       "    <tr>\n",
       "      <th>7</th>\n",
       "      <td>CC_AMT_TOTAL_RECEIVABLE_MEAN</td>\n",
       "      <td>1.351460e-06</td>\n",
       "    </tr>\n",
       "    <tr>\n",
       "      <th>8</th>\n",
       "      <td>CC_AMT_RECIVABLE_MEAN</td>\n",
       "      <td>1.020540e-06</td>\n",
       "    </tr>\n",
       "    <tr>\n",
       "      <th>9</th>\n",
       "      <td>CC_AMT_RECEIVABLE_PRINCIPAL_MEAN</td>\n",
       "      <td>4.466358e-07</td>\n",
       "    </tr>\n",
       "    <tr>\n",
       "      <th>10</th>\n",
       "      <td>CC_CNT_DRAWINGS_CURRENT_MEAN</td>\n",
       "      <td>-7.067720e-02</td>\n",
       "    </tr>\n",
       "    <tr>\n",
       "      <th>11</th>\n",
       "      <td>BURO_MONTHS_BALANCE_SIZE_MEAN</td>\n",
       "      <td>-1.052566e-02</td>\n",
       "    </tr>\n",
       "    <tr>\n",
       "      <th>12</th>\n",
       "      <td>BURO_CREDIT_ACTIVE_Closed_MEAN</td>\n",
       "      <td>6.824144e-01</td>\n",
       "    </tr>\n",
       "    <tr>\n",
       "      <th>13</th>\n",
       "      <td>DAYS_BIRTH</td>\n",
       "      <td>-8.984732e-05</td>\n",
       "    </tr>\n",
       "    <tr>\n",
       "      <th>14</th>\n",
       "      <td>PREV_NAME_CONTRACT_STATUS_Refused_MEAN</td>\n",
       "      <td>1.645477e+00</td>\n",
       "    </tr>\n",
       "    <tr>\n",
       "      <th>15</th>\n",
       "      <td>BURO_CREDIT_ACTIVE_Active_MEAN</td>\n",
       "      <td>4.805322e-01</td>\n",
       "    </tr>\n",
       "    <tr>\n",
       "      <th>16</th>\n",
       "      <td>BURO_DAYS_CREDIT_MIN</td>\n",
       "      <td>-5.002348e-05</td>\n",
       "    </tr>\n",
       "    <tr>\n",
       "      <th>17</th>\n",
       "      <td>DAYS_EMPLOYED</td>\n",
       "      <td>9.204185e-05</td>\n",
       "    </tr>\n",
       "    <tr>\n",
       "      <th>18</th>\n",
       "      <td>PREV_CODE_REJECT_REASON_XAP_MEAN</td>\n",
       "      <td>8.191896e-01</td>\n",
       "    </tr>\n",
       "    <tr>\n",
       "      <th>19</th>\n",
       "      <td>CC_AMT_INST_MIN_REGULARITY_MEAN</td>\n",
       "      <td>-8.002663e-05</td>\n",
       "    </tr>\n",
       "  </tbody>\n",
       "</table>\n",
       "</div>"
      ],
      "text/plain": [
       "                                   feature          coef\n",
       "0                             EXT_SOURCE_3 -2.256766e+00\n",
       "1                             EXT_SOURCE_2 -1.866373e+00\n",
       "2                             EXT_SOURCE_1 -2.549993e+00\n",
       "3         CC_CNT_DRAWINGS_ATM_CURRENT_MEAN  3.622152e-01\n",
       "4              CC_CNT_DRAWINGS_CURRENT_MAX  2.866240e-02\n",
       "5                    BURO_DAYS_CREDIT_MEAN  1.033761e-04\n",
       "6                      CC_AMT_BALANCE_MEAN  9.444904e-07\n",
       "7             CC_AMT_TOTAL_RECEIVABLE_MEAN  1.351460e-06\n",
       "8                    CC_AMT_RECIVABLE_MEAN  1.020540e-06\n",
       "9         CC_AMT_RECEIVABLE_PRINCIPAL_MEAN  4.466358e-07\n",
       "10            CC_CNT_DRAWINGS_CURRENT_MEAN -7.067720e-02\n",
       "11           BURO_MONTHS_BALANCE_SIZE_MEAN -1.052566e-02\n",
       "12          BURO_CREDIT_ACTIVE_Closed_MEAN  6.824144e-01\n",
       "13                              DAYS_BIRTH -8.984732e-05\n",
       "14  PREV_NAME_CONTRACT_STATUS_Refused_MEAN  1.645477e+00\n",
       "15          BURO_CREDIT_ACTIVE_Active_MEAN  4.805322e-01\n",
       "16                    BURO_DAYS_CREDIT_MIN -5.002348e-05\n",
       "17                           DAYS_EMPLOYED  9.204185e-05\n",
       "18        PREV_CODE_REJECT_REASON_XAP_MEAN  8.191896e-01\n",
       "19         CC_AMT_INST_MIN_REGULARITY_MEAN -8.002663e-05"
      ]
     },
     "execution_count": 125,
     "metadata": {},
     "output_type": "execute_result"
    }
   ],
   "source": [
    "coefficient = search_logi_ftwo.best_estimator_.named_steps['classification'].coef_\n",
    "\n",
    "pd.DataFrame({'feature':X_train.columns,'coef':coefficient[0]})"
   ]
  },
  {
   "cell_type": "code",
   "execution_count": null,
   "id": "93674c6e",
   "metadata": {},
   "outputs": [],
   "source": []
  }
 ],
 "metadata": {
  "kernelspec": {
   "display_name": "Python 3 (ipykernel)",
   "language": "python",
   "name": "python3"
  },
  "language_info": {
   "codemirror_mode": {
    "name": "ipython",
    "version": 3
   },
   "file_extension": ".py",
   "mimetype": "text/x-python",
   "name": "python",
   "nbconvert_exporter": "python",
   "pygments_lexer": "ipython3",
   "version": "3.9.7"
  }
 },
 "nbformat": 4,
 "nbformat_minor": 5
}
