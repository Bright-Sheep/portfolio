{
  "cells": [
    {
      "cell_type": "code",
      "execution_count": 1,
      "id": "02a5876e",
      "metadata": {
        "colab": {
          "base_uri": "https://localhost:8080/"
        },
        "id": "02a5876e",
        "outputId": "a038c8f8-13eb-42c6-d821-8096bc2d167a"
      },
      "outputs": [
        {
          "output_type": "stream",
          "name": "stderr",
          "text": [
            "[nltk_data] Downloading package stopwords to /root/nltk_data...\n",
            "[nltk_data]   Unzipping corpora/stopwords.zip.\n",
            "[nltk_data] Downloading package punkt to /root/nltk_data...\n",
            "[nltk_data]   Unzipping tokenizers/punkt.zip.\n",
            "[nltk_data] Downloading package wordnet to /root/nltk_data...\n",
            "[nltk_data] Downloading package omw-1.4 to /root/nltk_data...\n"
          ]
        },
        {
          "output_type": "execute_result",
          "data": {
            "text/plain": [
              "True"
            ]
          },
          "metadata": {},
          "execution_count": 1
        }
      ],
      "source": [
        "# Import des librairies\n",
        "import numpy as np\n",
        "import pandas as pd\n",
        "import matplotlib.pyplot as plt\n",
        "import seaborn as sns\n",
        "\n",
        "import time\n",
        "\n",
        "# Traitement des images\n",
        "\n",
        "\n",
        "from os import listdir\n",
        "\n",
        "# Tokenizer\n",
        "import nltk\n",
        "from nltk.tokenize import sent_tokenize, word_tokenize\n",
        "\n",
        "# Bag of word\n",
        "\n",
        "from sklearn.feature_extraction.text import CountVectorizer, TfidfVectorizer\n",
        "\n",
        "nltk.download('stopwords')\n",
        "nltk.download('punkt')\n",
        "nltk.download('wordnet')\n",
        "\n",
        "nltk.download('omw-1.4')"
      ]
    },
    {
      "cell_type": "code",
      "execution_count": 5,
      "id": "09ecc12a",
      "metadata": {
        "id": "09ecc12a"
      },
      "outputs": [],
      "source": [
        "# Recupération des données\n",
        "\n",
        "data = pd.read_csv('flipkart_com-ecommerce_sample_1050.csv')"
      ]
    },
    {
      "cell_type": "code",
      "execution_count": 6,
      "id": "d35fbc14",
      "metadata": {
        "colab": {
          "base_uri": "https://localhost:8080/",
          "height": 565
        },
        "id": "d35fbc14",
        "outputId": "8bf0ccfc-efd2-4f45-ff6d-94141b097938"
      },
      "outputs": [
        {
          "output_type": "execute_result",
          "data": {
            "text/plain": [
              "                            uniq_id            crawl_timestamp  \\\n",
              "0  55b85ea15a1536d46b7190ad6fff8ce7  2016-04-30 03:22:56 +0000   \n",
              "1  7b72c92c2f6c40268628ec5f14c6d590  2016-04-30 03:22:56 +0000   \n",
              "2  64d5d4a258243731dc7bbb1eef49ad74  2016-04-30 03:22:56 +0000   \n",
              "3  d4684dcdc759dd9cdf41504698d737d8  2016-06-20 08:49:52 +0000   \n",
              "4  6325b6870c54cd47be6ebfbffa620ec7  2016-06-20 08:49:52 +0000   \n",
              "\n",
              "                                         product_url  \\\n",
              "0  http://www.flipkart.com/elegance-polyester-mul...   \n",
              "1  http://www.flipkart.com/sathiyas-cotton-bath-t...   \n",
              "2  http://www.flipkart.com/eurospa-cotton-terry-f...   \n",
              "3  http://www.flipkart.com/santosh-royal-fashion-...   \n",
              "4  http://www.flipkart.com/jaipur-print-cotton-fl...   \n",
              "\n",
              "                                        product_name  \\\n",
              "0  Elegance Polyester Multicolor Abstract Eyelet ...   \n",
              "1                         Sathiyas Cotton Bath Towel   \n",
              "2                Eurospa Cotton Terry Face Towel Set   \n",
              "3  SANTOSH ROYAL FASHION Cotton Printed King size...   \n",
              "4  Jaipur Print Cotton Floral King sized Double B...   \n",
              "\n",
              "                               product_category_tree               pid  \\\n",
              "0  [\"Home Furnishing >> Curtains & Accessories >>...  CRNEG7BKMFFYHQ8Z   \n",
              "1  [\"Baby Care >> Baby Bath & Skin >> Baby Bath T...  BTWEGFZHGBXPHZUH   \n",
              "2  [\"Baby Care >> Baby Bath & Skin >> Baby Bath T...  BTWEG6SHXTDB2A2Y   \n",
              "3  [\"Home Furnishing >> Bed Linen >> Bedsheets >>...  BDSEJT9UQWHDUBH4   \n",
              "4  [\"Home Furnishing >> Bed Linen >> Bedsheets >>...  BDSEJTHNGWVGWWQU   \n",
              "\n",
              "   retail_price  discounted_price                                 image  \\\n",
              "0        1899.0             899.0  55b85ea15a1536d46b7190ad6fff8ce7.jpg   \n",
              "1         600.0             449.0  7b72c92c2f6c40268628ec5f14c6d590.jpg   \n",
              "2           NaN               NaN  64d5d4a258243731dc7bbb1eef49ad74.jpg   \n",
              "3        2699.0            1299.0  d4684dcdc759dd9cdf41504698d737d8.jpg   \n",
              "4        2599.0             698.0  6325b6870c54cd47be6ebfbffa620ec7.jpg   \n",
              "\n",
              "   is_FK_Advantage_product                                        description  \\\n",
              "0                    False  Key Features of Elegance Polyester Multicolor ...   \n",
              "1                    False  Specifications of Sathiyas Cotton Bath Towel (...   \n",
              "2                    False  Key Features of Eurospa Cotton Terry Face Towe...   \n",
              "3                    False  Key Features of SANTOSH ROYAL FASHION Cotton P...   \n",
              "4                    False  Key Features of Jaipur Print Cotton Floral Kin...   \n",
              "\n",
              "        product_rating       overall_rating                  brand  \\\n",
              "0  No rating available  No rating available               Elegance   \n",
              "1  No rating available  No rating available               Sathiyas   \n",
              "2  No rating available  No rating available                Eurospa   \n",
              "3  No rating available  No rating available  SANTOSH ROYAL FASHION   \n",
              "4  No rating available  No rating available           Jaipur Print   \n",
              "\n",
              "                              product_specifications  \n",
              "0  {\"product_specification\"=>[{\"key\"=>\"Brand\", \"v...  \n",
              "1  {\"product_specification\"=>[{\"key\"=>\"Machine Wa...  \n",
              "2  {\"product_specification\"=>[{\"key\"=>\"Material\",...  \n",
              "3  {\"product_specification\"=>[{\"key\"=>\"Brand\", \"v...  \n",
              "4  {\"product_specification\"=>[{\"key\"=>\"Machine Wa...  "
            ],
            "text/html": [
              "\n",
              "  <div id=\"df-70db171c-60d3-4f39-b1bf-76866db569ef\">\n",
              "    <div class=\"colab-df-container\">\n",
              "      <div>\n",
              "<style scoped>\n",
              "    .dataframe tbody tr th:only-of-type {\n",
              "        vertical-align: middle;\n",
              "    }\n",
              "\n",
              "    .dataframe tbody tr th {\n",
              "        vertical-align: top;\n",
              "    }\n",
              "\n",
              "    .dataframe thead th {\n",
              "        text-align: right;\n",
              "    }\n",
              "</style>\n",
              "<table border=\"1\" class=\"dataframe\">\n",
              "  <thead>\n",
              "    <tr style=\"text-align: right;\">\n",
              "      <th></th>\n",
              "      <th>uniq_id</th>\n",
              "      <th>crawl_timestamp</th>\n",
              "      <th>product_url</th>\n",
              "      <th>product_name</th>\n",
              "      <th>product_category_tree</th>\n",
              "      <th>pid</th>\n",
              "      <th>retail_price</th>\n",
              "      <th>discounted_price</th>\n",
              "      <th>image</th>\n",
              "      <th>is_FK_Advantage_product</th>\n",
              "      <th>description</th>\n",
              "      <th>product_rating</th>\n",
              "      <th>overall_rating</th>\n",
              "      <th>brand</th>\n",
              "      <th>product_specifications</th>\n",
              "    </tr>\n",
              "  </thead>\n",
              "  <tbody>\n",
              "    <tr>\n",
              "      <th>0</th>\n",
              "      <td>55b85ea15a1536d46b7190ad6fff8ce7</td>\n",
              "      <td>2016-04-30 03:22:56 +0000</td>\n",
              "      <td>http://www.flipkart.com/elegance-polyester-mul...</td>\n",
              "      <td>Elegance Polyester Multicolor Abstract Eyelet ...</td>\n",
              "      <td>[\"Home Furnishing &gt;&gt; Curtains &amp; Accessories &gt;&gt;...</td>\n",
              "      <td>CRNEG7BKMFFYHQ8Z</td>\n",
              "      <td>1899.0</td>\n",
              "      <td>899.0</td>\n",
              "      <td>55b85ea15a1536d46b7190ad6fff8ce7.jpg</td>\n",
              "      <td>False</td>\n",
              "      <td>Key Features of Elegance Polyester Multicolor ...</td>\n",
              "      <td>No rating available</td>\n",
              "      <td>No rating available</td>\n",
              "      <td>Elegance</td>\n",
              "      <td>{\"product_specification\"=&gt;[{\"key\"=&gt;\"Brand\", \"v...</td>\n",
              "    </tr>\n",
              "    <tr>\n",
              "      <th>1</th>\n",
              "      <td>7b72c92c2f6c40268628ec5f14c6d590</td>\n",
              "      <td>2016-04-30 03:22:56 +0000</td>\n",
              "      <td>http://www.flipkart.com/sathiyas-cotton-bath-t...</td>\n",
              "      <td>Sathiyas Cotton Bath Towel</td>\n",
              "      <td>[\"Baby Care &gt;&gt; Baby Bath &amp; Skin &gt;&gt; Baby Bath T...</td>\n",
              "      <td>BTWEGFZHGBXPHZUH</td>\n",
              "      <td>600.0</td>\n",
              "      <td>449.0</td>\n",
              "      <td>7b72c92c2f6c40268628ec5f14c6d590.jpg</td>\n",
              "      <td>False</td>\n",
              "      <td>Specifications of Sathiyas Cotton Bath Towel (...</td>\n",
              "      <td>No rating available</td>\n",
              "      <td>No rating available</td>\n",
              "      <td>Sathiyas</td>\n",
              "      <td>{\"product_specification\"=&gt;[{\"key\"=&gt;\"Machine Wa...</td>\n",
              "    </tr>\n",
              "    <tr>\n",
              "      <th>2</th>\n",
              "      <td>64d5d4a258243731dc7bbb1eef49ad74</td>\n",
              "      <td>2016-04-30 03:22:56 +0000</td>\n",
              "      <td>http://www.flipkart.com/eurospa-cotton-terry-f...</td>\n",
              "      <td>Eurospa Cotton Terry Face Towel Set</td>\n",
              "      <td>[\"Baby Care &gt;&gt; Baby Bath &amp; Skin &gt;&gt; Baby Bath T...</td>\n",
              "      <td>BTWEG6SHXTDB2A2Y</td>\n",
              "      <td>NaN</td>\n",
              "      <td>NaN</td>\n",
              "      <td>64d5d4a258243731dc7bbb1eef49ad74.jpg</td>\n",
              "      <td>False</td>\n",
              "      <td>Key Features of Eurospa Cotton Terry Face Towe...</td>\n",
              "      <td>No rating available</td>\n",
              "      <td>No rating available</td>\n",
              "      <td>Eurospa</td>\n",
              "      <td>{\"product_specification\"=&gt;[{\"key\"=&gt;\"Material\",...</td>\n",
              "    </tr>\n",
              "    <tr>\n",
              "      <th>3</th>\n",
              "      <td>d4684dcdc759dd9cdf41504698d737d8</td>\n",
              "      <td>2016-06-20 08:49:52 +0000</td>\n",
              "      <td>http://www.flipkart.com/santosh-royal-fashion-...</td>\n",
              "      <td>SANTOSH ROYAL FASHION Cotton Printed King size...</td>\n",
              "      <td>[\"Home Furnishing &gt;&gt; Bed Linen &gt;&gt; Bedsheets &gt;&gt;...</td>\n",
              "      <td>BDSEJT9UQWHDUBH4</td>\n",
              "      <td>2699.0</td>\n",
              "      <td>1299.0</td>\n",
              "      <td>d4684dcdc759dd9cdf41504698d737d8.jpg</td>\n",
              "      <td>False</td>\n",
              "      <td>Key Features of SANTOSH ROYAL FASHION Cotton P...</td>\n",
              "      <td>No rating available</td>\n",
              "      <td>No rating available</td>\n",
              "      <td>SANTOSH ROYAL FASHION</td>\n",
              "      <td>{\"product_specification\"=&gt;[{\"key\"=&gt;\"Brand\", \"v...</td>\n",
              "    </tr>\n",
              "    <tr>\n",
              "      <th>4</th>\n",
              "      <td>6325b6870c54cd47be6ebfbffa620ec7</td>\n",
              "      <td>2016-06-20 08:49:52 +0000</td>\n",
              "      <td>http://www.flipkart.com/jaipur-print-cotton-fl...</td>\n",
              "      <td>Jaipur Print Cotton Floral King sized Double B...</td>\n",
              "      <td>[\"Home Furnishing &gt;&gt; Bed Linen &gt;&gt; Bedsheets &gt;&gt;...</td>\n",
              "      <td>BDSEJTHNGWVGWWQU</td>\n",
              "      <td>2599.0</td>\n",
              "      <td>698.0</td>\n",
              "      <td>6325b6870c54cd47be6ebfbffa620ec7.jpg</td>\n",
              "      <td>False</td>\n",
              "      <td>Key Features of Jaipur Print Cotton Floral Kin...</td>\n",
              "      <td>No rating available</td>\n",
              "      <td>No rating available</td>\n",
              "      <td>Jaipur Print</td>\n",
              "      <td>{\"product_specification\"=&gt;[{\"key\"=&gt;\"Machine Wa...</td>\n",
              "    </tr>\n",
              "  </tbody>\n",
              "</table>\n",
              "</div>\n",
              "      <button class=\"colab-df-convert\" onclick=\"convertToInteractive('df-70db171c-60d3-4f39-b1bf-76866db569ef')\"\n",
              "              title=\"Convert this dataframe to an interactive table.\"\n",
              "              style=\"display:none;\">\n",
              "        \n",
              "  <svg xmlns=\"http://www.w3.org/2000/svg\" height=\"24px\"viewBox=\"0 0 24 24\"\n",
              "       width=\"24px\">\n",
              "    <path d=\"M0 0h24v24H0V0z\" fill=\"none\"/>\n",
              "    <path d=\"M18.56 5.44l.94 2.06.94-2.06 2.06-.94-2.06-.94-.94-2.06-.94 2.06-2.06.94zm-11 1L8.5 8.5l.94-2.06 2.06-.94-2.06-.94L8.5 2.5l-.94 2.06-2.06.94zm10 10l.94 2.06.94-2.06 2.06-.94-2.06-.94-.94-2.06-.94 2.06-2.06.94z\"/><path d=\"M17.41 7.96l-1.37-1.37c-.4-.4-.92-.59-1.43-.59-.52 0-1.04.2-1.43.59L10.3 9.45l-7.72 7.72c-.78.78-.78 2.05 0 2.83L4 21.41c.39.39.9.59 1.41.59.51 0 1.02-.2 1.41-.59l7.78-7.78 2.81-2.81c.8-.78.8-2.07 0-2.86zM5.41 20L4 18.59l7.72-7.72 1.47 1.35L5.41 20z\"/>\n",
              "  </svg>\n",
              "      </button>\n",
              "      \n",
              "  <style>\n",
              "    .colab-df-container {\n",
              "      display:flex;\n",
              "      flex-wrap:wrap;\n",
              "      gap: 12px;\n",
              "    }\n",
              "\n",
              "    .colab-df-convert {\n",
              "      background-color: #E8F0FE;\n",
              "      border: none;\n",
              "      border-radius: 50%;\n",
              "      cursor: pointer;\n",
              "      display: none;\n",
              "      fill: #1967D2;\n",
              "      height: 32px;\n",
              "      padding: 0 0 0 0;\n",
              "      width: 32px;\n",
              "    }\n",
              "\n",
              "    .colab-df-convert:hover {\n",
              "      background-color: #E2EBFA;\n",
              "      box-shadow: 0px 1px 2px rgba(60, 64, 67, 0.3), 0px 1px 3px 1px rgba(60, 64, 67, 0.15);\n",
              "      fill: #174EA6;\n",
              "    }\n",
              "\n",
              "    [theme=dark] .colab-df-convert {\n",
              "      background-color: #3B4455;\n",
              "      fill: #D2E3FC;\n",
              "    }\n",
              "\n",
              "    [theme=dark] .colab-df-convert:hover {\n",
              "      background-color: #434B5C;\n",
              "      box-shadow: 0px 1px 3px 1px rgba(0, 0, 0, 0.15);\n",
              "      filter: drop-shadow(0px 1px 2px rgba(0, 0, 0, 0.3));\n",
              "      fill: #FFFFFF;\n",
              "    }\n",
              "  </style>\n",
              "\n",
              "      <script>\n",
              "        const buttonEl =\n",
              "          document.querySelector('#df-70db171c-60d3-4f39-b1bf-76866db569ef button.colab-df-convert');\n",
              "        buttonEl.style.display =\n",
              "          google.colab.kernel.accessAllowed ? 'block' : 'none';\n",
              "\n",
              "        async function convertToInteractive(key) {\n",
              "          const element = document.querySelector('#df-70db171c-60d3-4f39-b1bf-76866db569ef');\n",
              "          const dataTable =\n",
              "            await google.colab.kernel.invokeFunction('convertToInteractive',\n",
              "                                                     [key], {});\n",
              "          if (!dataTable) return;\n",
              "\n",
              "          const docLinkHtml = 'Like what you see? Visit the ' +\n",
              "            '<a target=\"_blank\" href=https://colab.research.google.com/notebooks/data_table.ipynb>data table notebook</a>'\n",
              "            + ' to learn more about interactive tables.';\n",
              "          element.innerHTML = '';\n",
              "          dataTable['output_type'] = 'display_data';\n",
              "          await google.colab.output.renderOutput(dataTable, element);\n",
              "          const docLink = document.createElement('div');\n",
              "          docLink.innerHTML = docLinkHtml;\n",
              "          element.appendChild(docLink);\n",
              "        }\n",
              "      </script>\n",
              "    </div>\n",
              "  </div>\n",
              "  "
            ]
          },
          "metadata": {},
          "execution_count": 6
        }
      ],
      "source": [
        "data.head()"
      ]
    },
    {
      "cell_type": "code",
      "execution_count": 7,
      "id": "5429277d",
      "metadata": {
        "id": "5429277d"
      },
      "outputs": [],
      "source": [
        "# On récupère les première catégories dans la colonne product category tree\n",
        "\n",
        "data['product_category_tree_preprocess'] = data['product_category_tree'].apply(lambda x : x[2:-2].split(' >> '))\n",
        "\n",
        "# On teste les labels avec la categorie du produit\n",
        "\n",
        "data['label_name'] = data['product_category_tree_preprocess'].apply(lambda x : x[0])\n",
        "\n"
      ]
    },
    {
      "cell_type": "code",
      "execution_count": 8,
      "id": "dd22d448",
      "metadata": {
        "id": "dd22d448"
      },
      "outputs": [],
      "source": [
        "# On combine la description et le titre pour maximiser les informations\n",
        "\n",
        "data['to_embed'] = data['product_name'] + ' '+ data['description']"
      ]
    },
    {
      "cell_type": "code",
      "execution_count": 9,
      "id": "b4881f46",
      "metadata": {
        "id": "b4881f46"
      },
      "outputs": [],
      "source": [
        "# Tokenizer : Remplace la phrase par une liste de mots\n",
        "\n",
        "def tokenizer_fct(sentence) :\n",
        "    # print(sentence)\n",
        "    sentence_clean = sentence.replace('-', ' ').replace('+', ' ').replace('/', ' ').replace('#', ' ')\n",
        "    word_tokens = word_tokenize(sentence_clean)\n",
        "    return word_tokens\n",
        "\n",
        "# Stop words : Mots du type the, is, a ... Inutile pour la comprehension d'une phrase\n",
        "from nltk.corpus import stopwords\n",
        "stop_w = list(set(stopwords.words('english'))) + ['[', ']', ',', '.', ':', '?', '(', ')']\n",
        "\n",
        "# Retire les stopwords et les mots de 2 lettre ou moins\n",
        "def stop_word_filter_fct(list_words) :\n",
        "    filtered_w = [w for w in list_words if not w in stop_w]\n",
        "    filtered_w2 = [w for w in filtered_w if len(w) > 2]\n",
        "    return filtered_w2\n",
        "\n",
        "# lower case et alpha : Met tout les mots en minuscule (sauf les mots commencant par @ et http)\n",
        "def lower_start_fct(list_words) :\n",
        "    lw = [w.lower() for w in list_words if (not w.startswith(\"@\")) \n",
        "    #                                   and (not w.startswith(\"#\"))\n",
        "                                       and (not w.startswith(\"http\"))]\n",
        "    return lw\n",
        "\n",
        "# Lemmatizer (base d'un mot) : Remplace un mot par sa racine \n",
        "from nltk.stem import WordNetLemmatizer\n",
        "\n",
        "def lemma_fct(list_words) :\n",
        "    lemmatizer = WordNetLemmatizer()\n",
        "    lem_w = [lemmatizer.lemmatize(w) for w in list_words]\n",
        "    return lem_w\n",
        "\n",
        "# Fonction de préparation du texte pour le bag of words (Countvectorizer et Tf_idf, Word2Vec)\n",
        "def transform_bow_fct(desc_text) :\n",
        "    word_tokens = tokenizer_fct(desc_text)\n",
        "    sw = stop_word_filter_fct(word_tokens)\n",
        "    lw = lower_start_fct(sw)\n",
        "    # lem_w = lemma_fct(lw)    \n",
        "    transf_desc_text = ' '.join(lw)\n",
        "    return transf_desc_text\n",
        "\n",
        "# Fonction de préparation du texte pour le bag of words avec lemmatization\n",
        "def transform_bow_lem_fct(desc_text) :\n",
        "    word_tokens = tokenizer_fct(desc_text)\n",
        "    sw = stop_word_filter_fct(word_tokens)\n",
        "    lw = lower_start_fct(sw)\n",
        "    lem_w = lemma_fct(lw)    \n",
        "    transf_desc_text = ' '.join(lem_w)\n",
        "    return transf_desc_text\n",
        "\n",
        "# Fonction de préparation du texte pour le Deep learning (USE et BERT)\n",
        "def transform_dl_fct(desc_text) :\n",
        "    word_tokens = tokenizer_fct(desc_text)\n",
        "#    sw = stop_word_filter_fct(word_tokens)\n",
        "    lw = lower_start_fct(word_tokens)\n",
        "    # lem_w = lemma_fct(lw)    \n",
        "    transf_desc_text = ' '.join(lw)\n",
        "    return transf_desc_text"
      ]
    },
    {
      "cell_type": "code",
      "execution_count": 10,
      "id": "7b953653",
      "metadata": {
        "id": "7b953653"
      },
      "outputs": [],
      "source": [
        "# Calcul Tsne, détermination des clusters et calcul ARI entre vrais catégorie et n° de clusters\n",
        "def ARI_fct(features) :\n",
        "    time1 = time.time()\n",
        "    num_labels=len(l_cat)\n",
        "    tsne = manifold.TSNE(n_components=2, perplexity=30, n_iter=2000, \n",
        "                                 init='random', learning_rate=200, random_state=42)\n",
        "    X_tsne = tsne.fit_transform(features)\n",
        "    \n",
        "    # Détermination des clusters à partir des données après Tsne \n",
        "    cls = cluster.KMeans(n_clusters=num_labels, n_init=100, random_state=42)\n",
        "    cls.fit(X_tsne)\n",
        "    ARI = np.round(metrics.adjusted_rand_score(y_cat_num, cls.labels_),4)\n",
        "    time2 = np.round(time.time() - time1,0)\n",
        "    print(\"ARI : \", ARI, \"time : \", time2)\n",
        "    \n",
        "    return ARI, X_tsne, cls.labels_\n",
        "\n",
        "\n",
        "# visualisation du Tsne selon les vraies catégories et selon les clusters\n",
        "def TSNE_visu_fct(X_tsne, y_cat_num, labels, ARI) :\n",
        "    fig = plt.figure(figsize=(15,6))\n",
        "    \n",
        "    ax = fig.add_subplot(121)\n",
        "    scatter = ax.scatter(X_tsne[:,0],X_tsne[:,1], c=y_cat_num, cmap='Set1')\n",
        "    ax.legend(handles=scatter.legend_elements()[0], labels=l_cat, loc=\"best\", title=\"Categorie\")\n",
        "    plt.title('Représentation des produits par catégories réelles')\n",
        "    \n",
        "    ax = fig.add_subplot(122)\n",
        "    scatter = ax.scatter(X_tsne[:,0],X_tsne[:,1], c=labels, cmap='Set1')\n",
        "    ax.legend(handles=scatter.legend_elements()[0], labels=set(labels), loc=\"best\", title=\"Clusters\")\n",
        "    plt.title('Représentation des produits par clusters')\n",
        "    \n",
        "    plt.show()\n",
        "    print(\"ARI : \", ARI)"
      ]
    },
    {
      "cell_type": "code",
      "execution_count": 11,
      "id": "07ad074d",
      "metadata": {
        "colab": {
          "base_uri": "https://localhost:8080/"
        },
        "id": "07ad074d",
        "outputId": "05059ba4-7530-4c7f-f080-cd3c8255c12a"
      },
      "outputs": [
        {
          "output_type": "execute_result",
          "data": {
            "text/plain": [
              "(1050, 21)"
            ]
          },
          "metadata": {},
          "execution_count": 11
        }
      ],
      "source": [
        "# On prepare l'embeding. On choisit sur quel colonne on va le faire\n",
        "\n",
        "#to_embed = 'description'\n",
        "to_embed = 'product_name'\n",
        "\n",
        "data['sentence_bow'] = data[to_embed].apply(lambda x : transform_bow_fct(x))\n",
        "data['sentence_bow_lem'] = data[to_embed].apply(lambda x : transform_bow_lem_fct(x))\n",
        "data['sentence_dl'] = data[to_embed].apply(lambda x : transform_dl_fct(x))\n",
        "data.shape"
      ]
    },
    {
      "cell_type": "code",
      "execution_count": 12,
      "id": "605c7581",
      "metadata": {
        "colab": {
          "base_uri": "https://localhost:8080/"
        },
        "id": "605c7581",
        "outputId": "1378cf50-27be-420f-98a2-b73329857ec4"
      },
      "outputs": [
        {
          "output_type": "stream",
          "name": "stdout",
          "text": [
            "catégories :  ['Computers', 'Home Decor & Festive Needs', 'Home Furnishing', 'Baby Care', 'Kitchen & Dining', 'Watches', 'Beauty and Personal Care']\n"
          ]
        }
      ],
      "source": [
        "l_cat = list(set(data['label_name']))\n",
        "print(\"catégories : \", l_cat)\n",
        "y_cat_num = [(1-l_cat.index(data.iloc[i]['label_name'])) for i in range(len(data))]"
      ]
    },
    {
      "cell_type": "code",
      "execution_count": 13,
      "id": "699bb6e1",
      "metadata": {
        "colab": {
          "base_uri": "https://localhost:8080/"
        },
        "id": "699bb6e1",
        "outputId": "bcfffa45-d959-4328-8466-8c48b0760e1e"
      },
      "outputs": [
        {
          "output_type": "stream",
          "name": "stdout",
          "text": [
            "max length bow :  24\n",
            "max length dl :  30\n"
          ]
        }
      ],
      "source": [
        "data['length_bow'] = data['sentence_bow'].apply(lambda x : len(word_tokenize(x)))\n",
        "print(\"max length bow : \", data['length_bow'].max())\n",
        "data['length_dl'] = data['sentence_dl'].apply(lambda x : len(word_tokenize(x)))\n",
        "print(\"max length dl : \", data['length_dl'].max())"
      ]
    },
    {
      "cell_type": "markdown",
      "id": "d1963dce",
      "metadata": {
        "id": "d1963dce"
      },
      "source": [
        "# Préparation commune des traitements"
      ]
    },
    {
      "cell_type": "code",
      "execution_count": 14,
      "id": "b573cf97",
      "metadata": {
        "id": "b573cf97"
      },
      "outputs": [],
      "source": [
        "import numpy as np\n",
        "import pandas as pd\n",
        "import matplotlib.pyplot as plt\n",
        "import seaborn as sns\n",
        "import nltk\n",
        "import pickle\n",
        "import time\n",
        "from sklearn import cluster, metrics\n",
        "from sklearn import manifold, decomposition\n",
        "import logging"
      ]
    },
    {
      "cell_type": "markdown",
      "id": "7eaa2afd",
      "metadata": {
        "id": "7eaa2afd"
      },
      "source": [
        "# USE - Universal Sentence Encoder"
      ]
    },
    {
      "cell_type": "code",
      "source": [
        "# !pip install transformers"
      ],
      "metadata": {
        "colab": {
          "base_uri": "https://localhost:8080/"
        },
        "id": "OlE4k2B4eM4O",
        "outputId": "184c00c4-5679-4b1f-b4bc-d73953c15f2c"
      },
      "id": "OlE4k2B4eM4O",
      "execution_count": 16,
      "outputs": [
        {
          "output_type": "stream",
          "name": "stdout",
          "text": [
            "Looking in indexes: https://pypi.org/simple, https://us-python.pkg.dev/colab-wheels/public/simple/\n",
            "Collecting transformers\n",
            "  Downloading transformers-4.25.1-py3-none-any.whl (5.8 MB)\n",
            "\u001b[K     |████████████████████████████████| 5.8 MB 13.7 MB/s \n",
            "\u001b[?25hRequirement already satisfied: packaging>=20.0 in /usr/local/lib/python3.8/dist-packages (from transformers) (21.3)\n",
            "Requirement already satisfied: pyyaml>=5.1 in /usr/local/lib/python3.8/dist-packages (from transformers) (6.0)\n",
            "Requirement already satisfied: filelock in /usr/local/lib/python3.8/dist-packages (from transformers) (3.8.0)\n",
            "Requirement already satisfied: numpy>=1.17 in /usr/local/lib/python3.8/dist-packages (from transformers) (1.21.6)\n",
            "Requirement already satisfied: requests in /usr/local/lib/python3.8/dist-packages (from transformers) (2.23.0)\n",
            "Requirement already satisfied: regex!=2019.12.17 in /usr/local/lib/python3.8/dist-packages (from transformers) (2022.6.2)\n",
            "Requirement already satisfied: tqdm>=4.27 in /usr/local/lib/python3.8/dist-packages (from transformers) (4.64.1)\n",
            "Collecting tokenizers!=0.11.3,<0.14,>=0.11.1\n",
            "  Downloading tokenizers-0.13.2-cp38-cp38-manylinux_2_17_x86_64.manylinux2014_x86_64.whl (7.6 MB)\n",
            "\u001b[K     |████████████████████████████████| 7.6 MB 36.3 MB/s \n",
            "\u001b[?25hCollecting huggingface-hub<1.0,>=0.10.0\n",
            "  Downloading huggingface_hub-0.11.1-py3-none-any.whl (182 kB)\n",
            "\u001b[K     |████████████████████████████████| 182 kB 51.3 MB/s \n",
            "\u001b[?25hRequirement already satisfied: typing-extensions>=3.7.4.3 in /usr/local/lib/python3.8/dist-packages (from huggingface-hub<1.0,>=0.10.0->transformers) (4.4.0)\n",
            "Requirement already satisfied: pyparsing!=3.0.5,>=2.0.2 in /usr/local/lib/python3.8/dist-packages (from packaging>=20.0->transformers) (3.0.9)\n",
            "Requirement already satisfied: urllib3!=1.25.0,!=1.25.1,<1.26,>=1.21.1 in /usr/local/lib/python3.8/dist-packages (from requests->transformers) (1.24.3)\n",
            "Requirement already satisfied: idna<3,>=2.5 in /usr/local/lib/python3.8/dist-packages (from requests->transformers) (2.10)\n",
            "Requirement already satisfied: certifi>=2017.4.17 in /usr/local/lib/python3.8/dist-packages (from requests->transformers) (2022.9.24)\n",
            "Requirement already satisfied: chardet<4,>=3.0.2 in /usr/local/lib/python3.8/dist-packages (from requests->transformers) (3.0.4)\n",
            "Installing collected packages: tokenizers, huggingface-hub, transformers\n",
            "Successfully installed huggingface-hub-0.11.1 tokenizers-0.13.2 transformers-4.25.1\n"
          ]
        }
      ]
    },
    {
      "cell_type": "code",
      "execution_count": 17,
      "id": "26eb1f9a",
      "metadata": {
        "id": "26eb1f9a"
      },
      "outputs": [],
      "source": [
        "import tensorflow as tf\n",
        "# import tensorflow_hub as hub\n",
        "import tensorflow.keras\n",
        "from tensorflow.keras import backend as K\n",
        "\n",
        "from tensorflow.keras.preprocessing.text import Tokenizer\n",
        "from tensorflow.keras.preprocessing.sequence import pad_sequences\n",
        "from tensorflow.keras import metrics as kmetrics\n",
        "from tensorflow.keras.layers import *\n",
        "from tensorflow.keras.models import Model\n",
        "\n",
        "# Bert\n",
        "import transformers\n",
        "#from transformers import *\n",
        "import os\n",
        "\n",
        "os.environ[\"TF_KERAS\"]='1'"
      ]
    },
    {
      "cell_type": "code",
      "execution_count": 18,
      "id": "e57c7972",
      "metadata": {
        "colab": {
          "base_uri": "https://localhost:8080/"
        },
        "id": "e57c7972",
        "outputId": "42974dfc-d4ee-4e17-a090-8018f485d300"
      },
      "outputs": [
        {
          "output_type": "stream",
          "name": "stdout",
          "text": [
            "2.9.2\n",
            "2.9.2\n",
            "Num GPUs Available:  0\n",
            "True\n"
          ]
        }
      ],
      "source": [
        "print(tf.__version__)\n",
        "print(tensorflow.__version__)\n",
        "print(\"Num GPUs Available: \", len(tf.config.experimental.list_physical_devices('GPU')))\n",
        "print(tf.test.is_built_with_cuda())"
      ]
    },
    {
      "cell_type": "code",
      "execution_count": 19,
      "id": "c11bc543",
      "metadata": {
        "id": "c11bc543"
      },
      "outputs": [],
      "source": [
        "import tensorflow_hub as hub\n",
        "\n",
        "embed = hub.load(\"https://tfhub.dev/google/universal-sentence-encoder/4\")"
      ]
    },
    {
      "cell_type": "code",
      "execution_count": 20,
      "id": "9e7ca9aa",
      "metadata": {
        "scrolled": true,
        "id": "9e7ca9aa"
      },
      "outputs": [],
      "source": [
        "# Embed les phrases avec USE\n",
        "# Info sur USE\n",
        "# https://towardsdatascience.com/use-cases-of-googles-universal-sentence-encoder-in-production-dd5aaab4fc15\n",
        "\n",
        "def feature_USE_fct(sentences, b_size) :\n",
        "    batch_size = b_size\n",
        "    time1 = time.time()\n",
        "\n",
        "    for step in range(len(sentences)//batch_size) :\n",
        "        idx = step*batch_size\n",
        "        feat = embed(sentences[idx:idx+batch_size])\n",
        "\n",
        "        if step ==0 :\n",
        "            features = feat\n",
        "        else :\n",
        "            features = np.concatenate((features,feat))\n",
        "\n",
        "    time2 = np.round(time.time() - time1,0)\n",
        "    return features"
      ]
    },
    {
      "cell_type": "code",
      "source": [
        "batch_size = 10\n",
        "sentences = data['sentence_dl'].to_list()"
      ],
      "metadata": {
        "id": "hogPUBOqeuXr"
      },
      "id": "hogPUBOqeuXr",
      "execution_count": 21,
      "outputs": []
    },
    {
      "cell_type": "code",
      "source": [
        "features_USE = feature_USE_fct(sentences, batch_size)"
      ],
      "metadata": {
        "id": "tQDF217XezHY"
      },
      "id": "tQDF217XezHY",
      "execution_count": 22,
      "outputs": []
    },
    {
      "cell_type": "code",
      "source": [
        "ARI, X_tsne, labels = ARI_fct(features_USE)"
      ],
      "metadata": {
        "id": "o_ZKcjTme5Gj",
        "colab": {
          "base_uri": "https://localhost:8080/"
        },
        "outputId": "c379e910-8832-4210-d048-922e016df0f4"
      },
      "id": "o_ZKcjTme5Gj",
      "execution_count": 23,
      "outputs": [
        {
          "output_type": "stream",
          "name": "stdout",
          "text": [
            "ARI :  0.662 time :  15.0\n"
          ]
        }
      ]
    },
    {
      "cell_type": "code",
      "source": [
        "TSNE_visu_fct(X_tsne, y_cat_num, labels, ARI)"
      ],
      "metadata": {
        "colab": {
          "base_uri": "https://localhost:8080/",
          "height": 407
        },
        "id": "iIRg5I9jvWPk",
        "outputId": "70da701d-0fe7-4675-8c16-68fe984faf1b"
      },
      "id": "iIRg5I9jvWPk",
      "execution_count": 24,
      "outputs": [
        {
          "output_type": "display_data",
          "data": {
            "text/plain": [
              "<Figure size 1080x432 with 2 Axes>"
            ],
            "image/png": "[encoded data removed]"
          },
          "metadata": {
            "needs_background": "light"
          }
        },
        {
          "output_type": "stream",
          "name": "stdout",
          "text": [
            "ARI :  0.662\n"
          ]
        }
      ]
    },
    {
      "cell_type": "code",
      "source": [],
      "metadata": {
        "id": "4Syasoz3vYY2"
      },
      "id": "4Syasoz3vYY2",
      "execution_count": null,
      "outputs": []
    }
  ],
  "metadata": {
    "kernelspec": {
      "display_name": "Python 3 (ipykernel)",
      "language": "python",
      "name": "python3"
    },
    "language_info": {
      "codemirror_mode": {
        "name": "ipython",
        "version": 3
      },
      "file_extension": ".py",
      "mimetype": "text/x-python",
      "name": "python",
      "nbconvert_exporter": "python",
      "pygments_lexer": "ipython3",
      "version": "3.9.7"
    },
    "colab": {
      "provenance": []
    }
  },
  "nbformat": 4,
  "nbformat_minor": 5
}